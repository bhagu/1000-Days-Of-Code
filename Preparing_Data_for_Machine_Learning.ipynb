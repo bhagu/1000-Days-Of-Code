{
  "nbformat": 4,
  "nbformat_minor": 0,
  "metadata": {
    "colab": {
      "name": "Preparing Data for Machine Learning.ipynb",
      "provenance": [],
      "collapsed_sections": [],
      "authorship_tag": "ABX9TyNBY7IiZ822papW09tO27IK",
      "include_colab_link": true
    },
    "kernelspec": {
      "name": "python3",
      "display_name": "Python 3"
    },
    "language_info": {
      "name": "python"
    }
  },
  "cells": [
    {
      "cell_type": "markdown",
      "metadata": {
        "id": "view-in-github",
        "colab_type": "text"
      },
      "source": [
        "<a href=\"https://colab.research.google.com/github/bhagu/1000-Days-Of-Code/blob/main/Preparing_Data_for_Machine_Learning.ipynb\" target=\"_parent\"><img src=\"https://colab.research.google.com/assets/colab-badge.svg\" alt=\"Open In Colab\"/></a>"
      ]
    },
    {
      "cell_type": "markdown",
      "metadata": {
        "id": "y_nMrQAZSXbs"
      },
      "source": [
        "#Preparing Data For Machine Learning - Pluralsight Course"
      ]
    },
    {
      "cell_type": "markdown",
      "metadata": {
        "id": "Jar5x3FISrEO"
      },
      "source": [
        "#Understanding the Need for Data Preparation"
      ]
    },
    {
      "cell_type": "markdown",
      "metadata": {
        "id": "gsTv8-jeTFI2"
      },
      "source": [
        "##Module Focus\n",
        "Insufficient Data;\n",
        "Excessive or overly complex data;\n",
        "Non-representative data, missing data, outlier;\n",
        "Oversampling and understanding;\n",
        "Overfitting and underfitting models;"
      ]
    },
    {
      "cell_type": "markdown",
      "metadata": {
        "id": "l5HvZ6mej6FL"
      },
      "source": [
        "### Insufficient Data\n",
        "Leads to Overfitting/ Underfitting\n",
        "\n",
        "No great solution for insufficient data\n",
        "\n",
        "Simply need to find more data sources\n",
        "\n",
        "Dealing with Small Datasets\n",
        "\n",
        "Model complexity - Simpler model with fewer model parameters, Less susceptible to overfitting, e.g. Naive Bayes classifier, logistic regression, Use ensemble techniques\n",
        "\n",
        "Transfer learning - the practice of reusing a trained neural network that solves a problem similar to yours, usually leaving the network architeture unchanged and re-using some of all of the model weights\n",
        "\n",
        "Data augmentation - Increase the number of training samples, Perturbed images are a form of data augmentation, Scaling, rotation, affine transforms, Makes CNN training more robust\n",
        "\n",
        "Synthetic data - Artificially generate samples which mimic real world data\n"
      ]
    },
    {
      "cell_type": "markdown",
      "metadata": {
        "id": "Sr9WNBdgltkE"
      },
      "source": [
        "###Too Much Data\n",
        "Data might be excessive in 2 ways\n",
        "\n",
        "- Curse of dimensionality: Too many columns/features\n",
        "- Outdated historical data: Too many rows\n",
        "\n",
        "Concept Drift: The relationship between features (X-variables) and labels (Y-variables) changes over time; ML models fail to keep up, and consequently their performance suffers\n",
        "\n",
        "Outdated historical data: If not eliminated, leads to concept drift;\n",
        "This is a serious issue in specific applications\n",
        "- Financial trading\n",
        "\n",
        "Usually require human expert to judge which rows to leave out\n",
        "\n",
        "Curse of dimensionality: 2 specific problems arise when too much data is available\n",
        "- Deciding which data is actually relevant\n",
        "- Aggregating very low-level data into useful features\n",
        "\n",
        "Easier problem to solve:\n",
        "- Feature selection: Deciding which data is actually relevant\n",
        "- Feautre engineering: Aggregating very low-level data into useful features\n",
        "- Dimensionality reduction: Reduce complexity without losing information\n",
        "\n",
        "Concept Hierarchy: A mapping that combines very low-level features (e.g. latitudes and longitudes) into more general, usable features (e.g. zip codes)\n",
        "\n",
        "\n"
      ]
    },
    {
      "cell_type": "markdown",
      "metadata": {
        "id": "tBXjesEZoU-0"
      },
      "source": [
        "###Non-Representative Data\n",
        "Data is inaccurate, small errors have significant impact\n",
        "\n",
        "Account for data cleaning and processing time\n",
        "\n",
        "Data is not representative of the real world i.e. biased\n",
        "\n",
        "Leads to biased models that perform poorly in practice\n",
        "\n",
        "Mitigate using oversampling and undersampling"
      ]
    },
    {
      "cell_type": "markdown",
      "metadata": {
        "id": "riqKeIsXp5qJ"
      },
      "source": [
        "###Duplicate Data\n",
        "If data can be flagged as duplicate, problem relatively easy to solve\n",
        "- Simply de-duplicate\n",
        "\n",
        "Can be hard to identify in some applications\n",
        "- Real-time streaming"
      ]
    },
    {
      "cell_type": "markdown",
      "metadata": {
        "id": "L-TAlXO6ppqE"
      },
      "source": [
        "###Missing Data and Outliers\n",
        "Data cleaning procedures can help significantly mitigate the effects of\n",
        "- Missing data\n",
        "- Outliers\n",
        "\n",
        "Missing Data\n",
        "- Deletion\n",
        "- Imputation\n",
        "\n",
        "Deletion / Listwise Deletion: Delete an entire record (row) if a single value (column) is missing. Simple, but can lead to bias\n",
        "\n",
        "- Most common method in practices\n",
        "- Can reduce sample size significanlty\n",
        "- If values are not missing at random, can intriduce significant bias\n",
        "\n",
        "Imputation: Fill in missing values, rather than deleting records with missing values. Missing values are inferred from known data.\n",
        "\n",
        "- Methods range from very simple to very complex\n",
        "- Simplest method - Use column average\n",
        "- Can interpolate from nearby values \n",
        "- Can even build model to predict missing values\n",
        "\n",
        "Univariate Imputation: rely only on known values in same feature\n",
        "\n",
        "Multivariate imputation: Use all known data to infer missing value\n",
        "- Construct regression models from other columns to predict this column\n",
        "- Iteratively repeat for all columns\n",
        "\n",
        "Hot-deck Imputation:\n",
        "- Sort records based on any criteria\n",
        "- for each missing value, use immediately prior available value\n",
        "- \"Last Observation Carried Forward\"\n",
        "- For time-series data, equivalent to assuming no change since last measurement\n",
        "\n",
        "Mean Substitution:\n",
        "- For each missing value, substitute mean of all available values\n",
        "- Has effect of weakening correlations between columns\n",
        "- Can be problematic when bivariate analysis is required\n",
        "\n",
        "Regression:\n",
        "- Fit model to predict missing column based on other column values\n",
        "- Tends to strengthen correlations\n",
        "- Regression and mean substitution have complementary strengths\n",
        "\n",
        "Outliers\n",
        "- Identifying Outliers\n",
        "  - Distance from Mean\n",
        "  - Distance from fitted line\n",
        "- Coping with Outliers\n",
        "  - Drop\n",
        "  - Cap/Floor\n",
        "  - Set to mean\n",
        "\n",
        "Identifying Outliers\n",
        "\n",
        "More than 3 Standard deviation - Distance from mean\n",
        "\n",
        "Might also be data points that do not fit into the same relationship as the rest of the data\n",
        "\n",
        "\n",
        "Coping with Outliers\n",
        "- Always start by scrutinizing outliers\n",
        "- If erroneous observation\n",
        "  - Drop if all attributes of that point are erroneous\n",
        "  - Set to mean if only one attribute is erroneous\n",
        "- If genuine, legitimate outlier\n",
        "  - Leave as-is if model is not distorted\n",
        "  - Cap/Floor if model is distorted\n",
        "    - Need to first standardize data\n",
        "    - Cap positive outliers to +3\n",
        "    - Floor negative outliers to -3"
      ]
    },
    {
      "cell_type": "markdown",
      "metadata": {
        "id": "DsCbcILxu2dC"
      },
      "source": [
        "###Oversampling and Undersampling\n",
        "Techniques that intentionally add bias to the data in order to make it balanced\n",
        "\n",
        "Balacing Datasets\n",
        "- Oversampling uncommon x or y values\n",
        "- Undersampling of common x or y values\n",
        "\n",
        "Forcibly Balanced Datasets\n",
        "\n",
        "Oversampling and undersampling tend to\n",
        "- Reduce accuracy\n",
        "- Increase precision and recall\n",
        "\n",
        "Related techniques include\n",
        "- Case studies\n",
        "- Stratified sampling"
      ]
    },
    {
      "cell_type": "markdown",
      "metadata": {
        "id": "jd786kfuwhM7"
      },
      "source": [
        "###Overfitting and Underfitting\n",
        "Overfitting\n",
        "- Model has memorized the training data\n",
        "- Low training error\n",
        "- Doesn't work well in the real world\n",
        "- High test error\n",
        "\n",
        "Underfitting\n",
        "- Model unable to capture relationships in data\n",
        "- Performs poorly on the training data\n",
        "- Model too 'simple' to be useful"
      ]
    },
    {
      "cell_type": "markdown",
      "metadata": {
        "id": "0voCQR3b6xOj"
      },
      "source": [
        ""
      ]
    },
    {
      "cell_type": "markdown",
      "metadata": {
        "id": "cfDywVUgjf2o"
      },
      "source": [
        "#Implementing Data Cleaning and Transformation"
      ]
    },
    {
      "cell_type": "markdown",
      "metadata": {
        "id": "aB-SPG6ejl2L"
      },
      "source": [
        "##Handling Missing Values"
      ]
    },
    {
      "cell_type": "code",
      "metadata": {
        "id": "5G6ImB0QkF6v"
      },
      "source": [
        "import sklearn\n",
        "\n",
        "import pandas as pd\n",
        "import numpy as np\n",
        "\n",
        "import datetime"
      ],
      "execution_count": 30,
      "outputs": []
    },
    {
      "cell_type": "code",
      "metadata": {
        "colab": {
          "base_uri": "https://localhost:8080/"
        },
        "id": "sJjNGzYuk7f5",
        "outputId": "4798fd10-1c47-48c9-db03-6c1e6b4a6d09"
      },
      "source": [
        "print(sklearn.__version__)"
      ],
      "execution_count": 31,
      "outputs": [
        {
          "output_type": "stream",
          "text": [
            "0.22.2.post1\n"
          ],
          "name": "stdout"
        }
      ]
    },
    {
      "cell_type": "code",
      "metadata": {
        "colab": {
          "base_uri": "https://localhost:8080/"
        },
        "id": "HB-NI41Jk-0_",
        "outputId": "9ec8e0c0-ce28-4205-9e4d-07f9a25fbaef"
      },
      "source": [
        "print(np.__version__)"
      ],
      "execution_count": 32,
      "outputs": [
        {
          "output_type": "stream",
          "text": [
            "1.19.5\n"
          ],
          "name": "stdout"
        }
      ]
    },
    {
      "cell_type": "code",
      "metadata": {
        "colab": {
          "base_uri": "https://localhost:8080/"
        },
        "id": "1z3KHaD3lDMQ",
        "outputId": "6c3eb1bd-7e22-4597-db09-1b4818133570"
      },
      "source": [
        "print(pd.__version__)"
      ],
      "execution_count": 33,
      "outputs": [
        {
          "output_type": "stream",
          "text": [
            "1.1.5\n"
          ],
          "name": "stdout"
        }
      ]
    },
    {
      "cell_type": "code",
      "metadata": {
        "colab": {
          "base_uri": "https://localhost:8080/",
          "height": 241
        },
        "id": "ps87-4f-lFsV",
        "outputId": "122c95a0-2626-4697-aca8-78e45e31451b"
      },
      "source": [
        "automobile_df = pd.read_csv(\"cars.csv\")\n",
        "\n",
        "automobile_df.head()"
      ],
      "execution_count": 34,
      "outputs": [
        {
          "output_type": "execute_result",
          "data": {
            "text/html": [
              "<div>\n",
              "<style scoped>\n",
              "    .dataframe tbody tr th:only-of-type {\n",
              "        vertical-align: middle;\n",
              "    }\n",
              "\n",
              "    .dataframe tbody tr th {\n",
              "        vertical-align: top;\n",
              "    }\n",
              "\n",
              "    .dataframe thead th {\n",
              "        text-align: right;\n",
              "    }\n",
              "</style>\n",
              "<table border=\"1\" class=\"dataframe\">\n",
              "  <thead>\n",
              "    <tr style=\"text-align: right;\">\n",
              "      <th></th>\n",
              "      <th>Model</th>\n",
              "      <th>MPG</th>\n",
              "      <th>Cylinders</th>\n",
              "      <th>Displacement</th>\n",
              "      <th>Horsepower</th>\n",
              "      <th>Weight</th>\n",
              "      <th>Acceleration</th>\n",
              "      <th>Year</th>\n",
              "      <th>Origin</th>\n",
              "      <th>bore</th>\n",
              "      <th>stroke</th>\n",
              "      <th>compression-ratio</th>\n",
              "    </tr>\n",
              "  </thead>\n",
              "  <tbody>\n",
              "    <tr>\n",
              "      <th>0</th>\n",
              "      <td>chevrolet chevelle malibu</td>\n",
              "      <td>18.0</td>\n",
              "      <td>8</td>\n",
              "      <td>307</td>\n",
              "      <td>130</td>\n",
              "      <td>3504</td>\n",
              "      <td>12</td>\n",
              "      <td>1970[1975]</td>\n",
              "      <td>US; Detroit, Michigan</td>\n",
              "      <td>3.47</td>\n",
              "      <td>2.68</td>\n",
              "      <td>9</td>\n",
              "    </tr>\n",
              "    <tr>\n",
              "      <th>1</th>\n",
              "      <td>buick skylark 320</td>\n",
              "      <td>15.0</td>\n",
              "      <td>8</td>\n",
              "      <td>350</td>\n",
              "      <td>165</td>\n",
              "      <td>3693</td>\n",
              "      <td>11.5</td>\n",
              "      <td>1970</td>\n",
              "      <td>US]</td>\n",
              "      <td>3.47</td>\n",
              "      <td>2.68</td>\n",
              "      <td>?</td>\n",
              "    </tr>\n",
              "    <tr>\n",
              "      <th>2</th>\n",
              "      <td>plymouth satellite</td>\n",
              "      <td>18.0</td>\n",
              "      <td>?</td>\n",
              "      <td>318</td>\n",
              "      <td>150</td>\n",
              "      <td>3436</td>\n",
              "      <td>11</td>\n",
              "      <td>1970, 1976</td>\n",
              "      <td>US</td>\n",
              "      <td>2.68</td>\n",
              "      <td>3.47</td>\n",
              "      <td>9</td>\n",
              "    </tr>\n",
              "    <tr>\n",
              "      <th>3</th>\n",
              "      <td>amc rebel sst</td>\n",
              "      <td>16.0</td>\n",
              "      <td>8</td>\n",
              "      <td>304</td>\n",
              "      <td>150</td>\n",
              "      <td>3433</td>\n",
              "      <td>12</td>\n",
              "      <td>1970</td>\n",
              "      <td>US</td>\n",
              "      <td>3.19</td>\n",
              "      <td>3.40</td>\n",
              "      <td>10</td>\n",
              "    </tr>\n",
              "    <tr>\n",
              "      <th>4</th>\n",
              "      <td>ford torino</td>\n",
              "      <td>17.0</td>\n",
              "      <td>8</td>\n",
              "      <td>302</td>\n",
              "      <td>140</td>\n",
              "      <td>3449</td>\n",
              "      <td>10.5</td>\n",
              "      <td>1970-1972</td>\n",
              "      <td>US]</td>\n",
              "      <td>3.19</td>\n",
              "      <td>3.40</td>\n",
              "      <td>8</td>\n",
              "    </tr>\n",
              "  </tbody>\n",
              "</table>\n",
              "</div>"
            ],
            "text/plain": [
              "                       Model   MPG Cylinders  ...  bore  stroke compression-ratio\n",
              "0  chevrolet chevelle malibu  18.0         8  ...  3.47    2.68                 9\n",
              "1          buick skylark 320  15.0         8  ...  3.47    2.68                 ?\n",
              "2         plymouth satellite  18.0         ?  ...  2.68    3.47                 9\n",
              "3              amc rebel sst  16.0         8  ...  3.19    3.40                10\n",
              "4                ford torino  17.0         8  ...  3.19    3.40                 8\n",
              "\n",
              "[5 rows x 12 columns]"
            ]
          },
          "metadata": {
            "tags": []
          },
          "execution_count": 34
        }
      ]
    },
    {
      "cell_type": "code",
      "metadata": {
        "colab": {
          "base_uri": "https://localhost:8080/"
        },
        "id": "UvRNGrhElXS5",
        "outputId": "ddf472b3-2623-4c64-9288-d593901a22b2"
      },
      "source": [
        "automobile_df.columns"
      ],
      "execution_count": 35,
      "outputs": [
        {
          "output_type": "execute_result",
          "data": {
            "text/plain": [
              "Index(['Model', 'MPG', 'Cylinders', 'Displacement', 'Horsepower', 'Weight',\n",
              "       'Acceleration', 'Year', 'Origin', 'bore', 'stroke',\n",
              "       'compression-ratio'],\n",
              "      dtype='object')"
            ]
          },
          "metadata": {
            "tags": []
          },
          "execution_count": 35
        }
      ]
    },
    {
      "cell_type": "code",
      "metadata": {
        "colab": {
          "base_uri": "https://localhost:8080/",
          "height": 300
        },
        "id": "m31upmSBlfct",
        "outputId": "64dabbcb-5b40-4f4d-a902-c2f9161e3bfa"
      },
      "source": [
        "automobile_df.describe()"
      ],
      "execution_count": 36,
      "outputs": [
        {
          "output_type": "execute_result",
          "data": {
            "text/html": [
              "<div>\n",
              "<style scoped>\n",
              "    .dataframe tbody tr th:only-of-type {\n",
              "        vertical-align: middle;\n",
              "    }\n",
              "\n",
              "    .dataframe tbody tr th {\n",
              "        vertical-align: top;\n",
              "    }\n",
              "\n",
              "    .dataframe thead th {\n",
              "        text-align: right;\n",
              "    }\n",
              "</style>\n",
              "<table border=\"1\" class=\"dataframe\">\n",
              "  <thead>\n",
              "    <tr style=\"text-align: right;\">\n",
              "      <th></th>\n",
              "      <th>MPG</th>\n",
              "      <th>Horsepower</th>\n",
              "      <th>bore</th>\n",
              "      <th>stroke</th>\n",
              "    </tr>\n",
              "  </thead>\n",
              "  <tbody>\n",
              "    <tr>\n",
              "      <th>count</th>\n",
              "      <td>385.000000</td>\n",
              "      <td>394.000000</td>\n",
              "      <td>394.000000</td>\n",
              "      <td>394.000000</td>\n",
              "    </tr>\n",
              "    <tr>\n",
              "      <th>mean</th>\n",
              "      <td>23.551429</td>\n",
              "      <td>104.337563</td>\n",
              "      <td>3.305025</td>\n",
              "      <td>3.289289</td>\n",
              "    </tr>\n",
              "    <tr>\n",
              "      <th>std</th>\n",
              "      <td>7.821598</td>\n",
              "      <td>38.449600</td>\n",
              "      <td>0.270336</td>\n",
              "      <td>0.271165</td>\n",
              "    </tr>\n",
              "    <tr>\n",
              "      <th>min</th>\n",
              "      <td>9.000000</td>\n",
              "      <td>46.000000</td>\n",
              "      <td>2.540000</td>\n",
              "      <td>2.070000</td>\n",
              "    </tr>\n",
              "    <tr>\n",
              "      <th>25%</th>\n",
              "      <td>17.500000</td>\n",
              "      <td>75.000000</td>\n",
              "      <td>3.080000</td>\n",
              "      <td>3.150000</td>\n",
              "    </tr>\n",
              "    <tr>\n",
              "      <th>50%</th>\n",
              "      <td>23.000000</td>\n",
              "      <td>92.500000</td>\n",
              "      <td>3.270000</td>\n",
              "      <td>3.350000</td>\n",
              "    </tr>\n",
              "    <tr>\n",
              "      <th>75%</th>\n",
              "      <td>29.000000</td>\n",
              "      <td>125.000000</td>\n",
              "      <td>3.580000</td>\n",
              "      <td>3.400000</td>\n",
              "    </tr>\n",
              "    <tr>\n",
              "      <th>max</th>\n",
              "      <td>46.600000</td>\n",
              "      <td>230.000000</td>\n",
              "      <td>3.940000</td>\n",
              "      <td>4.170000</td>\n",
              "    </tr>\n",
              "  </tbody>\n",
              "</table>\n",
              "</div>"
            ],
            "text/plain": [
              "              MPG  Horsepower        bore      stroke\n",
              "count  385.000000  394.000000  394.000000  394.000000\n",
              "mean    23.551429  104.337563    3.305025    3.289289\n",
              "std      7.821598   38.449600    0.270336    0.271165\n",
              "min      9.000000   46.000000    2.540000    2.070000\n",
              "25%     17.500000   75.000000    3.080000    3.150000\n",
              "50%     23.000000   92.500000    3.270000    3.350000\n",
              "75%     29.000000  125.000000    3.580000    3.400000\n",
              "max     46.600000  230.000000    3.940000    4.170000"
            ]
          },
          "metadata": {
            "tags": []
          },
          "execution_count": 36
        }
      ]
    },
    {
      "cell_type": "code",
      "metadata": {
        "colab": {
          "base_uri": "https://localhost:8080/"
        },
        "id": "QvemhX2llimq",
        "outputId": "c1468b67-b890-4b75-bf05-bc83bc31cc46"
      },
      "source": [
        "  automobile_df.shape"
      ],
      "execution_count": 37,
      "outputs": [
        {
          "output_type": "execute_result",
          "data": {
            "text/plain": [
              "(394, 12)"
            ]
          },
          "metadata": {
            "tags": []
          },
          "execution_count": 37
        }
      ]
    },
    {
      "cell_type": "code",
      "metadata": {
        "colab": {
          "base_uri": "https://localhost:8080/",
          "height": 241
        },
        "id": "PId6dXi9lv4A",
        "outputId": "9d7e4770-e4af-4882-89bf-7b7c657eaeee"
      },
      "source": [
        "automobile_df = automobile_df.replace('?', np.nan)\n",
        "\n",
        "automobile_df.head()"
      ],
      "execution_count": 38,
      "outputs": [
        {
          "output_type": "execute_result",
          "data": {
            "text/html": [
              "<div>\n",
              "<style scoped>\n",
              "    .dataframe tbody tr th:only-of-type {\n",
              "        vertical-align: middle;\n",
              "    }\n",
              "\n",
              "    .dataframe tbody tr th {\n",
              "        vertical-align: top;\n",
              "    }\n",
              "\n",
              "    .dataframe thead th {\n",
              "        text-align: right;\n",
              "    }\n",
              "</style>\n",
              "<table border=\"1\" class=\"dataframe\">\n",
              "  <thead>\n",
              "    <tr style=\"text-align: right;\">\n",
              "      <th></th>\n",
              "      <th>Model</th>\n",
              "      <th>MPG</th>\n",
              "      <th>Cylinders</th>\n",
              "      <th>Displacement</th>\n",
              "      <th>Horsepower</th>\n",
              "      <th>Weight</th>\n",
              "      <th>Acceleration</th>\n",
              "      <th>Year</th>\n",
              "      <th>Origin</th>\n",
              "      <th>bore</th>\n",
              "      <th>stroke</th>\n",
              "      <th>compression-ratio</th>\n",
              "    </tr>\n",
              "  </thead>\n",
              "  <tbody>\n",
              "    <tr>\n",
              "      <th>0</th>\n",
              "      <td>chevrolet chevelle malibu</td>\n",
              "      <td>18.0</td>\n",
              "      <td>8</td>\n",
              "      <td>307</td>\n",
              "      <td>130</td>\n",
              "      <td>3504</td>\n",
              "      <td>12</td>\n",
              "      <td>1970[1975]</td>\n",
              "      <td>US; Detroit, Michigan</td>\n",
              "      <td>3.47</td>\n",
              "      <td>2.68</td>\n",
              "      <td>9</td>\n",
              "    </tr>\n",
              "    <tr>\n",
              "      <th>1</th>\n",
              "      <td>buick skylark 320</td>\n",
              "      <td>15.0</td>\n",
              "      <td>8</td>\n",
              "      <td>350</td>\n",
              "      <td>165</td>\n",
              "      <td>3693</td>\n",
              "      <td>11.5</td>\n",
              "      <td>1970</td>\n",
              "      <td>US]</td>\n",
              "      <td>3.47</td>\n",
              "      <td>2.68</td>\n",
              "      <td>NaN</td>\n",
              "    </tr>\n",
              "    <tr>\n",
              "      <th>2</th>\n",
              "      <td>plymouth satellite</td>\n",
              "      <td>18.0</td>\n",
              "      <td>NaN</td>\n",
              "      <td>318</td>\n",
              "      <td>150</td>\n",
              "      <td>3436</td>\n",
              "      <td>11</td>\n",
              "      <td>1970, 1976</td>\n",
              "      <td>US</td>\n",
              "      <td>2.68</td>\n",
              "      <td>3.47</td>\n",
              "      <td>9</td>\n",
              "    </tr>\n",
              "    <tr>\n",
              "      <th>3</th>\n",
              "      <td>amc rebel sst</td>\n",
              "      <td>16.0</td>\n",
              "      <td>8</td>\n",
              "      <td>304</td>\n",
              "      <td>150</td>\n",
              "      <td>3433</td>\n",
              "      <td>12</td>\n",
              "      <td>1970</td>\n",
              "      <td>US</td>\n",
              "      <td>3.19</td>\n",
              "      <td>3.40</td>\n",
              "      <td>10</td>\n",
              "    </tr>\n",
              "    <tr>\n",
              "      <th>4</th>\n",
              "      <td>ford torino</td>\n",
              "      <td>17.0</td>\n",
              "      <td>8</td>\n",
              "      <td>302</td>\n",
              "      <td>140</td>\n",
              "      <td>3449</td>\n",
              "      <td>10.5</td>\n",
              "      <td>1970-1972</td>\n",
              "      <td>US]</td>\n",
              "      <td>3.19</td>\n",
              "      <td>3.40</td>\n",
              "      <td>8</td>\n",
              "    </tr>\n",
              "  </tbody>\n",
              "</table>\n",
              "</div>"
            ],
            "text/plain": [
              "                       Model   MPG Cylinders  ...  bore  stroke compression-ratio\n",
              "0  chevrolet chevelle malibu  18.0         8  ...  3.47    2.68                 9\n",
              "1          buick skylark 320  15.0         8  ...  3.47    2.68               NaN\n",
              "2         plymouth satellite  18.0       NaN  ...  2.68    3.47                 9\n",
              "3              amc rebel sst  16.0         8  ...  3.19    3.40                10\n",
              "4                ford torino  17.0         8  ...  3.19    3.40                 8\n",
              "\n",
              "[5 rows x 12 columns]"
            ]
          },
          "metadata": {
            "tags": []
          },
          "execution_count": 38
        }
      ]
    },
    {
      "cell_type": "code",
      "metadata": {
        "colab": {
          "base_uri": "https://localhost:8080/"
        },
        "id": "wzUltOZkl8jf",
        "outputId": "af87c32e-3dfd-41ac-8def-7fdaaa151263"
      },
      "source": [
        "automobile_df.isna().sum()"
      ],
      "execution_count": 39,
      "outputs": [
        {
          "output_type": "execute_result",
          "data": {
            "text/plain": [
              "Model                0\n",
              "MPG                  9\n",
              "Cylinders            2\n",
              "Displacement         1\n",
              "Horsepower           0\n",
              "Weight               1\n",
              "Acceleration         1\n",
              "Year                 0\n",
              "Origin               0\n",
              "bore                 0\n",
              "stroke               0\n",
              "compression-ratio    2\n",
              "dtype: int64"
            ]
          },
          "metadata": {
            "tags": []
          },
          "execution_count": 39
        }
      ]
    },
    {
      "cell_type": "code",
      "metadata": {
        "colab": {
          "base_uri": "https://localhost:8080/"
        },
        "id": "3L0U_T6UmEh0",
        "outputId": "f97219bb-d0b6-4c9b-f533-42653bbcfa7d"
      },
      "source": [
        "automobile_df['MPG'] = automobile_df['MPG'].fillna(automobile_df['MPG'].mean())\n",
        "\n",
        "automobile_df.isna().sum()"
      ],
      "execution_count": 40,
      "outputs": [
        {
          "output_type": "execute_result",
          "data": {
            "text/plain": [
              "Model                0\n",
              "MPG                  0\n",
              "Cylinders            2\n",
              "Displacement         1\n",
              "Horsepower           0\n",
              "Weight               1\n",
              "Acceleration         1\n",
              "Year                 0\n",
              "Origin               0\n",
              "bore                 0\n",
              "stroke               0\n",
              "compression-ratio    2\n",
              "dtype: int64"
            ]
          },
          "metadata": {
            "tags": []
          },
          "execution_count": 40
        }
      ]
    },
    {
      "cell_type": "code",
      "metadata": {
        "id": "DzAaqP-FmlNm"
      },
      "source": [
        "automobile_df = automobile_df.dropna()"
      ],
      "execution_count": 41,
      "outputs": []
    },
    {
      "cell_type": "code",
      "metadata": {
        "colab": {
          "base_uri": "https://localhost:8080/"
        },
        "id": "0wN51SlMm7Sv",
        "outputId": "47fb0ce4-bafa-4f3b-c3e7-d8531a679223"
      },
      "source": [
        " automobile_df.shape"
      ],
      "execution_count": 42,
      "outputs": [
        {
          "output_type": "execute_result",
          "data": {
            "text/plain": [
              "(387, 12)"
            ]
          },
          "metadata": {
            "tags": []
          },
          "execution_count": 42
        }
      ]
    },
    {
      "cell_type": "code",
      "metadata": {
        "colab": {
          "base_uri": "https://localhost:8080/"
        },
        "id": "geGZE0K8m9NY",
        "outputId": "455bf83e-ca9b-4196-f83b-0d1e9d22e468"
      },
      "source": [
        "automobile_df.isna().sum()"
      ],
      "execution_count": 43,
      "outputs": [
        {
          "output_type": "execute_result",
          "data": {
            "text/plain": [
              "Model                0\n",
              "MPG                  0\n",
              "Cylinders            0\n",
              "Displacement         0\n",
              "Horsepower           0\n",
              "Weight               0\n",
              "Acceleration         0\n",
              "Year                 0\n",
              "Origin               0\n",
              "bore                 0\n",
              "stroke               0\n",
              "compression-ratio    0\n",
              "dtype: int64"
            ]
          },
          "metadata": {
            "tags": []
          },
          "execution_count": 43
        }
      ]
    },
    {
      "cell_type": "code",
      "metadata": {
        "colab": {
          "base_uri": "https://localhost:8080/"
        },
        "id": "LjDXjzZJm_os",
        "outputId": "0f38c559-c3f3-4ff2-d866-2fd3fff8a46d"
      },
      "source": [
        "automobile_df.isnull().sum()"
      ],
      "execution_count": 44,
      "outputs": [
        {
          "output_type": "execute_result",
          "data": {
            "text/plain": [
              "Model                0\n",
              "MPG                  0\n",
              "Cylinders            0\n",
              "Displacement         0\n",
              "Horsepower           0\n",
              "Weight               0\n",
              "Acceleration         0\n",
              "Year                 0\n",
              "Origin               0\n",
              "bore                 0\n",
              "stroke               0\n",
              "compression-ratio    0\n",
              "dtype: int64"
            ]
          },
          "metadata": {
            "tags": []
          },
          "execution_count": 44
        }
      ]
    },
    {
      "cell_type": "code",
      "metadata": {
        "colab": {
          "base_uri": "https://localhost:8080/",
          "height": 206
        },
        "id": "edgd6LucnGxB",
        "outputId": "14e5edcc-0e84-4a61-c89e-2842fd0cce05"
      },
      "source": [
        "automobile_df.sample(5)"
      ],
      "execution_count": 45,
      "outputs": [
        {
          "output_type": "execute_result",
          "data": {
            "text/html": [
              "<div>\n",
              "<style scoped>\n",
              "    .dataframe tbody tr th:only-of-type {\n",
              "        vertical-align: middle;\n",
              "    }\n",
              "\n",
              "    .dataframe tbody tr th {\n",
              "        vertical-align: top;\n",
              "    }\n",
              "\n",
              "    .dataframe thead th {\n",
              "        text-align: right;\n",
              "    }\n",
              "</style>\n",
              "<table border=\"1\" class=\"dataframe\">\n",
              "  <thead>\n",
              "    <tr style=\"text-align: right;\">\n",
              "      <th></th>\n",
              "      <th>Model</th>\n",
              "      <th>MPG</th>\n",
              "      <th>Cylinders</th>\n",
              "      <th>Displacement</th>\n",
              "      <th>Horsepower</th>\n",
              "      <th>Weight</th>\n",
              "      <th>Acceleration</th>\n",
              "      <th>Year</th>\n",
              "      <th>Origin</th>\n",
              "      <th>bore</th>\n",
              "      <th>stroke</th>\n",
              "      <th>compression-ratio</th>\n",
              "    </tr>\n",
              "  </thead>\n",
              "  <tbody>\n",
              "    <tr>\n",
              "      <th>162</th>\n",
              "      <td>buick skyhawk</td>\n",
              "      <td>21.0</td>\n",
              "      <td>6</td>\n",
              "      <td>231</td>\n",
              "      <td>110</td>\n",
              "      <td>3039</td>\n",
              "      <td>15</td>\n",
              "      <td>1975</td>\n",
              "      <td>US</td>\n",
              "      <td>3.19</td>\n",
              "      <td>3.03</td>\n",
              "      <td>9</td>\n",
              "    </tr>\n",
              "    <tr>\n",
              "      <th>190</th>\n",
              "      <td>chevrolet nova</td>\n",
              "      <td>22.0</td>\n",
              "      <td>6</td>\n",
              "      <td>250</td>\n",
              "      <td>105</td>\n",
              "      <td>3353</td>\n",
              "      <td>14.5</td>\n",
              "      <td>1976</td>\n",
              "      <td>US</td>\n",
              "      <td>3.19</td>\n",
              "      <td>3.40</td>\n",
              "      <td>8.5</td>\n",
              "    </tr>\n",
              "    <tr>\n",
              "      <th>185</th>\n",
              "      <td>chevrolet chevelle malibu classic</td>\n",
              "      <td>17.5</td>\n",
              "      <td>8</td>\n",
              "      <td>305</td>\n",
              "      <td>140</td>\n",
              "      <td>4215</td>\n",
              "      <td>13</td>\n",
              "      <td>1976</td>\n",
              "      <td>US</td>\n",
              "      <td>3.19</td>\n",
              "      <td>3.40</td>\n",
              "      <td>9</td>\n",
              "    </tr>\n",
              "    <tr>\n",
              "      <th>386</th>\n",
              "      <td>toyota celica gt</td>\n",
              "      <td>32.0</td>\n",
              "      <td>4</td>\n",
              "      <td>144</td>\n",
              "      <td>96</td>\n",
              "      <td>2665</td>\n",
              "      <td>13.9</td>\n",
              "      <td>1982</td>\n",
              "      <td>Japan</td>\n",
              "      <td>3.15</td>\n",
              "      <td>3.29</td>\n",
              "      <td>9.4</td>\n",
              "    </tr>\n",
              "    <tr>\n",
              "      <th>365</th>\n",
              "      <td>chevrolet cavalier 2-door</td>\n",
              "      <td>34.0</td>\n",
              "      <td>4</td>\n",
              "      <td>112</td>\n",
              "      <td>88</td>\n",
              "      <td>2395</td>\n",
              "      <td>18</td>\n",
              "      <td>1982-1985</td>\n",
              "      <td>US</td>\n",
              "      <td>3.58</td>\n",
              "      <td>3.64</td>\n",
              "      <td>21.5</td>\n",
              "    </tr>\n",
              "  </tbody>\n",
              "</table>\n",
              "</div>"
            ],
            "text/plain": [
              "                                 Model   MPG  ... stroke compression-ratio\n",
              "162                      buick skyhawk  21.0  ...   3.03                 9\n",
              "190                     chevrolet nova  22.0  ...   3.40               8.5\n",
              "185  chevrolet chevelle malibu classic  17.5  ...   3.40                 9\n",
              "386                   toyota celica gt  32.0  ...   3.29               9.4\n",
              "365          chevrolet cavalier 2-door  34.0  ...   3.64              21.5\n",
              "\n",
              "[5 rows x 12 columns]"
            ]
          },
          "metadata": {
            "tags": []
          },
          "execution_count": 45
        }
      ]
    },
    {
      "cell_type": "code",
      "metadata": {
        "id": "I_FsuJVfnLY2"
      },
      "source": [
        "automobile_df.drop(['Model'], axis=1, inplace=True)"
      ],
      "execution_count": 46,
      "outputs": []
    },
    {
      "cell_type": "code",
      "metadata": {
        "colab": {
          "base_uri": "https://localhost:8080/",
          "height": 206
        },
        "id": "-x0BWt09nWpK",
        "outputId": "279f0caa-869e-4e31-ec02-bb7923fa09db"
      },
      "source": [
        "automobile_df.sample(5)"
      ],
      "execution_count": 47,
      "outputs": [
        {
          "output_type": "execute_result",
          "data": {
            "text/html": [
              "<div>\n",
              "<style scoped>\n",
              "    .dataframe tbody tr th:only-of-type {\n",
              "        vertical-align: middle;\n",
              "    }\n",
              "\n",
              "    .dataframe tbody tr th {\n",
              "        vertical-align: top;\n",
              "    }\n",
              "\n",
              "    .dataframe thead th {\n",
              "        text-align: right;\n",
              "    }\n",
              "</style>\n",
              "<table border=\"1\" class=\"dataframe\">\n",
              "  <thead>\n",
              "    <tr style=\"text-align: right;\">\n",
              "      <th></th>\n",
              "      <th>MPG</th>\n",
              "      <th>Cylinders</th>\n",
              "      <th>Displacement</th>\n",
              "      <th>Horsepower</th>\n",
              "      <th>Weight</th>\n",
              "      <th>Acceleration</th>\n",
              "      <th>Year</th>\n",
              "      <th>Origin</th>\n",
              "      <th>bore</th>\n",
              "      <th>stroke</th>\n",
              "      <th>compression-ratio</th>\n",
              "    </tr>\n",
              "  </thead>\n",
              "  <tbody>\n",
              "    <tr>\n",
              "      <th>344</th>\n",
              "      <td>37.7</td>\n",
              "      <td>4</td>\n",
              "      <td>89</td>\n",
              "      <td>62</td>\n",
              "      <td>2050</td>\n",
              "      <td>17.3</td>\n",
              "      <td>1981</td>\n",
              "      <td>Japan</td>\n",
              "      <td>3.54</td>\n",
              "      <td>2.76</td>\n",
              "      <td>11.5</td>\n",
              "    </tr>\n",
              "    <tr>\n",
              "      <th>166</th>\n",
              "      <td>23.0</td>\n",
              "      <td>4</td>\n",
              "      <td>140</td>\n",
              "      <td>83</td>\n",
              "      <td>2639</td>\n",
              "      <td>17</td>\n",
              "      <td>1975</td>\n",
              "      <td>US</td>\n",
              "      <td>3.24</td>\n",
              "      <td>3.08</td>\n",
              "      <td>9.4</td>\n",
              "    </tr>\n",
              "    <tr>\n",
              "      <th>290</th>\n",
              "      <td>18.5</td>\n",
              "      <td>8</td>\n",
              "      <td>360</td>\n",
              "      <td>150</td>\n",
              "      <td>3940</td>\n",
              "      <td>13</td>\n",
              "      <td>1979</td>\n",
              "      <td>US</td>\n",
              "      <td>3.27</td>\n",
              "      <td>3.35</td>\n",
              "      <td>9.2</td>\n",
              "    </tr>\n",
              "    <tr>\n",
              "      <th>269</th>\n",
              "      <td>23.2</td>\n",
              "      <td>4</td>\n",
              "      <td>156</td>\n",
              "      <td>105</td>\n",
              "      <td>2745</td>\n",
              "      <td>16.7</td>\n",
              "      <td>1978</td>\n",
              "      <td>US</td>\n",
              "      <td>3.01</td>\n",
              "      <td>3.40</td>\n",
              "      <td>23</td>\n",
              "    </tr>\n",
              "    <tr>\n",
              "      <th>119</th>\n",
              "      <td>19.0</td>\n",
              "      <td>4</td>\n",
              "      <td>121</td>\n",
              "      <td>112</td>\n",
              "      <td>2868</td>\n",
              "      <td>15.5</td>\n",
              "      <td>1973</td>\n",
              "      <td>Europe</td>\n",
              "      <td>3.03</td>\n",
              "      <td>3.39</td>\n",
              "      <td>7.6</td>\n",
              "    </tr>\n",
              "  </tbody>\n",
              "</table>\n",
              "</div>"
            ],
            "text/plain": [
              "      MPG Cylinders Displacement  ...  bore stroke compression-ratio\n",
              "344  37.7         4           89  ...  3.54   2.76              11.5\n",
              "166  23.0         4          140  ...  3.24   3.08               9.4\n",
              "290  18.5         8          360  ...  3.27   3.35               9.2\n",
              "269  23.2         4          156  ...  3.01   3.40                23\n",
              "119  19.0         4          121  ...  3.03   3.39               7.6\n",
              "\n",
              "[5 rows x 11 columns]"
            ]
          },
          "metadata": {
            "tags": []
          },
          "execution_count": 47
        }
      ]
    },
    {
      "cell_type": "code",
      "metadata": {
        "colab": {
          "base_uri": "https://localhost:8080/",
          "height": 206
        },
        "id": "HJFCQFz_nYRF",
        "outputId": "1be36d99-232e-4233-fa96-6e8fcfa6798a"
      },
      "source": [
        "automobile_df.drop(['bore', 'stroke', 'compression-ratio'], axis=1, inplace=True)\n",
        "\n",
        "automobile_df.head()"
      ],
      "execution_count": 48,
      "outputs": [
        {
          "output_type": "execute_result",
          "data": {
            "text/html": [
              "<div>\n",
              "<style scoped>\n",
              "    .dataframe tbody tr th:only-of-type {\n",
              "        vertical-align: middle;\n",
              "    }\n",
              "\n",
              "    .dataframe tbody tr th {\n",
              "        vertical-align: top;\n",
              "    }\n",
              "\n",
              "    .dataframe thead th {\n",
              "        text-align: right;\n",
              "    }\n",
              "</style>\n",
              "<table border=\"1\" class=\"dataframe\">\n",
              "  <thead>\n",
              "    <tr style=\"text-align: right;\">\n",
              "      <th></th>\n",
              "      <th>MPG</th>\n",
              "      <th>Cylinders</th>\n",
              "      <th>Displacement</th>\n",
              "      <th>Horsepower</th>\n",
              "      <th>Weight</th>\n",
              "      <th>Acceleration</th>\n",
              "      <th>Year</th>\n",
              "      <th>Origin</th>\n",
              "    </tr>\n",
              "  </thead>\n",
              "  <tbody>\n",
              "    <tr>\n",
              "      <th>0</th>\n",
              "      <td>18.000000</td>\n",
              "      <td>8</td>\n",
              "      <td>307</td>\n",
              "      <td>130</td>\n",
              "      <td>3504</td>\n",
              "      <td>12</td>\n",
              "      <td>1970[1975]</td>\n",
              "      <td>US; Detroit, Michigan</td>\n",
              "    </tr>\n",
              "    <tr>\n",
              "      <th>3</th>\n",
              "      <td>16.000000</td>\n",
              "      <td>8</td>\n",
              "      <td>304</td>\n",
              "      <td>150</td>\n",
              "      <td>3433</td>\n",
              "      <td>12</td>\n",
              "      <td>1970</td>\n",
              "      <td>US</td>\n",
              "    </tr>\n",
              "    <tr>\n",
              "      <th>4</th>\n",
              "      <td>17.000000</td>\n",
              "      <td>8</td>\n",
              "      <td>302</td>\n",
              "      <td>140</td>\n",
              "      <td>3449</td>\n",
              "      <td>10.5</td>\n",
              "      <td>1970-1972</td>\n",
              "      <td>US]</td>\n",
              "    </tr>\n",
              "    <tr>\n",
              "      <th>6</th>\n",
              "      <td>14.000000</td>\n",
              "      <td>8</td>\n",
              "      <td>454</td>\n",
              "      <td>220</td>\n",
              "      <td>4354</td>\n",
              "      <td>9</td>\n",
              "      <td>1970[1975]</td>\n",
              "      <td>US; Detroit, Michigan</td>\n",
              "    </tr>\n",
              "    <tr>\n",
              "      <th>7</th>\n",
              "      <td>23.551429</td>\n",
              "      <td>8</td>\n",
              "      <td>440</td>\n",
              "      <td>215</td>\n",
              "      <td>4312</td>\n",
              "      <td>8.5</td>\n",
              "      <td>1970</td>\n",
              "      <td>US</td>\n",
              "    </tr>\n",
              "  </tbody>\n",
              "</table>\n",
              "</div>"
            ],
            "text/plain": [
              "         MPG Cylinders  ...        Year                 Origin\n",
              "0  18.000000         8  ...  1970[1975]  US; Detroit, Michigan\n",
              "3  16.000000         8  ...        1970                     US\n",
              "4  17.000000         8  ...   1970-1972                    US]\n",
              "6  14.000000         8  ...  1970[1975]  US; Detroit, Michigan\n",
              "7  23.551429         8  ...        1970                     US\n",
              "\n",
              "[5 rows x 8 columns]"
            ]
          },
          "metadata": {
            "tags": []
          },
          "execution_count": 48
        }
      ]
    },
    {
      "cell_type": "markdown",
      "metadata": {
        "id": "0sxps-7Fnq-e"
      },
      "source": [
        "##Cleaning Data"
      ]
    },
    {
      "cell_type": "code",
      "metadata": {
        "colab": {
          "base_uri": "https://localhost:8080/"
        },
        "id": "LYrYwJrUnt0F",
        "outputId": "87342727-dc2e-43ad-d11d-770ec50ee554"
      },
      "source": [
        "automobile_df['Year'].str.isnumeric().value_counts()"
      ],
      "execution_count": 49,
      "outputs": [
        {
          "output_type": "execute_result",
          "data": {
            "text/plain": [
              "True     351\n",
              "False     36\n",
              "Name: Year, dtype: int64"
            ]
          },
          "metadata": {
            "tags": []
          },
          "execution_count": 49
        }
      ]
    },
    {
      "cell_type": "code",
      "metadata": {
        "colab": {
          "base_uri": "https://localhost:8080/"
        },
        "id": "g1noyxj8pjcM",
        "outputId": "0c6afb69-018b-4593-d4b0-555df3d0a23e"
      },
      "source": [
        "automobile_df['Year'].loc[automobile_df['Year'].str.isnumeric() == False]"
      ],
      "execution_count": 50,
      "outputs": [
        {
          "output_type": "execute_result",
          "data": {
            "text/plain": [
              "0          1970[1975]\n",
              "4           1970-1972\n",
              "6          1970[1975]\n",
              "30      1971[1973]971\n",
              "35         1971[1973]\n",
              "40         1971[1973]\n",
              "44         1971[1973]\n",
              "49         1971[1973]\n",
              "56         1972[1973]\n",
              "61         1972[1973]\n",
              "65         1972[1973]\n",
              "68         1972[1973]\n",
              "73         1972[1973]\n",
              "75            1972-73\n",
              "79            1972-73\n",
              "82            1972-73\n",
              "96          1973-1974\n",
              "97         1973, 1974\n",
              "102    1973, 19741973\n",
              "105        1973, 1974\n",
              "108        1973, 1974\n",
              "112        1973, 1974\n",
              "115        1973, 1974\n",
              "126        1974, 1975\n",
              "131        1974, 1975\n",
              "134        1974, 1975\n",
              "137        1974, 1975\n",
              "139    1974, 19751974\n",
              "142        1974, 1975\n",
              "365         1982-1985\n",
              "374         1982-1985\n",
              "380         1982-1985\n",
              "383         1982-1985\n",
              "387         1982-1985\n",
              "389         1982-1985\n",
              "391         1982-1985\n",
              "Name: Year, dtype: object"
            ]
          },
          "metadata": {
            "tags": []
          },
          "execution_count": 50
        }
      ]
    },
    {
      "cell_type": "code",
      "metadata": {
        "colab": {
          "base_uri": "https://localhost:8080/"
        },
        "id": "R2ZKB-HIp1_d",
        "outputId": "56c50e08-0a5d-4273-ac0f-591f8ccffefb"
      },
      "source": [
        "extr = automobile_df['Year'].str.extract(r'^(\\d{4})', expand=False)\n",
        "\n",
        "extr.head()"
      ],
      "execution_count": 51,
      "outputs": [
        {
          "output_type": "execute_result",
          "data": {
            "text/plain": [
              "0    1970\n",
              "3    1970\n",
              "4    1970\n",
              "6    1970\n",
              "7    1970\n",
              "Name: Year, dtype: object"
            ]
          },
          "metadata": {
            "tags": []
          },
          "execution_count": 51
        }
      ]
    },
    {
      "cell_type": "code",
      "metadata": {
        "colab": {
          "base_uri": "https://localhost:8080/"
        },
        "id": "GNmbicY3qOed",
        "outputId": "72b0741e-9942-42c2-8980-56a8a031bdc8"
      },
      "source": [
        "automobile_df['Year'].isnull().values.any()"
      ],
      "execution_count": 52,
      "outputs": [
        {
          "output_type": "execute_result",
          "data": {
            "text/plain": [
              "False"
            ]
          },
          "metadata": {
            "tags": []
          },
          "execution_count": 52
        }
      ]
    },
    {
      "cell_type": "code",
      "metadata": {
        "colab": {
          "base_uri": "https://localhost:8080/"
        },
        "id": "dANbln8rqaj5",
        "outputId": "bc88dd1b-9242-491b-b33c-68d72c1ee52b"
      },
      "source": [
        "automobile_df['Year'] = pd.to_numeric(extr)\n",
        "automobile_df['Year'].dtype"
      ],
      "execution_count": 53,
      "outputs": [
        {
          "output_type": "execute_result",
          "data": {
            "text/plain": [
              "dtype('int64')"
            ]
          },
          "metadata": {
            "tags": []
          },
          "execution_count": 53
        }
      ]
    },
    {
      "cell_type": "code",
      "metadata": {
        "colab": {
          "base_uri": "https://localhost:8080/",
          "height": 206
        },
        "id": "2LYNy6NVqmmb",
        "outputId": "ac0f3473-2cb7-47a5-bd19-0ccfc0780490"
      },
      "source": [
        "automobile_df.head()"
      ],
      "execution_count": 54,
      "outputs": [
        {
          "output_type": "execute_result",
          "data": {
            "text/html": [
              "<div>\n",
              "<style scoped>\n",
              "    .dataframe tbody tr th:only-of-type {\n",
              "        vertical-align: middle;\n",
              "    }\n",
              "\n",
              "    .dataframe tbody tr th {\n",
              "        vertical-align: top;\n",
              "    }\n",
              "\n",
              "    .dataframe thead th {\n",
              "        text-align: right;\n",
              "    }\n",
              "</style>\n",
              "<table border=\"1\" class=\"dataframe\">\n",
              "  <thead>\n",
              "    <tr style=\"text-align: right;\">\n",
              "      <th></th>\n",
              "      <th>MPG</th>\n",
              "      <th>Cylinders</th>\n",
              "      <th>Displacement</th>\n",
              "      <th>Horsepower</th>\n",
              "      <th>Weight</th>\n",
              "      <th>Acceleration</th>\n",
              "      <th>Year</th>\n",
              "      <th>Origin</th>\n",
              "    </tr>\n",
              "  </thead>\n",
              "  <tbody>\n",
              "    <tr>\n",
              "      <th>0</th>\n",
              "      <td>18.000000</td>\n",
              "      <td>8</td>\n",
              "      <td>307</td>\n",
              "      <td>130</td>\n",
              "      <td>3504</td>\n",
              "      <td>12</td>\n",
              "      <td>1970</td>\n",
              "      <td>US; Detroit, Michigan</td>\n",
              "    </tr>\n",
              "    <tr>\n",
              "      <th>3</th>\n",
              "      <td>16.000000</td>\n",
              "      <td>8</td>\n",
              "      <td>304</td>\n",
              "      <td>150</td>\n",
              "      <td>3433</td>\n",
              "      <td>12</td>\n",
              "      <td>1970</td>\n",
              "      <td>US</td>\n",
              "    </tr>\n",
              "    <tr>\n",
              "      <th>4</th>\n",
              "      <td>17.000000</td>\n",
              "      <td>8</td>\n",
              "      <td>302</td>\n",
              "      <td>140</td>\n",
              "      <td>3449</td>\n",
              "      <td>10.5</td>\n",
              "      <td>1970</td>\n",
              "      <td>US]</td>\n",
              "    </tr>\n",
              "    <tr>\n",
              "      <th>6</th>\n",
              "      <td>14.000000</td>\n",
              "      <td>8</td>\n",
              "      <td>454</td>\n",
              "      <td>220</td>\n",
              "      <td>4354</td>\n",
              "      <td>9</td>\n",
              "      <td>1970</td>\n",
              "      <td>US; Detroit, Michigan</td>\n",
              "    </tr>\n",
              "    <tr>\n",
              "      <th>7</th>\n",
              "      <td>23.551429</td>\n",
              "      <td>8</td>\n",
              "      <td>440</td>\n",
              "      <td>215</td>\n",
              "      <td>4312</td>\n",
              "      <td>8.5</td>\n",
              "      <td>1970</td>\n",
              "      <td>US</td>\n",
              "    </tr>\n",
              "  </tbody>\n",
              "</table>\n",
              "</div>"
            ],
            "text/plain": [
              "         MPG Cylinders Displacement  ...  Acceleration  Year                 Origin\n",
              "0  18.000000         8          307  ...            12  1970  US; Detroit, Michigan\n",
              "3  16.000000         8          304  ...            12  1970                     US\n",
              "4  17.000000         8          302  ...          10.5  1970                    US]\n",
              "6  14.000000         8          454  ...             9  1970  US; Detroit, Michigan\n",
              "7  23.551429         8          440  ...           8.5  1970                     US\n",
              "\n",
              "[5 rows x 8 columns]"
            ]
          },
          "metadata": {
            "tags": []
          },
          "execution_count": 54
        }
      ]
    },
    {
      "cell_type": "code",
      "metadata": {
        "colab": {
          "base_uri": "https://localhost:8080/",
          "height": 206
        },
        "id": "phvAgw8lqp_e",
        "outputId": "c0673607-018e-4c0a-a6fb-6bf0585adc56"
      },
      "source": [
        "automobile_df['Age'] = datetime.datetime.now().year - automobile_df['Year']\n",
        "\n",
        "automobile_df.drop(['Year'], axis=1, inplace=True)\n",
        "\n",
        "automobile_df.sample(5)"
      ],
      "execution_count": 55,
      "outputs": [
        {
          "output_type": "execute_result",
          "data": {
            "text/html": [
              "<div>\n",
              "<style scoped>\n",
              "    .dataframe tbody tr th:only-of-type {\n",
              "        vertical-align: middle;\n",
              "    }\n",
              "\n",
              "    .dataframe tbody tr th {\n",
              "        vertical-align: top;\n",
              "    }\n",
              "\n",
              "    .dataframe thead th {\n",
              "        text-align: right;\n",
              "    }\n",
              "</style>\n",
              "<table border=\"1\" class=\"dataframe\">\n",
              "  <thead>\n",
              "    <tr style=\"text-align: right;\">\n",
              "      <th></th>\n",
              "      <th>MPG</th>\n",
              "      <th>Cylinders</th>\n",
              "      <th>Displacement</th>\n",
              "      <th>Horsepower</th>\n",
              "      <th>Weight</th>\n",
              "      <th>Acceleration</th>\n",
              "      <th>Origin</th>\n",
              "      <th>Age</th>\n",
              "    </tr>\n",
              "  </thead>\n",
              "  <tbody>\n",
              "    <tr>\n",
              "      <th>259</th>\n",
              "      <td>18.1</td>\n",
              "      <td>6</td>\n",
              "      <td>258</td>\n",
              "      <td>120</td>\n",
              "      <td>3410</td>\n",
              "      <td>15.1</td>\n",
              "      <td>US</td>\n",
              "      <td>43</td>\n",
              "    </tr>\n",
              "    <tr>\n",
              "      <th>325</th>\n",
              "      <td>36.4</td>\n",
              "      <td>5</td>\n",
              "      <td>121</td>\n",
              "      <td>67</td>\n",
              "      <td>2950</td>\n",
              "      <td>19.9</td>\n",
              "      <td>Europe-Germany</td>\n",
              "      <td>41</td>\n",
              "    </tr>\n",
              "    <tr>\n",
              "      <th>184</th>\n",
              "      <td>27.0</td>\n",
              "      <td>4</td>\n",
              "      <td>101</td>\n",
              "      <td>83</td>\n",
              "      <td>2202</td>\n",
              "      <td>15.3</td>\n",
              "      <td>Europe</td>\n",
              "      <td>45</td>\n",
              "    </tr>\n",
              "    <tr>\n",
              "      <th>366</th>\n",
              "      <td>31.0</td>\n",
              "      <td>4</td>\n",
              "      <td>112</td>\n",
              "      <td>85</td>\n",
              "      <td>2575</td>\n",
              "      <td>16.2</td>\n",
              "      <td>US</td>\n",
              "      <td>39</td>\n",
              "    </tr>\n",
              "    <tr>\n",
              "      <th>337</th>\n",
              "      <td>23.5</td>\n",
              "      <td>6</td>\n",
              "      <td>173</td>\n",
              "      <td>110</td>\n",
              "      <td>2725</td>\n",
              "      <td>12.6</td>\n",
              "      <td>US</td>\n",
              "      <td>40</td>\n",
              "    </tr>\n",
              "  </tbody>\n",
              "</table>\n",
              "</div>"
            ],
            "text/plain": [
              "      MPG Cylinders Displacement  ...  Acceleration          Origin Age\n",
              "259  18.1         6          258  ...          15.1              US  43\n",
              "325  36.4         5          121  ...          19.9  Europe-Germany  41\n",
              "184  27.0         4          101  ...          15.3          Europe  45\n",
              "366  31.0         4          112  ...          16.2              US  39\n",
              "337  23.5         6          173  ...          12.6              US  40\n",
              "\n",
              "[5 rows x 8 columns]"
            ]
          },
          "metadata": {
            "tags": []
          },
          "execution_count": 55
        }
      ]
    },
    {
      "cell_type": "code",
      "metadata": {
        "colab": {
          "base_uri": "https://localhost:8080/"
        },
        "id": "lF01n4TvrLMd",
        "outputId": "c60b03e8-3d9f-4c17-f50e-dce70bb3188a"
      },
      "source": [
        "automobile_df.dtypes"
      ],
      "execution_count": 58,
      "outputs": [
        {
          "output_type": "execute_result",
          "data": {
            "text/plain": [
              "MPG             float64\n",
              "Cylinders        object\n",
              "Displacement     object\n",
              "Horsepower        int64\n",
              "Weight           object\n",
              "Acceleration     object\n",
              "Origin           object\n",
              "Age               int64\n",
              "dtype: object"
            ]
          },
          "metadata": {
            "tags": []
          },
          "execution_count": 58
        }
      ]
    },
    {
      "cell_type": "code",
      "metadata": {
        "colab": {
          "base_uri": "https://localhost:8080/"
        },
        "id": "TNlbmwLXrUZC",
        "outputId": "f2521bfa-5916-4369-9c88-ea38599c4426"
      },
      "source": [
        "automobile_df['Cylinders'].isnull().values.any()"
      ],
      "execution_count": 59,
      "outputs": [
        {
          "output_type": "execute_result",
          "data": {
            "text/plain": [
              "False"
            ]
          },
          "metadata": {
            "tags": []
          },
          "execution_count": 59
        }
      ]
    },
    {
      "cell_type": "code",
      "metadata": {
        "colab": {
          "base_uri": "https://localhost:8080/"
        },
        "id": "3nYjn4z8rg6e",
        "outputId": "9ec76310-2969-4605-f320-ad4bfb9c9cf5"
      },
      "source": [
        "automobile_df['Cylinders'].str.isnumeric().value_counts()"
      ],
      "execution_count": 60,
      "outputs": [
        {
          "output_type": "execute_result",
          "data": {
            "text/plain": [
              "True     378\n",
              "False      9\n",
              "Name: Cylinders, dtype: int64"
            ]
          },
          "metadata": {
            "tags": []
          },
          "execution_count": 60
        }
      ]
    },
    {
      "cell_type": "code",
      "metadata": {
        "colab": {
          "base_uri": "https://localhost:8080/"
        },
        "id": "z_NWO7rMrn94",
        "outputId": "f77d08e9-41ce-486b-d3b6-bd0e167ddf9f"
      },
      "source": [
        "automobile_df['Cylinders'].loc[automobile_df['Cylinders'].str.isnumeric() == False]"
      ],
      "execution_count": 61,
      "outputs": [
        {
          "output_type": "execute_result",
          "data": {
            "text/plain": [
              "11    -\n",
              "22    -\n",
              "32    -\n",
              "42    -\n",
              "51    -\n",
              "58    -\n",
              "69    -\n",
              "82    -\n",
              "89    -\n",
              "Name: Cylinders, dtype: object"
            ]
          },
          "metadata": {
            "tags": []
          },
          "execution_count": 61
        }
      ]
    },
    {
      "cell_type": "code",
      "metadata": {
        "id": "IDOSpwwVruhH"
      },
      "source": [
        "cylinders = automobile_df['Cylinders'].loc[automobile_df['Cylinders'] != '-']\n",
        "\n",
        "cmean = cylinders.astype(int).mean()"
      ],
      "execution_count": 63,
      "outputs": []
    },
    {
      "cell_type": "code",
      "metadata": {
        "colab": {
          "base_uri": "https://localhost:8080/"
        },
        "id": "tsqQHLmGsE13",
        "outputId": "f5b52d57-98a6-4a5a-b095-5c8082323cb8"
      },
      "source": [
        "cmean"
      ],
      "execution_count": 64,
      "outputs": [
        {
          "output_type": "execute_result",
          "data": {
            "text/plain": [
              "5.420634920634921"
            ]
          },
          "metadata": {
            "tags": []
          },
          "execution_count": 64
        }
      ]
    },
    {
      "cell_type": "code",
      "metadata": {
        "id": "X_jq7_GQsPjn"
      },
      "source": [
        "automobile_df['Cylinders'] = automobile_df['Cylinders'].replace('-', cmean).astype(int)"
      ],
      "execution_count": 65,
      "outputs": []
    },
    {
      "cell_type": "code",
      "metadata": {
        "colab": {
          "base_uri": "https://localhost:8080/"
        },
        "id": "iWjRs6aGsem3",
        "outputId": "b6a5fd30-fc89-4554-ade5-f319642289ee"
      },
      "source": [
        "automobile_df.dtypes"
      ],
      "execution_count": 66,
      "outputs": [
        {
          "output_type": "execute_result",
          "data": {
            "text/plain": [
              "MPG             float64\n",
              "Cylinders         int64\n",
              "Displacement     object\n",
              "Horsepower        int64\n",
              "Weight           object\n",
              "Acceleration     object\n",
              "Origin           object\n",
              "Age               int64\n",
              "dtype: object"
            ]
          },
          "metadata": {
            "tags": []
          },
          "execution_count": 66
        }
      ]
    },
    {
      "cell_type": "code",
      "metadata": {
        "colab": {
          "base_uri": "https://localhost:8080/"
        },
        "id": "ps31VTptsgwj",
        "outputId": "5853e067-ebc3-42f9-cf5b-e57c6caa5a69"
      },
      "source": [
        "automobile_df['Displacement'] = pd.to_numeric(automobile_df['Displacement'], errors='coerce')\n",
        "automobile_df.dtypes"
      ],
      "execution_count": 67,
      "outputs": [
        {
          "output_type": "execute_result",
          "data": {
            "text/plain": [
              "MPG             float64\n",
              "Cylinders         int64\n",
              "Displacement    float64\n",
              "Horsepower        int64\n",
              "Weight           object\n",
              "Acceleration     object\n",
              "Origin           object\n",
              "Age               int64\n",
              "dtype: object"
            ]
          },
          "metadata": {
            "tags": []
          },
          "execution_count": 67
        }
      ]
    },
    {
      "cell_type": "code",
      "metadata": {
        "colab": {
          "base_uri": "https://localhost:8080/"
        },
        "id": "7FkrQefCsw5A",
        "outputId": "b518e8d3-8b54-4f40-81da-a46eacc144ba"
      },
      "source": [
        "automobile_df['Weight'] = pd.to_numeric(automobile_df['Weight'], errors='coerce')\n",
        "automobile_df.dtypes"
      ],
      "execution_count": 68,
      "outputs": [
        {
          "output_type": "execute_result",
          "data": {
            "text/plain": [
              "MPG             float64\n",
              "Cylinders         int64\n",
              "Displacement    float64\n",
              "Horsepower        int64\n",
              "Weight            int64\n",
              "Acceleration     object\n",
              "Origin           object\n",
              "Age               int64\n",
              "dtype: object"
            ]
          },
          "metadata": {
            "tags": []
          },
          "execution_count": 68
        }
      ]
    },
    {
      "cell_type": "code",
      "metadata": {
        "colab": {
          "base_uri": "https://localhost:8080/"
        },
        "id": "LtxtCpl5s7bN",
        "outputId": "e9af88be-04e4-43b9-af71-6605f73d7c36"
      },
      "source": [
        "automobile_df['Acceleration'] = pd.to_numeric(automobile_df['Acceleration'], errors='coerce')\n",
        "automobile_df.dtypes"
      ],
      "execution_count": 70,
      "outputs": [
        {
          "output_type": "execute_result",
          "data": {
            "text/plain": [
              "MPG             float64\n",
              "Cylinders         int64\n",
              "Displacement    float64\n",
              "Horsepower        int64\n",
              "Weight            int64\n",
              "Acceleration    float64\n",
              "Origin           object\n",
              "Age               int64\n",
              "dtype: object"
            ]
          },
          "metadata": {
            "tags": []
          },
          "execution_count": 70
        }
      ]
    },
    {
      "cell_type": "code",
      "metadata": {
        "colab": {
          "base_uri": "https://localhost:8080/"
        },
        "id": "iEXw2ey9tB7L",
        "outputId": "bed03a31-73d8-4f2a-ba8b-a4d529da7368"
      },
      "source": [
        "automobile_df['Origin'].head(15)"
      ],
      "execution_count": 72,
      "outputs": [
        {
          "output_type": "execute_result",
          "data": {
            "text/plain": [
              "0     US; Detroit, Michigan\n",
              "3                        US\n",
              "4                       US]\n",
              "6     US; Detroit, Michigan\n",
              "7                        US\n",
              "8                        US\n",
              "9                       US]\n",
              "10                       US\n",
              "11                       US\n",
              "12    US; Detroit, Michigan\n",
              "13                       US\n",
              "14             Japan; Aichi\n",
              "15                       US\n",
              "16                      US]\n",
              "17                       US\n",
              "Name: Origin, dtype: object"
            ]
          },
          "metadata": {
            "tags": []
          },
          "execution_count": 72
        }
      ]
    },
    {
      "cell_type": "code",
      "metadata": {
        "colab": {
          "base_uri": "https://localhost:8080/"
        },
        "id": "LaNAq_ittPLk",
        "outputId": "1550b73a-e408-4e13-a9de-d9fb749316cb"
      },
      "source": [
        "automobile_df['Origin'].unique()"
      ],
      "execution_count": 73,
      "outputs": [
        {
          "output_type": "execute_result",
          "data": {
            "text/plain": [
              "array(['US; Detroit, Michigan', 'US', 'US]', 'Japan; Aichi',\n",
              "       'Europe-Germany', 'Europe', 'Japan; Tokyo', 'Japan; Aichi]',\n",
              "       'US; Detroit, Michigan]', 'Japan; Tokyo]', 'Japan',\n",
              "       'Europe Germany'], dtype=object)"
            ]
          },
          "metadata": {
            "tags": []
          },
          "execution_count": 73
        }
      ]
    },
    {
      "cell_type": "code",
      "metadata": {
        "colab": {
          "base_uri": "https://localhost:8080/"
        },
        "id": "gs9HL8KbtWmF",
        "outputId": "57bdb382-d31b-4bc0-90dd-44695ca2bdc0"
      },
      "source": [
        "automobile_df['Origin'] = np.where(automobile_df['Origin'].str.contains('US'),\n",
        "                                   'US',\n",
        "                                   automobile_df['Origin'])\n",
        "\n",
        "automobile_df['Origin'].unique()"
      ],
      "execution_count": 74,
      "outputs": [
        {
          "output_type": "execute_result",
          "data": {
            "text/plain": [
              "array(['US', 'Japan; Aichi', 'Europe-Germany', 'Europe', 'Japan; Tokyo',\n",
              "       'Japan; Aichi]', 'Japan; Tokyo]', 'Japan', 'Europe Germany'],\n",
              "      dtype=object)"
            ]
          },
          "metadata": {
            "tags": []
          },
          "execution_count": 74
        }
      ]
    },
    {
      "cell_type": "code",
      "metadata": {
        "colab": {
          "base_uri": "https://localhost:8080/"
        },
        "id": "DD9neYUqtvCW",
        "outputId": "88601aa0-834f-44b0-f82f-0f42eb736d3a"
      },
      "source": [
        "automobile_df['Origin'] = np.where(automobile_df['Origin'].str.contains('Japan'),\n",
        "                                   'Japan',\n",
        "                                   automobile_df['Origin'])\n",
        "\n",
        "automobile_df['Origin'].unique()"
      ],
      "execution_count": 75,
      "outputs": [
        {
          "output_type": "execute_result",
          "data": {
            "text/plain": [
              "array(['US', 'Japan', 'Europe-Germany', 'Europe', 'Europe Germany'],\n",
              "      dtype=object)"
            ]
          },
          "metadata": {
            "tags": []
          },
          "execution_count": 75
        }
      ]
    },
    {
      "cell_type": "code",
      "metadata": {
        "colab": {
          "base_uri": "https://localhost:8080/"
        },
        "id": "MuXJP2XTt-TP",
        "outputId": "5ed4da7c-7331-4e41-9881-29bb25a10849"
      },
      "source": [
        "automobile_df['Origin'] = np.where(automobile_df['Origin'].str.contains('Europe'),\n",
        "                                   'Europe',\n",
        "                                   automobile_df['Origin'])\n",
        "\n",
        "automobile_df['Origin'].unique()"
      ],
      "execution_count": 76,
      "outputs": [
        {
          "output_type": "execute_result",
          "data": {
            "text/plain": [
              "array(['US', 'Japan', 'Europe'], dtype=object)"
            ]
          },
          "metadata": {
            "tags": []
          },
          "execution_count": 76
        }
      ]
    },
    {
      "cell_type": "code",
      "metadata": {
        "colab": {
          "base_uri": "https://localhost:8080/",
          "height": 300
        },
        "id": "QN2ZyCFtuFzR",
        "outputId": "02c062cc-7d34-4889-a905-698f652b1659"
      },
      "source": [
        "automobile_df.describe()"
      ],
      "execution_count": 77,
      "outputs": [
        {
          "output_type": "execute_result",
          "data": {
            "text/html": [
              "<div>\n",
              "<style scoped>\n",
              "    .dataframe tbody tr th:only-of-type {\n",
              "        vertical-align: middle;\n",
              "    }\n",
              "\n",
              "    .dataframe tbody tr th {\n",
              "        vertical-align: top;\n",
              "    }\n",
              "\n",
              "    .dataframe thead th {\n",
              "        text-align: right;\n",
              "    }\n",
              "</style>\n",
              "<table border=\"1\" class=\"dataframe\">\n",
              "  <thead>\n",
              "    <tr style=\"text-align: right;\">\n",
              "      <th></th>\n",
              "      <th>MPG</th>\n",
              "      <th>Cylinders</th>\n",
              "      <th>Displacement</th>\n",
              "      <th>Horsepower</th>\n",
              "      <th>Weight</th>\n",
              "      <th>Acceleration</th>\n",
              "      <th>Age</th>\n",
              "    </tr>\n",
              "  </thead>\n",
              "  <tbody>\n",
              "    <tr>\n",
              "      <th>count</th>\n",
              "      <td>387.000000</td>\n",
              "      <td>387.000000</td>\n",
              "      <td>387.000000</td>\n",
              "      <td>387.000000</td>\n",
              "      <td>387.000000</td>\n",
              "      <td>387.000000</td>\n",
              "      <td>387.000000</td>\n",
              "    </tr>\n",
              "    <tr>\n",
              "      <th>mean</th>\n",
              "      <td>23.672514</td>\n",
              "      <td>5.410853</td>\n",
              "      <td>192.184755</td>\n",
              "      <td>103.645995</td>\n",
              "      <td>2965.387597</td>\n",
              "      <td>15.573643</td>\n",
              "      <td>44.917313</td>\n",
              "    </tr>\n",
              "    <tr>\n",
              "      <th>std</th>\n",
              "      <td>7.736579</td>\n",
              "      <td>1.667795</td>\n",
              "      <td>103.703706</td>\n",
              "      <td>38.128651</td>\n",
              "      <td>846.332848</td>\n",
              "      <td>2.746260</td>\n",
              "      <td>3.668715</td>\n",
              "    </tr>\n",
              "    <tr>\n",
              "      <th>min</th>\n",
              "      <td>9.000000</td>\n",
              "      <td>3.000000</td>\n",
              "      <td>68.000000</td>\n",
              "      <td>46.000000</td>\n",
              "      <td>1613.000000</td>\n",
              "      <td>8.000000</td>\n",
              "      <td>39.000000</td>\n",
              "    </tr>\n",
              "    <tr>\n",
              "      <th>25%</th>\n",
              "      <td>17.600000</td>\n",
              "      <td>4.000000</td>\n",
              "      <td>102.500000</td>\n",
              "      <td>75.000000</td>\n",
              "      <td>2221.500000</td>\n",
              "      <td>13.900000</td>\n",
              "      <td>42.000000</td>\n",
              "    </tr>\n",
              "    <tr>\n",
              "      <th>50%</th>\n",
              "      <td>23.200000</td>\n",
              "      <td>4.000000</td>\n",
              "      <td>146.000000</td>\n",
              "      <td>92.000000</td>\n",
              "      <td>2790.000000</td>\n",
              "      <td>15.500000</td>\n",
              "      <td>45.000000</td>\n",
              "    </tr>\n",
              "    <tr>\n",
              "      <th>75%</th>\n",
              "      <td>29.000000</td>\n",
              "      <td>6.000000</td>\n",
              "      <td>260.000000</td>\n",
              "      <td>121.000000</td>\n",
              "      <td>3589.500000</td>\n",
              "      <td>17.050000</td>\n",
              "      <td>48.000000</td>\n",
              "    </tr>\n",
              "    <tr>\n",
              "      <th>max</th>\n",
              "      <td>46.600000</td>\n",
              "      <td>8.000000</td>\n",
              "      <td>455.000000</td>\n",
              "      <td>230.000000</td>\n",
              "      <td>5140.000000</td>\n",
              "      <td>24.800000</td>\n",
              "      <td>51.000000</td>\n",
              "    </tr>\n",
              "  </tbody>\n",
              "</table>\n",
              "</div>"
            ],
            "text/plain": [
              "              MPG   Cylinders  ...  Acceleration         Age\n",
              "count  387.000000  387.000000  ...    387.000000  387.000000\n",
              "mean    23.672514    5.410853  ...     15.573643   44.917313\n",
              "std      7.736579    1.667795  ...      2.746260    3.668715\n",
              "min      9.000000    3.000000  ...      8.000000   39.000000\n",
              "25%     17.600000    4.000000  ...     13.900000   42.000000\n",
              "50%     23.200000    4.000000  ...     15.500000   45.000000\n",
              "75%     29.000000    6.000000  ...     17.050000   48.000000\n",
              "max     46.600000    8.000000  ...     24.800000   51.000000\n",
              "\n",
              "[8 rows x 7 columns]"
            ]
          },
          "metadata": {
            "tags": []
          },
          "execution_count": 77
        }
      ]
    },
    {
      "cell_type": "code",
      "metadata": {
        "id": "BL5RIUOSuKsa"
      },
      "source": [
        "automobile_df.to_csv('cars_processed.csv', index=False)"
      ],
      "execution_count": 78,
      "outputs": []
    },
    {
      "cell_type": "code",
      "metadata": {
        "id": "9RlIWRx-wrvT"
      },
      "source": [
        ""
      ],
      "execution_count": null,
      "outputs": []
    }
  ]
}