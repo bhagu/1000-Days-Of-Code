{
  "nbformat": 4,
  "nbformat_minor": 0,
  "metadata": {
    "colab": {
      "name": "Preparing Data for Machine Learning.ipynb",
      "provenance": [],
      "collapsed_sections": [],
      "authorship_tag": "ABX9TyPauYbiB5qeKrsa81ISf8km",
      "include_colab_link": true
    },
    "kernelspec": {
      "name": "python3",
      "display_name": "Python 3"
    },
    "language_info": {
      "name": "python"
    }
  },
  "cells": [
    {
      "cell_type": "markdown",
      "metadata": {
        "id": "view-in-github",
        "colab_type": "text"
      },
      "source": [
        "<a href=\"https://colab.research.google.com/github/bhagu/1000-Days-Of-Code/blob/main/Preparing_Data_for_Machine_Learning.ipynb\" target=\"_parent\"><img src=\"https://colab.research.google.com/assets/colab-badge.svg\" alt=\"Open In Colab\"/></a>"
      ]
    },
    {
      "cell_type": "markdown",
      "metadata": {
        "id": "y_nMrQAZSXbs"
      },
      "source": [
        "#Preparing Data For Machine Learning - Pluralsight Course"
      ]
    },
    {
      "cell_type": "markdown",
      "metadata": {
        "id": "Jar5x3FISrEO"
      },
      "source": [
        "#Understanding the Need for Data Preparation"
      ]
    },
    {
      "cell_type": "markdown",
      "metadata": {
        "id": "gsTv8-jeTFI2"
      },
      "source": [
        "##Module Focus\n",
        "Insufficient Data;\n",
        "Excessive or overly complex data;\n",
        "Non-representative data, missing data, outlier;\n",
        "Oversampling and understanding;\n",
        "Overfitting and underfitting models;"
      ]
    },
    {
      "cell_type": "markdown",
      "metadata": {
        "id": "l5HvZ6mej6FL"
      },
      "source": [
        "### Insufficient Data\n",
        "Leads to Overfitting/ Underfitting\n",
        "\n",
        "No great solution for insufficient data\n",
        "\n",
        "Simply need to find more data sources\n",
        "\n",
        "Dealing with Small Datasets\n",
        "\n",
        "Model complexity - Simpler model with fewer model parameters, Less susceptible to overfitting, e.g. Naive Bayes classifier, logistic regression, Use ensemble techniques\n",
        "\n",
        "Transfer learning - the practice of reusing a trained neural network that solves a problem similar to yours, usually leaving the network architeture unchanged and re-using some of all of the model weights\n",
        "\n",
        "Data augmentation - Increase the number of training samples, Perturbed images are a form of data augmentation, Scaling, rotation, affine transforms, Makes CNN training more robust\n",
        "\n",
        "Synthetic data - Artificially generate samples which mimic real world data\n"
      ]
    },
    {
      "cell_type": "markdown",
      "metadata": {
        "id": "Sr9WNBdgltkE"
      },
      "source": [
        "###Too Much Data\n",
        "Data might be excessive in 2 ways\n",
        "\n",
        "- Curse of dimensionality: Too many columns/features\n",
        "- Outdated historical data: Too many rows\n",
        "\n",
        "Concept Drift: The relationship between features (X-variables) and labels (Y-variables) changes over time; ML models fail to keep up, and consequently their performance suffers\n",
        "\n",
        "Outdated historical data: If not eliminated, leads to concept drift;\n",
        "This is a serious issue in specific applications\n",
        "- Financial trading\n",
        "\n",
        "Usually require human expert to judge which rows to leave out\n",
        "\n",
        "Curse of dimensionality: 2 specific problems arise when too much data is available\n",
        "- Deciding which data is actually relevant\n",
        "- Aggregating very low-level data into useful features\n",
        "\n",
        "Easier problem to solve:\n",
        "- Feature selection: Deciding which data is actually relevant\n",
        "- Feautre engineering: Aggregating very low-level data into useful features\n",
        "- Dimensionality reduction: Reduce complexity without losing information\n",
        "\n",
        "Concept Hierarchy: A mapping that combines very low-level features (e.g. latitudes and longitudes) into more general, usable features (e.g. zip codes)\n",
        "\n",
        "\n"
      ]
    },
    {
      "cell_type": "markdown",
      "metadata": {
        "id": "tBXjesEZoU-0"
      },
      "source": [
        "###Non-Representative Data\n",
        "Data is inaccurate, small errors have significant impact\n",
        "\n",
        "Account for data cleaning and processing time\n",
        "\n",
        "Data is not representative of the real world i.e. biased\n",
        "\n",
        "Leads to biased models that perform poorly in practice\n",
        "\n",
        "Mitigate using oversampling and undersampling"
      ]
    },
    {
      "cell_type": "markdown",
      "metadata": {
        "id": "riqKeIsXp5qJ"
      },
      "source": [
        "###Duplicate Data\n",
        "If data can be flagged as duplicate, problem relatively easy to solve\n",
        "- Simply de-duplicate\n",
        "\n",
        "Can be hard to identify in some applications\n",
        "- Real-time streaming"
      ]
    },
    {
      "cell_type": "markdown",
      "metadata": {
        "id": "L-TAlXO6ppqE"
      },
      "source": [
        "###Missing Data and Outliers\n",
        "Data cleaning procedures can help significantly mitigate the effects of\n",
        "- Missing data\n",
        "- Outliers\n",
        "\n",
        "Missing Data\n",
        "- Deletion\n",
        "- Imputation\n",
        "\n",
        "Deletion / Listwise Deletion: Delete an entire record (row) if a single value (column) is missing. Simple, but can lead to bias\n",
        "\n",
        "- Most common method in practices\n",
        "- Can reduce sample size significanlty\n",
        "- If values are not missing at random, can intriduce significant bias\n",
        "\n",
        "Imputation: Fill in missing values, rather than deleting records with missing values. Missing values are inferred from known data.\n",
        "\n",
        "- Methods range from very simple to very complex\n",
        "- Simplest method - Use column average\n",
        "- Can interpolate from nearby values \n",
        "- Can even build model to predict missing values\n",
        "\n",
        "Univariate Imputation: rely only on known values in same feature\n",
        "\n",
        "Multivariate imputation: Use all known data to infer missing value\n",
        "- Construct regression models from other columns to predict this column\n",
        "- Iteratively repeat for all columns\n",
        "\n",
        "Hot-deck Imputation:\n",
        "- Sort records based on any criteria\n",
        "- for each missing value, use immediately prior available value\n",
        "- \"Last Observation Carried Forward\"\n",
        "- For time-series data, equivalent to assuming no change since last measurement\n",
        "\n",
        "Mean Substitution:\n",
        "- For each missing value, substitute mean of all available values\n",
        "- Has effect of weakening correlations between columns\n",
        "- Can be problematic when bivariate analysis is required\n",
        "\n",
        "Regression:\n",
        "- Fit model to predict missing column based on other column values\n",
        "- Tends to strengthen correlations\n",
        "- Regression and mean substitution have complementary strengths\n",
        "\n",
        "Outliers\n",
        "- Identifying Outliers\n",
        "  - Distance from Mean\n",
        "  - Distance from fitted line\n",
        "- Coping with Outliers\n",
        "  - Drop\n",
        "  - Cap/Floor\n",
        "  - Set to mean\n",
        "\n",
        "Identifying Outliers\n",
        "\n",
        "More than 3 Standard deviation - Distance from mean\n",
        "\n",
        "Might also be data points that do not fit into the same relationship as the rest of the data\n",
        "\n",
        "\n",
        "Coping with Outliers\n",
        "- Always start by scrutinizing outliers\n",
        "- If erroneous observation\n",
        "  - Drop if all attributes of that point are erroneous\n",
        "  - Set to mean if only one attribute is erroneous\n",
        "- If genuine, legitimate outlier\n",
        "  - Leave as-is if model is not distorted\n",
        "  - Cap/Floor if model is distorted\n",
        "    - Need to first standardize data\n",
        "    - Cap positive outliers to +3\n",
        "    - Floor negative outliers to -3"
      ]
    },
    {
      "cell_type": "markdown",
      "metadata": {
        "id": "DsCbcILxu2dC"
      },
      "source": [
        "###Oversampling and Undersampling\n",
        "Techniques that intentionally add bias to the data in order to make it balanced\n",
        "\n",
        "Balacing Datasets\n",
        "- Oversampling uncommon x or y values\n",
        "- Undersampling of common x or y values\n",
        "\n",
        "Forcibly Balanced Datasets\n",
        "\n",
        "Oversampling and undersampling tend to\n",
        "- Reduce accuracy\n",
        "- Increase precision and recall\n",
        "\n",
        "Related techniques include\n",
        "- Case studies\n",
        "- Stratified sampling"
      ]
    },
    {
      "cell_type": "markdown",
      "metadata": {
        "id": "jd786kfuwhM7"
      },
      "source": [
        "###Overfitting and Underfitting\n",
        "Overfitting\n",
        "- Model has memorized the training data\n",
        "- Low training error\n",
        "- Doesn't work well in the real world\n",
        "- High test error\n",
        "\n",
        "Underfitting\n",
        "- Model unable to capture relationships in data\n",
        "- Performs poorly on the training data\n",
        "- Model too 'simple' to be useful"
      ]
    },
    {
      "cell_type": "markdown",
      "metadata": {
        "id": "0voCQR3b6xOj"
      },
      "source": [
        ""
      ]
    },
    {
      "cell_type": "markdown",
      "metadata": {
        "id": "cfDywVUgjf2o"
      },
      "source": [
        "#Implementing Data Cleaning and Transformation"
      ]
    },
    {
      "cell_type": "markdown",
      "metadata": {
        "id": "aB-SPG6ejl2L"
      },
      "source": [
        "##Handling Missing Values"
      ]
    },
    {
      "cell_type": "code",
      "metadata": {
        "id": "5G6ImB0QkF6v"
      },
      "source": [
        "import sklearn\n",
        "\n",
        "import pandas as pd\n",
        "import numpy as np\n",
        "\n",
        "import datetime"
      ],
      "execution_count": 1,
      "outputs": []
    },
    {
      "cell_type": "code",
      "metadata": {
        "colab": {
          "base_uri": "https://localhost:8080/"
        },
        "id": "sJjNGzYuk7f5",
        "outputId": "42dfd0fe-3613-4282-9079-b003980b05ba"
      },
      "source": [
        "print(sklearn.__version__)"
      ],
      "execution_count": 2,
      "outputs": [
        {
          "output_type": "stream",
          "text": [
            "0.22.2.post1\n"
          ],
          "name": "stdout"
        }
      ]
    },
    {
      "cell_type": "code",
      "metadata": {
        "colab": {
          "base_uri": "https://localhost:8080/"
        },
        "id": "HB-NI41Jk-0_",
        "outputId": "c23d01aa-a284-4b79-ff82-a7f9762dfaae"
      },
      "source": [
        "print(np.__version__)"
      ],
      "execution_count": 3,
      "outputs": [
        {
          "output_type": "stream",
          "text": [
            "1.19.5\n"
          ],
          "name": "stdout"
        }
      ]
    },
    {
      "cell_type": "code",
      "metadata": {
        "colab": {
          "base_uri": "https://localhost:8080/"
        },
        "id": "1z3KHaD3lDMQ",
        "outputId": "773b03c4-d6a6-4e35-cf83-67bdb1b4f5f7"
      },
      "source": [
        "print(pd.__version__)"
      ],
      "execution_count": 4,
      "outputs": [
        {
          "output_type": "stream",
          "text": [
            "1.1.5\n"
          ],
          "name": "stdout"
        }
      ]
    },
    {
      "cell_type": "code",
      "metadata": {
        "colab": {
          "base_uri": "https://localhost:8080/",
          "height": 241
        },
        "id": "ps87-4f-lFsV",
        "outputId": "b0346054-1734-475b-caf8-4425bc164e99"
      },
      "source": [
        "automobile_df = pd.read_csv(\"cars.csv\")\n",
        "\n",
        "automobile_df.head()"
      ],
      "execution_count": 5,
      "outputs": [
        {
          "output_type": "execute_result",
          "data": {
            "text/html": [
              "<div>\n",
              "<style scoped>\n",
              "    .dataframe tbody tr th:only-of-type {\n",
              "        vertical-align: middle;\n",
              "    }\n",
              "\n",
              "    .dataframe tbody tr th {\n",
              "        vertical-align: top;\n",
              "    }\n",
              "\n",
              "    .dataframe thead th {\n",
              "        text-align: right;\n",
              "    }\n",
              "</style>\n",
              "<table border=\"1\" class=\"dataframe\">\n",
              "  <thead>\n",
              "    <tr style=\"text-align: right;\">\n",
              "      <th></th>\n",
              "      <th>Model</th>\n",
              "      <th>MPG</th>\n",
              "      <th>Cylinders</th>\n",
              "      <th>Displacement</th>\n",
              "      <th>Horsepower</th>\n",
              "      <th>Weight</th>\n",
              "      <th>Acceleration</th>\n",
              "      <th>Year</th>\n",
              "      <th>Origin</th>\n",
              "      <th>bore</th>\n",
              "      <th>stroke</th>\n",
              "      <th>compression-ratio</th>\n",
              "    </tr>\n",
              "  </thead>\n",
              "  <tbody>\n",
              "    <tr>\n",
              "      <th>0</th>\n",
              "      <td>chevrolet chevelle malibu</td>\n",
              "      <td>18.0</td>\n",
              "      <td>8</td>\n",
              "      <td>307</td>\n",
              "      <td>130</td>\n",
              "      <td>3504</td>\n",
              "      <td>12</td>\n",
              "      <td>1970[1975]</td>\n",
              "      <td>US; Detroit, Michigan</td>\n",
              "      <td>3.47</td>\n",
              "      <td>2.68</td>\n",
              "      <td>9</td>\n",
              "    </tr>\n",
              "    <tr>\n",
              "      <th>1</th>\n",
              "      <td>buick skylark 320</td>\n",
              "      <td>15.0</td>\n",
              "      <td>8</td>\n",
              "      <td>350</td>\n",
              "      <td>165</td>\n",
              "      <td>3693</td>\n",
              "      <td>11.5</td>\n",
              "      <td>1970</td>\n",
              "      <td>US]</td>\n",
              "      <td>3.47</td>\n",
              "      <td>2.68</td>\n",
              "      <td>?</td>\n",
              "    </tr>\n",
              "    <tr>\n",
              "      <th>2</th>\n",
              "      <td>plymouth satellite</td>\n",
              "      <td>18.0</td>\n",
              "      <td>?</td>\n",
              "      <td>318</td>\n",
              "      <td>150</td>\n",
              "      <td>3436</td>\n",
              "      <td>11</td>\n",
              "      <td>1970, 1976</td>\n",
              "      <td>US</td>\n",
              "      <td>2.68</td>\n",
              "      <td>3.47</td>\n",
              "      <td>9</td>\n",
              "    </tr>\n",
              "    <tr>\n",
              "      <th>3</th>\n",
              "      <td>amc rebel sst</td>\n",
              "      <td>16.0</td>\n",
              "      <td>8</td>\n",
              "      <td>304</td>\n",
              "      <td>150</td>\n",
              "      <td>3433</td>\n",
              "      <td>12</td>\n",
              "      <td>1970</td>\n",
              "      <td>US</td>\n",
              "      <td>3.19</td>\n",
              "      <td>3.40</td>\n",
              "      <td>10</td>\n",
              "    </tr>\n",
              "    <tr>\n",
              "      <th>4</th>\n",
              "      <td>ford torino</td>\n",
              "      <td>17.0</td>\n",
              "      <td>8</td>\n",
              "      <td>302</td>\n",
              "      <td>140</td>\n",
              "      <td>3449</td>\n",
              "      <td>10.5</td>\n",
              "      <td>1970-1972</td>\n",
              "      <td>US]</td>\n",
              "      <td>3.19</td>\n",
              "      <td>3.40</td>\n",
              "      <td>8</td>\n",
              "    </tr>\n",
              "  </tbody>\n",
              "</table>\n",
              "</div>"
            ],
            "text/plain": [
              "                       Model   MPG Cylinders  ...  bore  stroke compression-ratio\n",
              "0  chevrolet chevelle malibu  18.0         8  ...  3.47    2.68                 9\n",
              "1          buick skylark 320  15.0         8  ...  3.47    2.68                 ?\n",
              "2         plymouth satellite  18.0         ?  ...  2.68    3.47                 9\n",
              "3              amc rebel sst  16.0         8  ...  3.19    3.40                10\n",
              "4                ford torino  17.0         8  ...  3.19    3.40                 8\n",
              "\n",
              "[5 rows x 12 columns]"
            ]
          },
          "metadata": {
            "tags": []
          },
          "execution_count": 5
        }
      ]
    },
    {
      "cell_type": "code",
      "metadata": {
        "colab": {
          "base_uri": "https://localhost:8080/"
        },
        "id": "UvRNGrhElXS5",
        "outputId": "52bfaf03-38c3-48bf-d653-c2755e218f5f"
      },
      "source": [
        "automobile_df.columns"
      ],
      "execution_count": 6,
      "outputs": [
        {
          "output_type": "execute_result",
          "data": {
            "text/plain": [
              "Index(['Model', 'MPG', 'Cylinders', 'Displacement', 'Horsepower', 'Weight',\n",
              "       'Acceleration', 'Year', 'Origin', 'bore', 'stroke',\n",
              "       'compression-ratio'],\n",
              "      dtype='object')"
            ]
          },
          "metadata": {
            "tags": []
          },
          "execution_count": 6
        }
      ]
    },
    {
      "cell_type": "code",
      "metadata": {
        "colab": {
          "base_uri": "https://localhost:8080/",
          "height": 300
        },
        "id": "m31upmSBlfct",
        "outputId": "e1220d5d-d846-4c8f-d687-76309c335e0d"
      },
      "source": [
        "automobile_df.describe()"
      ],
      "execution_count": 7,
      "outputs": [
        {
          "output_type": "execute_result",
          "data": {
            "text/html": [
              "<div>\n",
              "<style scoped>\n",
              "    .dataframe tbody tr th:only-of-type {\n",
              "        vertical-align: middle;\n",
              "    }\n",
              "\n",
              "    .dataframe tbody tr th {\n",
              "        vertical-align: top;\n",
              "    }\n",
              "\n",
              "    .dataframe thead th {\n",
              "        text-align: right;\n",
              "    }\n",
              "</style>\n",
              "<table border=\"1\" class=\"dataframe\">\n",
              "  <thead>\n",
              "    <tr style=\"text-align: right;\">\n",
              "      <th></th>\n",
              "      <th>MPG</th>\n",
              "      <th>Horsepower</th>\n",
              "      <th>bore</th>\n",
              "      <th>stroke</th>\n",
              "    </tr>\n",
              "  </thead>\n",
              "  <tbody>\n",
              "    <tr>\n",
              "      <th>count</th>\n",
              "      <td>385.000000</td>\n",
              "      <td>394.000000</td>\n",
              "      <td>394.000000</td>\n",
              "      <td>394.000000</td>\n",
              "    </tr>\n",
              "    <tr>\n",
              "      <th>mean</th>\n",
              "      <td>23.551429</td>\n",
              "      <td>104.337563</td>\n",
              "      <td>3.305025</td>\n",
              "      <td>3.289289</td>\n",
              "    </tr>\n",
              "    <tr>\n",
              "      <th>std</th>\n",
              "      <td>7.821598</td>\n",
              "      <td>38.449600</td>\n",
              "      <td>0.270336</td>\n",
              "      <td>0.271165</td>\n",
              "    </tr>\n",
              "    <tr>\n",
              "      <th>min</th>\n",
              "      <td>9.000000</td>\n",
              "      <td>46.000000</td>\n",
              "      <td>2.540000</td>\n",
              "      <td>2.070000</td>\n",
              "    </tr>\n",
              "    <tr>\n",
              "      <th>25%</th>\n",
              "      <td>17.500000</td>\n",
              "      <td>75.000000</td>\n",
              "      <td>3.080000</td>\n",
              "      <td>3.150000</td>\n",
              "    </tr>\n",
              "    <tr>\n",
              "      <th>50%</th>\n",
              "      <td>23.000000</td>\n",
              "      <td>92.500000</td>\n",
              "      <td>3.270000</td>\n",
              "      <td>3.350000</td>\n",
              "    </tr>\n",
              "    <tr>\n",
              "      <th>75%</th>\n",
              "      <td>29.000000</td>\n",
              "      <td>125.000000</td>\n",
              "      <td>3.580000</td>\n",
              "      <td>3.400000</td>\n",
              "    </tr>\n",
              "    <tr>\n",
              "      <th>max</th>\n",
              "      <td>46.600000</td>\n",
              "      <td>230.000000</td>\n",
              "      <td>3.940000</td>\n",
              "      <td>4.170000</td>\n",
              "    </tr>\n",
              "  </tbody>\n",
              "</table>\n",
              "</div>"
            ],
            "text/plain": [
              "              MPG  Horsepower        bore      stroke\n",
              "count  385.000000  394.000000  394.000000  394.000000\n",
              "mean    23.551429  104.337563    3.305025    3.289289\n",
              "std      7.821598   38.449600    0.270336    0.271165\n",
              "min      9.000000   46.000000    2.540000    2.070000\n",
              "25%     17.500000   75.000000    3.080000    3.150000\n",
              "50%     23.000000   92.500000    3.270000    3.350000\n",
              "75%     29.000000  125.000000    3.580000    3.400000\n",
              "max     46.600000  230.000000    3.940000    4.170000"
            ]
          },
          "metadata": {
            "tags": []
          },
          "execution_count": 7
        }
      ]
    },
    {
      "cell_type": "code",
      "metadata": {
        "colab": {
          "base_uri": "https://localhost:8080/"
        },
        "id": "QvemhX2llimq",
        "outputId": "2beb2c4d-a55b-448e-94b6-27be5db93c59"
      },
      "source": [
        "  automobile_df.shape"
      ],
      "execution_count": 8,
      "outputs": [
        {
          "output_type": "execute_result",
          "data": {
            "text/plain": [
              "(394, 12)"
            ]
          },
          "metadata": {
            "tags": []
          },
          "execution_count": 8
        }
      ]
    },
    {
      "cell_type": "code",
      "metadata": {
        "colab": {
          "base_uri": "https://localhost:8080/",
          "height": 241
        },
        "id": "PId6dXi9lv4A",
        "outputId": "34142d40-1067-45af-b931-49ee14332292"
      },
      "source": [
        "automobile_df = automobile_df.replace('?', np.nan)\n",
        "\n",
        "automobile_df.head()"
      ],
      "execution_count": 9,
      "outputs": [
        {
          "output_type": "execute_result",
          "data": {
            "text/html": [
              "<div>\n",
              "<style scoped>\n",
              "    .dataframe tbody tr th:only-of-type {\n",
              "        vertical-align: middle;\n",
              "    }\n",
              "\n",
              "    .dataframe tbody tr th {\n",
              "        vertical-align: top;\n",
              "    }\n",
              "\n",
              "    .dataframe thead th {\n",
              "        text-align: right;\n",
              "    }\n",
              "</style>\n",
              "<table border=\"1\" class=\"dataframe\">\n",
              "  <thead>\n",
              "    <tr style=\"text-align: right;\">\n",
              "      <th></th>\n",
              "      <th>Model</th>\n",
              "      <th>MPG</th>\n",
              "      <th>Cylinders</th>\n",
              "      <th>Displacement</th>\n",
              "      <th>Horsepower</th>\n",
              "      <th>Weight</th>\n",
              "      <th>Acceleration</th>\n",
              "      <th>Year</th>\n",
              "      <th>Origin</th>\n",
              "      <th>bore</th>\n",
              "      <th>stroke</th>\n",
              "      <th>compression-ratio</th>\n",
              "    </tr>\n",
              "  </thead>\n",
              "  <tbody>\n",
              "    <tr>\n",
              "      <th>0</th>\n",
              "      <td>chevrolet chevelle malibu</td>\n",
              "      <td>18.0</td>\n",
              "      <td>8</td>\n",
              "      <td>307</td>\n",
              "      <td>130</td>\n",
              "      <td>3504</td>\n",
              "      <td>12</td>\n",
              "      <td>1970[1975]</td>\n",
              "      <td>US; Detroit, Michigan</td>\n",
              "      <td>3.47</td>\n",
              "      <td>2.68</td>\n",
              "      <td>9</td>\n",
              "    </tr>\n",
              "    <tr>\n",
              "      <th>1</th>\n",
              "      <td>buick skylark 320</td>\n",
              "      <td>15.0</td>\n",
              "      <td>8</td>\n",
              "      <td>350</td>\n",
              "      <td>165</td>\n",
              "      <td>3693</td>\n",
              "      <td>11.5</td>\n",
              "      <td>1970</td>\n",
              "      <td>US]</td>\n",
              "      <td>3.47</td>\n",
              "      <td>2.68</td>\n",
              "      <td>NaN</td>\n",
              "    </tr>\n",
              "    <tr>\n",
              "      <th>2</th>\n",
              "      <td>plymouth satellite</td>\n",
              "      <td>18.0</td>\n",
              "      <td>NaN</td>\n",
              "      <td>318</td>\n",
              "      <td>150</td>\n",
              "      <td>3436</td>\n",
              "      <td>11</td>\n",
              "      <td>1970, 1976</td>\n",
              "      <td>US</td>\n",
              "      <td>2.68</td>\n",
              "      <td>3.47</td>\n",
              "      <td>9</td>\n",
              "    </tr>\n",
              "    <tr>\n",
              "      <th>3</th>\n",
              "      <td>amc rebel sst</td>\n",
              "      <td>16.0</td>\n",
              "      <td>8</td>\n",
              "      <td>304</td>\n",
              "      <td>150</td>\n",
              "      <td>3433</td>\n",
              "      <td>12</td>\n",
              "      <td>1970</td>\n",
              "      <td>US</td>\n",
              "      <td>3.19</td>\n",
              "      <td>3.40</td>\n",
              "      <td>10</td>\n",
              "    </tr>\n",
              "    <tr>\n",
              "      <th>4</th>\n",
              "      <td>ford torino</td>\n",
              "      <td>17.0</td>\n",
              "      <td>8</td>\n",
              "      <td>302</td>\n",
              "      <td>140</td>\n",
              "      <td>3449</td>\n",
              "      <td>10.5</td>\n",
              "      <td>1970-1972</td>\n",
              "      <td>US]</td>\n",
              "      <td>3.19</td>\n",
              "      <td>3.40</td>\n",
              "      <td>8</td>\n",
              "    </tr>\n",
              "  </tbody>\n",
              "</table>\n",
              "</div>"
            ],
            "text/plain": [
              "                       Model   MPG Cylinders  ...  bore  stroke compression-ratio\n",
              "0  chevrolet chevelle malibu  18.0         8  ...  3.47    2.68                 9\n",
              "1          buick skylark 320  15.0         8  ...  3.47    2.68               NaN\n",
              "2         plymouth satellite  18.0       NaN  ...  2.68    3.47                 9\n",
              "3              amc rebel sst  16.0         8  ...  3.19    3.40                10\n",
              "4                ford torino  17.0         8  ...  3.19    3.40                 8\n",
              "\n",
              "[5 rows x 12 columns]"
            ]
          },
          "metadata": {
            "tags": []
          },
          "execution_count": 9
        }
      ]
    },
    {
      "cell_type": "code",
      "metadata": {
        "colab": {
          "base_uri": "https://localhost:8080/"
        },
        "id": "wzUltOZkl8jf",
        "outputId": "e094f435-5963-4d34-d36a-557121008ceb"
      },
      "source": [
        "automobile_df.isna().sum()"
      ],
      "execution_count": 10,
      "outputs": [
        {
          "output_type": "execute_result",
          "data": {
            "text/plain": [
              "Model                0\n",
              "MPG                  9\n",
              "Cylinders            2\n",
              "Displacement         1\n",
              "Horsepower           0\n",
              "Weight               1\n",
              "Acceleration         1\n",
              "Year                 0\n",
              "Origin               0\n",
              "bore                 0\n",
              "stroke               0\n",
              "compression-ratio    2\n",
              "dtype: int64"
            ]
          },
          "metadata": {
            "tags": []
          },
          "execution_count": 10
        }
      ]
    },
    {
      "cell_type": "code",
      "metadata": {
        "colab": {
          "base_uri": "https://localhost:8080/"
        },
        "id": "3L0U_T6UmEh0",
        "outputId": "03b200cf-2f32-4846-8792-29c7dd6ad687"
      },
      "source": [
        "automobile_df['MPG'] = automobile_df['MPG'].fillna(automobile_df['MPG'].mean())\n",
        "\n",
        "automobile_df.isna().sum()"
      ],
      "execution_count": 11,
      "outputs": [
        {
          "output_type": "execute_result",
          "data": {
            "text/plain": [
              "Model                0\n",
              "MPG                  0\n",
              "Cylinders            2\n",
              "Displacement         1\n",
              "Horsepower           0\n",
              "Weight               1\n",
              "Acceleration         1\n",
              "Year                 0\n",
              "Origin               0\n",
              "bore                 0\n",
              "stroke               0\n",
              "compression-ratio    2\n",
              "dtype: int64"
            ]
          },
          "metadata": {
            "tags": []
          },
          "execution_count": 11
        }
      ]
    },
    {
      "cell_type": "code",
      "metadata": {
        "id": "DzAaqP-FmlNm"
      },
      "source": [
        "automobile_df = automobile_df.dropna()"
      ],
      "execution_count": 12,
      "outputs": []
    },
    {
      "cell_type": "code",
      "metadata": {
        "colab": {
          "base_uri": "https://localhost:8080/"
        },
        "id": "0wN51SlMm7Sv",
        "outputId": "54b9cddf-5223-41d8-c164-03a334d6d210"
      },
      "source": [
        " automobile_df.shape"
      ],
      "execution_count": 13,
      "outputs": [
        {
          "output_type": "execute_result",
          "data": {
            "text/plain": [
              "(387, 12)"
            ]
          },
          "metadata": {
            "tags": []
          },
          "execution_count": 13
        }
      ]
    },
    {
      "cell_type": "code",
      "metadata": {
        "colab": {
          "base_uri": "https://localhost:8080/"
        },
        "id": "geGZE0K8m9NY",
        "outputId": "fabc7595-d5fb-4cd0-81ca-08079b181ead"
      },
      "source": [
        "automobile_df.isna().sum()"
      ],
      "execution_count": 14,
      "outputs": [
        {
          "output_type": "execute_result",
          "data": {
            "text/plain": [
              "Model                0\n",
              "MPG                  0\n",
              "Cylinders            0\n",
              "Displacement         0\n",
              "Horsepower           0\n",
              "Weight               0\n",
              "Acceleration         0\n",
              "Year                 0\n",
              "Origin               0\n",
              "bore                 0\n",
              "stroke               0\n",
              "compression-ratio    0\n",
              "dtype: int64"
            ]
          },
          "metadata": {
            "tags": []
          },
          "execution_count": 14
        }
      ]
    },
    {
      "cell_type": "code",
      "metadata": {
        "colab": {
          "base_uri": "https://localhost:8080/"
        },
        "id": "LjDXjzZJm_os",
        "outputId": "4fbd18cc-1a16-4046-d5c5-66d06a5fd57b"
      },
      "source": [
        "automobile_df.isnull().sum()"
      ],
      "execution_count": 15,
      "outputs": [
        {
          "output_type": "execute_result",
          "data": {
            "text/plain": [
              "Model                0\n",
              "MPG                  0\n",
              "Cylinders            0\n",
              "Displacement         0\n",
              "Horsepower           0\n",
              "Weight               0\n",
              "Acceleration         0\n",
              "Year                 0\n",
              "Origin               0\n",
              "bore                 0\n",
              "stroke               0\n",
              "compression-ratio    0\n",
              "dtype: int64"
            ]
          },
          "metadata": {
            "tags": []
          },
          "execution_count": 15
        }
      ]
    },
    {
      "cell_type": "code",
      "metadata": {
        "colab": {
          "base_uri": "https://localhost:8080/",
          "height": 206
        },
        "id": "edgd6LucnGxB",
        "outputId": "7ed38b90-a147-4e18-c25b-d87c166693ec"
      },
      "source": [
        "automobile_df.sample(5)"
      ],
      "execution_count": 16,
      "outputs": [
        {
          "output_type": "execute_result",
          "data": {
            "text/html": [
              "<div>\n",
              "<style scoped>\n",
              "    .dataframe tbody tr th:only-of-type {\n",
              "        vertical-align: middle;\n",
              "    }\n",
              "\n",
              "    .dataframe tbody tr th {\n",
              "        vertical-align: top;\n",
              "    }\n",
              "\n",
              "    .dataframe thead th {\n",
              "        text-align: right;\n",
              "    }\n",
              "</style>\n",
              "<table border=\"1\" class=\"dataframe\">\n",
              "  <thead>\n",
              "    <tr style=\"text-align: right;\">\n",
              "      <th></th>\n",
              "      <th>Model</th>\n",
              "      <th>MPG</th>\n",
              "      <th>Cylinders</th>\n",
              "      <th>Displacement</th>\n",
              "      <th>Horsepower</th>\n",
              "      <th>Weight</th>\n",
              "      <th>Acceleration</th>\n",
              "      <th>Year</th>\n",
              "      <th>Origin</th>\n",
              "      <th>bore</th>\n",
              "      <th>stroke</th>\n",
              "      <th>compression-ratio</th>\n",
              "    </tr>\n",
              "  </thead>\n",
              "  <tbody>\n",
              "    <tr>\n",
              "      <th>85</th>\n",
              "      <td>amc matador</td>\n",
              "      <td>14.0</td>\n",
              "      <td>8</td>\n",
              "      <td>304</td>\n",
              "      <td>150</td>\n",
              "      <td>3672</td>\n",
              "      <td>11.5</td>\n",
              "      <td>1973</td>\n",
              "      <td>US</td>\n",
              "      <td>3.35</td>\n",
              "      <td>3.46</td>\n",
              "      <td>8.5</td>\n",
              "    </tr>\n",
              "    <tr>\n",
              "      <th>21</th>\n",
              "      <td>audi 100 ls</td>\n",
              "      <td>24.0</td>\n",
              "      <td>4</td>\n",
              "      <td>107</td>\n",
              "      <td>90</td>\n",
              "      <td>2430</td>\n",
              "      <td>14.5</td>\n",
              "      <td>1970</td>\n",
              "      <td>Europe</td>\n",
              "      <td>2.97</td>\n",
              "      <td>3.23</td>\n",
              "      <td>9.41</td>\n",
              "    </tr>\n",
              "    <tr>\n",
              "      <th>235</th>\n",
              "      <td>chevrolet chevette</td>\n",
              "      <td>30.5</td>\n",
              "      <td>4</td>\n",
              "      <td>98</td>\n",
              "      <td>63</td>\n",
              "      <td>2051</td>\n",
              "      <td>17</td>\n",
              "      <td>1977</td>\n",
              "      <td>US</td>\n",
              "      <td>3.27</td>\n",
              "      <td>3.35</td>\n",
              "      <td>9.2</td>\n",
              "    </tr>\n",
              "    <tr>\n",
              "      <th>381</th>\n",
              "      <td>datsun 310 gx</td>\n",
              "      <td>38.0</td>\n",
              "      <td>4</td>\n",
              "      <td>91</td>\n",
              "      <td>67</td>\n",
              "      <td>1995</td>\n",
              "      <td>16.2</td>\n",
              "      <td>1982</td>\n",
              "      <td>Japan</td>\n",
              "      <td>3.35</td>\n",
              "      <td>3.46</td>\n",
              "      <td>8.5</td>\n",
              "    </tr>\n",
              "    <tr>\n",
              "      <th>42</th>\n",
              "      <td>ford country squire (sw)</td>\n",
              "      <td>13.0</td>\n",
              "      <td>-</td>\n",
              "      <td>400</td>\n",
              "      <td>170</td>\n",
              "      <td>4746</td>\n",
              "      <td>12</td>\n",
              "      <td>1971</td>\n",
              "      <td>US</td>\n",
              "      <td>3.15</td>\n",
              "      <td>3.58</td>\n",
              "      <td>9.1</td>\n",
              "    </tr>\n",
              "  </tbody>\n",
              "</table>\n",
              "</div>"
            ],
            "text/plain": [
              "                        Model   MPG Cylinders  ...  bore  stroke compression-ratio\n",
              "85                amc matador  14.0         8  ...  3.35    3.46               8.5\n",
              "21                audi 100 ls  24.0         4  ...  2.97    3.23              9.41\n",
              "235        chevrolet chevette  30.5         4  ...  3.27    3.35               9.2\n",
              "381             datsun 310 gx  38.0         4  ...  3.35    3.46               8.5\n",
              "42   ford country squire (sw)  13.0         -  ...  3.15    3.58               9.1\n",
              "\n",
              "[5 rows x 12 columns]"
            ]
          },
          "metadata": {
            "tags": []
          },
          "execution_count": 16
        }
      ]
    },
    {
      "cell_type": "code",
      "metadata": {
        "id": "I_FsuJVfnLY2"
      },
      "source": [
        "automobile_df.drop(['Model'], axis=1, inplace=True)"
      ],
      "execution_count": 17,
      "outputs": []
    },
    {
      "cell_type": "code",
      "metadata": {
        "colab": {
          "base_uri": "https://localhost:8080/",
          "height": 206
        },
        "id": "-x0BWt09nWpK",
        "outputId": "f97de985-38e4-49e5-fe08-91949c659686"
      },
      "source": [
        "automobile_df.sample(5)"
      ],
      "execution_count": 18,
      "outputs": [
        {
          "output_type": "execute_result",
          "data": {
            "text/html": [
              "<div>\n",
              "<style scoped>\n",
              "    .dataframe tbody tr th:only-of-type {\n",
              "        vertical-align: middle;\n",
              "    }\n",
              "\n",
              "    .dataframe tbody tr th {\n",
              "        vertical-align: top;\n",
              "    }\n",
              "\n",
              "    .dataframe thead th {\n",
              "        text-align: right;\n",
              "    }\n",
              "</style>\n",
              "<table border=\"1\" class=\"dataframe\">\n",
              "  <thead>\n",
              "    <tr style=\"text-align: right;\">\n",
              "      <th></th>\n",
              "      <th>MPG</th>\n",
              "      <th>Cylinders</th>\n",
              "      <th>Displacement</th>\n",
              "      <th>Horsepower</th>\n",
              "      <th>Weight</th>\n",
              "      <th>Acceleration</th>\n",
              "      <th>Year</th>\n",
              "      <th>Origin</th>\n",
              "      <th>bore</th>\n",
              "      <th>stroke</th>\n",
              "      <th>compression-ratio</th>\n",
              "    </tr>\n",
              "  </thead>\n",
              "  <tbody>\n",
              "    <tr>\n",
              "      <th>122</th>\n",
              "      <td>20.0</td>\n",
              "      <td>6</td>\n",
              "      <td>156</td>\n",
              "      <td>122</td>\n",
              "      <td>2807</td>\n",
              "      <td>13.5</td>\n",
              "      <td>1973</td>\n",
              "      <td>Japan</td>\n",
              "      <td>2.97</td>\n",
              "      <td>3.23</td>\n",
              "      <td>9.4</td>\n",
              "    </tr>\n",
              "    <tr>\n",
              "      <th>322</th>\n",
              "      <td>40.8</td>\n",
              "      <td>4</td>\n",
              "      <td>85</td>\n",
              "      <td>65</td>\n",
              "      <td>2110</td>\n",
              "      <td>19.2</td>\n",
              "      <td>1980</td>\n",
              "      <td>Japan</td>\n",
              "      <td>3.03</td>\n",
              "      <td>3.39</td>\n",
              "      <td>7.6</td>\n",
              "    </tr>\n",
              "    <tr>\n",
              "      <th>195</th>\n",
              "      <td>29.0</td>\n",
              "      <td>4</td>\n",
              "      <td>90</td>\n",
              "      <td>70</td>\n",
              "      <td>1937</td>\n",
              "      <td>14.2</td>\n",
              "      <td>1976</td>\n",
              "      <td>Europe</td>\n",
              "      <td>3.78</td>\n",
              "      <td>3.15</td>\n",
              "      <td>9.5</td>\n",
              "    </tr>\n",
              "    <tr>\n",
              "      <th>133</th>\n",
              "      <td>18.0</td>\n",
              "      <td>6</td>\n",
              "      <td>225</td>\n",
              "      <td>105</td>\n",
              "      <td>3613</td>\n",
              "      <td>16.5</td>\n",
              "      <td>1974</td>\n",
              "      <td>US</td>\n",
              "      <td>3.54</td>\n",
              "      <td>3.07</td>\n",
              "      <td>9.3</td>\n",
              "    </tr>\n",
              "    <tr>\n",
              "      <th>377</th>\n",
              "      <td>36.0</td>\n",
              "      <td>4</td>\n",
              "      <td>107</td>\n",
              "      <td>75</td>\n",
              "      <td>2205</td>\n",
              "      <td>14.5</td>\n",
              "      <td>1982</td>\n",
              "      <td>Japan</td>\n",
              "      <td>3.58</td>\n",
              "      <td>3.86</td>\n",
              "      <td>7</td>\n",
              "    </tr>\n",
              "  </tbody>\n",
              "</table>\n",
              "</div>"
            ],
            "text/plain": [
              "      MPG Cylinders Displacement  ...  bore stroke compression-ratio\n",
              "122  20.0         6          156  ...  2.97   3.23               9.4\n",
              "322  40.8         4           85  ...  3.03   3.39               7.6\n",
              "195  29.0         4           90  ...  3.78   3.15               9.5\n",
              "133  18.0         6          225  ...  3.54   3.07               9.3\n",
              "377  36.0         4          107  ...  3.58   3.86                 7\n",
              "\n",
              "[5 rows x 11 columns]"
            ]
          },
          "metadata": {
            "tags": []
          },
          "execution_count": 18
        }
      ]
    },
    {
      "cell_type": "code",
      "metadata": {
        "colab": {
          "base_uri": "https://localhost:8080/",
          "height": 206
        },
        "id": "HJFCQFz_nYRF",
        "outputId": "c0157b12-d825-4956-c58d-1767d7ae8ed2"
      },
      "source": [
        "automobile_df.drop(['bore', 'stroke', 'compression-ratio'], axis=1, inplace=True)\n",
        "\n",
        "automobile_df.head()"
      ],
      "execution_count": 19,
      "outputs": [
        {
          "output_type": "execute_result",
          "data": {
            "text/html": [
              "<div>\n",
              "<style scoped>\n",
              "    .dataframe tbody tr th:only-of-type {\n",
              "        vertical-align: middle;\n",
              "    }\n",
              "\n",
              "    .dataframe tbody tr th {\n",
              "        vertical-align: top;\n",
              "    }\n",
              "\n",
              "    .dataframe thead th {\n",
              "        text-align: right;\n",
              "    }\n",
              "</style>\n",
              "<table border=\"1\" class=\"dataframe\">\n",
              "  <thead>\n",
              "    <tr style=\"text-align: right;\">\n",
              "      <th></th>\n",
              "      <th>MPG</th>\n",
              "      <th>Cylinders</th>\n",
              "      <th>Displacement</th>\n",
              "      <th>Horsepower</th>\n",
              "      <th>Weight</th>\n",
              "      <th>Acceleration</th>\n",
              "      <th>Year</th>\n",
              "      <th>Origin</th>\n",
              "    </tr>\n",
              "  </thead>\n",
              "  <tbody>\n",
              "    <tr>\n",
              "      <th>0</th>\n",
              "      <td>18.000000</td>\n",
              "      <td>8</td>\n",
              "      <td>307</td>\n",
              "      <td>130</td>\n",
              "      <td>3504</td>\n",
              "      <td>12</td>\n",
              "      <td>1970[1975]</td>\n",
              "      <td>US; Detroit, Michigan</td>\n",
              "    </tr>\n",
              "    <tr>\n",
              "      <th>3</th>\n",
              "      <td>16.000000</td>\n",
              "      <td>8</td>\n",
              "      <td>304</td>\n",
              "      <td>150</td>\n",
              "      <td>3433</td>\n",
              "      <td>12</td>\n",
              "      <td>1970</td>\n",
              "      <td>US</td>\n",
              "    </tr>\n",
              "    <tr>\n",
              "      <th>4</th>\n",
              "      <td>17.000000</td>\n",
              "      <td>8</td>\n",
              "      <td>302</td>\n",
              "      <td>140</td>\n",
              "      <td>3449</td>\n",
              "      <td>10.5</td>\n",
              "      <td>1970-1972</td>\n",
              "      <td>US]</td>\n",
              "    </tr>\n",
              "    <tr>\n",
              "      <th>6</th>\n",
              "      <td>14.000000</td>\n",
              "      <td>8</td>\n",
              "      <td>454</td>\n",
              "      <td>220</td>\n",
              "      <td>4354</td>\n",
              "      <td>9</td>\n",
              "      <td>1970[1975]</td>\n",
              "      <td>US; Detroit, Michigan</td>\n",
              "    </tr>\n",
              "    <tr>\n",
              "      <th>7</th>\n",
              "      <td>23.551429</td>\n",
              "      <td>8</td>\n",
              "      <td>440</td>\n",
              "      <td>215</td>\n",
              "      <td>4312</td>\n",
              "      <td>8.5</td>\n",
              "      <td>1970</td>\n",
              "      <td>US</td>\n",
              "    </tr>\n",
              "  </tbody>\n",
              "</table>\n",
              "</div>"
            ],
            "text/plain": [
              "         MPG Cylinders  ...        Year                 Origin\n",
              "0  18.000000         8  ...  1970[1975]  US; Detroit, Michigan\n",
              "3  16.000000         8  ...        1970                     US\n",
              "4  17.000000         8  ...   1970-1972                    US]\n",
              "6  14.000000         8  ...  1970[1975]  US; Detroit, Michigan\n",
              "7  23.551429         8  ...        1970                     US\n",
              "\n",
              "[5 rows x 8 columns]"
            ]
          },
          "metadata": {
            "tags": []
          },
          "execution_count": 19
        }
      ]
    },
    {
      "cell_type": "markdown",
      "metadata": {
        "id": "0sxps-7Fnq-e"
      },
      "source": [
        "##Cleaning Data"
      ]
    },
    {
      "cell_type": "code",
      "metadata": {
        "colab": {
          "base_uri": "https://localhost:8080/"
        },
        "id": "LYrYwJrUnt0F",
        "outputId": "e6b13767-d964-484d-a2f6-28e034182dbb"
      },
      "source": [
        "automobile_df['Year'].str.isnumeric().value_counts()"
      ],
      "execution_count": 20,
      "outputs": [
        {
          "output_type": "execute_result",
          "data": {
            "text/plain": [
              "True     351\n",
              "False     36\n",
              "Name: Year, dtype: int64"
            ]
          },
          "metadata": {
            "tags": []
          },
          "execution_count": 20
        }
      ]
    },
    {
      "cell_type": "code",
      "metadata": {
        "colab": {
          "base_uri": "https://localhost:8080/"
        },
        "id": "g1noyxj8pjcM",
        "outputId": "c36516d6-cce8-4912-f948-ef98e76ee4b1"
      },
      "source": [
        "automobile_df['Year'].loc[automobile_df['Year'].str.isnumeric() == False]"
      ],
      "execution_count": 21,
      "outputs": [
        {
          "output_type": "execute_result",
          "data": {
            "text/plain": [
              "0          1970[1975]\n",
              "4           1970-1972\n",
              "6          1970[1975]\n",
              "30      1971[1973]971\n",
              "35         1971[1973]\n",
              "40         1971[1973]\n",
              "44         1971[1973]\n",
              "49         1971[1973]\n",
              "56         1972[1973]\n",
              "61         1972[1973]\n",
              "65         1972[1973]\n",
              "68         1972[1973]\n",
              "73         1972[1973]\n",
              "75            1972-73\n",
              "79            1972-73\n",
              "82            1972-73\n",
              "96          1973-1974\n",
              "97         1973, 1974\n",
              "102    1973, 19741973\n",
              "105        1973, 1974\n",
              "108        1973, 1974\n",
              "112        1973, 1974\n",
              "115        1973, 1974\n",
              "126        1974, 1975\n",
              "131        1974, 1975\n",
              "134        1974, 1975\n",
              "137        1974, 1975\n",
              "139    1974, 19751974\n",
              "142        1974, 1975\n",
              "365         1982-1985\n",
              "374         1982-1985\n",
              "380         1982-1985\n",
              "383         1982-1985\n",
              "387         1982-1985\n",
              "389         1982-1985\n",
              "391         1982-1985\n",
              "Name: Year, dtype: object"
            ]
          },
          "metadata": {
            "tags": []
          },
          "execution_count": 21
        }
      ]
    },
    {
      "cell_type": "code",
      "metadata": {
        "colab": {
          "base_uri": "https://localhost:8080/"
        },
        "id": "R2ZKB-HIp1_d",
        "outputId": "3d465a9e-c61e-406e-a48d-9693a8a0ca27"
      },
      "source": [
        "extr = automobile_df['Year'].str.extract(r'^(\\d{4})', expand=False)\n",
        "\n",
        "extr.head()"
      ],
      "execution_count": 22,
      "outputs": [
        {
          "output_type": "execute_result",
          "data": {
            "text/plain": [
              "0    1970\n",
              "3    1970\n",
              "4    1970\n",
              "6    1970\n",
              "7    1970\n",
              "Name: Year, dtype: object"
            ]
          },
          "metadata": {
            "tags": []
          },
          "execution_count": 22
        }
      ]
    },
    {
      "cell_type": "code",
      "metadata": {
        "colab": {
          "base_uri": "https://localhost:8080/"
        },
        "id": "GNmbicY3qOed",
        "outputId": "618a9335-aa9f-41a6-d863-09e7db68b03c"
      },
      "source": [
        "automobile_df['Year'].isnull().values.any()"
      ],
      "execution_count": 23,
      "outputs": [
        {
          "output_type": "execute_result",
          "data": {
            "text/plain": [
              "False"
            ]
          },
          "metadata": {
            "tags": []
          },
          "execution_count": 23
        }
      ]
    },
    {
      "cell_type": "code",
      "metadata": {
        "colab": {
          "base_uri": "https://localhost:8080/"
        },
        "id": "dANbln8rqaj5",
        "outputId": "2cab8040-6ad7-4d21-ce19-83ab266623b4"
      },
      "source": [
        "automobile_df['Year'] = pd.to_numeric(extr)\n",
        "automobile_df['Year'].dtype"
      ],
      "execution_count": 24,
      "outputs": [
        {
          "output_type": "execute_result",
          "data": {
            "text/plain": [
              "dtype('int64')"
            ]
          },
          "metadata": {
            "tags": []
          },
          "execution_count": 24
        }
      ]
    },
    {
      "cell_type": "code",
      "metadata": {
        "colab": {
          "base_uri": "https://localhost:8080/",
          "height": 206
        },
        "id": "2LYNy6NVqmmb",
        "outputId": "334ac354-6c9f-4a0c-ba61-0cf92ef17e1c"
      },
      "source": [
        "automobile_df.head()"
      ],
      "execution_count": 25,
      "outputs": [
        {
          "output_type": "execute_result",
          "data": {
            "text/html": [
              "<div>\n",
              "<style scoped>\n",
              "    .dataframe tbody tr th:only-of-type {\n",
              "        vertical-align: middle;\n",
              "    }\n",
              "\n",
              "    .dataframe tbody tr th {\n",
              "        vertical-align: top;\n",
              "    }\n",
              "\n",
              "    .dataframe thead th {\n",
              "        text-align: right;\n",
              "    }\n",
              "</style>\n",
              "<table border=\"1\" class=\"dataframe\">\n",
              "  <thead>\n",
              "    <tr style=\"text-align: right;\">\n",
              "      <th></th>\n",
              "      <th>MPG</th>\n",
              "      <th>Cylinders</th>\n",
              "      <th>Displacement</th>\n",
              "      <th>Horsepower</th>\n",
              "      <th>Weight</th>\n",
              "      <th>Acceleration</th>\n",
              "      <th>Year</th>\n",
              "      <th>Origin</th>\n",
              "    </tr>\n",
              "  </thead>\n",
              "  <tbody>\n",
              "    <tr>\n",
              "      <th>0</th>\n",
              "      <td>18.000000</td>\n",
              "      <td>8</td>\n",
              "      <td>307</td>\n",
              "      <td>130</td>\n",
              "      <td>3504</td>\n",
              "      <td>12</td>\n",
              "      <td>1970</td>\n",
              "      <td>US; Detroit, Michigan</td>\n",
              "    </tr>\n",
              "    <tr>\n",
              "      <th>3</th>\n",
              "      <td>16.000000</td>\n",
              "      <td>8</td>\n",
              "      <td>304</td>\n",
              "      <td>150</td>\n",
              "      <td>3433</td>\n",
              "      <td>12</td>\n",
              "      <td>1970</td>\n",
              "      <td>US</td>\n",
              "    </tr>\n",
              "    <tr>\n",
              "      <th>4</th>\n",
              "      <td>17.000000</td>\n",
              "      <td>8</td>\n",
              "      <td>302</td>\n",
              "      <td>140</td>\n",
              "      <td>3449</td>\n",
              "      <td>10.5</td>\n",
              "      <td>1970</td>\n",
              "      <td>US]</td>\n",
              "    </tr>\n",
              "    <tr>\n",
              "      <th>6</th>\n",
              "      <td>14.000000</td>\n",
              "      <td>8</td>\n",
              "      <td>454</td>\n",
              "      <td>220</td>\n",
              "      <td>4354</td>\n",
              "      <td>9</td>\n",
              "      <td>1970</td>\n",
              "      <td>US; Detroit, Michigan</td>\n",
              "    </tr>\n",
              "    <tr>\n",
              "      <th>7</th>\n",
              "      <td>23.551429</td>\n",
              "      <td>8</td>\n",
              "      <td>440</td>\n",
              "      <td>215</td>\n",
              "      <td>4312</td>\n",
              "      <td>8.5</td>\n",
              "      <td>1970</td>\n",
              "      <td>US</td>\n",
              "    </tr>\n",
              "  </tbody>\n",
              "</table>\n",
              "</div>"
            ],
            "text/plain": [
              "         MPG Cylinders Displacement  ...  Acceleration  Year                 Origin\n",
              "0  18.000000         8          307  ...            12  1970  US; Detroit, Michigan\n",
              "3  16.000000         8          304  ...            12  1970                     US\n",
              "4  17.000000         8          302  ...          10.5  1970                    US]\n",
              "6  14.000000         8          454  ...             9  1970  US; Detroit, Michigan\n",
              "7  23.551429         8          440  ...           8.5  1970                     US\n",
              "\n",
              "[5 rows x 8 columns]"
            ]
          },
          "metadata": {
            "tags": []
          },
          "execution_count": 25
        }
      ]
    },
    {
      "cell_type": "code",
      "metadata": {
        "colab": {
          "base_uri": "https://localhost:8080/",
          "height": 206
        },
        "id": "phvAgw8lqp_e",
        "outputId": "389358e1-0e7d-43ed-8e01-29db5d835a0a"
      },
      "source": [
        "automobile_df['Age'] = datetime.datetime.now().year - automobile_df['Year']\n",
        "\n",
        "automobile_df.drop(['Year'], axis=1, inplace=True)\n",
        "\n",
        "automobile_df.sample(5)"
      ],
      "execution_count": 26,
      "outputs": [
        {
          "output_type": "execute_result",
          "data": {
            "text/html": [
              "<div>\n",
              "<style scoped>\n",
              "    .dataframe tbody tr th:only-of-type {\n",
              "        vertical-align: middle;\n",
              "    }\n",
              "\n",
              "    .dataframe tbody tr th {\n",
              "        vertical-align: top;\n",
              "    }\n",
              "\n",
              "    .dataframe thead th {\n",
              "        text-align: right;\n",
              "    }\n",
              "</style>\n",
              "<table border=\"1\" class=\"dataframe\">\n",
              "  <thead>\n",
              "    <tr style=\"text-align: right;\">\n",
              "      <th></th>\n",
              "      <th>MPG</th>\n",
              "      <th>Cylinders</th>\n",
              "      <th>Displacement</th>\n",
              "      <th>Horsepower</th>\n",
              "      <th>Weight</th>\n",
              "      <th>Acceleration</th>\n",
              "      <th>Origin</th>\n",
              "      <th>Age</th>\n",
              "    </tr>\n",
              "  </thead>\n",
              "  <tbody>\n",
              "    <tr>\n",
              "      <th>77</th>\n",
              "      <td>21.0</td>\n",
              "      <td>4</td>\n",
              "      <td>120</td>\n",
              "      <td>87</td>\n",
              "      <td>2979</td>\n",
              "      <td>19.5</td>\n",
              "      <td>Europe</td>\n",
              "      <td>49</td>\n",
              "    </tr>\n",
              "    <tr>\n",
              "      <th>167</th>\n",
              "      <td>20.0</td>\n",
              "      <td>6</td>\n",
              "      <td>232</td>\n",
              "      <td>100</td>\n",
              "      <td>2914</td>\n",
              "      <td>16</td>\n",
              "      <td>US</td>\n",
              "      <td>46</td>\n",
              "    </tr>\n",
              "    <tr>\n",
              "      <th>46</th>\n",
              "      <td>19.0</td>\n",
              "      <td>6</td>\n",
              "      <td>250</td>\n",
              "      <td>100</td>\n",
              "      <td>3282</td>\n",
              "      <td>15</td>\n",
              "      <td>US</td>\n",
              "      <td>50</td>\n",
              "    </tr>\n",
              "    <tr>\n",
              "      <th>370</th>\n",
              "      <td>23.0</td>\n",
              "      <td>4</td>\n",
              "      <td>151</td>\n",
              "      <td>92</td>\n",
              "      <td>3035</td>\n",
              "      <td>20.5</td>\n",
              "      <td>US</td>\n",
              "      <td>39</td>\n",
              "    </tr>\n",
              "    <tr>\n",
              "      <th>353</th>\n",
              "      <td>32.9</td>\n",
              "      <td>4</td>\n",
              "      <td>119</td>\n",
              "      <td>100</td>\n",
              "      <td>2615</td>\n",
              "      <td>14.8</td>\n",
              "      <td>Japan</td>\n",
              "      <td>40</td>\n",
              "    </tr>\n",
              "  </tbody>\n",
              "</table>\n",
              "</div>"
            ],
            "text/plain": [
              "      MPG Cylinders Displacement  Horsepower Weight Acceleration  Origin  Age\n",
              "77   21.0         4          120          87   2979         19.5  Europe   49\n",
              "167  20.0         6          232         100   2914           16      US   46\n",
              "46   19.0         6          250         100   3282           15      US   50\n",
              "370  23.0         4          151          92   3035         20.5      US   39\n",
              "353  32.9         4          119         100   2615         14.8   Japan   40"
            ]
          },
          "metadata": {
            "tags": []
          },
          "execution_count": 26
        }
      ]
    },
    {
      "cell_type": "code",
      "metadata": {
        "colab": {
          "base_uri": "https://localhost:8080/"
        },
        "id": "lF01n4TvrLMd",
        "outputId": "8cdbebe0-635d-42bb-f5c4-104e63f63eec"
      },
      "source": [
        "automobile_df.dtypes"
      ],
      "execution_count": 27,
      "outputs": [
        {
          "output_type": "execute_result",
          "data": {
            "text/plain": [
              "MPG             float64\n",
              "Cylinders        object\n",
              "Displacement     object\n",
              "Horsepower        int64\n",
              "Weight           object\n",
              "Acceleration     object\n",
              "Origin           object\n",
              "Age               int64\n",
              "dtype: object"
            ]
          },
          "metadata": {
            "tags": []
          },
          "execution_count": 27
        }
      ]
    },
    {
      "cell_type": "code",
      "metadata": {
        "colab": {
          "base_uri": "https://localhost:8080/"
        },
        "id": "TNlbmwLXrUZC",
        "outputId": "79fb41be-488e-4531-b8bb-cd8e5b77549c"
      },
      "source": [
        "automobile_df['Cylinders'].isnull().values.any()"
      ],
      "execution_count": 28,
      "outputs": [
        {
          "output_type": "execute_result",
          "data": {
            "text/plain": [
              "False"
            ]
          },
          "metadata": {
            "tags": []
          },
          "execution_count": 28
        }
      ]
    },
    {
      "cell_type": "code",
      "metadata": {
        "colab": {
          "base_uri": "https://localhost:8080/"
        },
        "id": "3nYjn4z8rg6e",
        "outputId": "51923760-f921-4798-d7ab-cf8e8c3a5621"
      },
      "source": [
        "automobile_df['Cylinders'].str.isnumeric().value_counts()"
      ],
      "execution_count": 29,
      "outputs": [
        {
          "output_type": "execute_result",
          "data": {
            "text/plain": [
              "True     378\n",
              "False      9\n",
              "Name: Cylinders, dtype: int64"
            ]
          },
          "metadata": {
            "tags": []
          },
          "execution_count": 29
        }
      ]
    },
    {
      "cell_type": "code",
      "metadata": {
        "colab": {
          "base_uri": "https://localhost:8080/"
        },
        "id": "z_NWO7rMrn94",
        "outputId": "18f1aef7-44e5-4076-85ad-fd4db887de1b"
      },
      "source": [
        "automobile_df['Cylinders'].loc[automobile_df['Cylinders'].str.isnumeric() == False]"
      ],
      "execution_count": 30,
      "outputs": [
        {
          "output_type": "execute_result",
          "data": {
            "text/plain": [
              "11    -\n",
              "22    -\n",
              "32    -\n",
              "42    -\n",
              "51    -\n",
              "58    -\n",
              "69    -\n",
              "82    -\n",
              "89    -\n",
              "Name: Cylinders, dtype: object"
            ]
          },
          "metadata": {
            "tags": []
          },
          "execution_count": 30
        }
      ]
    },
    {
      "cell_type": "code",
      "metadata": {
        "id": "IDOSpwwVruhH"
      },
      "source": [
        "cylinders = automobile_df['Cylinders'].loc[automobile_df['Cylinders'] != '-']\n",
        "\n",
        "cmean = cylinders.astype(int).mean()"
      ],
      "execution_count": 31,
      "outputs": []
    },
    {
      "cell_type": "code",
      "metadata": {
        "colab": {
          "base_uri": "https://localhost:8080/"
        },
        "id": "tsqQHLmGsE13",
        "outputId": "8b3822df-085f-4b0b-b254-57481ba4e88e"
      },
      "source": [
        "cmean"
      ],
      "execution_count": 32,
      "outputs": [
        {
          "output_type": "execute_result",
          "data": {
            "text/plain": [
              "5.420634920634921"
            ]
          },
          "metadata": {
            "tags": []
          },
          "execution_count": 32
        }
      ]
    },
    {
      "cell_type": "code",
      "metadata": {
        "id": "X_jq7_GQsPjn"
      },
      "source": [
        "automobile_df['Cylinders'] = automobile_df['Cylinders'].replace('-', cmean).astype(int)"
      ],
      "execution_count": 33,
      "outputs": []
    },
    {
      "cell_type": "code",
      "metadata": {
        "colab": {
          "base_uri": "https://localhost:8080/"
        },
        "id": "iWjRs6aGsem3",
        "outputId": "564fb34d-28ff-46a4-9b90-6d2480ce162e"
      },
      "source": [
        "automobile_df.dtypes"
      ],
      "execution_count": 34,
      "outputs": [
        {
          "output_type": "execute_result",
          "data": {
            "text/plain": [
              "MPG             float64\n",
              "Cylinders         int64\n",
              "Displacement     object\n",
              "Horsepower        int64\n",
              "Weight           object\n",
              "Acceleration     object\n",
              "Origin           object\n",
              "Age               int64\n",
              "dtype: object"
            ]
          },
          "metadata": {
            "tags": []
          },
          "execution_count": 34
        }
      ]
    },
    {
      "cell_type": "code",
      "metadata": {
        "colab": {
          "base_uri": "https://localhost:8080/"
        },
        "id": "ps31VTptsgwj",
        "outputId": "4ae417a0-353e-4d05-c2ac-f88760f4fe21"
      },
      "source": [
        "automobile_df['Displacement'] = pd.to_numeric(automobile_df['Displacement'], errors='coerce')\n",
        "automobile_df.dtypes"
      ],
      "execution_count": 35,
      "outputs": [
        {
          "output_type": "execute_result",
          "data": {
            "text/plain": [
              "MPG             float64\n",
              "Cylinders         int64\n",
              "Displacement    float64\n",
              "Horsepower        int64\n",
              "Weight           object\n",
              "Acceleration     object\n",
              "Origin           object\n",
              "Age               int64\n",
              "dtype: object"
            ]
          },
          "metadata": {
            "tags": []
          },
          "execution_count": 35
        }
      ]
    },
    {
      "cell_type": "code",
      "metadata": {
        "colab": {
          "base_uri": "https://localhost:8080/"
        },
        "id": "7FkrQefCsw5A",
        "outputId": "6c1150b7-69a8-44d2-b8ec-0c6b4339efc9"
      },
      "source": [
        "automobile_df['Weight'] = pd.to_numeric(automobile_df['Weight'], errors='coerce')\n",
        "automobile_df.dtypes"
      ],
      "execution_count": 36,
      "outputs": [
        {
          "output_type": "execute_result",
          "data": {
            "text/plain": [
              "MPG             float64\n",
              "Cylinders         int64\n",
              "Displacement    float64\n",
              "Horsepower        int64\n",
              "Weight            int64\n",
              "Acceleration     object\n",
              "Origin           object\n",
              "Age               int64\n",
              "dtype: object"
            ]
          },
          "metadata": {
            "tags": []
          },
          "execution_count": 36
        }
      ]
    },
    {
      "cell_type": "code",
      "metadata": {
        "colab": {
          "base_uri": "https://localhost:8080/"
        },
        "id": "LtxtCpl5s7bN",
        "outputId": "2cf3b172-1add-4f95-c9d7-f5341339f3e7"
      },
      "source": [
        "automobile_df['Acceleration'] = pd.to_numeric(automobile_df['Acceleration'], errors='coerce')\n",
        "automobile_df.dtypes"
      ],
      "execution_count": 37,
      "outputs": [
        {
          "output_type": "execute_result",
          "data": {
            "text/plain": [
              "MPG             float64\n",
              "Cylinders         int64\n",
              "Displacement    float64\n",
              "Horsepower        int64\n",
              "Weight            int64\n",
              "Acceleration    float64\n",
              "Origin           object\n",
              "Age               int64\n",
              "dtype: object"
            ]
          },
          "metadata": {
            "tags": []
          },
          "execution_count": 37
        }
      ]
    },
    {
      "cell_type": "code",
      "metadata": {
        "colab": {
          "base_uri": "https://localhost:8080/"
        },
        "id": "iEXw2ey9tB7L",
        "outputId": "31f4a626-9a3e-4b34-80e2-ecc968540ecc"
      },
      "source": [
        "automobile_df['Origin'].head(15)"
      ],
      "execution_count": 38,
      "outputs": [
        {
          "output_type": "execute_result",
          "data": {
            "text/plain": [
              "0     US; Detroit, Michigan\n",
              "3                        US\n",
              "4                       US]\n",
              "6     US; Detroit, Michigan\n",
              "7                        US\n",
              "8                        US\n",
              "9                       US]\n",
              "10                       US\n",
              "11                       US\n",
              "12    US; Detroit, Michigan\n",
              "13                       US\n",
              "14             Japan; Aichi\n",
              "15                       US\n",
              "16                      US]\n",
              "17                       US\n",
              "Name: Origin, dtype: object"
            ]
          },
          "metadata": {
            "tags": []
          },
          "execution_count": 38
        }
      ]
    },
    {
      "cell_type": "code",
      "metadata": {
        "colab": {
          "base_uri": "https://localhost:8080/"
        },
        "id": "LaNAq_ittPLk",
        "outputId": "acc5f6c9-8ff7-4368-e7a2-f2d7f0e49441"
      },
      "source": [
        "automobile_df['Origin'].unique()"
      ],
      "execution_count": 39,
      "outputs": [
        {
          "output_type": "execute_result",
          "data": {
            "text/plain": [
              "array(['US; Detroit, Michigan', 'US', 'US]', 'Japan; Aichi',\n",
              "       'Europe-Germany', 'Europe', 'Japan; Tokyo', 'Japan; Aichi]',\n",
              "       'US; Detroit, Michigan]', 'Japan; Tokyo]', 'Japan',\n",
              "       'Europe Germany'], dtype=object)"
            ]
          },
          "metadata": {
            "tags": []
          },
          "execution_count": 39
        }
      ]
    },
    {
      "cell_type": "code",
      "metadata": {
        "colab": {
          "base_uri": "https://localhost:8080/"
        },
        "id": "gs9HL8KbtWmF",
        "outputId": "10ee8eb0-7e7d-4928-d71e-9181dde8affb"
      },
      "source": [
        "automobile_df['Origin'] = np.where(automobile_df['Origin'].str.contains('US'),\n",
        "                                   'US',\n",
        "                                   automobile_df['Origin'])\n",
        "\n",
        "automobile_df['Origin'].unique()"
      ],
      "execution_count": 40,
      "outputs": [
        {
          "output_type": "execute_result",
          "data": {
            "text/plain": [
              "array(['US', 'Japan; Aichi', 'Europe-Germany', 'Europe', 'Japan; Tokyo',\n",
              "       'Japan; Aichi]', 'Japan; Tokyo]', 'Japan', 'Europe Germany'],\n",
              "      dtype=object)"
            ]
          },
          "metadata": {
            "tags": []
          },
          "execution_count": 40
        }
      ]
    },
    {
      "cell_type": "code",
      "metadata": {
        "colab": {
          "base_uri": "https://localhost:8080/"
        },
        "id": "DD9neYUqtvCW",
        "outputId": "13a2ed68-b172-44c2-ce39-96738143f40f"
      },
      "source": [
        "automobile_df['Origin'] = np.where(automobile_df['Origin'].str.contains('Japan'),\n",
        "                                   'Japan',\n",
        "                                   automobile_df['Origin'])\n",
        "\n",
        "automobile_df['Origin'].unique()"
      ],
      "execution_count": 41,
      "outputs": [
        {
          "output_type": "execute_result",
          "data": {
            "text/plain": [
              "array(['US', 'Japan', 'Europe-Germany', 'Europe', 'Europe Germany'],\n",
              "      dtype=object)"
            ]
          },
          "metadata": {
            "tags": []
          },
          "execution_count": 41
        }
      ]
    },
    {
      "cell_type": "code",
      "metadata": {
        "colab": {
          "base_uri": "https://localhost:8080/"
        },
        "id": "MuXJP2XTt-TP",
        "outputId": "96fc0a31-a781-44ee-c1ad-410494b7e040"
      },
      "source": [
        "automobile_df['Origin'] = np.where(automobile_df['Origin'].str.contains('Europe'),\n",
        "                                   'Europe',\n",
        "                                   automobile_df['Origin'])\n",
        "\n",
        "automobile_df['Origin'].unique()"
      ],
      "execution_count": 42,
      "outputs": [
        {
          "output_type": "execute_result",
          "data": {
            "text/plain": [
              "array(['US', 'Japan', 'Europe'], dtype=object)"
            ]
          },
          "metadata": {
            "tags": []
          },
          "execution_count": 42
        }
      ]
    },
    {
      "cell_type": "code",
      "metadata": {
        "colab": {
          "base_uri": "https://localhost:8080/",
          "height": 300
        },
        "id": "QN2ZyCFtuFzR",
        "outputId": "e1a7e21f-401a-4537-8495-e4e907f95e63"
      },
      "source": [
        "automobile_df.describe()"
      ],
      "execution_count": 43,
      "outputs": [
        {
          "output_type": "execute_result",
          "data": {
            "text/html": [
              "<div>\n",
              "<style scoped>\n",
              "    .dataframe tbody tr th:only-of-type {\n",
              "        vertical-align: middle;\n",
              "    }\n",
              "\n",
              "    .dataframe tbody tr th {\n",
              "        vertical-align: top;\n",
              "    }\n",
              "\n",
              "    .dataframe thead th {\n",
              "        text-align: right;\n",
              "    }\n",
              "</style>\n",
              "<table border=\"1\" class=\"dataframe\">\n",
              "  <thead>\n",
              "    <tr style=\"text-align: right;\">\n",
              "      <th></th>\n",
              "      <th>MPG</th>\n",
              "      <th>Cylinders</th>\n",
              "      <th>Displacement</th>\n",
              "      <th>Horsepower</th>\n",
              "      <th>Weight</th>\n",
              "      <th>Acceleration</th>\n",
              "      <th>Age</th>\n",
              "    </tr>\n",
              "  </thead>\n",
              "  <tbody>\n",
              "    <tr>\n",
              "      <th>count</th>\n",
              "      <td>387.000000</td>\n",
              "      <td>387.000000</td>\n",
              "      <td>387.000000</td>\n",
              "      <td>387.000000</td>\n",
              "      <td>387.000000</td>\n",
              "      <td>387.000000</td>\n",
              "      <td>387.000000</td>\n",
              "    </tr>\n",
              "    <tr>\n",
              "      <th>mean</th>\n",
              "      <td>23.672514</td>\n",
              "      <td>5.410853</td>\n",
              "      <td>192.184755</td>\n",
              "      <td>103.645995</td>\n",
              "      <td>2965.387597</td>\n",
              "      <td>15.573643</td>\n",
              "      <td>44.917313</td>\n",
              "    </tr>\n",
              "    <tr>\n",
              "      <th>std</th>\n",
              "      <td>7.736579</td>\n",
              "      <td>1.667795</td>\n",
              "      <td>103.703706</td>\n",
              "      <td>38.128651</td>\n",
              "      <td>846.332848</td>\n",
              "      <td>2.746260</td>\n",
              "      <td>3.668715</td>\n",
              "    </tr>\n",
              "    <tr>\n",
              "      <th>min</th>\n",
              "      <td>9.000000</td>\n",
              "      <td>3.000000</td>\n",
              "      <td>68.000000</td>\n",
              "      <td>46.000000</td>\n",
              "      <td>1613.000000</td>\n",
              "      <td>8.000000</td>\n",
              "      <td>39.000000</td>\n",
              "    </tr>\n",
              "    <tr>\n",
              "      <th>25%</th>\n",
              "      <td>17.600000</td>\n",
              "      <td>4.000000</td>\n",
              "      <td>102.500000</td>\n",
              "      <td>75.000000</td>\n",
              "      <td>2221.500000</td>\n",
              "      <td>13.900000</td>\n",
              "      <td>42.000000</td>\n",
              "    </tr>\n",
              "    <tr>\n",
              "      <th>50%</th>\n",
              "      <td>23.200000</td>\n",
              "      <td>4.000000</td>\n",
              "      <td>146.000000</td>\n",
              "      <td>92.000000</td>\n",
              "      <td>2790.000000</td>\n",
              "      <td>15.500000</td>\n",
              "      <td>45.000000</td>\n",
              "    </tr>\n",
              "    <tr>\n",
              "      <th>75%</th>\n",
              "      <td>29.000000</td>\n",
              "      <td>6.000000</td>\n",
              "      <td>260.000000</td>\n",
              "      <td>121.000000</td>\n",
              "      <td>3589.500000</td>\n",
              "      <td>17.050000</td>\n",
              "      <td>48.000000</td>\n",
              "    </tr>\n",
              "    <tr>\n",
              "      <th>max</th>\n",
              "      <td>46.600000</td>\n",
              "      <td>8.000000</td>\n",
              "      <td>455.000000</td>\n",
              "      <td>230.000000</td>\n",
              "      <td>5140.000000</td>\n",
              "      <td>24.800000</td>\n",
              "      <td>51.000000</td>\n",
              "    </tr>\n",
              "  </tbody>\n",
              "</table>\n",
              "</div>"
            ],
            "text/plain": [
              "              MPG   Cylinders  ...  Acceleration         Age\n",
              "count  387.000000  387.000000  ...    387.000000  387.000000\n",
              "mean    23.672514    5.410853  ...     15.573643   44.917313\n",
              "std      7.736579    1.667795  ...      2.746260    3.668715\n",
              "min      9.000000    3.000000  ...      8.000000   39.000000\n",
              "25%     17.600000    4.000000  ...     13.900000   42.000000\n",
              "50%     23.200000    4.000000  ...     15.500000   45.000000\n",
              "75%     29.000000    6.000000  ...     17.050000   48.000000\n",
              "max     46.600000    8.000000  ...     24.800000   51.000000\n",
              "\n",
              "[8 rows x 7 columns]"
            ]
          },
          "metadata": {
            "tags": []
          },
          "execution_count": 43
        }
      ]
    },
    {
      "cell_type": "code",
      "metadata": {
        "id": "BL5RIUOSuKsa"
      },
      "source": [
        "automobile_df.to_csv('cars_processed.csv', index=False)"
      ],
      "execution_count": 44,
      "outputs": []
    },
    {
      "cell_type": "code",
      "metadata": {
        "id": "9RlIWRx-wrvT"
      },
      "source": [
        "import matplotlib.pyplot as plt"
      ],
      "execution_count": 45,
      "outputs": []
    },
    {
      "cell_type": "code",
      "metadata": {
        "colab": {
          "base_uri": "https://localhost:8080/",
          "height": 515
        },
        "id": "-7srEtOw2PDA",
        "outputId": "399835d6-2f6e-499d-8567-05bb9a850980"
      },
      "source": [
        "plt.figure(figsize=(12,8))\n",
        "\n",
        "plt.bar(automobile_df['Age'], automobile_df['MPG'])\n",
        "\n",
        "plt.xlabel('Age')\n",
        "plt.ylabel('Miles per gallon')"
      ],
      "execution_count": 46,
      "outputs": [
        {
          "output_type": "execute_result",
          "data": {
            "text/plain": [
              "Text(0, 0.5, 'Miles per gallon')"
            ]
          },
          "metadata": {
            "tags": []
          },
          "execution_count": 46
        },
        {
          "output_type": "display_data",
          "data": {
            "image/png": "[encoded data removed]",
            "text/plain": [
              "<Figure size 864x576 with 1 Axes>"
            ]
          },
          "metadata": {
            "tags": [],
            "needs_background": "light"
          }
        }
      ]
    },
    {
      "cell_type": "code",
      "metadata": {
        "colab": {
          "base_uri": "https://localhost:8080/",
          "height": 515
        },
        "id": "u6ulPHph2kax",
        "outputId": "9fe96661-56e7-4fa0-871e-e8d84f49111a"
      },
      "source": [
        "plt.figure(figsize=(12,8))\n",
        "\n",
        "plt.scatter(automobile_df['Acceleration'], automobile_df['MPG'], color='g')\n",
        "\n",
        "plt.xlabel('Acceleration')\n",
        "plt.ylabel('Miles per gallon')"
      ],
      "execution_count": 47,
      "outputs": [
        {
          "output_type": "execute_result",
          "data": {
            "text/plain": [
              "Text(0, 0.5, 'Miles per gallon')"
            ]
          },
          "metadata": {
            "tags": []
          },
          "execution_count": 47
        },
        {
          "output_type": "display_data",
          "data": {
            "image/png": "[encoded data removed]",
            "text/plain": [
              "<Figure size 864x576 with 1 Axes>"
            ]
          },
          "metadata": {
            "tags": [],
            "needs_background": "light"
          }
        }
      ]
    },
    {
      "cell_type": "code",
      "metadata": {
        "colab": {
          "base_uri": "https://localhost:8080/",
          "height": 515
        },
        "id": "YSennqqZ2xkY",
        "outputId": "0b81a37e-fb01-474f-d28f-ef985edacac0"
      },
      "source": [
        " plt.figure(figsize=(12,8))\n",
        "\n",
        "plt.scatter(automobile_df['Weight'], automobile_df['MPG'], color='r')\n",
        "\n",
        "plt.xlabel('Weight')\n",
        "plt.ylabel('Miles per gallon')"
      ],
      "execution_count": 48,
      "outputs": [
        {
          "output_type": "execute_result",
          "data": {
            "text/plain": [
              "Text(0, 0.5, 'Miles per gallon')"
            ]
          },
          "metadata": {
            "tags": []
          },
          "execution_count": 48
        },
        {
          "output_type": "display_data",
          "data": {
            "image/png": "[encoded data removed]",
            "text/plain": [
              "<Figure size 864x576 with 1 Axes>"
            ]
          },
          "metadata": {
            "tags": [],
            "needs_background": "light"
          }
        }
      ]
    },
    {
      "cell_type": "code",
      "metadata": {
        "colab": {
          "base_uri": "https://localhost:8080/",
          "height": 469
        },
        "id": "ZAoReu2G3WJU",
        "outputId": "8a54694b-2ffa-4c0b-f8bc-bdac74ff5643"
      },
      "source": [
        "automobile_df.plot.scatter(x='Weight',\n",
        "                           y='Acceleration',\n",
        "                           c='Horsepower',\n",
        "                           colormap='viridis',\n",
        "                           figsize=(12,8));"
      ],
      "execution_count": 49,
      "outputs": [
        {
          "output_type": "display_data",
          "data": {
            "image/png": "[encoded data removed]",
            "text/plain": [
              "<Figure size 864x576 with 2 Axes>"
            ]
          },
          "metadata": {
            "tags": [],
            "needs_background": "light"
          }
        }
      ]
    },
    {
      "cell_type": "code",
      "metadata": {
        "colab": {
          "base_uri": "https://localhost:8080/",
          "height": 515
        },
        "id": "2f_gah5M3piM",
        "outputId": "c841ab3f-abdf-4a81-f6aa-beec5df397ca"
      },
      "source": [
        "plt.figure(figsize=(12,8))\n",
        "\n",
        "plt.bar(automobile_df['Cylinders'], automobile_df['MPG'])\n",
        "\n",
        "plt.xlabel('Cylinders')\n",
        "plt.ylabel('Miles per gallon')"
      ],
      "execution_count": 50,
      "outputs": [
        {
          "output_type": "execute_result",
          "data": {
            "text/plain": [
              "Text(0, 0.5, 'Miles per gallon')"
            ]
          },
          "metadata": {
            "tags": []
          },
          "execution_count": 50
        },
        {
          "output_type": "display_data",
          "data": {
            "image/png": "[encoded data removed]",
            "text/plain": [
              "<Figure size 864x576 with 1 Axes>"
            ]
          },
          "metadata": {
            "tags": [],
            "needs_background": "light"
          }
        }
      ]
    },
    {
      "cell_type": "code",
      "metadata": {
        "colab": {
          "base_uri": "https://localhost:8080/",
          "height": 363
        },
        "id": "CxTEukf037wC",
        "outputId": "f2ba6fa9-a144-4928-e5d8-9a1ae3f30f10"
      },
      "source": [
        "automobile_df.drop(['Cylinders', 'Origin'], axis=1, inplace=True)\n",
        "\n",
        "automobile_df.sample(10)"
      ],
      "execution_count": 51,
      "outputs": [
        {
          "output_type": "execute_result",
          "data": {
            "text/html": [
              "<div>\n",
              "<style scoped>\n",
              "    .dataframe tbody tr th:only-of-type {\n",
              "        vertical-align: middle;\n",
              "    }\n",
              "\n",
              "    .dataframe tbody tr th {\n",
              "        vertical-align: top;\n",
              "    }\n",
              "\n",
              "    .dataframe thead th {\n",
              "        text-align: right;\n",
              "    }\n",
              "</style>\n",
              "<table border=\"1\" class=\"dataframe\">\n",
              "  <thead>\n",
              "    <tr style=\"text-align: right;\">\n",
              "      <th></th>\n",
              "      <th>MPG</th>\n",
              "      <th>Displacement</th>\n",
              "      <th>Horsepower</th>\n",
              "      <th>Weight</th>\n",
              "      <th>Acceleration</th>\n",
              "      <th>Age</th>\n",
              "    </tr>\n",
              "  </thead>\n",
              "  <tbody>\n",
              "    <tr>\n",
              "      <th>323</th>\n",
              "      <td>44.300000</td>\n",
              "      <td>90.0</td>\n",
              "      <td>48</td>\n",
              "      <td>2085</td>\n",
              "      <td>21.7</td>\n",
              "      <td>41</td>\n",
              "    </tr>\n",
              "    <tr>\n",
              "      <th>75</th>\n",
              "      <td>18.000000</td>\n",
              "      <td>121.0</td>\n",
              "      <td>112</td>\n",
              "      <td>2933</td>\n",
              "      <td>14.5</td>\n",
              "      <td>49</td>\n",
              "    </tr>\n",
              "    <tr>\n",
              "      <th>387</th>\n",
              "      <td>36.000000</td>\n",
              "      <td>135.0</td>\n",
              "      <td>84</td>\n",
              "      <td>2370</td>\n",
              "      <td>13.0</td>\n",
              "      <td>39</td>\n",
              "    </tr>\n",
              "    <tr>\n",
              "      <th>184</th>\n",
              "      <td>27.000000</td>\n",
              "      <td>101.0</td>\n",
              "      <td>83</td>\n",
              "      <td>2202</td>\n",
              "      <td>15.3</td>\n",
              "      <td>45</td>\n",
              "    </tr>\n",
              "    <tr>\n",
              "      <th>147</th>\n",
              "      <td>24.000000</td>\n",
              "      <td>120.0</td>\n",
              "      <td>97</td>\n",
              "      <td>2489</td>\n",
              "      <td>15.0</td>\n",
              "      <td>47</td>\n",
              "    </tr>\n",
              "    <tr>\n",
              "      <th>143</th>\n",
              "      <td>32.000000</td>\n",
              "      <td>83.0</td>\n",
              "      <td>61</td>\n",
              "      <td>2003</td>\n",
              "      <td>19.0</td>\n",
              "      <td>47</td>\n",
              "    </tr>\n",
              "    <tr>\n",
              "      <th>12</th>\n",
              "      <td>23.551429</td>\n",
              "      <td>400.0</td>\n",
              "      <td>150</td>\n",
              "      <td>3761</td>\n",
              "      <td>9.5</td>\n",
              "      <td>51</td>\n",
              "    </tr>\n",
              "    <tr>\n",
              "      <th>60</th>\n",
              "      <td>21.000000</td>\n",
              "      <td>122.0</td>\n",
              "      <td>86</td>\n",
              "      <td>2226</td>\n",
              "      <td>16.5</td>\n",
              "      <td>49</td>\n",
              "    </tr>\n",
              "    <tr>\n",
              "      <th>244</th>\n",
              "      <td>32.800000</td>\n",
              "      <td>78.0</td>\n",
              "      <td>52</td>\n",
              "      <td>1985</td>\n",
              "      <td>19.4</td>\n",
              "      <td>43</td>\n",
              "    </tr>\n",
              "    <tr>\n",
              "      <th>225</th>\n",
              "      <td>19.000000</td>\n",
              "      <td>225.0</td>\n",
              "      <td>100</td>\n",
              "      <td>3630</td>\n",
              "      <td>17.7</td>\n",
              "      <td>44</td>\n",
              "    </tr>\n",
              "  </tbody>\n",
              "</table>\n",
              "</div>"
            ],
            "text/plain": [
              "           MPG  Displacement  Horsepower  Weight  Acceleration  Age\n",
              "323  44.300000          90.0          48    2085          21.7   41\n",
              "75   18.000000         121.0         112    2933          14.5   49\n",
              "387  36.000000         135.0          84    2370          13.0   39\n",
              "184  27.000000         101.0          83    2202          15.3   45\n",
              "147  24.000000         120.0          97    2489          15.0   47\n",
              "143  32.000000          83.0          61    2003          19.0   47\n",
              "12   23.551429         400.0         150    3761           9.5   51\n",
              "60   21.000000         122.0          86    2226          16.5   49\n",
              "244  32.800000          78.0          52    1985          19.4   43\n",
              "225  19.000000         225.0         100    3630          17.7   44"
            ]
          },
          "metadata": {
            "tags": []
          },
          "execution_count": 51
        }
      ]
    },
    {
      "cell_type": "code",
      "metadata": {
        "colab": {
          "base_uri": "https://localhost:8080/",
          "height": 237
        },
        "id": "SvF1-9w_4OSI",
        "outputId": "d7a8b363-852a-43ce-9dea-2f804037b9b0"
      },
      "source": [
        "cars_corr = automobile_df.corr()\n",
        "\n",
        "cars_corr"
      ],
      "execution_count": 52,
      "outputs": [
        {
          "output_type": "execute_result",
          "data": {
            "text/html": [
              "<div>\n",
              "<style scoped>\n",
              "    .dataframe tbody tr th:only-of-type {\n",
              "        vertical-align: middle;\n",
              "    }\n",
              "\n",
              "    .dataframe tbody tr th {\n",
              "        vertical-align: top;\n",
              "    }\n",
              "\n",
              "    .dataframe thead th {\n",
              "        text-align: right;\n",
              "    }\n",
              "</style>\n",
              "<table border=\"1\" class=\"dataframe\">\n",
              "  <thead>\n",
              "    <tr style=\"text-align: right;\">\n",
              "      <th></th>\n",
              "      <th>MPG</th>\n",
              "      <th>Displacement</th>\n",
              "      <th>Horsepower</th>\n",
              "      <th>Weight</th>\n",
              "      <th>Acceleration</th>\n",
              "      <th>Age</th>\n",
              "    </tr>\n",
              "  </thead>\n",
              "  <tbody>\n",
              "    <tr>\n",
              "      <th>MPG</th>\n",
              "      <td>1.000000</td>\n",
              "      <td>-0.788492</td>\n",
              "      <td>-0.761499</td>\n",
              "      <td>-0.820138</td>\n",
              "      <td>0.392186</td>\n",
              "      <td>-0.566242</td>\n",
              "    </tr>\n",
              "    <tr>\n",
              "      <th>Displacement</th>\n",
              "      <td>-0.788492</td>\n",
              "      <td>1.000000</td>\n",
              "      <td>0.894199</td>\n",
              "      <td>0.932822</td>\n",
              "      <td>-0.526901</td>\n",
              "      <td>0.357047</td>\n",
              "    </tr>\n",
              "    <tr>\n",
              "      <th>Horsepower</th>\n",
              "      <td>-0.761499</td>\n",
              "      <td>0.894199</td>\n",
              "      <td>1.000000</td>\n",
              "      <td>0.863388</td>\n",
              "      <td>-0.670920</td>\n",
              "      <td>0.404458</td>\n",
              "    </tr>\n",
              "    <tr>\n",
              "      <th>Weight</th>\n",
              "      <td>-0.820138</td>\n",
              "      <td>0.932822</td>\n",
              "      <td>0.863388</td>\n",
              "      <td>1.000000</td>\n",
              "      <td>-0.397181</td>\n",
              "      <td>0.299049</td>\n",
              "    </tr>\n",
              "    <tr>\n",
              "      <th>Acceleration</th>\n",
              "      <td>0.392186</td>\n",
              "      <td>-0.526901</td>\n",
              "      <td>-0.670920</td>\n",
              "      <td>-0.397181</td>\n",
              "      <td>1.000000</td>\n",
              "      <td>-0.292705</td>\n",
              "    </tr>\n",
              "    <tr>\n",
              "      <th>Age</th>\n",
              "      <td>-0.566242</td>\n",
              "      <td>0.357047</td>\n",
              "      <td>0.404458</td>\n",
              "      <td>0.299049</td>\n",
              "      <td>-0.292705</td>\n",
              "      <td>1.000000</td>\n",
              "    </tr>\n",
              "  </tbody>\n",
              "</table>\n",
              "</div>"
            ],
            "text/plain": [
              "                   MPG  Displacement  ...  Acceleration       Age\n",
              "MPG           1.000000     -0.788492  ...      0.392186 -0.566242\n",
              "Displacement -0.788492      1.000000  ...     -0.526901  0.357047\n",
              "Horsepower   -0.761499      0.894199  ...     -0.670920  0.404458\n",
              "Weight       -0.820138      0.932822  ...     -0.397181  0.299049\n",
              "Acceleration  0.392186     -0.526901  ...      1.000000 -0.292705\n",
              "Age          -0.566242      0.357047  ...     -0.292705  1.000000\n",
              "\n",
              "[6 rows x 6 columns]"
            ]
          },
          "metadata": {
            "tags": []
          },
          "execution_count": 52
        }
      ]
    },
    {
      "cell_type": "code",
      "metadata": {
        "colab": {
          "base_uri": "https://localhost:8080/",
          "height": 505
        },
        "id": "cGZhW4Il4VEF",
        "outputId": "89ac5eaf-1353-411e-a10e-8dbe9c13b198"
      },
      "source": [
        "import seaborn as sns\n",
        "\n",
        "fig, ax =plt.subplots(figsize = (12,8))\n",
        "\n",
        "sns.heatmap(cars_corr, annot=True)"
      ],
      "execution_count": 53,
      "outputs": [
        {
          "output_type": "execute_result",
          "data": {
            "text/plain": [
              "<matplotlib.axes._subplots.AxesSubplot at 0x7fe31deb8d90>"
            ]
          },
          "metadata": {
            "tags": []
          },
          "execution_count": 53
        },
        {
          "output_type": "display_data",
          "data": {
            "image/png": "[encoded data removed]",
            "text/plain": [
              "<Figure size 864x576 with 2 Axes>"
            ]
          },
          "metadata": {
            "tags": [],
            "needs_background": "light"
          }
        }
      ]
    },
    {
      "cell_type": "markdown",
      "metadata": {
        "id": "DG2EuYbO5SRt"
      },
      "source": [
        "#Baseline Regression Model"
      ]
    },
    {
      "cell_type": "code",
      "metadata": {
        "id": "SSXfwr5z5Va_"
      },
      "source": [
        "import pandas as pd\n",
        "import matplotlib.pyplot as plt"
      ],
      "execution_count": 54,
      "outputs": []
    },
    {
      "cell_type": "code",
      "metadata": {
        "colab": {
          "base_uri": "https://localhost:8080/",
          "height": 206
        },
        "id": "kTyIGqKl5adw",
        "outputId": "c3f41066-4376-4155-b62d-c25f255944df"
      },
      "source": [
        "automobile_df = pd.read_csv('cars_processed.csv')\n",
        "\n",
        "automobile_df.head()"
      ],
      "execution_count": 55,
      "outputs": [
        {
          "output_type": "execute_result",
          "data": {
            "text/html": [
              "<div>\n",
              "<style scoped>\n",
              "    .dataframe tbody tr th:only-of-type {\n",
              "        vertical-align: middle;\n",
              "    }\n",
              "\n",
              "    .dataframe tbody tr th {\n",
              "        vertical-align: top;\n",
              "    }\n",
              "\n",
              "    .dataframe thead th {\n",
              "        text-align: right;\n",
              "    }\n",
              "</style>\n",
              "<table border=\"1\" class=\"dataframe\">\n",
              "  <thead>\n",
              "    <tr style=\"text-align: right;\">\n",
              "      <th></th>\n",
              "      <th>MPG</th>\n",
              "      <th>Cylinders</th>\n",
              "      <th>Displacement</th>\n",
              "      <th>Horsepower</th>\n",
              "      <th>Weight</th>\n",
              "      <th>Acceleration</th>\n",
              "      <th>Origin</th>\n",
              "      <th>Age</th>\n",
              "    </tr>\n",
              "  </thead>\n",
              "  <tbody>\n",
              "    <tr>\n",
              "      <th>0</th>\n",
              "      <td>18.000000</td>\n",
              "      <td>8</td>\n",
              "      <td>307.0</td>\n",
              "      <td>130</td>\n",
              "      <td>3504</td>\n",
              "      <td>12.0</td>\n",
              "      <td>US</td>\n",
              "      <td>51</td>\n",
              "    </tr>\n",
              "    <tr>\n",
              "      <th>1</th>\n",
              "      <td>16.000000</td>\n",
              "      <td>8</td>\n",
              "      <td>304.0</td>\n",
              "      <td>150</td>\n",
              "      <td>3433</td>\n",
              "      <td>12.0</td>\n",
              "      <td>US</td>\n",
              "      <td>51</td>\n",
              "    </tr>\n",
              "    <tr>\n",
              "      <th>2</th>\n",
              "      <td>17.000000</td>\n",
              "      <td>8</td>\n",
              "      <td>302.0</td>\n",
              "      <td>140</td>\n",
              "      <td>3449</td>\n",
              "      <td>10.5</td>\n",
              "      <td>US</td>\n",
              "      <td>51</td>\n",
              "    </tr>\n",
              "    <tr>\n",
              "      <th>3</th>\n",
              "      <td>14.000000</td>\n",
              "      <td>8</td>\n",
              "      <td>454.0</td>\n",
              "      <td>220</td>\n",
              "      <td>4354</td>\n",
              "      <td>9.0</td>\n",
              "      <td>US</td>\n",
              "      <td>51</td>\n",
              "    </tr>\n",
              "    <tr>\n",
              "      <th>4</th>\n",
              "      <td>23.551429</td>\n",
              "      <td>8</td>\n",
              "      <td>440.0</td>\n",
              "      <td>215</td>\n",
              "      <td>4312</td>\n",
              "      <td>8.5</td>\n",
              "      <td>US</td>\n",
              "      <td>51</td>\n",
              "    </tr>\n",
              "  </tbody>\n",
              "</table>\n",
              "</div>"
            ],
            "text/plain": [
              "         MPG  Cylinders  Displacement  ...  Acceleration  Origin  Age\n",
              "0  18.000000          8         307.0  ...          12.0      US   51\n",
              "1  16.000000          8         304.0  ...          12.0      US   51\n",
              "2  17.000000          8         302.0  ...          10.5      US   51\n",
              "3  14.000000          8         454.0  ...           9.0      US   51\n",
              "4  23.551429          8         440.0  ...           8.5      US   51\n",
              "\n",
              "[5 rows x 8 columns]"
            ]
          },
          "metadata": {
            "tags": []
          },
          "execution_count": 55
        }
      ]
    },
    {
      "cell_type": "code",
      "metadata": {
        "colab": {
          "base_uri": "https://localhost:8080/"
        },
        "id": "g3W3eDZ55ipX",
        "outputId": "03bb4647-b5e3-4f77-938f-b5828fa117ae"
      },
      "source": [
        "automobile_df.shape"
      ],
      "execution_count": 56,
      "outputs": [
        {
          "output_type": "execute_result",
          "data": {
            "text/plain": [
              "(387, 8)"
            ]
          },
          "metadata": {
            "tags": []
          },
          "execution_count": 56
        }
      ]
    },
    {
      "cell_type": "code",
      "metadata": {
        "colab": {
          "base_uri": "https://localhost:8080/"
        },
        "id": "KOggmFJS5nrC",
        "outputId": "8fdf8730-4c31-4004-f8b4-8dd2ba4bf082"
      },
      "source": [
        "automobile_df.columns"
      ],
      "execution_count": 57,
      "outputs": [
        {
          "output_type": "execute_result",
          "data": {
            "text/plain": [
              "Index(['MPG', 'Cylinders', 'Displacement', 'Horsepower', 'Weight',\n",
              "       'Acceleration', 'Origin', 'Age'],\n",
              "      dtype='object')"
            ]
          },
          "metadata": {
            "tags": []
          },
          "execution_count": 57
        }
      ]
    },
    {
      "cell_type": "code",
      "metadata": {
        "colab": {
          "base_uri": "https://localhost:8080/",
          "height": 300
        },
        "id": "xn-N1RZF5qYp",
        "outputId": "e068109d-077e-4140-b111-28c3848d6356"
      },
      "source": [
        "automobile_df.describe()"
      ],
      "execution_count": 58,
      "outputs": [
        {
          "output_type": "execute_result",
          "data": {
            "text/html": [
              "<div>\n",
              "<style scoped>\n",
              "    .dataframe tbody tr th:only-of-type {\n",
              "        vertical-align: middle;\n",
              "    }\n",
              "\n",
              "    .dataframe tbody tr th {\n",
              "        vertical-align: top;\n",
              "    }\n",
              "\n",
              "    .dataframe thead th {\n",
              "        text-align: right;\n",
              "    }\n",
              "</style>\n",
              "<table border=\"1\" class=\"dataframe\">\n",
              "  <thead>\n",
              "    <tr style=\"text-align: right;\">\n",
              "      <th></th>\n",
              "      <th>MPG</th>\n",
              "      <th>Cylinders</th>\n",
              "      <th>Displacement</th>\n",
              "      <th>Horsepower</th>\n",
              "      <th>Weight</th>\n",
              "      <th>Acceleration</th>\n",
              "      <th>Age</th>\n",
              "    </tr>\n",
              "  </thead>\n",
              "  <tbody>\n",
              "    <tr>\n",
              "      <th>count</th>\n",
              "      <td>387.000000</td>\n",
              "      <td>387.000000</td>\n",
              "      <td>387.000000</td>\n",
              "      <td>387.000000</td>\n",
              "      <td>387.000000</td>\n",
              "      <td>387.000000</td>\n",
              "      <td>387.000000</td>\n",
              "    </tr>\n",
              "    <tr>\n",
              "      <th>mean</th>\n",
              "      <td>23.672514</td>\n",
              "      <td>5.410853</td>\n",
              "      <td>192.184755</td>\n",
              "      <td>103.645995</td>\n",
              "      <td>2965.387597</td>\n",
              "      <td>15.573643</td>\n",
              "      <td>44.917313</td>\n",
              "    </tr>\n",
              "    <tr>\n",
              "      <th>std</th>\n",
              "      <td>7.736579</td>\n",
              "      <td>1.667795</td>\n",
              "      <td>103.703706</td>\n",
              "      <td>38.128651</td>\n",
              "      <td>846.332848</td>\n",
              "      <td>2.746260</td>\n",
              "      <td>3.668715</td>\n",
              "    </tr>\n",
              "    <tr>\n",
              "      <th>min</th>\n",
              "      <td>9.000000</td>\n",
              "      <td>3.000000</td>\n",
              "      <td>68.000000</td>\n",
              "      <td>46.000000</td>\n",
              "      <td>1613.000000</td>\n",
              "      <td>8.000000</td>\n",
              "      <td>39.000000</td>\n",
              "    </tr>\n",
              "    <tr>\n",
              "      <th>25%</th>\n",
              "      <td>17.600000</td>\n",
              "      <td>4.000000</td>\n",
              "      <td>102.500000</td>\n",
              "      <td>75.000000</td>\n",
              "      <td>2221.500000</td>\n",
              "      <td>13.900000</td>\n",
              "      <td>42.000000</td>\n",
              "    </tr>\n",
              "    <tr>\n",
              "      <th>50%</th>\n",
              "      <td>23.200000</td>\n",
              "      <td>4.000000</td>\n",
              "      <td>146.000000</td>\n",
              "      <td>92.000000</td>\n",
              "      <td>2790.000000</td>\n",
              "      <td>15.500000</td>\n",
              "      <td>45.000000</td>\n",
              "    </tr>\n",
              "    <tr>\n",
              "      <th>75%</th>\n",
              "      <td>29.000000</td>\n",
              "      <td>6.000000</td>\n",
              "      <td>260.000000</td>\n",
              "      <td>121.000000</td>\n",
              "      <td>3589.500000</td>\n",
              "      <td>17.050000</td>\n",
              "      <td>48.000000</td>\n",
              "    </tr>\n",
              "    <tr>\n",
              "      <th>max</th>\n",
              "      <td>46.600000</td>\n",
              "      <td>8.000000</td>\n",
              "      <td>455.000000</td>\n",
              "      <td>230.000000</td>\n",
              "      <td>5140.000000</td>\n",
              "      <td>24.800000</td>\n",
              "      <td>51.000000</td>\n",
              "    </tr>\n",
              "  </tbody>\n",
              "</table>\n",
              "</div>"
            ],
            "text/plain": [
              "              MPG   Cylinders  ...  Acceleration         Age\n",
              "count  387.000000  387.000000  ...    387.000000  387.000000\n",
              "mean    23.672514    5.410853  ...     15.573643   44.917313\n",
              "std      7.736579    1.667795  ...      2.746260    3.668715\n",
              "min      9.000000    3.000000  ...      8.000000   39.000000\n",
              "25%     17.600000    4.000000  ...     13.900000   42.000000\n",
              "50%     23.200000    4.000000  ...     15.500000   45.000000\n",
              "75%     29.000000    6.000000  ...     17.050000   48.000000\n",
              "max     46.600000    8.000000  ...     24.800000   51.000000\n",
              "\n",
              "[8 rows x 7 columns]"
            ]
          },
          "metadata": {
            "tags": []
          },
          "execution_count": 58
        }
      ]
    },
    {
      "cell_type": "code",
      "metadata": {
        "colab": {
          "base_uri": "https://localhost:8080/",
          "height": 269
        },
        "id": "ljFEeX-05so_",
        "outputId": "d983ec39-c736-4168-fa9e-d7c384b08fc7"
      },
      "source": [
        "automobile_df.corr()"
      ],
      "execution_count": 59,
      "outputs": [
        {
          "output_type": "execute_result",
          "data": {
            "text/html": [
              "<div>\n",
              "<style scoped>\n",
              "    .dataframe tbody tr th:only-of-type {\n",
              "        vertical-align: middle;\n",
              "    }\n",
              "\n",
              "    .dataframe tbody tr th {\n",
              "        vertical-align: top;\n",
              "    }\n",
              "\n",
              "    .dataframe thead th {\n",
              "        text-align: right;\n",
              "    }\n",
              "</style>\n",
              "<table border=\"1\" class=\"dataframe\">\n",
              "  <thead>\n",
              "    <tr style=\"text-align: right;\">\n",
              "      <th></th>\n",
              "      <th>MPG</th>\n",
              "      <th>Cylinders</th>\n",
              "      <th>Displacement</th>\n",
              "      <th>Horsepower</th>\n",
              "      <th>Weight</th>\n",
              "      <th>Acceleration</th>\n",
              "      <th>Age</th>\n",
              "    </tr>\n",
              "  </thead>\n",
              "  <tbody>\n",
              "    <tr>\n",
              "      <th>MPG</th>\n",
              "      <td>1.000000</td>\n",
              "      <td>-0.746023</td>\n",
              "      <td>-0.788492</td>\n",
              "      <td>-0.761499</td>\n",
              "      <td>-0.820138</td>\n",
              "      <td>0.392186</td>\n",
              "      <td>-0.566242</td>\n",
              "    </tr>\n",
              "    <tr>\n",
              "      <th>Cylinders</th>\n",
              "      <td>-0.746023</td>\n",
              "      <td>1.000000</td>\n",
              "      <td>0.922633</td>\n",
              "      <td>0.811466</td>\n",
              "      <td>0.873029</td>\n",
              "      <td>-0.458161</td>\n",
              "      <td>0.321850</td>\n",
              "    </tr>\n",
              "    <tr>\n",
              "      <th>Displacement</th>\n",
              "      <td>-0.788492</td>\n",
              "      <td>0.922633</td>\n",
              "      <td>1.000000</td>\n",
              "      <td>0.894199</td>\n",
              "      <td>0.932822</td>\n",
              "      <td>-0.526901</td>\n",
              "      <td>0.357047</td>\n",
              "    </tr>\n",
              "    <tr>\n",
              "      <th>Horsepower</th>\n",
              "      <td>-0.761499</td>\n",
              "      <td>0.811466</td>\n",
              "      <td>0.894199</td>\n",
              "      <td>1.000000</td>\n",
              "      <td>0.863388</td>\n",
              "      <td>-0.670920</td>\n",
              "      <td>0.404458</td>\n",
              "    </tr>\n",
              "    <tr>\n",
              "      <th>Weight</th>\n",
              "      <td>-0.820138</td>\n",
              "      <td>0.873029</td>\n",
              "      <td>0.932822</td>\n",
              "      <td>0.863388</td>\n",
              "      <td>1.000000</td>\n",
              "      <td>-0.397181</td>\n",
              "      <td>0.299049</td>\n",
              "    </tr>\n",
              "    <tr>\n",
              "      <th>Acceleration</th>\n",
              "      <td>0.392186</td>\n",
              "      <td>-0.458161</td>\n",
              "      <td>-0.526901</td>\n",
              "      <td>-0.670920</td>\n",
              "      <td>-0.397181</td>\n",
              "      <td>1.000000</td>\n",
              "      <td>-0.292705</td>\n",
              "    </tr>\n",
              "    <tr>\n",
              "      <th>Age</th>\n",
              "      <td>-0.566242</td>\n",
              "      <td>0.321850</td>\n",
              "      <td>0.357047</td>\n",
              "      <td>0.404458</td>\n",
              "      <td>0.299049</td>\n",
              "      <td>-0.292705</td>\n",
              "      <td>1.000000</td>\n",
              "    </tr>\n",
              "  </tbody>\n",
              "</table>\n",
              "</div>"
            ],
            "text/plain": [
              "                   MPG  Cylinders  ...  Acceleration       Age\n",
              "MPG           1.000000  -0.746023  ...      0.392186 -0.566242\n",
              "Cylinders    -0.746023   1.000000  ...     -0.458161  0.321850\n",
              "Displacement -0.788492   0.922633  ...     -0.526901  0.357047\n",
              "Horsepower   -0.761499   0.811466  ...     -0.670920  0.404458\n",
              "Weight       -0.820138   0.873029  ...     -0.397181  0.299049\n",
              "Acceleration  0.392186  -0.458161  ...      1.000000 -0.292705\n",
              "Age          -0.566242   0.321850  ...     -0.292705  1.000000\n",
              "\n",
              "[7 rows x 7 columns]"
            ]
          },
          "metadata": {
            "tags": []
          },
          "execution_count": 59
        }
      ]
    },
    {
      "cell_type": "code",
      "metadata": {
        "colab": {
          "base_uri": "https://localhost:8080/",
          "height": 505
        },
        "id": "kiJ2CdQM5vRs",
        "outputId": "76b59595-b84c-4fd6-81d4-5112a1896404"
      },
      "source": [
        "import seaborn as sns\n",
        "\n",
        "fig, axs = plt.subplots(figsize = (12,8))\n",
        "\n",
        "sns.heatmap(automobile_df.corr(), annot=True)"
      ],
      "execution_count": 60,
      "outputs": [
        {
          "output_type": "execute_result",
          "data": {
            "text/plain": [
              "<matplotlib.axes._subplots.AxesSubplot at 0x7fe31e9511d0>"
            ]
          },
          "metadata": {
            "tags": []
          },
          "execution_count": 60
        },
        {
          "output_type": "display_data",
          "data": {
            "image/png": "[encoded data removed]",
            "text/plain": [
              "<Figure size 864x576 with 2 Axes>"
            ]
          },
          "metadata": {
            "tags": [],
            "needs_background": "light"
          }
        }
      ]
    },
    {
      "cell_type": "code",
      "metadata": {
        "colab": {
          "base_uri": "https://localhost:8080/",
          "height": 206
        },
        "id": "a6L2Dlbd6jcu",
        "outputId": "2d419d30-0387-4589-8a39-9d73543a9966"
      },
      "source": [
        "automobile_df.head()"
      ],
      "execution_count": 61,
      "outputs": [
        {
          "output_type": "execute_result",
          "data": {
            "text/html": [
              "<div>\n",
              "<style scoped>\n",
              "    .dataframe tbody tr th:only-of-type {\n",
              "        vertical-align: middle;\n",
              "    }\n",
              "\n",
              "    .dataframe tbody tr th {\n",
              "        vertical-align: top;\n",
              "    }\n",
              "\n",
              "    .dataframe thead th {\n",
              "        text-align: right;\n",
              "    }\n",
              "</style>\n",
              "<table border=\"1\" class=\"dataframe\">\n",
              "  <thead>\n",
              "    <tr style=\"text-align: right;\">\n",
              "      <th></th>\n",
              "      <th>MPG</th>\n",
              "      <th>Cylinders</th>\n",
              "      <th>Displacement</th>\n",
              "      <th>Horsepower</th>\n",
              "      <th>Weight</th>\n",
              "      <th>Acceleration</th>\n",
              "      <th>Origin</th>\n",
              "      <th>Age</th>\n",
              "    </tr>\n",
              "  </thead>\n",
              "  <tbody>\n",
              "    <tr>\n",
              "      <th>0</th>\n",
              "      <td>18.000000</td>\n",
              "      <td>8</td>\n",
              "      <td>307.0</td>\n",
              "      <td>130</td>\n",
              "      <td>3504</td>\n",
              "      <td>12.0</td>\n",
              "      <td>US</td>\n",
              "      <td>51</td>\n",
              "    </tr>\n",
              "    <tr>\n",
              "      <th>1</th>\n",
              "      <td>16.000000</td>\n",
              "      <td>8</td>\n",
              "      <td>304.0</td>\n",
              "      <td>150</td>\n",
              "      <td>3433</td>\n",
              "      <td>12.0</td>\n",
              "      <td>US</td>\n",
              "      <td>51</td>\n",
              "    </tr>\n",
              "    <tr>\n",
              "      <th>2</th>\n",
              "      <td>17.000000</td>\n",
              "      <td>8</td>\n",
              "      <td>302.0</td>\n",
              "      <td>140</td>\n",
              "      <td>3449</td>\n",
              "      <td>10.5</td>\n",
              "      <td>US</td>\n",
              "      <td>51</td>\n",
              "    </tr>\n",
              "    <tr>\n",
              "      <th>3</th>\n",
              "      <td>14.000000</td>\n",
              "      <td>8</td>\n",
              "      <td>454.0</td>\n",
              "      <td>220</td>\n",
              "      <td>4354</td>\n",
              "      <td>9.0</td>\n",
              "      <td>US</td>\n",
              "      <td>51</td>\n",
              "    </tr>\n",
              "    <tr>\n",
              "      <th>4</th>\n",
              "      <td>23.551429</td>\n",
              "      <td>8</td>\n",
              "      <td>440.0</td>\n",
              "      <td>215</td>\n",
              "      <td>4312</td>\n",
              "      <td>8.5</td>\n",
              "      <td>US</td>\n",
              "      <td>51</td>\n",
              "    </tr>\n",
              "  </tbody>\n",
              "</table>\n",
              "</div>"
            ],
            "text/plain": [
              "         MPG  Cylinders  Displacement  ...  Acceleration  Origin  Age\n",
              "0  18.000000          8         307.0  ...          12.0      US   51\n",
              "1  16.000000          8         304.0  ...          12.0      US   51\n",
              "2  17.000000          8         302.0  ...          10.5      US   51\n",
              "3  14.000000          8         454.0  ...           9.0      US   51\n",
              "4  23.551429          8         440.0  ...           8.5      US   51\n",
              "\n",
              "[5 rows x 8 columns]"
            ]
          },
          "metadata": {
            "tags": []
          },
          "execution_count": 61
        }
      ]
    },
    {
      "cell_type": "code",
      "metadata": {
        "id": "y9xH_IOI6zBF"
      },
      "source": [
        "X = automobile_df[['Age']]\n",
        "Y = automobile_df['MPG']"
      ],
      "execution_count": 62,
      "outputs": []
    },
    {
      "cell_type": "code",
      "metadata": {
        "colab": {
          "base_uri": "https://localhost:8080/",
          "height": 497
        },
        "id": "K-yznM4u67HY",
        "outputId": "95f7c773-050a-46bb-dc09-2c7b37c96b38"
      },
      "source": [
        "fig, ax = plt.subplots(figsize=(12,8))\n",
        "\n",
        "plt.scatter(automobile_df['Age'], automobile_df['MPG'])\n",
        "\n",
        "plt.xlabel('Age')\n",
        "plt.ylabel('Miles per gallon')\n",
        "\n",
        "plt.show()"
      ],
      "execution_count": 63,
      "outputs": [
        {
          "output_type": "display_data",
          "data": {
            "image/png": "[encoded data removed]",
            "text/plain": [
              "<Figure size 864x576 with 1 Axes>"
            ]
          },
          "metadata": {
            "tags": [],
            "needs_background": "light"
          }
        }
      ]
    },
    {
      "cell_type": "code",
      "metadata": {
        "id": "-_MZIP2e7SNP"
      },
      "source": [
        "from sklearn.model_selection import train_test_split\n",
        "\n",
        "x_train, x_test, y_train, y_test = train_test_split(X, Y, test_size=0.2)"
      ],
      "execution_count": 64,
      "outputs": []
    },
    {
      "cell_type": "code",
      "metadata": {
        "id": "ecfatsIF8hX5"
      },
      "source": [
        "from sklearn.linear_model import LinearRegression\n",
        "\n",
        "linear_model = LinearRegression(normalize=True).fit(x_train, y_train)"
      ],
      "execution_count": 65,
      "outputs": []
    },
    {
      "cell_type": "code",
      "metadata": {
        "colab": {
          "base_uri": "https://localhost:8080/"
        },
        "id": "lCLhqq0Z84Uv",
        "outputId": "4fe9748e-a3aa-4b93-d23d-7562ed38fdff"
      },
      "source": [
        "print(\"Training score: \", linear_model.score(x_train, y_train))"
      ],
      "execution_count": 66,
      "outputs": [
        {
          "output_type": "stream",
          "text": [
            "Training score:  0.3023267319071914\n"
          ],
          "name": "stdout"
        }
      ]
    },
    {
      "cell_type": "code",
      "metadata": {
        "id": "97oZQpJo9L3t"
      },
      "source": [
        "y_pred = linear_model.predict(x_test)"
      ],
      "execution_count": 67,
      "outputs": []
    },
    {
      "cell_type": "code",
      "metadata": {
        "colab": {
          "base_uri": "https://localhost:8080/"
        },
        "id": "yO2_Uo-d9Wok",
        "outputId": "0a7341ce-8fff-493c-eaca-168b94939d4e"
      },
      "source": [
        "from sklearn.metrics import r2_score\n",
        "\n",
        "print(\"Testing score: \", r2_score(y_test, y_pred))"
      ],
      "execution_count": 68,
      "outputs": [
        {
          "output_type": "stream",
          "text": [
            "Testing score:  0.3775537608539934\n"
          ],
          "name": "stdout"
        }
      ]
    },
    {
      "cell_type": "code",
      "metadata": {
        "colab": {
          "base_uri": "https://localhost:8080/",
          "height": 497
        },
        "id": "a_KfbARm9gzN",
        "outputId": "32080fee-6eb4-4fca-e312-a958f115a31d"
      },
      "source": [
        "fig, ax = plt.subplots(figsize=(12,8))\n",
        "\n",
        "plt.scatter(x_test, y_test)\n",
        "plt.plot(x_test, y_pred, color='r')\n",
        "\n",
        "plt.xlabel('Age')\n",
        "plt.ylabel('Mpg')\n",
        "plt.show()"
      ],
      "execution_count": 69,
      "outputs": [
        {
          "output_type": "display_data",
          "data": {
            "image/png": "[encoded data removed]",
            "text/plain": [
              "<Figure size 864x576 with 1 Axes>"
            ]
          },
          "metadata": {
            "tags": [],
            "needs_background": "light"
          }
        }
      ]
    },
    {
      "cell_type": "code",
      "metadata": {
        "colab": {
          "base_uri": "https://localhost:8080/"
        },
        "id": "qprOL5iV_BbC",
        "outputId": "5f497fdc-058a-408a-b143-f9bbb52bc6e1"
      },
      "source": [
        "X = automobile_df[['Horsepower']]\n",
        "Y = automobile_df['MPG']\n",
        "\n",
        "x_train, x_test, y_train, y_test = train_test_split(X, Y, test_size=0.2)\n",
        "\n",
        "linear_model = LinearRegression(normalize=True).fit(x_train, y_train)\n",
        "\n",
        "print(\"Training score: \", linear_model.score(x_train, y_train))\n",
        "\n",
        "y_pred = linear_model.predict(x_test)\n",
        "\n",
        "print(\"Testing score: \", r2_score(y_test, y_pred))"
      ],
      "execution_count": 70,
      "outputs": [
        {
          "output_type": "stream",
          "text": [
            "Training score:  0.5826216735895272\n",
            "Testing score:  0.5637084527807568\n"
          ],
          "name": "stdout"
        }
      ]
    },
    {
      "cell_type": "code",
      "metadata": {
        "colab": {
          "base_uri": "https://localhost:8080/",
          "height": 497
        },
        "id": "MjVAsY1kAAob",
        "outputId": "5b4c837a-170e-49a0-f30e-63a4bdb901c8"
      },
      "source": [
        "fig, ax = plt.subplots(figsize=(12,8))\n",
        "\n",
        "plt.scatter(x_test, y_test)\n",
        "plt.plot(x_test, y_pred, color='r')\n",
        "\n",
        "plt.xlabel('Horsepower')\n",
        "plt.ylabel('Mpg')\n",
        "plt.show()"
      ],
      "execution_count": 71,
      "outputs": [
        {
          "output_type": "display_data",
          "data": {
            "image/png": "[encoded data removed]",
            "text/plain": [
              "<Figure size 864x576 with 1 Axes>"
            ]
          },
          "metadata": {
            "tags": [],
            "needs_background": "light"
          }
        }
      ]
    },
    {
      "cell_type": "code",
      "metadata": {
        "colab": {
          "base_uri": "https://localhost:8080/",
          "height": 206
        },
        "id": "6nSG2TIZAM2A",
        "outputId": "1302f014-fb4c-4131-fedc-8721d6ed46d2"
      },
      "source": [
        "automobile_df.head()"
      ],
      "execution_count": 72,
      "outputs": [
        {
          "output_type": "execute_result",
          "data": {
            "text/html": [
              "<div>\n",
              "<style scoped>\n",
              "    .dataframe tbody tr th:only-of-type {\n",
              "        vertical-align: middle;\n",
              "    }\n",
              "\n",
              "    .dataframe tbody tr th {\n",
              "        vertical-align: top;\n",
              "    }\n",
              "\n",
              "    .dataframe thead th {\n",
              "        text-align: right;\n",
              "    }\n",
              "</style>\n",
              "<table border=\"1\" class=\"dataframe\">\n",
              "  <thead>\n",
              "    <tr style=\"text-align: right;\">\n",
              "      <th></th>\n",
              "      <th>MPG</th>\n",
              "      <th>Cylinders</th>\n",
              "      <th>Displacement</th>\n",
              "      <th>Horsepower</th>\n",
              "      <th>Weight</th>\n",
              "      <th>Acceleration</th>\n",
              "      <th>Origin</th>\n",
              "      <th>Age</th>\n",
              "    </tr>\n",
              "  </thead>\n",
              "  <tbody>\n",
              "    <tr>\n",
              "      <th>0</th>\n",
              "      <td>18.000000</td>\n",
              "      <td>8</td>\n",
              "      <td>307.0</td>\n",
              "      <td>130</td>\n",
              "      <td>3504</td>\n",
              "      <td>12.0</td>\n",
              "      <td>US</td>\n",
              "      <td>51</td>\n",
              "    </tr>\n",
              "    <tr>\n",
              "      <th>1</th>\n",
              "      <td>16.000000</td>\n",
              "      <td>8</td>\n",
              "      <td>304.0</td>\n",
              "      <td>150</td>\n",
              "      <td>3433</td>\n",
              "      <td>12.0</td>\n",
              "      <td>US</td>\n",
              "      <td>51</td>\n",
              "    </tr>\n",
              "    <tr>\n",
              "      <th>2</th>\n",
              "      <td>17.000000</td>\n",
              "      <td>8</td>\n",
              "      <td>302.0</td>\n",
              "      <td>140</td>\n",
              "      <td>3449</td>\n",
              "      <td>10.5</td>\n",
              "      <td>US</td>\n",
              "      <td>51</td>\n",
              "    </tr>\n",
              "    <tr>\n",
              "      <th>3</th>\n",
              "      <td>14.000000</td>\n",
              "      <td>8</td>\n",
              "      <td>454.0</td>\n",
              "      <td>220</td>\n",
              "      <td>4354</td>\n",
              "      <td>9.0</td>\n",
              "      <td>US</td>\n",
              "      <td>51</td>\n",
              "    </tr>\n",
              "    <tr>\n",
              "      <th>4</th>\n",
              "      <td>23.551429</td>\n",
              "      <td>8</td>\n",
              "      <td>440.0</td>\n",
              "      <td>215</td>\n",
              "      <td>4312</td>\n",
              "      <td>8.5</td>\n",
              "      <td>US</td>\n",
              "      <td>51</td>\n",
              "    </tr>\n",
              "  </tbody>\n",
              "</table>\n",
              "</div>"
            ],
            "text/plain": [
              "         MPG  Cylinders  Displacement  ...  Acceleration  Origin  Age\n",
              "0  18.000000          8         307.0  ...          12.0      US   51\n",
              "1  16.000000          8         304.0  ...          12.0      US   51\n",
              "2  17.000000          8         302.0  ...          10.5      US   51\n",
              "3  14.000000          8         454.0  ...           9.0      US   51\n",
              "4  23.551429          8         440.0  ...           8.5      US   51\n",
              "\n",
              "[5 rows x 8 columns]"
            ]
          },
          "metadata": {
            "tags": []
          },
          "execution_count": 72
        }
      ]
    },
    {
      "cell_type": "code",
      "metadata": {
        "colab": {
          "base_uri": "https://localhost:8080/",
          "height": 206
        },
        "id": "WmU7A86_AY6L",
        "outputId": "600f6f9e-b9de-45c3-c127-52daf00e8b5e"
      },
      "source": [
        "automobile_df = pd.get_dummies(automobile_df, columns=['Origin'])\n",
        "\n",
        "automobile_df.head()"
      ],
      "execution_count": 73,
      "outputs": [
        {
          "output_type": "execute_result",
          "data": {
            "text/html": [
              "<div>\n",
              "<style scoped>\n",
              "    .dataframe tbody tr th:only-of-type {\n",
              "        vertical-align: middle;\n",
              "    }\n",
              "\n",
              "    .dataframe tbody tr th {\n",
              "        vertical-align: top;\n",
              "    }\n",
              "\n",
              "    .dataframe thead th {\n",
              "        text-align: right;\n",
              "    }\n",
              "</style>\n",
              "<table border=\"1\" class=\"dataframe\">\n",
              "  <thead>\n",
              "    <tr style=\"text-align: right;\">\n",
              "      <th></th>\n",
              "      <th>MPG</th>\n",
              "      <th>Cylinders</th>\n",
              "      <th>Displacement</th>\n",
              "      <th>Horsepower</th>\n",
              "      <th>Weight</th>\n",
              "      <th>Acceleration</th>\n",
              "      <th>Age</th>\n",
              "      <th>Origin_Europe</th>\n",
              "      <th>Origin_Japan</th>\n",
              "      <th>Origin_US</th>\n",
              "    </tr>\n",
              "  </thead>\n",
              "  <tbody>\n",
              "    <tr>\n",
              "      <th>0</th>\n",
              "      <td>18.000000</td>\n",
              "      <td>8</td>\n",
              "      <td>307.0</td>\n",
              "      <td>130</td>\n",
              "      <td>3504</td>\n",
              "      <td>12.0</td>\n",
              "      <td>51</td>\n",
              "      <td>0</td>\n",
              "      <td>0</td>\n",
              "      <td>1</td>\n",
              "    </tr>\n",
              "    <tr>\n",
              "      <th>1</th>\n",
              "      <td>16.000000</td>\n",
              "      <td>8</td>\n",
              "      <td>304.0</td>\n",
              "      <td>150</td>\n",
              "      <td>3433</td>\n",
              "      <td>12.0</td>\n",
              "      <td>51</td>\n",
              "      <td>0</td>\n",
              "      <td>0</td>\n",
              "      <td>1</td>\n",
              "    </tr>\n",
              "    <tr>\n",
              "      <th>2</th>\n",
              "      <td>17.000000</td>\n",
              "      <td>8</td>\n",
              "      <td>302.0</td>\n",
              "      <td>140</td>\n",
              "      <td>3449</td>\n",
              "      <td>10.5</td>\n",
              "      <td>51</td>\n",
              "      <td>0</td>\n",
              "      <td>0</td>\n",
              "      <td>1</td>\n",
              "    </tr>\n",
              "    <tr>\n",
              "      <th>3</th>\n",
              "      <td>14.000000</td>\n",
              "      <td>8</td>\n",
              "      <td>454.0</td>\n",
              "      <td>220</td>\n",
              "      <td>4354</td>\n",
              "      <td>9.0</td>\n",
              "      <td>51</td>\n",
              "      <td>0</td>\n",
              "      <td>0</td>\n",
              "      <td>1</td>\n",
              "    </tr>\n",
              "    <tr>\n",
              "      <th>4</th>\n",
              "      <td>23.551429</td>\n",
              "      <td>8</td>\n",
              "      <td>440.0</td>\n",
              "      <td>215</td>\n",
              "      <td>4312</td>\n",
              "      <td>8.5</td>\n",
              "      <td>51</td>\n",
              "      <td>0</td>\n",
              "      <td>0</td>\n",
              "      <td>1</td>\n",
              "    </tr>\n",
              "  </tbody>\n",
              "</table>\n",
              "</div>"
            ],
            "text/plain": [
              "         MPG  Cylinders  Displacement  ...  Origin_Europe  Origin_Japan  Origin_US\n",
              "0  18.000000          8         307.0  ...              0             0          1\n",
              "1  16.000000          8         304.0  ...              0             0          1\n",
              "2  17.000000          8         302.0  ...              0             0          1\n",
              "3  14.000000          8         454.0  ...              0             0          1\n",
              "4  23.551429          8         440.0  ...              0             0          1\n",
              "\n",
              "[5 rows x 10 columns]"
            ]
          },
          "metadata": {
            "tags": []
          },
          "execution_count": 73
        }
      ]
    },
    {
      "cell_type": "code",
      "metadata": {
        "colab": {
          "base_uri": "https://localhost:8080/"
        },
        "id": "yybd98W8Arqn",
        "outputId": "15d34e39-5dcb-4c88-ba8d-e189b16f0718"
      },
      "source": [
        "automobile_df.shape"
      ],
      "execution_count": 74,
      "outputs": [
        {
          "output_type": "execute_result",
          "data": {
            "text/plain": [
              "(387, 10)"
            ]
          },
          "metadata": {
            "tags": []
          },
          "execution_count": 74
        }
      ]
    },
    {
      "cell_type": "code",
      "metadata": {
        "colab": {
          "base_uri": "https://localhost:8080/"
        },
        "id": "yXY3R3J4Au-8",
        "outputId": "df843016-0a59-4c66-80c1-6430f05069fd"
      },
      "source": [
        "X = automobile_df.drop('MPG', axis=1)\n",
        "Y = automobile_df['MPG']\n",
        "\n",
        "x_train, x_test, y_train, y_test = train_test_split(X, Y, test_size=0.2)\n",
        "\n",
        "linear_model = LinearRegression(normalize=True).fit(x_train, y_train)\n",
        "\n",
        "print(\"Training score: \", linear_model.score(x_train, y_train))\n",
        "\n",
        "y_pred = linear_model.predict(x_test)\n",
        "\n",
        "print(\"Testing score: \", r2_score(y_test, y_pred))"
      ],
      "execution_count": 75,
      "outputs": [
        {
          "output_type": "stream",
          "text": [
            "Training score:  0.8121462323027945\n",
            "Testing score:  0.7515309981358829\n"
          ],
          "name": "stdout"
        }
      ]
    },
    {
      "cell_type": "markdown",
      "metadata": {
        "id": "Bc05U7FOFsxP"
      },
      "source": [
        "#Univariate Feature Imputation"
      ]
    },
    {
      "cell_type": "code",
      "metadata": {
        "id": "j0AbmNGNFwPY"
      },
      "source": [
        "import pandas as pd\n",
        "import numpy as np"
      ],
      "execution_count": 76,
      "outputs": []
    },
    {
      "cell_type": "code",
      "metadata": {
        "colab": {
          "base_uri": "https://localhost:8080/",
          "height": 206
        },
        "id": "T0lGIxatF6FU",
        "outputId": "5287dbf1-d461-48f2-d14d-50db1624ae03"
      },
      "source": [
        "diabetes = pd.read_csv('diabetes.csv')\n",
        "\n",
        "diabetes.head()"
      ],
      "execution_count": 77,
      "outputs": [
        {
          "output_type": "execute_result",
          "data": {
            "text/html": [
              "<div>\n",
              "<style scoped>\n",
              "    .dataframe tbody tr th:only-of-type {\n",
              "        vertical-align: middle;\n",
              "    }\n",
              "\n",
              "    .dataframe tbody tr th {\n",
              "        vertical-align: top;\n",
              "    }\n",
              "\n",
              "    .dataframe thead th {\n",
              "        text-align: right;\n",
              "    }\n",
              "</style>\n",
              "<table border=\"1\" class=\"dataframe\">\n",
              "  <thead>\n",
              "    <tr style=\"text-align: right;\">\n",
              "      <th></th>\n",
              "      <th>Pregnancies</th>\n",
              "      <th>Glucose</th>\n",
              "      <th>BloodPressure</th>\n",
              "      <th>SkinThickness</th>\n",
              "      <th>Insulin</th>\n",
              "      <th>BMI</th>\n",
              "      <th>DiabetesPedigreeFunction</th>\n",
              "      <th>Age</th>\n",
              "      <th>Outcome</th>\n",
              "    </tr>\n",
              "  </thead>\n",
              "  <tbody>\n",
              "    <tr>\n",
              "      <th>0</th>\n",
              "      <td>6</td>\n",
              "      <td>148</td>\n",
              "      <td>72</td>\n",
              "      <td>35</td>\n",
              "      <td>0</td>\n",
              "      <td>33.6</td>\n",
              "      <td>0.627</td>\n",
              "      <td>50</td>\n",
              "      <td>1</td>\n",
              "    </tr>\n",
              "    <tr>\n",
              "      <th>1</th>\n",
              "      <td>1</td>\n",
              "      <td>85</td>\n",
              "      <td>66</td>\n",
              "      <td>29</td>\n",
              "      <td>0</td>\n",
              "      <td>26.6</td>\n",
              "      <td>0.351</td>\n",
              "      <td>31</td>\n",
              "      <td>0</td>\n",
              "    </tr>\n",
              "    <tr>\n",
              "      <th>2</th>\n",
              "      <td>8</td>\n",
              "      <td>183</td>\n",
              "      <td>64</td>\n",
              "      <td>0</td>\n",
              "      <td>0</td>\n",
              "      <td>23.3</td>\n",
              "      <td>0.672</td>\n",
              "      <td>32</td>\n",
              "      <td>1</td>\n",
              "    </tr>\n",
              "    <tr>\n",
              "      <th>3</th>\n",
              "      <td>1</td>\n",
              "      <td>89</td>\n",
              "      <td>66</td>\n",
              "      <td>23</td>\n",
              "      <td>94</td>\n",
              "      <td>28.1</td>\n",
              "      <td>0.167</td>\n",
              "      <td>21</td>\n",
              "      <td>0</td>\n",
              "    </tr>\n",
              "    <tr>\n",
              "      <th>4</th>\n",
              "      <td>0</td>\n",
              "      <td>137</td>\n",
              "      <td>40</td>\n",
              "      <td>35</td>\n",
              "      <td>168</td>\n",
              "      <td>43.1</td>\n",
              "      <td>2.288</td>\n",
              "      <td>33</td>\n",
              "      <td>1</td>\n",
              "    </tr>\n",
              "  </tbody>\n",
              "</table>\n",
              "</div>"
            ],
            "text/plain": [
              "   Pregnancies  Glucose  BloodPressure  ...  DiabetesPedigreeFunction  Age  Outcome\n",
              "0            6      148             72  ...                     0.627   50        1\n",
              "1            1       85             66  ...                     0.351   31        0\n",
              "2            8      183             64  ...                     0.672   32        1\n",
              "3            1       89             66  ...                     0.167   21        0\n",
              "4            0      137             40  ...                     2.288   33        1\n",
              "\n",
              "[5 rows x 9 columns]"
            ]
          },
          "metadata": {
            "tags": []
          },
          "execution_count": 77
        }
      ]
    },
    {
      "cell_type": "code",
      "metadata": {
        "colab": {
          "base_uri": "https://localhost:8080/"
        },
        "id": "SctYkJPUGr4p",
        "outputId": "03a809af-50cf-4830-95e8-5d2162a9ab81"
      },
      "source": [
        "diabetes.shape"
      ],
      "execution_count": 78,
      "outputs": [
        {
          "output_type": "execute_result",
          "data": {
            "text/plain": [
              "(768, 9)"
            ]
          },
          "metadata": {
            "tags": []
          },
          "execution_count": 78
        }
      ]
    },
    {
      "cell_type": "code",
      "metadata": {
        "colab": {
          "base_uri": "https://localhost:8080/"
        },
        "id": "Xi1fUMICG7Ko",
        "outputId": "37ab6725-5944-4c0f-a093-931bdb4b39c5"
      },
      "source": [
        "diabetes.columns"
      ],
      "execution_count": 79,
      "outputs": [
        {
          "output_type": "execute_result",
          "data": {
            "text/plain": [
              "Index(['Pregnancies', 'Glucose', 'BloodPressure', 'SkinThickness', 'Insulin',\n",
              "       'BMI', 'DiabetesPedigreeFunction', 'Age', 'Outcome'],\n",
              "      dtype='object')"
            ]
          },
          "metadata": {
            "tags": []
          },
          "execution_count": 79
        }
      ]
    },
    {
      "cell_type": "code",
      "metadata": {
        "colab": {
          "base_uri": "https://localhost:8080/",
          "height": 300
        },
        "id": "1LcYh1EOG8ms",
        "outputId": "6245d143-2710-40be-be7e-7f483fd2ff1f"
      },
      "source": [
        "diabetes.describe()"
      ],
      "execution_count": 80,
      "outputs": [
        {
          "output_type": "execute_result",
          "data": {
            "text/html": [
              "<div>\n",
              "<style scoped>\n",
              "    .dataframe tbody tr th:only-of-type {\n",
              "        vertical-align: middle;\n",
              "    }\n",
              "\n",
              "    .dataframe tbody tr th {\n",
              "        vertical-align: top;\n",
              "    }\n",
              "\n",
              "    .dataframe thead th {\n",
              "        text-align: right;\n",
              "    }\n",
              "</style>\n",
              "<table border=\"1\" class=\"dataframe\">\n",
              "  <thead>\n",
              "    <tr style=\"text-align: right;\">\n",
              "      <th></th>\n",
              "      <th>Pregnancies</th>\n",
              "      <th>Glucose</th>\n",
              "      <th>BloodPressure</th>\n",
              "      <th>SkinThickness</th>\n",
              "      <th>Insulin</th>\n",
              "      <th>BMI</th>\n",
              "      <th>DiabetesPedigreeFunction</th>\n",
              "      <th>Age</th>\n",
              "      <th>Outcome</th>\n",
              "    </tr>\n",
              "  </thead>\n",
              "  <tbody>\n",
              "    <tr>\n",
              "      <th>count</th>\n",
              "      <td>768.000000</td>\n",
              "      <td>768.000000</td>\n",
              "      <td>768.000000</td>\n",
              "      <td>768.000000</td>\n",
              "      <td>768.000000</td>\n",
              "      <td>768.000000</td>\n",
              "      <td>768.000000</td>\n",
              "      <td>768.000000</td>\n",
              "      <td>768.000000</td>\n",
              "    </tr>\n",
              "    <tr>\n",
              "      <th>mean</th>\n",
              "      <td>3.845052</td>\n",
              "      <td>120.894531</td>\n",
              "      <td>69.105469</td>\n",
              "      <td>20.536458</td>\n",
              "      <td>79.799479</td>\n",
              "      <td>31.992578</td>\n",
              "      <td>0.471876</td>\n",
              "      <td>33.240885</td>\n",
              "      <td>0.348958</td>\n",
              "    </tr>\n",
              "    <tr>\n",
              "      <th>std</th>\n",
              "      <td>3.369578</td>\n",
              "      <td>31.972618</td>\n",
              "      <td>19.355807</td>\n",
              "      <td>15.952218</td>\n",
              "      <td>115.244002</td>\n",
              "      <td>7.884160</td>\n",
              "      <td>0.331329</td>\n",
              "      <td>11.760232</td>\n",
              "      <td>0.476951</td>\n",
              "    </tr>\n",
              "    <tr>\n",
              "      <th>min</th>\n",
              "      <td>0.000000</td>\n",
              "      <td>0.000000</td>\n",
              "      <td>0.000000</td>\n",
              "      <td>0.000000</td>\n",
              "      <td>0.000000</td>\n",
              "      <td>0.000000</td>\n",
              "      <td>0.078000</td>\n",
              "      <td>21.000000</td>\n",
              "      <td>0.000000</td>\n",
              "    </tr>\n",
              "    <tr>\n",
              "      <th>25%</th>\n",
              "      <td>1.000000</td>\n",
              "      <td>99.000000</td>\n",
              "      <td>62.000000</td>\n",
              "      <td>0.000000</td>\n",
              "      <td>0.000000</td>\n",
              "      <td>27.300000</td>\n",
              "      <td>0.243750</td>\n",
              "      <td>24.000000</td>\n",
              "      <td>0.000000</td>\n",
              "    </tr>\n",
              "    <tr>\n",
              "      <th>50%</th>\n",
              "      <td>3.000000</td>\n",
              "      <td>117.000000</td>\n",
              "      <td>72.000000</td>\n",
              "      <td>23.000000</td>\n",
              "      <td>30.500000</td>\n",
              "      <td>32.000000</td>\n",
              "      <td>0.372500</td>\n",
              "      <td>29.000000</td>\n",
              "      <td>0.000000</td>\n",
              "    </tr>\n",
              "    <tr>\n",
              "      <th>75%</th>\n",
              "      <td>6.000000</td>\n",
              "      <td>140.250000</td>\n",
              "      <td>80.000000</td>\n",
              "      <td>32.000000</td>\n",
              "      <td>127.250000</td>\n",
              "      <td>36.600000</td>\n",
              "      <td>0.626250</td>\n",
              "      <td>41.000000</td>\n",
              "      <td>1.000000</td>\n",
              "    </tr>\n",
              "    <tr>\n",
              "      <th>max</th>\n",
              "      <td>17.000000</td>\n",
              "      <td>199.000000</td>\n",
              "      <td>122.000000</td>\n",
              "      <td>99.000000</td>\n",
              "      <td>846.000000</td>\n",
              "      <td>67.100000</td>\n",
              "      <td>2.420000</td>\n",
              "      <td>81.000000</td>\n",
              "      <td>1.000000</td>\n",
              "    </tr>\n",
              "  </tbody>\n",
              "</table>\n",
              "</div>"
            ],
            "text/plain": [
              "       Pregnancies     Glucose  ...         Age     Outcome\n",
              "count   768.000000  768.000000  ...  768.000000  768.000000\n",
              "mean      3.845052  120.894531  ...   33.240885    0.348958\n",
              "std       3.369578   31.972618  ...   11.760232    0.476951\n",
              "min       0.000000    0.000000  ...   21.000000    0.000000\n",
              "25%       1.000000   99.000000  ...   24.000000    0.000000\n",
              "50%       3.000000  117.000000  ...   29.000000    0.000000\n",
              "75%       6.000000  140.250000  ...   41.000000    1.000000\n",
              "max      17.000000  199.000000  ...   81.000000    1.000000\n",
              "\n",
              "[8 rows x 9 columns]"
            ]
          },
          "metadata": {
            "tags": []
          },
          "execution_count": 80
        }
      ]
    },
    {
      "cell_type": "code",
      "metadata": {
        "colab": {
          "base_uri": "https://localhost:8080/"
        },
        "id": "-Ei0tbd_G_6d",
        "outputId": "a61cee34-9812-4a08-a370-728fa5a5aeae"
      },
      "source": [
        "diabetes.dtypes"
      ],
      "execution_count": 81,
      "outputs": [
        {
          "output_type": "execute_result",
          "data": {
            "text/plain": [
              "Pregnancies                   int64\n",
              "Glucose                       int64\n",
              "BloodPressure                 int64\n",
              "SkinThickness                 int64\n",
              "Insulin                       int64\n",
              "BMI                         float64\n",
              "DiabetesPedigreeFunction    float64\n",
              "Age                           int64\n",
              "Outcome                       int64\n",
              "dtype: object"
            ]
          },
          "metadata": {
            "tags": []
          },
          "execution_count": 81
        }
      ]
    },
    {
      "cell_type": "code",
      "metadata": {
        "colab": {
          "base_uri": "https://localhost:8080/"
        },
        "id": "iWZoNkyfHCRq",
        "outputId": "1b48c331-4f22-4a9b-9b0f-7a690ca6b8bd"
      },
      "source": [
        "diabetes.isnull().sum()"
      ],
      "execution_count": 82,
      "outputs": [
        {
          "output_type": "execute_result",
          "data": {
            "text/plain": [
              "Pregnancies                 0\n",
              "Glucose                     0\n",
              "BloodPressure               0\n",
              "SkinThickness               0\n",
              "Insulin                     0\n",
              "BMI                         0\n",
              "DiabetesPedigreeFunction    0\n",
              "Age                         0\n",
              "Outcome                     0\n",
              "dtype: int64"
            ]
          },
          "metadata": {
            "tags": []
          },
          "execution_count": 82
        }
      ]
    },
    {
      "cell_type": "code",
      "metadata": {
        "colab": {
          "base_uri": "https://localhost:8080/"
        },
        "id": "FTgBJl9WHF-m",
        "outputId": "7d2c2e9a-179a-4fb6-9e74-1d2c8b69c7b7"
      },
      "source": [
        "diabetes.info()"
      ],
      "execution_count": 83,
      "outputs": [
        {
          "output_type": "stream",
          "text": [
            "<class 'pandas.core.frame.DataFrame'>\n",
            "RangeIndex: 768 entries, 0 to 767\n",
            "Data columns (total 9 columns):\n",
            " #   Column                    Non-Null Count  Dtype  \n",
            "---  ------                    --------------  -----  \n",
            " 0   Pregnancies               768 non-null    int64  \n",
            " 1   Glucose                   768 non-null    int64  \n",
            " 2   BloodPressure             768 non-null    int64  \n",
            " 3   SkinThickness             768 non-null    int64  \n",
            " 4   Insulin                   768 non-null    int64  \n",
            " 5   BMI                       768 non-null    float64\n",
            " 6   DiabetesPedigreeFunction  768 non-null    float64\n",
            " 7   Age                       768 non-null    int64  \n",
            " 8   Outcome                   768 non-null    int64  \n",
            "dtypes: float64(2), int64(7)\n",
            "memory usage: 54.1 KB\n"
          ],
          "name": "stdout"
        }
      ]
    },
    {
      "cell_type": "code",
      "metadata": {
        "colab": {
          "base_uri": "https://localhost:8080/",
          "height": 331
        },
        "id": "4ew_ueTCHX_0",
        "outputId": "1a8d7ffc-4721-41fc-9a5a-18bf879ab027"
      },
      "source": [
        "diabetes.describe().transpose()"
      ],
      "execution_count": 84,
      "outputs": [
        {
          "output_type": "execute_result",
          "data": {
            "text/html": [
              "<div>\n",
              "<style scoped>\n",
              "    .dataframe tbody tr th:only-of-type {\n",
              "        vertical-align: middle;\n",
              "    }\n",
              "\n",
              "    .dataframe tbody tr th {\n",
              "        vertical-align: top;\n",
              "    }\n",
              "\n",
              "    .dataframe thead th {\n",
              "        text-align: right;\n",
              "    }\n",
              "</style>\n",
              "<table border=\"1\" class=\"dataframe\">\n",
              "  <thead>\n",
              "    <tr style=\"text-align: right;\">\n",
              "      <th></th>\n",
              "      <th>count</th>\n",
              "      <th>mean</th>\n",
              "      <th>std</th>\n",
              "      <th>min</th>\n",
              "      <th>25%</th>\n",
              "      <th>50%</th>\n",
              "      <th>75%</th>\n",
              "      <th>max</th>\n",
              "    </tr>\n",
              "  </thead>\n",
              "  <tbody>\n",
              "    <tr>\n",
              "      <th>Pregnancies</th>\n",
              "      <td>768.0</td>\n",
              "      <td>3.845052</td>\n",
              "      <td>3.369578</td>\n",
              "      <td>0.000</td>\n",
              "      <td>1.00000</td>\n",
              "      <td>3.0000</td>\n",
              "      <td>6.00000</td>\n",
              "      <td>17.00</td>\n",
              "    </tr>\n",
              "    <tr>\n",
              "      <th>Glucose</th>\n",
              "      <td>768.0</td>\n",
              "      <td>120.894531</td>\n",
              "      <td>31.972618</td>\n",
              "      <td>0.000</td>\n",
              "      <td>99.00000</td>\n",
              "      <td>117.0000</td>\n",
              "      <td>140.25000</td>\n",
              "      <td>199.00</td>\n",
              "    </tr>\n",
              "    <tr>\n",
              "      <th>BloodPressure</th>\n",
              "      <td>768.0</td>\n",
              "      <td>69.105469</td>\n",
              "      <td>19.355807</td>\n",
              "      <td>0.000</td>\n",
              "      <td>62.00000</td>\n",
              "      <td>72.0000</td>\n",
              "      <td>80.00000</td>\n",
              "      <td>122.00</td>\n",
              "    </tr>\n",
              "    <tr>\n",
              "      <th>SkinThickness</th>\n",
              "      <td>768.0</td>\n",
              "      <td>20.536458</td>\n",
              "      <td>15.952218</td>\n",
              "      <td>0.000</td>\n",
              "      <td>0.00000</td>\n",
              "      <td>23.0000</td>\n",
              "      <td>32.00000</td>\n",
              "      <td>99.00</td>\n",
              "    </tr>\n",
              "    <tr>\n",
              "      <th>Insulin</th>\n",
              "      <td>768.0</td>\n",
              "      <td>79.799479</td>\n",
              "      <td>115.244002</td>\n",
              "      <td>0.000</td>\n",
              "      <td>0.00000</td>\n",
              "      <td>30.5000</td>\n",
              "      <td>127.25000</td>\n",
              "      <td>846.00</td>\n",
              "    </tr>\n",
              "    <tr>\n",
              "      <th>BMI</th>\n",
              "      <td>768.0</td>\n",
              "      <td>31.992578</td>\n",
              "      <td>7.884160</td>\n",
              "      <td>0.000</td>\n",
              "      <td>27.30000</td>\n",
              "      <td>32.0000</td>\n",
              "      <td>36.60000</td>\n",
              "      <td>67.10</td>\n",
              "    </tr>\n",
              "    <tr>\n",
              "      <th>DiabetesPedigreeFunction</th>\n",
              "      <td>768.0</td>\n",
              "      <td>0.471876</td>\n",
              "      <td>0.331329</td>\n",
              "      <td>0.078</td>\n",
              "      <td>0.24375</td>\n",
              "      <td>0.3725</td>\n",
              "      <td>0.62625</td>\n",
              "      <td>2.42</td>\n",
              "    </tr>\n",
              "    <tr>\n",
              "      <th>Age</th>\n",
              "      <td>768.0</td>\n",
              "      <td>33.240885</td>\n",
              "      <td>11.760232</td>\n",
              "      <td>21.000</td>\n",
              "      <td>24.00000</td>\n",
              "      <td>29.0000</td>\n",
              "      <td>41.00000</td>\n",
              "      <td>81.00</td>\n",
              "    </tr>\n",
              "    <tr>\n",
              "      <th>Outcome</th>\n",
              "      <td>768.0</td>\n",
              "      <td>0.348958</td>\n",
              "      <td>0.476951</td>\n",
              "      <td>0.000</td>\n",
              "      <td>0.00000</td>\n",
              "      <td>0.0000</td>\n",
              "      <td>1.00000</td>\n",
              "      <td>1.00</td>\n",
              "    </tr>\n",
              "  </tbody>\n",
              "</table>\n",
              "</div>"
            ],
            "text/plain": [
              "                          count        mean  ...        75%     max\n",
              "Pregnancies               768.0    3.845052  ...    6.00000   17.00\n",
              "Glucose                   768.0  120.894531  ...  140.25000  199.00\n",
              "BloodPressure             768.0   69.105469  ...   80.00000  122.00\n",
              "SkinThickness             768.0   20.536458  ...   32.00000   99.00\n",
              "Insulin                   768.0   79.799479  ...  127.25000  846.00\n",
              "BMI                       768.0   31.992578  ...   36.60000   67.10\n",
              "DiabetesPedigreeFunction  768.0    0.471876  ...    0.62625    2.42\n",
              "Age                       768.0   33.240885  ...   41.00000   81.00\n",
              "Outcome                   768.0    0.348958  ...    1.00000    1.00\n",
              "\n",
              "[9 rows x 8 columns]"
            ]
          },
          "metadata": {
            "tags": []
          },
          "execution_count": 84
        }
      ]
    },
    {
      "cell_type": "code",
      "metadata": {
        "id": "2Bf3n9jPHnZY"
      },
      "source": [
        "diabetes['Glucose'].replace(0, np.nan, inplace=True)\n",
        "diabetes['BloodPressure'].replace(0, np.nan, inplace=True)\n",
        "diabetes['SkinThickness'].replace(0, np.nan, inplace=True)\n",
        "diabetes['Insulin'].replace(0, np.nan, inplace=True)\n",
        "diabetes['BMI'].replace(0, np.nan, inplace=True)"
      ],
      "execution_count": 85,
      "outputs": []
    },
    {
      "cell_type": "code",
      "metadata": {
        "colab": {
          "base_uri": "https://localhost:8080/",
          "height": 331
        },
        "id": "B7WXMuNrH-yI",
        "outputId": "94ad61db-b57a-4dd8-9a72-1f774fe0abfe"
      },
      "source": [
        "diabetes.describe().transpose()"
      ],
      "execution_count": 86,
      "outputs": [
        {
          "output_type": "execute_result",
          "data": {
            "text/html": [
              "<div>\n",
              "<style scoped>\n",
              "    .dataframe tbody tr th:only-of-type {\n",
              "        vertical-align: middle;\n",
              "    }\n",
              "\n",
              "    .dataframe tbody tr th {\n",
              "        vertical-align: top;\n",
              "    }\n",
              "\n",
              "    .dataframe thead th {\n",
              "        text-align: right;\n",
              "    }\n",
              "</style>\n",
              "<table border=\"1\" class=\"dataframe\">\n",
              "  <thead>\n",
              "    <tr style=\"text-align: right;\">\n",
              "      <th></th>\n",
              "      <th>count</th>\n",
              "      <th>mean</th>\n",
              "      <th>std</th>\n",
              "      <th>min</th>\n",
              "      <th>25%</th>\n",
              "      <th>50%</th>\n",
              "      <th>75%</th>\n",
              "      <th>max</th>\n",
              "    </tr>\n",
              "  </thead>\n",
              "  <tbody>\n",
              "    <tr>\n",
              "      <th>Pregnancies</th>\n",
              "      <td>768.0</td>\n",
              "      <td>3.845052</td>\n",
              "      <td>3.369578</td>\n",
              "      <td>0.000</td>\n",
              "      <td>1.00000</td>\n",
              "      <td>3.0000</td>\n",
              "      <td>6.00000</td>\n",
              "      <td>17.00</td>\n",
              "    </tr>\n",
              "    <tr>\n",
              "      <th>Glucose</th>\n",
              "      <td>763.0</td>\n",
              "      <td>121.686763</td>\n",
              "      <td>30.535641</td>\n",
              "      <td>44.000</td>\n",
              "      <td>99.00000</td>\n",
              "      <td>117.0000</td>\n",
              "      <td>141.00000</td>\n",
              "      <td>199.00</td>\n",
              "    </tr>\n",
              "    <tr>\n",
              "      <th>BloodPressure</th>\n",
              "      <td>733.0</td>\n",
              "      <td>72.405184</td>\n",
              "      <td>12.382158</td>\n",
              "      <td>24.000</td>\n",
              "      <td>64.00000</td>\n",
              "      <td>72.0000</td>\n",
              "      <td>80.00000</td>\n",
              "      <td>122.00</td>\n",
              "    </tr>\n",
              "    <tr>\n",
              "      <th>SkinThickness</th>\n",
              "      <td>541.0</td>\n",
              "      <td>29.153420</td>\n",
              "      <td>10.476982</td>\n",
              "      <td>7.000</td>\n",
              "      <td>22.00000</td>\n",
              "      <td>29.0000</td>\n",
              "      <td>36.00000</td>\n",
              "      <td>99.00</td>\n",
              "    </tr>\n",
              "    <tr>\n",
              "      <th>Insulin</th>\n",
              "      <td>394.0</td>\n",
              "      <td>155.548223</td>\n",
              "      <td>118.775855</td>\n",
              "      <td>14.000</td>\n",
              "      <td>76.25000</td>\n",
              "      <td>125.0000</td>\n",
              "      <td>190.00000</td>\n",
              "      <td>846.00</td>\n",
              "    </tr>\n",
              "    <tr>\n",
              "      <th>BMI</th>\n",
              "      <td>757.0</td>\n",
              "      <td>32.457464</td>\n",
              "      <td>6.924988</td>\n",
              "      <td>18.200</td>\n",
              "      <td>27.50000</td>\n",
              "      <td>32.3000</td>\n",
              "      <td>36.60000</td>\n",
              "      <td>67.10</td>\n",
              "    </tr>\n",
              "    <tr>\n",
              "      <th>DiabetesPedigreeFunction</th>\n",
              "      <td>768.0</td>\n",
              "      <td>0.471876</td>\n",
              "      <td>0.331329</td>\n",
              "      <td>0.078</td>\n",
              "      <td>0.24375</td>\n",
              "      <td>0.3725</td>\n",
              "      <td>0.62625</td>\n",
              "      <td>2.42</td>\n",
              "    </tr>\n",
              "    <tr>\n",
              "      <th>Age</th>\n",
              "      <td>768.0</td>\n",
              "      <td>33.240885</td>\n",
              "      <td>11.760232</td>\n",
              "      <td>21.000</td>\n",
              "      <td>24.00000</td>\n",
              "      <td>29.0000</td>\n",
              "      <td>41.00000</td>\n",
              "      <td>81.00</td>\n",
              "    </tr>\n",
              "    <tr>\n",
              "      <th>Outcome</th>\n",
              "      <td>768.0</td>\n",
              "      <td>0.348958</td>\n",
              "      <td>0.476951</td>\n",
              "      <td>0.000</td>\n",
              "      <td>0.00000</td>\n",
              "      <td>0.0000</td>\n",
              "      <td>1.00000</td>\n",
              "      <td>1.00</td>\n",
              "    </tr>\n",
              "  </tbody>\n",
              "</table>\n",
              "</div>"
            ],
            "text/plain": [
              "                          count        mean  ...        75%     max\n",
              "Pregnancies               768.0    3.845052  ...    6.00000   17.00\n",
              "Glucose                   763.0  121.686763  ...  141.00000  199.00\n",
              "BloodPressure             733.0   72.405184  ...   80.00000  122.00\n",
              "SkinThickness             541.0   29.153420  ...   36.00000   99.00\n",
              "Insulin                   394.0  155.548223  ...  190.00000  846.00\n",
              "BMI                       757.0   32.457464  ...   36.60000   67.10\n",
              "DiabetesPedigreeFunction  768.0    0.471876  ...    0.62625    2.42\n",
              "Age                       768.0   33.240885  ...   41.00000   81.00\n",
              "Outcome                   768.0    0.348958  ...    1.00000    1.00\n",
              "\n",
              "[9 rows x 8 columns]"
            ]
          },
          "metadata": {
            "tags": []
          },
          "execution_count": 86
        }
      ]
    },
    {
      "cell_type": "code",
      "metadata": {
        "colab": {
          "base_uri": "https://localhost:8080/"
        },
        "id": "WA8PahaqICDj",
        "outputId": "942cb778-b3a8-4edf-e1bc-e07f823fb27e"
      },
      "source": [
        "diabetes.info()"
      ],
      "execution_count": 87,
      "outputs": [
        {
          "output_type": "stream",
          "text": [
            "<class 'pandas.core.frame.DataFrame'>\n",
            "RangeIndex: 768 entries, 0 to 767\n",
            "Data columns (total 9 columns):\n",
            " #   Column                    Non-Null Count  Dtype  \n",
            "---  ------                    --------------  -----  \n",
            " 0   Pregnancies               768 non-null    int64  \n",
            " 1   Glucose                   763 non-null    float64\n",
            " 2   BloodPressure             733 non-null    float64\n",
            " 3   SkinThickness             541 non-null    float64\n",
            " 4   Insulin                   394 non-null    float64\n",
            " 5   BMI                       757 non-null    float64\n",
            " 6   DiabetesPedigreeFunction  768 non-null    float64\n",
            " 7   Age                       768 non-null    int64  \n",
            " 8   Outcome                   768 non-null    int64  \n",
            "dtypes: float64(6), int64(3)\n",
            "memory usage: 54.1 KB\n"
          ],
          "name": "stdout"
        }
      ]
    },
    {
      "cell_type": "code",
      "metadata": {
        "colab": {
          "base_uri": "https://localhost:8080/"
        },
        "id": "8PxbHAVpIE8V",
        "outputId": "004d64e9-6617-4cea-cf6f-c0238a763326"
      },
      "source": [
        "diabetes.isnull().sum()"
      ],
      "execution_count": 88,
      "outputs": [
        {
          "output_type": "execute_result",
          "data": {
            "text/plain": [
              "Pregnancies                   0\n",
              "Glucose                       5\n",
              "BloodPressure                35\n",
              "SkinThickness               227\n",
              "Insulin                     374\n",
              "BMI                          11\n",
              "DiabetesPedigreeFunction      0\n",
              "Age                           0\n",
              "Outcome                       0\n",
              "dtype: int64"
            ]
          },
          "metadata": {
            "tags": []
          },
          "execution_count": 88
        }
      ]
    },
    {
      "cell_type": "code",
      "metadata": {
        "colab": {
          "base_uri": "https://localhost:8080/"
        },
        "id": "W4NaLyfQIIVL",
        "outputId": "0df6b872-3986-4d4f-9363-67b4889d48ac"
      },
      "source": [
        "arr = diabetes['SkinThickness'].values.reshape(-1,1)\n",
        "\n",
        "arr.shape"
      ],
      "execution_count": 89,
      "outputs": [
        {
          "output_type": "execute_result",
          "data": {
            "text/plain": [
              "(768, 1)"
            ]
          },
          "metadata": {
            "tags": []
          },
          "execution_count": 89
        }
      ]
    },
    {
      "cell_type": "code",
      "metadata": {
        "id": "qXRrQ8ZIIWkh"
      },
      "source": [
        "from sklearn.impute import SimpleImputer"
      ],
      "execution_count": 90,
      "outputs": []
    },
    {
      "cell_type": "code",
      "metadata": {
        "id": "C059gd7SIrGQ"
      },
      "source": [
        "imp = SimpleImputer(missing_values=np.nan, strategy='most_frequent')\n",
        "\n",
        "imp.fit(diabetes['SkinThickness'].values.reshape(-1,1))\n",
        "\n",
        "diabetes['SkinThickness'] = imp.transform(diabetes['SkinThickness'].values.reshape(-1,1))"
      ],
      "execution_count": 91,
      "outputs": []
    },
    {
      "cell_type": "code",
      "metadata": {
        "colab": {
          "base_uri": "https://localhost:8080/"
        },
        "id": "DhI5H4vxJx62",
        "outputId": "0e4ab739-3a65-42c9-b306-00dc9b49cd8c"
      },
      "source": [
        "diabetes['SkinThickness'].describe()"
      ],
      "execution_count": 92,
      "outputs": [
        {
          "output_type": "execute_result",
          "data": {
            "text/plain": [
              "count    768.000000\n",
              "mean      29.994792\n",
              "std        8.886506\n",
              "min        7.000000\n",
              "25%       25.000000\n",
              "50%       32.000000\n",
              "75%       32.000000\n",
              "max       99.000000\n",
              "Name: SkinThickness, dtype: float64"
            ]
          },
          "metadata": {
            "tags": []
          },
          "execution_count": 92
        }
      ]
    },
    {
      "cell_type": "code",
      "metadata": {
        "colab": {
          "base_uri": "https://localhost:8080/"
        },
        "id": "3WztNj33J1Op",
        "outputId": "2a64908f-4f91-4ce8-fc24-59612e607715"
      },
      "source": [
        "diabetes.isnull().sum()"
      ],
      "execution_count": 93,
      "outputs": [
        {
          "output_type": "execute_result",
          "data": {
            "text/plain": [
              "Pregnancies                   0\n",
              "Glucose                       5\n",
              "BloodPressure                35\n",
              "SkinThickness                 0\n",
              "Insulin                     374\n",
              "BMI                          11\n",
              "DiabetesPedigreeFunction      0\n",
              "Age                           0\n",
              "Outcome                       0\n",
              "dtype: int64"
            ]
          },
          "metadata": {
            "tags": []
          },
          "execution_count": 93
        }
      ]
    },
    {
      "cell_type": "code",
      "metadata": {
        "id": "gKN5jo7KJ-rP"
      },
      "source": [
        "imp = SimpleImputer(missing_values=np.nan, strategy='median')\n",
        "\n",
        "imp.fit(diabetes['Glucose'].values.reshape(-1,1))\n",
        "\n",
        "diabetes['Glucose'] = imp.transform(diabetes['Glucose'].values.reshape(-1,1))"
      ],
      "execution_count": 94,
      "outputs": []
    },
    {
      "cell_type": "code",
      "metadata": {
        "colab": {
          "base_uri": "https://localhost:8080/"
        },
        "id": "9qvv1reHKJmg",
        "outputId": "cad9a3bc-ccd1-4eb9-8a28-d7d7f44e1118"
      },
      "source": [
        "diabetes['Glucose'].describe()"
      ],
      "execution_count": 95,
      "outputs": [
        {
          "output_type": "execute_result",
          "data": {
            "text/plain": [
              "count    768.000000\n",
              "mean     121.656250\n",
              "std       30.438286\n",
              "min       44.000000\n",
              "25%       99.750000\n",
              "50%      117.000000\n",
              "75%      140.250000\n",
              "max      199.000000\n",
              "Name: Glucose, dtype: float64"
            ]
          },
          "metadata": {
            "tags": []
          },
          "execution_count": 95
        }
      ]
    },
    {
      "cell_type": "code",
      "metadata": {
        "colab": {
          "base_uri": "https://localhost:8080/"
        },
        "id": "pec0PVqUKMr_",
        "outputId": "5bd9c236-d225-4bad-9d7c-a6c8a131ecb4"
      },
      "source": [
        "diabetes.isnull().sum()"
      ],
      "execution_count": 96,
      "outputs": [
        {
          "output_type": "execute_result",
          "data": {
            "text/plain": [
              "Pregnancies                   0\n",
              "Glucose                       0\n",
              "BloodPressure                35\n",
              "SkinThickness                 0\n",
              "Insulin                     374\n",
              "BMI                          11\n",
              "DiabetesPedigreeFunction      0\n",
              "Age                           0\n",
              "Outcome                       0\n",
              "dtype: int64"
            ]
          },
          "metadata": {
            "tags": []
          },
          "execution_count": 96
        }
      ]
    },
    {
      "cell_type": "code",
      "metadata": {
        "id": "zU5F7kp3KP2M"
      },
      "source": [
        "imp = SimpleImputer(missing_values=np.nan, strategy='mean')\n",
        "\n",
        "imp.fit(diabetes['BloodPressure'].values.reshape(-1,1))\n",
        "\n",
        "diabetes['BloodPressure'] = imp.transform(diabetes['BloodPressure'].values.reshape(-1,1))"
      ],
      "execution_count": 97,
      "outputs": []
    },
    {
      "cell_type": "code",
      "metadata": {
        "colab": {
          "base_uri": "https://localhost:8080/"
        },
        "id": "aXElfcmdKfea",
        "outputId": "69e63e7d-eb17-4409-8c03-bc015e95e929"
      },
      "source": [
        "diabetes['BloodPressure'].describe()"
      ],
      "execution_count": 98,
      "outputs": [
        {
          "output_type": "execute_result",
          "data": {
            "text/plain": [
              "count    768.000000\n",
              "mean      72.405184\n",
              "std       12.096346\n",
              "min       24.000000\n",
              "25%       64.000000\n",
              "50%       72.202592\n",
              "75%       80.000000\n",
              "max      122.000000\n",
              "Name: BloodPressure, dtype: float64"
            ]
          },
          "metadata": {
            "tags": []
          },
          "execution_count": 98
        }
      ]
    },
    {
      "cell_type": "code",
      "metadata": {
        "colab": {
          "base_uri": "https://localhost:8080/"
        },
        "id": "VKrigYv3KiT9",
        "outputId": "11f916e2-aeb9-474a-fff3-46bcbe00360c"
      },
      "source": [
        "diabetes.isnull().sum()"
      ],
      "execution_count": 99,
      "outputs": [
        {
          "output_type": "execute_result",
          "data": {
            "text/plain": [
              "Pregnancies                   0\n",
              "Glucose                       0\n",
              "BloodPressure                 0\n",
              "SkinThickness                 0\n",
              "Insulin                     374\n",
              "BMI                          11\n",
              "DiabetesPedigreeFunction      0\n",
              "Age                           0\n",
              "Outcome                       0\n",
              "dtype: int64"
            ]
          },
          "metadata": {
            "tags": []
          },
          "execution_count": 99
        }
      ]
    },
    {
      "cell_type": "code",
      "metadata": {
        "id": "FjHDmb4yKk2x"
      },
      "source": [
        "imp = SimpleImputer(missing_values=np.nan, strategy='constant', fill_value=32)\n",
        "\n",
        "imp.fit(diabetes['BMI'].values.reshape(-1,1))\n",
        "\n",
        "diabetes['BMI'] = imp.transform(diabetes['BMI'].values.reshape(-1,1))"
      ],
      "execution_count": 100,
      "outputs": []
    },
    {
      "cell_type": "code",
      "metadata": {
        "colab": {
          "base_uri": "https://localhost:8080/"
        },
        "id": "F0bJKbK-K2O0",
        "outputId": "1331f28c-1afb-430e-9916-b5485ef31129"
      },
      "source": [
        "diabetes['BMI'].describe()"
      ],
      "execution_count": 101,
      "outputs": [
        {
          "output_type": "execute_result",
          "data": {
            "text/plain": [
              "count    768.000000\n",
              "mean      32.450911\n",
              "std        6.875366\n",
              "min       18.200000\n",
              "25%       27.500000\n",
              "50%       32.000000\n",
              "75%       36.600000\n",
              "max       67.100000\n",
              "Name: BMI, dtype: float64"
            ]
          },
          "metadata": {
            "tags": []
          },
          "execution_count": 101
        }
      ]
    },
    {
      "cell_type": "code",
      "metadata": {
        "colab": {
          "base_uri": "https://localhost:8080/"
        },
        "id": "gftN9QmDK4iV",
        "outputId": "d55db4c7-4e7e-4e1d-d3dd-2d0a95927c55"
      },
      "source": [
        "diabetes.isnull().sum()"
      ],
      "execution_count": 102,
      "outputs": [
        {
          "output_type": "execute_result",
          "data": {
            "text/plain": [
              "Pregnancies                   0\n",
              "Glucose                       0\n",
              "BloodPressure                 0\n",
              "SkinThickness                 0\n",
              "Insulin                     374\n",
              "BMI                           0\n",
              "DiabetesPedigreeFunction      0\n",
              "Age                           0\n",
              "Outcome                       0\n",
              "dtype: int64"
            ]
          },
          "metadata": {
            "tags": []
          },
          "execution_count": 102
        }
      ]
    },
    {
      "cell_type": "code",
      "metadata": {
        "colab": {
          "base_uri": "https://localhost:8080/"
        },
        "id": "uJTkviVoK7uo",
        "outputId": "8c9a8204-22ca-4124-c533-32b92cdbc279"
      },
      "source": [
        "diabetes.to_csv('diabetes_processed_incomplete.csv', index=False)\n",
        "\n",
        "!ls"
      ],
      "execution_count": 103,
      "outputs": [
        {
          "output_type": "stream",
          "text": [
            "cars.csv\t    diabetes.csv\t\t       sample_data\n",
            "cars_processed.csv  diabetes_processed_incomplete.csv\n"
          ],
          "name": "stdout"
        }
      ]
    },
    {
      "cell_type": "markdown",
      "metadata": {
        "id": "iIJTlWwQN52w"
      },
      "source": [
        "#Multivariate Feature Imputation"
      ]
    },
    {
      "cell_type": "code",
      "metadata": {
        "id": "zfyTOGx8N9Ij"
      },
      "source": [
        "import pandas as pd\n",
        "import numpy as np"
      ],
      "execution_count": 104,
      "outputs": []
    },
    {
      "cell_type": "code",
      "metadata": {
        "id": "II_ltiJpOBal"
      },
      "source": [
        "from sklearn.experimental import enable_iterative_imputer\n",
        "from sklearn.impute import IterativeImputer"
      ],
      "execution_count": 105,
      "outputs": []
    },
    {
      "cell_type": "code",
      "metadata": {
        "id": "bUa9cwmiOMLo"
      },
      "source": [
        "imp = IterativeImputer(max_iter=100, random_state=0)"
      ],
      "execution_count": 106,
      "outputs": []
    },
    {
      "cell_type": "code",
      "metadata": {
        "id": "3JI4CNYeOewB"
      },
      "source": [
        "features = [[4, 2, 1],\n",
        "            [24, 12, 6],\n",
        "            [8, np.nan, 2],\n",
        "            [28, 14, 7],\n",
        "            [32, 16, np.nan],\n",
        "            [600, 300, 150],\n",
        "            [np.nan, 60, 30],\n",
        "            [np.nan, np.nan, 1]]"
      ],
      "execution_count": 107,
      "outputs": []
    },
    {
      "cell_type": "code",
      "metadata": {
        "colab": {
          "base_uri": "https://localhost:8080/"
        },
        "id": "1QjSPY-W8yrm",
        "outputId": "ff299d4d-76e8-4660-80d4-04dbd1a6827a"
      },
      "source": [
        "imp.fit(features)"
      ],
      "execution_count": 108,
      "outputs": [
        {
          "output_type": "execute_result",
          "data": {
            "text/plain": [
              "IterativeImputer(add_indicator=False, estimator=None,\n",
              "                 imputation_order='ascending', initial_strategy='mean',\n",
              "                 max_iter=100, max_value=None, min_value=None,\n",
              "                 missing_values=nan, n_nearest_features=None, random_state=0,\n",
              "                 sample_posterior=False, skip_complete=False, tol=0.001,\n",
              "                 verbose=0)"
            ]
          },
          "metadata": {
            "tags": []
          },
          "execution_count": 108
        }
      ]
    },
    {
      "cell_type": "code",
      "metadata": {
        "colab": {
          "base_uri": "https://localhost:8080/"
        },
        "id": "vOzgaDxs863y",
        "outputId": "1dc2d5ab-35a2-4955-bb64-8f5ecdcc0002"
      },
      "source": [
        "imp.transform(features)"
      ],
      "execution_count": 109,
      "outputs": [
        {
          "output_type": "execute_result",
          "data": {
            "text/plain": [
              "array([[  4.        ,   2.        ,   1.        ],\n",
              "       [ 24.        ,  12.        ,   6.        ],\n",
              "       [  8.        ,   3.99965998,   2.        ],\n",
              "       [ 28.        ,  14.        ,   7.        ],\n",
              "       [ 32.        ,  16.        ,   7.92735309],\n",
              "       [600.        , 300.        , 150.        ],\n",
              "       [120.00314828,  60.        ,  30.        ],\n",
              "       [  5.58961596,   2.79614861,   1.        ]])"
            ]
          },
          "metadata": {
            "tags": []
          },
          "execution_count": 109
        }
      ]
    },
    {
      "cell_type": "code",
      "metadata": {
        "id": "MyZLb4Uu9BB_"
      },
      "source": [
        "X_test = [[np.nan, 24, 12],\n",
        "          [36, np.nan, np.nan],\n",
        "          [100, np.nan, 25],\n",
        "          [np.nan, 6, 3],\n",
        "          [np.nan, 8, np.nan]]"
      ],
      "execution_count": 110,
      "outputs": []
    },
    {
      "cell_type": "code",
      "metadata": {
        "colab": {
          "base_uri": "https://localhost:8080/"
        },
        "id": "FYxMxh0m9YX3",
        "outputId": "a91b7e0e-1554-407f-dd21-00bb86691960"
      },
      "source": [
        "imp.transform(X_test)"
      ],
      "execution_count": 111,
      "outputs": [
        {
          "output_type": "execute_result",
          "data": {
            "text/plain": [
              "array([[ 48.00364632,  24.        ,  12.        ],\n",
              "       [ 36.        ,  17.99997414,   8.92708811],\n",
              "       [100.        ,  49.99967878,  25.        ],\n",
              "       [ 12.00389534,   6.        ,   3.        ],\n",
              "       [ 16.12053691,   8.        ,   5.86176343]])"
            ]
          },
          "metadata": {
            "tags": []
          },
          "execution_count": 111
        }
      ]
    },
    {
      "cell_type": "code",
      "metadata": {
        "colab": {
          "base_uri": "https://localhost:8080/",
          "height": 363
        },
        "id": "oZPuvWIS9cCv",
        "outputId": "7a89a170-b8ed-4824-fbc5-a720df5ffdd1"
      },
      "source": [
        "diabetes = pd.read_csv('diabetes_processed_incomplete.csv')\n",
        "\n",
        "diabetes.head(10)"
      ],
      "execution_count": 112,
      "outputs": [
        {
          "output_type": "execute_result",
          "data": {
            "text/html": [
              "<div>\n",
              "<style scoped>\n",
              "    .dataframe tbody tr th:only-of-type {\n",
              "        vertical-align: middle;\n",
              "    }\n",
              "\n",
              "    .dataframe tbody tr th {\n",
              "        vertical-align: top;\n",
              "    }\n",
              "\n",
              "    .dataframe thead th {\n",
              "        text-align: right;\n",
              "    }\n",
              "</style>\n",
              "<table border=\"1\" class=\"dataframe\">\n",
              "  <thead>\n",
              "    <tr style=\"text-align: right;\">\n",
              "      <th></th>\n",
              "      <th>Pregnancies</th>\n",
              "      <th>Glucose</th>\n",
              "      <th>BloodPressure</th>\n",
              "      <th>SkinThickness</th>\n",
              "      <th>Insulin</th>\n",
              "      <th>BMI</th>\n",
              "      <th>DiabetesPedigreeFunction</th>\n",
              "      <th>Age</th>\n",
              "      <th>Outcome</th>\n",
              "    </tr>\n",
              "  </thead>\n",
              "  <tbody>\n",
              "    <tr>\n",
              "      <th>0</th>\n",
              "      <td>6</td>\n",
              "      <td>148.0</td>\n",
              "      <td>72.000000</td>\n",
              "      <td>35.0</td>\n",
              "      <td>NaN</td>\n",
              "      <td>33.6</td>\n",
              "      <td>0.627</td>\n",
              "      <td>50</td>\n",
              "      <td>1</td>\n",
              "    </tr>\n",
              "    <tr>\n",
              "      <th>1</th>\n",
              "      <td>1</td>\n",
              "      <td>85.0</td>\n",
              "      <td>66.000000</td>\n",
              "      <td>29.0</td>\n",
              "      <td>NaN</td>\n",
              "      <td>26.6</td>\n",
              "      <td>0.351</td>\n",
              "      <td>31</td>\n",
              "      <td>0</td>\n",
              "    </tr>\n",
              "    <tr>\n",
              "      <th>2</th>\n",
              "      <td>8</td>\n",
              "      <td>183.0</td>\n",
              "      <td>64.000000</td>\n",
              "      <td>32.0</td>\n",
              "      <td>NaN</td>\n",
              "      <td>23.3</td>\n",
              "      <td>0.672</td>\n",
              "      <td>32</td>\n",
              "      <td>1</td>\n",
              "    </tr>\n",
              "    <tr>\n",
              "      <th>3</th>\n",
              "      <td>1</td>\n",
              "      <td>89.0</td>\n",
              "      <td>66.000000</td>\n",
              "      <td>23.0</td>\n",
              "      <td>94.0</td>\n",
              "      <td>28.1</td>\n",
              "      <td>0.167</td>\n",
              "      <td>21</td>\n",
              "      <td>0</td>\n",
              "    </tr>\n",
              "    <tr>\n",
              "      <th>4</th>\n",
              "      <td>0</td>\n",
              "      <td>137.0</td>\n",
              "      <td>40.000000</td>\n",
              "      <td>35.0</td>\n",
              "      <td>168.0</td>\n",
              "      <td>43.1</td>\n",
              "      <td>2.288</td>\n",
              "      <td>33</td>\n",
              "      <td>1</td>\n",
              "    </tr>\n",
              "    <tr>\n",
              "      <th>5</th>\n",
              "      <td>5</td>\n",
              "      <td>116.0</td>\n",
              "      <td>74.000000</td>\n",
              "      <td>32.0</td>\n",
              "      <td>NaN</td>\n",
              "      <td>25.6</td>\n",
              "      <td>0.201</td>\n",
              "      <td>30</td>\n",
              "      <td>0</td>\n",
              "    </tr>\n",
              "    <tr>\n",
              "      <th>6</th>\n",
              "      <td>3</td>\n",
              "      <td>78.0</td>\n",
              "      <td>50.000000</td>\n",
              "      <td>32.0</td>\n",
              "      <td>88.0</td>\n",
              "      <td>31.0</td>\n",
              "      <td>0.248</td>\n",
              "      <td>26</td>\n",
              "      <td>1</td>\n",
              "    </tr>\n",
              "    <tr>\n",
              "      <th>7</th>\n",
              "      <td>10</td>\n",
              "      <td>115.0</td>\n",
              "      <td>72.405184</td>\n",
              "      <td>32.0</td>\n",
              "      <td>NaN</td>\n",
              "      <td>35.3</td>\n",
              "      <td>0.134</td>\n",
              "      <td>29</td>\n",
              "      <td>0</td>\n",
              "    </tr>\n",
              "    <tr>\n",
              "      <th>8</th>\n",
              "      <td>2</td>\n",
              "      <td>197.0</td>\n",
              "      <td>70.000000</td>\n",
              "      <td>45.0</td>\n",
              "      <td>543.0</td>\n",
              "      <td>30.5</td>\n",
              "      <td>0.158</td>\n",
              "      <td>53</td>\n",
              "      <td>1</td>\n",
              "    </tr>\n",
              "    <tr>\n",
              "      <th>9</th>\n",
              "      <td>8</td>\n",
              "      <td>125.0</td>\n",
              "      <td>96.000000</td>\n",
              "      <td>32.0</td>\n",
              "      <td>NaN</td>\n",
              "      <td>32.0</td>\n",
              "      <td>0.232</td>\n",
              "      <td>54</td>\n",
              "      <td>1</td>\n",
              "    </tr>\n",
              "  </tbody>\n",
              "</table>\n",
              "</div>"
            ],
            "text/plain": [
              "   Pregnancies  Glucose  BloodPressure  ...  DiabetesPedigreeFunction  Age  Outcome\n",
              "0            6    148.0      72.000000  ...                     0.627   50        1\n",
              "1            1     85.0      66.000000  ...                     0.351   31        0\n",
              "2            8    183.0      64.000000  ...                     0.672   32        1\n",
              "3            1     89.0      66.000000  ...                     0.167   21        0\n",
              "4            0    137.0      40.000000  ...                     2.288   33        1\n",
              "5            5    116.0      74.000000  ...                     0.201   30        0\n",
              "6            3     78.0      50.000000  ...                     0.248   26        1\n",
              "7           10    115.0      72.405184  ...                     0.134   29        0\n",
              "8            2    197.0      70.000000  ...                     0.158   53        1\n",
              "9            8    125.0      96.000000  ...                     0.232   54        1\n",
              "\n",
              "[10 rows x 9 columns]"
            ]
          },
          "metadata": {
            "tags": []
          },
          "execution_count": 112
        }
      ]
    },
    {
      "cell_type": "code",
      "metadata": {
        "colab": {
          "base_uri": "https://localhost:8080/"
        },
        "id": "22fs5MUO9tYb",
        "outputId": "68671515-8c0f-4e92-a456-557e3b0e6b42"
      },
      "source": [
        "diabetes.isnull().sum()"
      ],
      "execution_count": 113,
      "outputs": [
        {
          "output_type": "execute_result",
          "data": {
            "text/plain": [
              "Pregnancies                   0\n",
              "Glucose                       0\n",
              "BloodPressure                 0\n",
              "SkinThickness                 0\n",
              "Insulin                     374\n",
              "BMI                           0\n",
              "DiabetesPedigreeFunction      0\n",
              "Age                           0\n",
              "Outcome                       0\n",
              "dtype: int64"
            ]
          },
          "metadata": {
            "tags": []
          },
          "execution_count": 113
        }
      ]
    },
    {
      "cell_type": "code",
      "metadata": {
        "colab": {
          "base_uri": "https://localhost:8080/",
          "height": 206
        },
        "id": "cmMPPERq92YK",
        "outputId": "75a57c12-352b-49e9-f75f-3dc24eadab80"
      },
      "source": [
        "diabetes_features = diabetes.drop('Outcome', axis=1)\n",
        "diabetes_label = diabetes[['Outcome']]\n",
        "\n",
        "diabetes_features.head()"
      ],
      "execution_count": 114,
      "outputs": [
        {
          "output_type": "execute_result",
          "data": {
            "text/html": [
              "<div>\n",
              "<style scoped>\n",
              "    .dataframe tbody tr th:only-of-type {\n",
              "        vertical-align: middle;\n",
              "    }\n",
              "\n",
              "    .dataframe tbody tr th {\n",
              "        vertical-align: top;\n",
              "    }\n",
              "\n",
              "    .dataframe thead th {\n",
              "        text-align: right;\n",
              "    }\n",
              "</style>\n",
              "<table border=\"1\" class=\"dataframe\">\n",
              "  <thead>\n",
              "    <tr style=\"text-align: right;\">\n",
              "      <th></th>\n",
              "      <th>Pregnancies</th>\n",
              "      <th>Glucose</th>\n",
              "      <th>BloodPressure</th>\n",
              "      <th>SkinThickness</th>\n",
              "      <th>Insulin</th>\n",
              "      <th>BMI</th>\n",
              "      <th>DiabetesPedigreeFunction</th>\n",
              "      <th>Age</th>\n",
              "    </tr>\n",
              "  </thead>\n",
              "  <tbody>\n",
              "    <tr>\n",
              "      <th>0</th>\n",
              "      <td>6</td>\n",
              "      <td>148.0</td>\n",
              "      <td>72.0</td>\n",
              "      <td>35.0</td>\n",
              "      <td>NaN</td>\n",
              "      <td>33.6</td>\n",
              "      <td>0.627</td>\n",
              "      <td>50</td>\n",
              "    </tr>\n",
              "    <tr>\n",
              "      <th>1</th>\n",
              "      <td>1</td>\n",
              "      <td>85.0</td>\n",
              "      <td>66.0</td>\n",
              "      <td>29.0</td>\n",
              "      <td>NaN</td>\n",
              "      <td>26.6</td>\n",
              "      <td>0.351</td>\n",
              "      <td>31</td>\n",
              "    </tr>\n",
              "    <tr>\n",
              "      <th>2</th>\n",
              "      <td>8</td>\n",
              "      <td>183.0</td>\n",
              "      <td>64.0</td>\n",
              "      <td>32.0</td>\n",
              "      <td>NaN</td>\n",
              "      <td>23.3</td>\n",
              "      <td>0.672</td>\n",
              "      <td>32</td>\n",
              "    </tr>\n",
              "    <tr>\n",
              "      <th>3</th>\n",
              "      <td>1</td>\n",
              "      <td>89.0</td>\n",
              "      <td>66.0</td>\n",
              "      <td>23.0</td>\n",
              "      <td>94.0</td>\n",
              "      <td>28.1</td>\n",
              "      <td>0.167</td>\n",
              "      <td>21</td>\n",
              "    </tr>\n",
              "    <tr>\n",
              "      <th>4</th>\n",
              "      <td>0</td>\n",
              "      <td>137.0</td>\n",
              "      <td>40.0</td>\n",
              "      <td>35.0</td>\n",
              "      <td>168.0</td>\n",
              "      <td>43.1</td>\n",
              "      <td>2.288</td>\n",
              "      <td>33</td>\n",
              "    </tr>\n",
              "  </tbody>\n",
              "</table>\n",
              "</div>"
            ],
            "text/plain": [
              "   Pregnancies  Glucose  BloodPressure  ...   BMI  DiabetesPedigreeFunction  Age\n",
              "0            6    148.0           72.0  ...  33.6                     0.627   50\n",
              "1            1     85.0           66.0  ...  26.6                     0.351   31\n",
              "2            8    183.0           64.0  ...  23.3                     0.672   32\n",
              "3            1     89.0           66.0  ...  28.1                     0.167   21\n",
              "4            0    137.0           40.0  ...  43.1                     2.288   33\n",
              "\n",
              "[5 rows x 8 columns]"
            ]
          },
          "metadata": {
            "tags": []
          },
          "execution_count": 114
        }
      ]
    },
    {
      "cell_type": "code",
      "metadata": {
        "id": "Qkb9hJl5-Fgj"
      },
      "source": [
        "imp = IterativeImputer(max_iter=10000, random_state=0)"
      ],
      "execution_count": 115,
      "outputs": []
    },
    {
      "cell_type": "code",
      "metadata": {
        "colab": {
          "base_uri": "https://localhost:8080/"
        },
        "id": "tl509-t2-Sjn",
        "outputId": "fd371cb7-fad8-446d-a98b-f68dba597006"
      },
      "source": [
        "imp.fit(diabetes_features)"
      ],
      "execution_count": 116,
      "outputs": [
        {
          "output_type": "execute_result",
          "data": {
            "text/plain": [
              "IterativeImputer(add_indicator=False, estimator=None,\n",
              "                 imputation_order='ascending', initial_strategy='mean',\n",
              "                 max_iter=10000, max_value=None, min_value=None,\n",
              "                 missing_values=nan, n_nearest_features=None, random_state=0,\n",
              "                 sample_posterior=False, skip_complete=False, tol=0.001,\n",
              "                 verbose=0)"
            ]
          },
          "metadata": {
            "tags": []
          },
          "execution_count": 116
        }
      ]
    },
    {
      "cell_type": "code",
      "metadata": {
        "id": "q3NaWOy8-WPh"
      },
      "source": [
        "diabetes_feature_arr = imp.transform(diabetes_features)"
      ],
      "execution_count": 117,
      "outputs": []
    },
    {
      "cell_type": "code",
      "metadata": {
        "colab": {
          "base_uri": "https://localhost:8080/"
        },
        "id": "0oi1QIX6-dSw",
        "outputId": "768eda64-26d5-4023-e843-409b9c14d94e"
      },
      "source": [
        "diabetes_feature_arr.shape"
      ],
      "execution_count": 118,
      "outputs": [
        {
          "output_type": "execute_result",
          "data": {
            "text/plain": [
              "(768, 8)"
            ]
          },
          "metadata": {
            "tags": []
          },
          "execution_count": 118
        }
      ]
    },
    {
      "cell_type": "code",
      "metadata": {
        "colab": {
          "base_uri": "https://localhost:8080/",
          "height": 206
        },
        "id": "BqyuFH4a-f8v",
        "outputId": "a8f50522-e5ba-496d-d86e-a71048393865"
      },
      "source": [
        "diabetes_features = pd.DataFrame(diabetes_feature_arr, columns=diabetes_features.columns)\n",
        "\n",
        "diabetes_features.head()"
      ],
      "execution_count": 119,
      "outputs": [
        {
          "output_type": "execute_result",
          "data": {
            "text/html": [
              "<div>\n",
              "<style scoped>\n",
              "    .dataframe tbody tr th:only-of-type {\n",
              "        vertical-align: middle;\n",
              "    }\n",
              "\n",
              "    .dataframe tbody tr th {\n",
              "        vertical-align: top;\n",
              "    }\n",
              "\n",
              "    .dataframe thead th {\n",
              "        text-align: right;\n",
              "    }\n",
              "</style>\n",
              "<table border=\"1\" class=\"dataframe\">\n",
              "  <thead>\n",
              "    <tr style=\"text-align: right;\">\n",
              "      <th></th>\n",
              "      <th>Pregnancies</th>\n",
              "      <th>Glucose</th>\n",
              "      <th>BloodPressure</th>\n",
              "      <th>SkinThickness</th>\n",
              "      <th>Insulin</th>\n",
              "      <th>BMI</th>\n",
              "      <th>DiabetesPedigreeFunction</th>\n",
              "      <th>Age</th>\n",
              "    </tr>\n",
              "  </thead>\n",
              "  <tbody>\n",
              "    <tr>\n",
              "      <th>0</th>\n",
              "      <td>6.0</td>\n",
              "      <td>148.0</td>\n",
              "      <td>72.0</td>\n",
              "      <td>35.0</td>\n",
              "      <td>219.028414</td>\n",
              "      <td>33.6</td>\n",
              "      <td>0.627</td>\n",
              "      <td>50.0</td>\n",
              "    </tr>\n",
              "    <tr>\n",
              "      <th>1</th>\n",
              "      <td>1.0</td>\n",
              "      <td>85.0</td>\n",
              "      <td>66.0</td>\n",
              "      <td>29.0</td>\n",
              "      <td>70.341550</td>\n",
              "      <td>26.6</td>\n",
              "      <td>0.351</td>\n",
              "      <td>31.0</td>\n",
              "    </tr>\n",
              "    <tr>\n",
              "      <th>2</th>\n",
              "      <td>8.0</td>\n",
              "      <td>183.0</td>\n",
              "      <td>64.0</td>\n",
              "      <td>32.0</td>\n",
              "      <td>270.573172</td>\n",
              "      <td>23.3</td>\n",
              "      <td>0.672</td>\n",
              "      <td>32.0</td>\n",
              "    </tr>\n",
              "    <tr>\n",
              "      <th>3</th>\n",
              "      <td>1.0</td>\n",
              "      <td>89.0</td>\n",
              "      <td>66.0</td>\n",
              "      <td>23.0</td>\n",
              "      <td>94.000000</td>\n",
              "      <td>28.1</td>\n",
              "      <td>0.167</td>\n",
              "      <td>21.0</td>\n",
              "    </tr>\n",
              "    <tr>\n",
              "      <th>4</th>\n",
              "      <td>0.0</td>\n",
              "      <td>137.0</td>\n",
              "      <td>40.0</td>\n",
              "      <td>35.0</td>\n",
              "      <td>168.000000</td>\n",
              "      <td>43.1</td>\n",
              "      <td>2.288</td>\n",
              "      <td>33.0</td>\n",
              "    </tr>\n",
              "  </tbody>\n",
              "</table>\n",
              "</div>"
            ],
            "text/plain": [
              "   Pregnancies  Glucose  BloodPressure  ...   BMI  DiabetesPedigreeFunction   Age\n",
              "0          6.0    148.0           72.0  ...  33.6                     0.627  50.0\n",
              "1          1.0     85.0           66.0  ...  26.6                     0.351  31.0\n",
              "2          8.0    183.0           64.0  ...  23.3                     0.672  32.0\n",
              "3          1.0     89.0           66.0  ...  28.1                     0.167  21.0\n",
              "4          0.0    137.0           40.0  ...  43.1                     2.288  33.0\n",
              "\n",
              "[5 rows x 8 columns]"
            ]
          },
          "metadata": {
            "tags": []
          },
          "execution_count": 119
        }
      ]
    },
    {
      "cell_type": "code",
      "metadata": {
        "colab": {
          "base_uri": "https://localhost:8080/",
          "height": 206
        },
        "id": "CHQQhqlp-w43",
        "outputId": "63999582-b62f-4a13-ef07-9b5b468e0101"
      },
      "source": [
        "diabetes = pd.concat([diabetes_features, diabetes_label], axis=1)\n",
        "\n",
        "diabetes.head()"
      ],
      "execution_count": 120,
      "outputs": [
        {
          "output_type": "execute_result",
          "data": {
            "text/html": [
              "<div>\n",
              "<style scoped>\n",
              "    .dataframe tbody tr th:only-of-type {\n",
              "        vertical-align: middle;\n",
              "    }\n",
              "\n",
              "    .dataframe tbody tr th {\n",
              "        vertical-align: top;\n",
              "    }\n",
              "\n",
              "    .dataframe thead th {\n",
              "        text-align: right;\n",
              "    }\n",
              "</style>\n",
              "<table border=\"1\" class=\"dataframe\">\n",
              "  <thead>\n",
              "    <tr style=\"text-align: right;\">\n",
              "      <th></th>\n",
              "      <th>Pregnancies</th>\n",
              "      <th>Glucose</th>\n",
              "      <th>BloodPressure</th>\n",
              "      <th>SkinThickness</th>\n",
              "      <th>Insulin</th>\n",
              "      <th>BMI</th>\n",
              "      <th>DiabetesPedigreeFunction</th>\n",
              "      <th>Age</th>\n",
              "      <th>Outcome</th>\n",
              "    </tr>\n",
              "  </thead>\n",
              "  <tbody>\n",
              "    <tr>\n",
              "      <th>0</th>\n",
              "      <td>6.0</td>\n",
              "      <td>148.0</td>\n",
              "      <td>72.0</td>\n",
              "      <td>35.0</td>\n",
              "      <td>219.028414</td>\n",
              "      <td>33.6</td>\n",
              "      <td>0.627</td>\n",
              "      <td>50.0</td>\n",
              "      <td>1</td>\n",
              "    </tr>\n",
              "    <tr>\n",
              "      <th>1</th>\n",
              "      <td>1.0</td>\n",
              "      <td>85.0</td>\n",
              "      <td>66.0</td>\n",
              "      <td>29.0</td>\n",
              "      <td>70.341550</td>\n",
              "      <td>26.6</td>\n",
              "      <td>0.351</td>\n",
              "      <td>31.0</td>\n",
              "      <td>0</td>\n",
              "    </tr>\n",
              "    <tr>\n",
              "      <th>2</th>\n",
              "      <td>8.0</td>\n",
              "      <td>183.0</td>\n",
              "      <td>64.0</td>\n",
              "      <td>32.0</td>\n",
              "      <td>270.573172</td>\n",
              "      <td>23.3</td>\n",
              "      <td>0.672</td>\n",
              "      <td>32.0</td>\n",
              "      <td>1</td>\n",
              "    </tr>\n",
              "    <tr>\n",
              "      <th>3</th>\n",
              "      <td>1.0</td>\n",
              "      <td>89.0</td>\n",
              "      <td>66.0</td>\n",
              "      <td>23.0</td>\n",
              "      <td>94.000000</td>\n",
              "      <td>28.1</td>\n",
              "      <td>0.167</td>\n",
              "      <td>21.0</td>\n",
              "      <td>0</td>\n",
              "    </tr>\n",
              "    <tr>\n",
              "      <th>4</th>\n",
              "      <td>0.0</td>\n",
              "      <td>137.0</td>\n",
              "      <td>40.0</td>\n",
              "      <td>35.0</td>\n",
              "      <td>168.000000</td>\n",
              "      <td>43.1</td>\n",
              "      <td>2.288</td>\n",
              "      <td>33.0</td>\n",
              "      <td>1</td>\n",
              "    </tr>\n",
              "  </tbody>\n",
              "</table>\n",
              "</div>"
            ],
            "text/plain": [
              "   Pregnancies  Glucose  BloodPressure  ...  DiabetesPedigreeFunction   Age  Outcome\n",
              "0          6.0    148.0           72.0  ...                     0.627  50.0        1\n",
              "1          1.0     85.0           66.0  ...                     0.351  31.0        0\n",
              "2          8.0    183.0           64.0  ...                     0.672  32.0        1\n",
              "3          1.0     89.0           66.0  ...                     0.167  21.0        0\n",
              "4          0.0    137.0           40.0  ...                     2.288  33.0        1\n",
              "\n",
              "[5 rows x 9 columns]"
            ]
          },
          "metadata": {
            "tags": []
          },
          "execution_count": 120
        }
      ]
    },
    {
      "cell_type": "code",
      "metadata": {
        "colab": {
          "base_uri": "https://localhost:8080/"
        },
        "id": "IU9iyNUm-_qK",
        "outputId": "b1f55db9-0dd0-4ad5-a5e4-24dfb852acb8"
      },
      "source": [
        "diabetes.isnull().sum()"
      ],
      "execution_count": 121,
      "outputs": [
        {
          "output_type": "execute_result",
          "data": {
            "text/plain": [
              "Pregnancies                 0\n",
              "Glucose                     0\n",
              "BloodPressure               0\n",
              "SkinThickness               0\n",
              "Insulin                     0\n",
              "BMI                         0\n",
              "DiabetesPedigreeFunction    0\n",
              "Age                         0\n",
              "Outcome                     0\n",
              "dtype: int64"
            ]
          },
          "metadata": {
            "tags": []
          },
          "execution_count": 121
        }
      ]
    },
    {
      "cell_type": "code",
      "metadata": {
        "colab": {
          "base_uri": "https://localhost:8080/"
        },
        "id": "cEG4iYV4_HnV",
        "outputId": "50cb43e3-9a49-45e8-8851-565c344bb9d0"
      },
      "source": [
        "diabetes.to_csv('diabetes_processed.csv', index=False)\n",
        "\n",
        "!ls"
      ],
      "execution_count": 122,
      "outputs": [
        {
          "output_type": "stream",
          "text": [
            "cars.csv\t    diabetes.csv\t    diabetes_processed_incomplete.csv\n",
            "cars_processed.csv  diabetes_processed.csv  sample_data\n"
          ],
          "name": "stdout"
        }
      ]
    },
    {
      "cell_type": "markdown",
      "metadata": {
        "id": "zek_Ahgc_bkY"
      },
      "source": [
        "#Missing Indicator"
      ]
    },
    {
      "cell_type": "code",
      "metadata": {
        "id": "u1lEhtsY_QMT"
      },
      "source": [
        "import pandas as pd\n",
        "import numpy as np\n",
        "\n",
        "from sklearn.impute import MissingIndicator"
      ],
      "execution_count": 123,
      "outputs": []
    },
    {
      "cell_type": "code",
      "metadata": {
        "id": "TCqQqzkY_i0k"
      },
      "source": [
        "features = [[4, 2, 1],\n",
        "            [24, 12, 6],\n",
        "            [8, 4, 2],\n",
        "            [28, 14, 7],\n",
        "            [32, 16, -1],\n",
        "            [600, 300, 150],\n",
        "            [-1, 60, 30],\n",
        "            [-1, 4, 1]]"
      ],
      "execution_count": 124,
      "outputs": []
    },
    {
      "cell_type": "code",
      "metadata": {
        "id": "D4mc5Bt9_zgR"
      },
      "source": [
        "indicator = MissingIndicator(missing_values=-1)"
      ],
      "execution_count": 125,
      "outputs": []
    },
    {
      "cell_type": "code",
      "metadata": {
        "colab": {
          "base_uri": "https://localhost:8080/"
        },
        "id": "6mHX0k5m_6wY",
        "outputId": "4157d8da-2bc5-4408-8257-40191d733c34"
      },
      "source": [
        "mask_missing_values_only = indicator.fit_transform(features)\n",
        "\n",
        "mask_missing_values_only"
      ],
      "execution_count": 126,
      "outputs": [
        {
          "output_type": "execute_result",
          "data": {
            "text/plain": [
              "array([[False, False],\n",
              "       [False, False],\n",
              "       [False, False],\n",
              "       [False, False],\n",
              "       [False,  True],\n",
              "       [False, False],\n",
              "       [ True, False],\n",
              "       [ True, False]])"
            ]
          },
          "metadata": {
            "tags": []
          },
          "execution_count": 126
        }
      ]
    },
    {
      "cell_type": "code",
      "metadata": {
        "colab": {
          "base_uri": "https://localhost:8080/"
        },
        "id": "Lt4rXCmlAF59",
        "outputId": "17679707-bcf4-4b9a-97a9-4f225d277c17"
      },
      "source": [
        "indicator.features_"
      ],
      "execution_count": 127,
      "outputs": [
        {
          "output_type": "execute_result",
          "data": {
            "text/plain": [
              "array([0, 2])"
            ]
          },
          "metadata": {
            "tags": []
          },
          "execution_count": 127
        }
      ]
    },
    {
      "cell_type": "code",
      "metadata": {
        "id": "tDcyAERSAQfr"
      },
      "source": [
        "indicator = MissingIndicator(missing_values=-1, features=\"all\")"
      ],
      "execution_count": 128,
      "outputs": []
    },
    {
      "cell_type": "code",
      "metadata": {
        "colab": {
          "base_uri": "https://localhost:8080/"
        },
        "id": "I2KlxOGJAYHA",
        "outputId": "3f60be89-a229-4e47-908e-2976cc34bf68"
      },
      "source": [
        "mask_all = indicator.fit_transform(features)\n",
        "\n",
        "mask_all"
      ],
      "execution_count": 129,
      "outputs": [
        {
          "output_type": "execute_result",
          "data": {
            "text/plain": [
              "array([[False, False, False],\n",
              "       [False, False, False],\n",
              "       [False, False, False],\n",
              "       [False, False, False],\n",
              "       [False, False,  True],\n",
              "       [False, False, False],\n",
              "       [ True, False, False],\n",
              "       [ True, False, False]])"
            ]
          },
          "metadata": {
            "tags": []
          },
          "execution_count": 129
        }
      ]
    },
    {
      "cell_type": "code",
      "metadata": {
        "colab": {
          "base_uri": "https://localhost:8080/"
        },
        "id": "rgFq2mYZAfJi",
        "outputId": "f680f2c0-074c-4348-d730-40888567fa0a"
      },
      "source": [
        "indicator.features_"
      ],
      "execution_count": 130,
      "outputs": [
        {
          "output_type": "execute_result",
          "data": {
            "text/plain": [
              "array([0, 1, 2])"
            ]
          },
          "metadata": {
            "tags": []
          },
          "execution_count": 130
        }
      ]
    },
    {
      "cell_type": "markdown",
      "metadata": {
        "id": "NYgAz4nSAr0z"
      },
      "source": [
        "#Feature Imputation Pipeline"
      ]
    },
    {
      "cell_type": "code",
      "metadata": {
        "id": "6gX6q-pAAoGV"
      },
      "source": [
        "import pandas as pd\n",
        "import numpy as np\n",
        "\n",
        "from sklearn.impute import SimpleImputer"
      ],
      "execution_count": 131,
      "outputs": []
    },
    {
      "cell_type": "code",
      "metadata": {
        "colab": {
          "base_uri": "https://localhost:8080/",
          "height": 363
        },
        "id": "radXJokHAziF",
        "outputId": "9038e043-1887-4e1f-f8d7-12a826370827"
      },
      "source": [
        "diabetes = pd.read_csv('diabetes_processed.csv')\n",
        "\n",
        "diabetes.head(10)"
      ],
      "execution_count": 132,
      "outputs": [
        {
          "output_type": "execute_result",
          "data": {
            "text/html": [
              "<div>\n",
              "<style scoped>\n",
              "    .dataframe tbody tr th:only-of-type {\n",
              "        vertical-align: middle;\n",
              "    }\n",
              "\n",
              "    .dataframe tbody tr th {\n",
              "        vertical-align: top;\n",
              "    }\n",
              "\n",
              "    .dataframe thead th {\n",
              "        text-align: right;\n",
              "    }\n",
              "</style>\n",
              "<table border=\"1\" class=\"dataframe\">\n",
              "  <thead>\n",
              "    <tr style=\"text-align: right;\">\n",
              "      <th></th>\n",
              "      <th>Pregnancies</th>\n",
              "      <th>Glucose</th>\n",
              "      <th>BloodPressure</th>\n",
              "      <th>SkinThickness</th>\n",
              "      <th>Insulin</th>\n",
              "      <th>BMI</th>\n",
              "      <th>DiabetesPedigreeFunction</th>\n",
              "      <th>Age</th>\n",
              "      <th>Outcome</th>\n",
              "    </tr>\n",
              "  </thead>\n",
              "  <tbody>\n",
              "    <tr>\n",
              "      <th>0</th>\n",
              "      <td>6.0</td>\n",
              "      <td>148.0</td>\n",
              "      <td>72.000000</td>\n",
              "      <td>35.0</td>\n",
              "      <td>219.028414</td>\n",
              "      <td>33.6</td>\n",
              "      <td>0.627</td>\n",
              "      <td>50.0</td>\n",
              "      <td>1</td>\n",
              "    </tr>\n",
              "    <tr>\n",
              "      <th>1</th>\n",
              "      <td>1.0</td>\n",
              "      <td>85.0</td>\n",
              "      <td>66.000000</td>\n",
              "      <td>29.0</td>\n",
              "      <td>70.341550</td>\n",
              "      <td>26.6</td>\n",
              "      <td>0.351</td>\n",
              "      <td>31.0</td>\n",
              "      <td>0</td>\n",
              "    </tr>\n",
              "    <tr>\n",
              "      <th>2</th>\n",
              "      <td>8.0</td>\n",
              "      <td>183.0</td>\n",
              "      <td>64.000000</td>\n",
              "      <td>32.0</td>\n",
              "      <td>270.573172</td>\n",
              "      <td>23.3</td>\n",
              "      <td>0.672</td>\n",
              "      <td>32.0</td>\n",
              "      <td>1</td>\n",
              "    </tr>\n",
              "    <tr>\n",
              "      <th>3</th>\n",
              "      <td>1.0</td>\n",
              "      <td>89.0</td>\n",
              "      <td>66.000000</td>\n",
              "      <td>23.0</td>\n",
              "      <td>94.000000</td>\n",
              "      <td>28.1</td>\n",
              "      <td>0.167</td>\n",
              "      <td>21.0</td>\n",
              "      <td>0</td>\n",
              "    </tr>\n",
              "    <tr>\n",
              "      <th>4</th>\n",
              "      <td>0.0</td>\n",
              "      <td>137.0</td>\n",
              "      <td>40.000000</td>\n",
              "      <td>35.0</td>\n",
              "      <td>168.000000</td>\n",
              "      <td>43.1</td>\n",
              "      <td>2.288</td>\n",
              "      <td>33.0</td>\n",
              "      <td>1</td>\n",
              "    </tr>\n",
              "    <tr>\n",
              "      <th>5</th>\n",
              "      <td>5.0</td>\n",
              "      <td>116.0</td>\n",
              "      <td>74.000000</td>\n",
              "      <td>32.0</td>\n",
              "      <td>127.840221</td>\n",
              "      <td>25.6</td>\n",
              "      <td>0.201</td>\n",
              "      <td>30.0</td>\n",
              "      <td>0</td>\n",
              "    </tr>\n",
              "    <tr>\n",
              "      <th>6</th>\n",
              "      <td>3.0</td>\n",
              "      <td>78.0</td>\n",
              "      <td>50.000000</td>\n",
              "      <td>32.0</td>\n",
              "      <td>88.000000</td>\n",
              "      <td>31.0</td>\n",
              "      <td>0.248</td>\n",
              "      <td>26.0</td>\n",
              "      <td>1</td>\n",
              "    </tr>\n",
              "    <tr>\n",
              "      <th>7</th>\n",
              "      <td>10.0</td>\n",
              "      <td>115.0</td>\n",
              "      <td>72.405184</td>\n",
              "      <td>32.0</td>\n",
              "      <td>136.570245</td>\n",
              "      <td>35.3</td>\n",
              "      <td>0.134</td>\n",
              "      <td>29.0</td>\n",
              "      <td>0</td>\n",
              "    </tr>\n",
              "    <tr>\n",
              "      <th>8</th>\n",
              "      <td>2.0</td>\n",
              "      <td>197.0</td>\n",
              "      <td>70.000000</td>\n",
              "      <td>45.0</td>\n",
              "      <td>543.000000</td>\n",
              "      <td>30.5</td>\n",
              "      <td>0.158</td>\n",
              "      <td>53.0</td>\n",
              "      <td>1</td>\n",
              "    </tr>\n",
              "    <tr>\n",
              "      <th>9</th>\n",
              "      <td>8.0</td>\n",
              "      <td>125.0</td>\n",
              "      <td>96.000000</td>\n",
              "      <td>32.0</td>\n",
              "      <td>155.571480</td>\n",
              "      <td>32.0</td>\n",
              "      <td>0.232</td>\n",
              "      <td>54.0</td>\n",
              "      <td>1</td>\n",
              "    </tr>\n",
              "  </tbody>\n",
              "</table>\n",
              "</div>"
            ],
            "text/plain": [
              "   Pregnancies  Glucose  BloodPressure  ...  DiabetesPedigreeFunction   Age  Outcome\n",
              "0          6.0    148.0      72.000000  ...                     0.627  50.0        1\n",
              "1          1.0     85.0      66.000000  ...                     0.351  31.0        0\n",
              "2          8.0    183.0      64.000000  ...                     0.672  32.0        1\n",
              "3          1.0     89.0      66.000000  ...                     0.167  21.0        0\n",
              "4          0.0    137.0      40.000000  ...                     2.288  33.0        1\n",
              "5          5.0    116.0      74.000000  ...                     0.201  30.0        0\n",
              "6          3.0     78.0      50.000000  ...                     0.248  26.0        1\n",
              "7         10.0    115.0      72.405184  ...                     0.134  29.0        0\n",
              "8          2.0    197.0      70.000000  ...                     0.158  53.0        1\n",
              "9          8.0    125.0      96.000000  ...                     0.232  54.0        1\n",
              "\n",
              "[10 rows x 9 columns]"
            ]
          },
          "metadata": {
            "tags": []
          },
          "execution_count": 132
        }
      ]
    },
    {
      "cell_type": "code",
      "metadata": {
        "colab": {
          "base_uri": "https://localhost:8080/",
          "height": 206
        },
        "id": "zMOZb_lKA8WK",
        "outputId": "f21769ab-b58a-4480-d7db-80ded8db18ac"
      },
      "source": [
        "diabetes_features = diabetes.drop('Outcome', axis=1)\n",
        "diabetes_label = diabetes[['Outcome']]\n",
        "\n",
        "diabetes_features.head()"
      ],
      "execution_count": 133,
      "outputs": [
        {
          "output_type": "execute_result",
          "data": {
            "text/html": [
              "<div>\n",
              "<style scoped>\n",
              "    .dataframe tbody tr th:only-of-type {\n",
              "        vertical-align: middle;\n",
              "    }\n",
              "\n",
              "    .dataframe tbody tr th {\n",
              "        vertical-align: top;\n",
              "    }\n",
              "\n",
              "    .dataframe thead th {\n",
              "        text-align: right;\n",
              "    }\n",
              "</style>\n",
              "<table border=\"1\" class=\"dataframe\">\n",
              "  <thead>\n",
              "    <tr style=\"text-align: right;\">\n",
              "      <th></th>\n",
              "      <th>Pregnancies</th>\n",
              "      <th>Glucose</th>\n",
              "      <th>BloodPressure</th>\n",
              "      <th>SkinThickness</th>\n",
              "      <th>Insulin</th>\n",
              "      <th>BMI</th>\n",
              "      <th>DiabetesPedigreeFunction</th>\n",
              "      <th>Age</th>\n",
              "    </tr>\n",
              "  </thead>\n",
              "  <tbody>\n",
              "    <tr>\n",
              "      <th>0</th>\n",
              "      <td>6.0</td>\n",
              "      <td>148.0</td>\n",
              "      <td>72.0</td>\n",
              "      <td>35.0</td>\n",
              "      <td>219.028414</td>\n",
              "      <td>33.6</td>\n",
              "      <td>0.627</td>\n",
              "      <td>50.0</td>\n",
              "    </tr>\n",
              "    <tr>\n",
              "      <th>1</th>\n",
              "      <td>1.0</td>\n",
              "      <td>85.0</td>\n",
              "      <td>66.0</td>\n",
              "      <td>29.0</td>\n",
              "      <td>70.341550</td>\n",
              "      <td>26.6</td>\n",
              "      <td>0.351</td>\n",
              "      <td>31.0</td>\n",
              "    </tr>\n",
              "    <tr>\n",
              "      <th>2</th>\n",
              "      <td>8.0</td>\n",
              "      <td>183.0</td>\n",
              "      <td>64.0</td>\n",
              "      <td>32.0</td>\n",
              "      <td>270.573172</td>\n",
              "      <td>23.3</td>\n",
              "      <td>0.672</td>\n",
              "      <td>32.0</td>\n",
              "    </tr>\n",
              "    <tr>\n",
              "      <th>3</th>\n",
              "      <td>1.0</td>\n",
              "      <td>89.0</td>\n",
              "      <td>66.0</td>\n",
              "      <td>23.0</td>\n",
              "      <td>94.000000</td>\n",
              "      <td>28.1</td>\n",
              "      <td>0.167</td>\n",
              "      <td>21.0</td>\n",
              "    </tr>\n",
              "    <tr>\n",
              "      <th>4</th>\n",
              "      <td>0.0</td>\n",
              "      <td>137.0</td>\n",
              "      <td>40.0</td>\n",
              "      <td>35.0</td>\n",
              "      <td>168.000000</td>\n",
              "      <td>43.1</td>\n",
              "      <td>2.288</td>\n",
              "      <td>33.0</td>\n",
              "    </tr>\n",
              "  </tbody>\n",
              "</table>\n",
              "</div>"
            ],
            "text/plain": [
              "   Pregnancies  Glucose  BloodPressure  ...   BMI  DiabetesPedigreeFunction   Age\n",
              "0          6.0    148.0           72.0  ...  33.6                     0.627  50.0\n",
              "1          1.0     85.0           66.0  ...  26.6                     0.351  31.0\n",
              "2          8.0    183.0           64.0  ...  23.3                     0.672  32.0\n",
              "3          1.0     89.0           66.0  ...  28.1                     0.167  21.0\n",
              "4          0.0    137.0           40.0  ...  43.1                     2.288  33.0\n",
              "\n",
              "[5 rows x 8 columns]"
            ]
          },
          "metadata": {
            "tags": []
          },
          "execution_count": 133
        }
      ]
    },
    {
      "cell_type": "code",
      "metadata": {
        "id": "esH9CNZ1BJLA"
      },
      "source": [
        "mask = np.random.randint(0, 100, size=diabetes_features.shape).astype(np.bool)\n",
        "\n",
        "mask = np.logical_not(mask)"
      ],
      "execution_count": 134,
      "outputs": []
    },
    {
      "cell_type": "code",
      "metadata": {
        "colab": {
          "base_uri": "https://localhost:8080/"
        },
        "id": "dg1NIm8DBZNT",
        "outputId": "48020b0e-ce9f-49ae-e84c-9bf2a3c28225"
      },
      "source": [
        "mask"
      ],
      "execution_count": 135,
      "outputs": [
        {
          "output_type": "execute_result",
          "data": {
            "text/plain": [
              "array([[False, False, False, ..., False, False, False],\n",
              "       [False, False, False, ..., False, False, False],\n",
              "       [False, False, False, ..., False, False, False],\n",
              "       ...,\n",
              "       [False, False, False, ..., False, False, False],\n",
              "       [False, False, False, ..., False, False, False],\n",
              "       [False, False, False, ..., False, False, False]])"
            ]
          },
          "metadata": {
            "tags": []
          },
          "execution_count": 135
        }
      ]
    },
    {
      "cell_type": "code",
      "metadata": {
        "colab": {
          "base_uri": "https://localhost:8080/",
          "height": 519
        },
        "id": "LBLaOmnrBZ5Y",
        "outputId": "d6dde2e5-792e-4a99-be07-e4743a1c66ac"
      },
      "source": [
        "diabetes_features[mask] = np.nan\n",
        "\n",
        "diabetes_features.sample(15)"
      ],
      "execution_count": 136,
      "outputs": [
        {
          "output_type": "execute_result",
          "data": {
            "text/html": [
              "<div>\n",
              "<style scoped>\n",
              "    .dataframe tbody tr th:only-of-type {\n",
              "        vertical-align: middle;\n",
              "    }\n",
              "\n",
              "    .dataframe tbody tr th {\n",
              "        vertical-align: top;\n",
              "    }\n",
              "\n",
              "    .dataframe thead th {\n",
              "        text-align: right;\n",
              "    }\n",
              "</style>\n",
              "<table border=\"1\" class=\"dataframe\">\n",
              "  <thead>\n",
              "    <tr style=\"text-align: right;\">\n",
              "      <th></th>\n",
              "      <th>Pregnancies</th>\n",
              "      <th>Glucose</th>\n",
              "      <th>BloodPressure</th>\n",
              "      <th>SkinThickness</th>\n",
              "      <th>Insulin</th>\n",
              "      <th>BMI</th>\n",
              "      <th>DiabetesPedigreeFunction</th>\n",
              "      <th>Age</th>\n",
              "    </tr>\n",
              "  </thead>\n",
              "  <tbody>\n",
              "    <tr>\n",
              "      <th>666</th>\n",
              "      <td>4.0</td>\n",
              "      <td>145.0</td>\n",
              "      <td>82.000000</td>\n",
              "      <td>18.0</td>\n",
              "      <td>213.764106</td>\n",
              "      <td>32.5</td>\n",
              "      <td>0.235</td>\n",
              "      <td>70.0</td>\n",
              "    </tr>\n",
              "    <tr>\n",
              "      <th>343</th>\n",
              "      <td>5.0</td>\n",
              "      <td>122.0</td>\n",
              "      <td>86.000000</td>\n",
              "      <td>32.0</td>\n",
              "      <td>149.460410</td>\n",
              "      <td>34.7</td>\n",
              "      <td>0.290</td>\n",
              "      <td>33.0</td>\n",
              "    </tr>\n",
              "    <tr>\n",
              "      <th>195</th>\n",
              "      <td>5.0</td>\n",
              "      <td>158.0</td>\n",
              "      <td>84.000000</td>\n",
              "      <td>41.0</td>\n",
              "      <td>210.000000</td>\n",
              "      <td>39.4</td>\n",
              "      <td>0.395</td>\n",
              "      <td>29.0</td>\n",
              "    </tr>\n",
              "    <tr>\n",
              "      <th>492</th>\n",
              "      <td>4.0</td>\n",
              "      <td>99.0</td>\n",
              "      <td>68.000000</td>\n",
              "      <td>38.0</td>\n",
              "      <td>109.152878</td>\n",
              "      <td>32.8</td>\n",
              "      <td>0.145</td>\n",
              "      <td>33.0</td>\n",
              "    </tr>\n",
              "    <tr>\n",
              "      <th>257</th>\n",
              "      <td>2.0</td>\n",
              "      <td>114.0</td>\n",
              "      <td>68.000000</td>\n",
              "      <td>22.0</td>\n",
              "      <td>128.348069</td>\n",
              "      <td>28.7</td>\n",
              "      <td>0.092</td>\n",
              "      <td>25.0</td>\n",
              "    </tr>\n",
              "    <tr>\n",
              "      <th>53</th>\n",
              "      <td>8.0</td>\n",
              "      <td>176.0</td>\n",
              "      <td>90.000000</td>\n",
              "      <td>34.0</td>\n",
              "      <td>300.000000</td>\n",
              "      <td>33.7</td>\n",
              "      <td>0.467</td>\n",
              "      <td>58.0</td>\n",
              "    </tr>\n",
              "    <tr>\n",
              "      <th>7</th>\n",
              "      <td>10.0</td>\n",
              "      <td>115.0</td>\n",
              "      <td>72.405184</td>\n",
              "      <td>32.0</td>\n",
              "      <td>136.570245</td>\n",
              "      <td>35.3</td>\n",
              "      <td>0.134</td>\n",
              "      <td>29.0</td>\n",
              "    </tr>\n",
              "    <tr>\n",
              "      <th>231</th>\n",
              "      <td>6.0</td>\n",
              "      <td>134.0</td>\n",
              "      <td>80.000000</td>\n",
              "      <td>37.0</td>\n",
              "      <td>370.000000</td>\n",
              "      <td>46.2</td>\n",
              "      <td>0.238</td>\n",
              "      <td>46.0</td>\n",
              "    </tr>\n",
              "    <tr>\n",
              "      <th>306</th>\n",
              "      <td>10.0</td>\n",
              "      <td>161.0</td>\n",
              "      <td>68.000000</td>\n",
              "      <td>23.0</td>\n",
              "      <td>132.000000</td>\n",
              "      <td>25.5</td>\n",
              "      <td>0.326</td>\n",
              "      <td>47.0</td>\n",
              "    </tr>\n",
              "    <tr>\n",
              "      <th>186</th>\n",
              "      <td>8.0</td>\n",
              "      <td>181.0</td>\n",
              "      <td>68.000000</td>\n",
              "      <td>36.0</td>\n",
              "      <td>495.000000</td>\n",
              "      <td>30.1</td>\n",
              "      <td>0.615</td>\n",
              "      <td>60.0</td>\n",
              "    </tr>\n",
              "    <tr>\n",
              "      <th>702</th>\n",
              "      <td>1.0</td>\n",
              "      <td>168.0</td>\n",
              "      <td>88.000000</td>\n",
              "      <td>29.0</td>\n",
              "      <td>258.735768</td>\n",
              "      <td>35.0</td>\n",
              "      <td>0.905</td>\n",
              "      <td>52.0</td>\n",
              "    </tr>\n",
              "    <tr>\n",
              "      <th>190</th>\n",
              "      <td>3.0</td>\n",
              "      <td>111.0</td>\n",
              "      <td>62.000000</td>\n",
              "      <td>32.0</td>\n",
              "      <td>115.649562</td>\n",
              "      <td>22.6</td>\n",
              "      <td>0.142</td>\n",
              "      <td>21.0</td>\n",
              "    </tr>\n",
              "    <tr>\n",
              "      <th>215</th>\n",
              "      <td>12.0</td>\n",
              "      <td>151.0</td>\n",
              "      <td>70.000000</td>\n",
              "      <td>40.0</td>\n",
              "      <td>271.000000</td>\n",
              "      <td>41.8</td>\n",
              "      <td>0.742</td>\n",
              "      <td>38.0</td>\n",
              "    </tr>\n",
              "    <tr>\n",
              "      <th>410</th>\n",
              "      <td>6.0</td>\n",
              "      <td>102.0</td>\n",
              "      <td>90.000000</td>\n",
              "      <td>39.0</td>\n",
              "      <td>104.849515</td>\n",
              "      <td>35.7</td>\n",
              "      <td>0.674</td>\n",
              "      <td>28.0</td>\n",
              "    </tr>\n",
              "    <tr>\n",
              "      <th>635</th>\n",
              "      <td>13.0</td>\n",
              "      <td>104.0</td>\n",
              "      <td>72.000000</td>\n",
              "      <td>32.0</td>\n",
              "      <td>109.937204</td>\n",
              "      <td>31.2</td>\n",
              "      <td>0.465</td>\n",
              "      <td>38.0</td>\n",
              "    </tr>\n",
              "  </tbody>\n",
              "</table>\n",
              "</div>"
            ],
            "text/plain": [
              "     Pregnancies  Glucose  BloodPressure  ...   BMI  DiabetesPedigreeFunction   Age\n",
              "666          4.0    145.0      82.000000  ...  32.5                     0.235  70.0\n",
              "343          5.0    122.0      86.000000  ...  34.7                     0.290  33.0\n",
              "195          5.0    158.0      84.000000  ...  39.4                     0.395  29.0\n",
              "492          4.0     99.0      68.000000  ...  32.8                     0.145  33.0\n",
              "257          2.0    114.0      68.000000  ...  28.7                     0.092  25.0\n",
              "53           8.0    176.0      90.000000  ...  33.7                     0.467  58.0\n",
              "7           10.0    115.0      72.405184  ...  35.3                     0.134  29.0\n",
              "231          6.0    134.0      80.000000  ...  46.2                     0.238  46.0\n",
              "306         10.0    161.0      68.000000  ...  25.5                     0.326  47.0\n",
              "186          8.0    181.0      68.000000  ...  30.1                     0.615  60.0\n",
              "702          1.0    168.0      88.000000  ...  35.0                     0.905  52.0\n",
              "190          3.0    111.0      62.000000  ...  22.6                     0.142  21.0\n",
              "215         12.0    151.0      70.000000  ...  41.8                     0.742  38.0\n",
              "410          6.0    102.0      90.000000  ...  35.7                     0.674  28.0\n",
              "635         13.0    104.0      72.000000  ...  31.2                     0.465  38.0\n",
              "\n",
              "[15 rows x 8 columns]"
            ]
          },
          "metadata": {
            "tags": []
          },
          "execution_count": 136
        }
      ]
    },
    {
      "cell_type": "code",
      "metadata": {
        "colab": {
          "base_uri": "https://localhost:8080/"
        },
        "id": "-oGQSyt9BtJK",
        "outputId": "657a1aca-8b62-4ae0-ff54-4ad1757dd971"
      },
      "source": [
        "diabetes_features.isnull().sum()"
      ],
      "execution_count": 137,
      "outputs": [
        {
          "output_type": "execute_result",
          "data": {
            "text/plain": [
              "Pregnancies                  8\n",
              "Glucose                      7\n",
              "BloodPressure                4\n",
              "SkinThickness                5\n",
              "Insulin                     11\n",
              "BMI                         13\n",
              "DiabetesPedigreeFunction     9\n",
              "Age                          3\n",
              "dtype: int64"
            ]
          },
          "metadata": {
            "tags": []
          },
          "execution_count": 137
        }
      ]
    },
    {
      "cell_type": "code",
      "metadata": {
        "id": "1SxE1NywBzbl"
      },
      "source": [
        "from sklearn.pipeline import make_pipeline\n",
        "from sklearn.compose import ColumnTransformer\n",
        "\n",
        "from sklearn.model_selection import train_test_split\n",
        "from sklearn.tree import DecisionTreeClassifier"
      ],
      "execution_count": 138,
      "outputs": []
    },
    {
      "cell_type": "code",
      "metadata": {
        "id": "lslfTuEbCG5a"
      },
      "source": [
        "x_train, x_test, y_train, y_test = train_test_split(diabetes_features, diabetes_label, test_size=0.2)"
      ],
      "execution_count": 139,
      "outputs": []
    },
    {
      "cell_type": "code",
      "metadata": {
        "id": "Fng3DgltCmbL"
      },
      "source": [
        "transformer = ColumnTransformer(\n",
        "    transformers=[('features', SimpleImputer(strategy='mean'), [0, 1, 2, 3, 4, 5, 6, 7])]\n",
        ")"
      ],
      "execution_count": 140,
      "outputs": []
    },
    {
      "cell_type": "code",
      "metadata": {
        "id": "_te8N-G_C5Yx"
      },
      "source": [
        "clf = make_pipeline(transformer, DecisionTreeClassifier(max_depth=4))"
      ],
      "execution_count": 141,
      "outputs": []
    },
    {
      "cell_type": "code",
      "metadata": {
        "colab": {
          "base_uri": "https://localhost:8080/"
        },
        "id": "c-xnxnVwDHhJ",
        "outputId": "f041a237-6a53-4b5c-ae50-ca7d8e17538c"
      },
      "source": [
        "clf = clf.fit(x_train, y_train)\n",
        "\n",
        "clf.score(x_train, y_train)"
      ],
      "execution_count": 142,
      "outputs": [
        {
          "output_type": "execute_result",
          "data": {
            "text/plain": [
              "0.8175895765472313"
            ]
          },
          "metadata": {
            "tags": []
          },
          "execution_count": 142
        }
      ]
    },
    {
      "cell_type": "code",
      "metadata": {
        "id": "ceQoTkr7DQZ4"
      },
      "source": [
        "y_pred = clf.predict(x_test)"
      ],
      "execution_count": 143,
      "outputs": []
    },
    {
      "cell_type": "code",
      "metadata": {
        "colab": {
          "base_uri": "https://localhost:8080/"
        },
        "id": "ddHvsGCZDXrY",
        "outputId": "5bcdf913-0460-4e25-a90a-4437e5aadc0c"
      },
      "source": [
        "from sklearn.metrics import accuracy_score\n",
        "\n",
        "accuracy_score(y_pred, y_test)"
      ],
      "execution_count": 144,
      "outputs": [
        {
          "output_type": "execute_result",
          "data": {
            "text/plain": [
              "0.7337662337662337"
            ]
          },
          "metadata": {
            "tags": []
          },
          "execution_count": 144
        }
      ]
    },
    {
      "cell_type": "markdown",
      "metadata": {
        "id": "2kYFFxMBpP3Z"
      },
      "source": [
        "#Transforming Continuous and Categorical Data"
      ]
    },
    {
      "cell_type": "markdown",
      "metadata": {
        "id": "k7IFokGxpVnU"
      },
      "source": [
        "##Feature Scaling\n",
        "\n",
        "\n",
        "*   Scaling: Numeric values are shifted and rescaled so all features have the same scale. i.e. within the same minimum and maximum values\n",
        "*   Standardization: Centers data around the mean and divides each value by the standard deviation so all features have 0 mean and unit variance\n"
      ]
    },
    {
      "cell_type": "markdown",
      "metadata": {
        "id": "tnDIf_rVtNT6"
      },
      "source": [
        "##Feature Scaling and Transformation"
      ]
    },
    {
      "cell_type": "code",
      "metadata": {
        "id": "f6AZHDeFtQ_b"
      },
      "source": [
        "import pandas as pd\n",
        "import numpy as np\n",
        "import matplotlib.pyplot as plt\n",
        "import math"
      ],
      "execution_count": 145,
      "outputs": []
    },
    {
      "cell_type": "code",
      "metadata": {
        "id": "-TG1zXADtXHH"
      },
      "source": [
        "np.set_printoptions(precision=3)"
      ],
      "execution_count": 146,
      "outputs": []
    },
    {
      "cell_type": "code",
      "metadata": {
        "colab": {
          "base_uri": "https://localhost:8080/",
          "height": 363
        },
        "id": "AxmFY-MWtegD",
        "outputId": "f91921fc-0d73-4fda-b48f-442013a1a573"
      },
      "source": [
        "diabetes = pd.read_csv('diabetes_processed.csv')\n",
        "\n",
        "diabetes.head(10)"
      ],
      "execution_count": 147,
      "outputs": [
        {
          "output_type": "execute_result",
          "data": {
            "text/html": [
              "<div>\n",
              "<style scoped>\n",
              "    .dataframe tbody tr th:only-of-type {\n",
              "        vertical-align: middle;\n",
              "    }\n",
              "\n",
              "    .dataframe tbody tr th {\n",
              "        vertical-align: top;\n",
              "    }\n",
              "\n",
              "    .dataframe thead th {\n",
              "        text-align: right;\n",
              "    }\n",
              "</style>\n",
              "<table border=\"1\" class=\"dataframe\">\n",
              "  <thead>\n",
              "    <tr style=\"text-align: right;\">\n",
              "      <th></th>\n",
              "      <th>Pregnancies</th>\n",
              "      <th>Glucose</th>\n",
              "      <th>BloodPressure</th>\n",
              "      <th>SkinThickness</th>\n",
              "      <th>Insulin</th>\n",
              "      <th>BMI</th>\n",
              "      <th>DiabetesPedigreeFunction</th>\n",
              "      <th>Age</th>\n",
              "      <th>Outcome</th>\n",
              "    </tr>\n",
              "  </thead>\n",
              "  <tbody>\n",
              "    <tr>\n",
              "      <th>0</th>\n",
              "      <td>6.0</td>\n",
              "      <td>148.0</td>\n",
              "      <td>72.000000</td>\n",
              "      <td>35.0</td>\n",
              "      <td>219.028414</td>\n",
              "      <td>33.6</td>\n",
              "      <td>0.627</td>\n",
              "      <td>50.0</td>\n",
              "      <td>1</td>\n",
              "    </tr>\n",
              "    <tr>\n",
              "      <th>1</th>\n",
              "      <td>1.0</td>\n",
              "      <td>85.0</td>\n",
              "      <td>66.000000</td>\n",
              "      <td>29.0</td>\n",
              "      <td>70.341550</td>\n",
              "      <td>26.6</td>\n",
              "      <td>0.351</td>\n",
              "      <td>31.0</td>\n",
              "      <td>0</td>\n",
              "    </tr>\n",
              "    <tr>\n",
              "      <th>2</th>\n",
              "      <td>8.0</td>\n",
              "      <td>183.0</td>\n",
              "      <td>64.000000</td>\n",
              "      <td>32.0</td>\n",
              "      <td>270.573172</td>\n",
              "      <td>23.3</td>\n",
              "      <td>0.672</td>\n",
              "      <td>32.0</td>\n",
              "      <td>1</td>\n",
              "    </tr>\n",
              "    <tr>\n",
              "      <th>3</th>\n",
              "      <td>1.0</td>\n",
              "      <td>89.0</td>\n",
              "      <td>66.000000</td>\n",
              "      <td>23.0</td>\n",
              "      <td>94.000000</td>\n",
              "      <td>28.1</td>\n",
              "      <td>0.167</td>\n",
              "      <td>21.0</td>\n",
              "      <td>0</td>\n",
              "    </tr>\n",
              "    <tr>\n",
              "      <th>4</th>\n",
              "      <td>0.0</td>\n",
              "      <td>137.0</td>\n",
              "      <td>40.000000</td>\n",
              "      <td>35.0</td>\n",
              "      <td>168.000000</td>\n",
              "      <td>43.1</td>\n",
              "      <td>2.288</td>\n",
              "      <td>33.0</td>\n",
              "      <td>1</td>\n",
              "    </tr>\n",
              "    <tr>\n",
              "      <th>5</th>\n",
              "      <td>5.0</td>\n",
              "      <td>116.0</td>\n",
              "      <td>74.000000</td>\n",
              "      <td>32.0</td>\n",
              "      <td>127.840221</td>\n",
              "      <td>25.6</td>\n",
              "      <td>0.201</td>\n",
              "      <td>30.0</td>\n",
              "      <td>0</td>\n",
              "    </tr>\n",
              "    <tr>\n",
              "      <th>6</th>\n",
              "      <td>3.0</td>\n",
              "      <td>78.0</td>\n",
              "      <td>50.000000</td>\n",
              "      <td>32.0</td>\n",
              "      <td>88.000000</td>\n",
              "      <td>31.0</td>\n",
              "      <td>0.248</td>\n",
              "      <td>26.0</td>\n",
              "      <td>1</td>\n",
              "    </tr>\n",
              "    <tr>\n",
              "      <th>7</th>\n",
              "      <td>10.0</td>\n",
              "      <td>115.0</td>\n",
              "      <td>72.405184</td>\n",
              "      <td>32.0</td>\n",
              "      <td>136.570245</td>\n",
              "      <td>35.3</td>\n",
              "      <td>0.134</td>\n",
              "      <td>29.0</td>\n",
              "      <td>0</td>\n",
              "    </tr>\n",
              "    <tr>\n",
              "      <th>8</th>\n",
              "      <td>2.0</td>\n",
              "      <td>197.0</td>\n",
              "      <td>70.000000</td>\n",
              "      <td>45.0</td>\n",
              "      <td>543.000000</td>\n",
              "      <td>30.5</td>\n",
              "      <td>0.158</td>\n",
              "      <td>53.0</td>\n",
              "      <td>1</td>\n",
              "    </tr>\n",
              "    <tr>\n",
              "      <th>9</th>\n",
              "      <td>8.0</td>\n",
              "      <td>125.0</td>\n",
              "      <td>96.000000</td>\n",
              "      <td>32.0</td>\n",
              "      <td>155.571480</td>\n",
              "      <td>32.0</td>\n",
              "      <td>0.232</td>\n",
              "      <td>54.0</td>\n",
              "      <td>1</td>\n",
              "    </tr>\n",
              "  </tbody>\n",
              "</table>\n",
              "</div>"
            ],
            "text/plain": [
              "   Pregnancies  Glucose  BloodPressure  ...  DiabetesPedigreeFunction   Age  Outcome\n",
              "0          6.0    148.0      72.000000  ...                     0.627  50.0        1\n",
              "1          1.0     85.0      66.000000  ...                     0.351  31.0        0\n",
              "2          8.0    183.0      64.000000  ...                     0.672  32.0        1\n",
              "3          1.0     89.0      66.000000  ...                     0.167  21.0        0\n",
              "4          0.0    137.0      40.000000  ...                     2.288  33.0        1\n",
              "5          5.0    116.0      74.000000  ...                     0.201  30.0        0\n",
              "6          3.0     78.0      50.000000  ...                     0.248  26.0        1\n",
              "7         10.0    115.0      72.405184  ...                     0.134  29.0        0\n",
              "8          2.0    197.0      70.000000  ...                     0.158  53.0        1\n",
              "9          8.0    125.0      96.000000  ...                     0.232  54.0        1\n",
              "\n",
              "[10 rows x 9 columns]"
            ]
          },
          "metadata": {
            "tags": []
          },
          "execution_count": 147
        }
      ]
    },
    {
      "cell_type": "code",
      "metadata": {
        "colab": {
          "base_uri": "https://localhost:8080/",
          "height": 206
        },
        "id": "EgaMtZKStnAP",
        "outputId": "2740f31f-7551-4d9c-c720-a448c1280d6a"
      },
      "source": [
        "features_df = diabetes.drop('Outcome', axis=1)\n",
        "target_df = diabetes['Outcome']\n",
        "\n",
        "features_df.head()"
      ],
      "execution_count": 148,
      "outputs": [
        {
          "output_type": "execute_result",
          "data": {
            "text/html": [
              "<div>\n",
              "<style scoped>\n",
              "    .dataframe tbody tr th:only-of-type {\n",
              "        vertical-align: middle;\n",
              "    }\n",
              "\n",
              "    .dataframe tbody tr th {\n",
              "        vertical-align: top;\n",
              "    }\n",
              "\n",
              "    .dataframe thead th {\n",
              "        text-align: right;\n",
              "    }\n",
              "</style>\n",
              "<table border=\"1\" class=\"dataframe\">\n",
              "  <thead>\n",
              "    <tr style=\"text-align: right;\">\n",
              "      <th></th>\n",
              "      <th>Pregnancies</th>\n",
              "      <th>Glucose</th>\n",
              "      <th>BloodPressure</th>\n",
              "      <th>SkinThickness</th>\n",
              "      <th>Insulin</th>\n",
              "      <th>BMI</th>\n",
              "      <th>DiabetesPedigreeFunction</th>\n",
              "      <th>Age</th>\n",
              "    </tr>\n",
              "  </thead>\n",
              "  <tbody>\n",
              "    <tr>\n",
              "      <th>0</th>\n",
              "      <td>6.0</td>\n",
              "      <td>148.0</td>\n",
              "      <td>72.0</td>\n",
              "      <td>35.0</td>\n",
              "      <td>219.028414</td>\n",
              "      <td>33.6</td>\n",
              "      <td>0.627</td>\n",
              "      <td>50.0</td>\n",
              "    </tr>\n",
              "    <tr>\n",
              "      <th>1</th>\n",
              "      <td>1.0</td>\n",
              "      <td>85.0</td>\n",
              "      <td>66.0</td>\n",
              "      <td>29.0</td>\n",
              "      <td>70.341550</td>\n",
              "      <td>26.6</td>\n",
              "      <td>0.351</td>\n",
              "      <td>31.0</td>\n",
              "    </tr>\n",
              "    <tr>\n",
              "      <th>2</th>\n",
              "      <td>8.0</td>\n",
              "      <td>183.0</td>\n",
              "      <td>64.0</td>\n",
              "      <td>32.0</td>\n",
              "      <td>270.573172</td>\n",
              "      <td>23.3</td>\n",
              "      <td>0.672</td>\n",
              "      <td>32.0</td>\n",
              "    </tr>\n",
              "    <tr>\n",
              "      <th>3</th>\n",
              "      <td>1.0</td>\n",
              "      <td>89.0</td>\n",
              "      <td>66.0</td>\n",
              "      <td>23.0</td>\n",
              "      <td>94.000000</td>\n",
              "      <td>28.1</td>\n",
              "      <td>0.167</td>\n",
              "      <td>21.0</td>\n",
              "    </tr>\n",
              "    <tr>\n",
              "      <th>4</th>\n",
              "      <td>0.0</td>\n",
              "      <td>137.0</td>\n",
              "      <td>40.0</td>\n",
              "      <td>35.0</td>\n",
              "      <td>168.000000</td>\n",
              "      <td>43.1</td>\n",
              "      <td>2.288</td>\n",
              "      <td>33.0</td>\n",
              "    </tr>\n",
              "  </tbody>\n",
              "</table>\n",
              "</div>"
            ],
            "text/plain": [
              "   Pregnancies  Glucose  BloodPressure  ...   BMI  DiabetesPedigreeFunction   Age\n",
              "0          6.0    148.0           72.0  ...  33.6                     0.627  50.0\n",
              "1          1.0     85.0           66.0  ...  26.6                     0.351  31.0\n",
              "2          8.0    183.0           64.0  ...  23.3                     0.672  32.0\n",
              "3          1.0     89.0           66.0  ...  28.1                     0.167  21.0\n",
              "4          0.0    137.0           40.0  ...  43.1                     2.288  33.0\n",
              "\n",
              "[5 rows x 8 columns]"
            ]
          },
          "metadata": {
            "tags": []
          },
          "execution_count": 148
        }
      ]
    },
    {
      "cell_type": "code",
      "metadata": {
        "colab": {
          "base_uri": "https://localhost:8080/"
        },
        "id": "7a8YIvGOt3hf",
        "outputId": "30bd40a9-47cc-413f-ba7b-b6d1e16a66f3"
      },
      "source": [
        "features_df.shape"
      ],
      "execution_count": 149,
      "outputs": [
        {
          "output_type": "execute_result",
          "data": {
            "text/plain": [
              "(768, 8)"
            ]
          },
          "metadata": {
            "tags": []
          },
          "execution_count": 149
        }
      ]
    },
    {
      "cell_type": "code",
      "metadata": {
        "colab": {
          "base_uri": "https://localhost:8080/",
          "height": 320
        },
        "id": "27KNfJ-FuFNJ",
        "outputId": "366c3a6a-f183-4637-9922-228ef9c9f65a"
      },
      "source": [
        "features_df.describe()"
      ],
      "execution_count": 150,
      "outputs": [
        {
          "output_type": "execute_result",
          "data": {
            "text/html": [
              "<div>\n",
              "<style scoped>\n",
              "    .dataframe tbody tr th:only-of-type {\n",
              "        vertical-align: middle;\n",
              "    }\n",
              "\n",
              "    .dataframe tbody tr th {\n",
              "        vertical-align: top;\n",
              "    }\n",
              "\n",
              "    .dataframe thead th {\n",
              "        text-align: right;\n",
              "    }\n",
              "</style>\n",
              "<table border=\"1\" class=\"dataframe\">\n",
              "  <thead>\n",
              "    <tr style=\"text-align: right;\">\n",
              "      <th></th>\n",
              "      <th>Pregnancies</th>\n",
              "      <th>Glucose</th>\n",
              "      <th>BloodPressure</th>\n",
              "      <th>SkinThickness</th>\n",
              "      <th>Insulin</th>\n",
              "      <th>BMI</th>\n",
              "      <th>DiabetesPedigreeFunction</th>\n",
              "      <th>Age</th>\n",
              "    </tr>\n",
              "  </thead>\n",
              "  <tbody>\n",
              "    <tr>\n",
              "      <th>count</th>\n",
              "      <td>768.000000</td>\n",
              "      <td>768.000000</td>\n",
              "      <td>768.000000</td>\n",
              "      <td>768.000000</td>\n",
              "      <td>768.000000</td>\n",
              "      <td>768.000000</td>\n",
              "      <td>768.000000</td>\n",
              "      <td>768.000000</td>\n",
              "    </tr>\n",
              "    <tr>\n",
              "      <th>mean</th>\n",
              "      <td>3.845052</td>\n",
              "      <td>121.656250</td>\n",
              "      <td>72.405184</td>\n",
              "      <td>29.994792</td>\n",
              "      <td>152.815064</td>\n",
              "      <td>32.450911</td>\n",
              "      <td>0.471876</td>\n",
              "      <td>33.240885</td>\n",
              "    </tr>\n",
              "    <tr>\n",
              "      <th>std</th>\n",
              "      <td>3.369578</td>\n",
              "      <td>30.438286</td>\n",
              "      <td>12.096346</td>\n",
              "      <td>8.886506</td>\n",
              "      <td>97.206638</td>\n",
              "      <td>6.875366</td>\n",
              "      <td>0.331329</td>\n",
              "      <td>11.760232</td>\n",
              "    </tr>\n",
              "    <tr>\n",
              "      <th>min</th>\n",
              "      <td>0.000000</td>\n",
              "      <td>44.000000</td>\n",
              "      <td>24.000000</td>\n",
              "      <td>7.000000</td>\n",
              "      <td>-16.568152</td>\n",
              "      <td>18.200000</td>\n",
              "      <td>0.078000</td>\n",
              "      <td>21.000000</td>\n",
              "    </tr>\n",
              "    <tr>\n",
              "      <th>25%</th>\n",
              "      <td>1.000000</td>\n",
              "      <td>99.750000</td>\n",
              "      <td>64.000000</td>\n",
              "      <td>25.000000</td>\n",
              "      <td>89.976015</td>\n",
              "      <td>27.500000</td>\n",
              "      <td>0.243750</td>\n",
              "      <td>24.000000</td>\n",
              "    </tr>\n",
              "    <tr>\n",
              "      <th>50%</th>\n",
              "      <td>3.000000</td>\n",
              "      <td>117.000000</td>\n",
              "      <td>72.202592</td>\n",
              "      <td>32.000000</td>\n",
              "      <td>131.100779</td>\n",
              "      <td>32.000000</td>\n",
              "      <td>0.372500</td>\n",
              "      <td>29.000000</td>\n",
              "    </tr>\n",
              "    <tr>\n",
              "      <th>75%</th>\n",
              "      <td>6.000000</td>\n",
              "      <td>140.250000</td>\n",
              "      <td>80.000000</td>\n",
              "      <td>32.000000</td>\n",
              "      <td>189.857469</td>\n",
              "      <td>36.600000</td>\n",
              "      <td>0.626250</td>\n",
              "      <td>41.000000</td>\n",
              "    </tr>\n",
              "    <tr>\n",
              "      <th>max</th>\n",
              "      <td>17.000000</td>\n",
              "      <td>199.000000</td>\n",
              "      <td>122.000000</td>\n",
              "      <td>99.000000</td>\n",
              "      <td>846.000000</td>\n",
              "      <td>67.100000</td>\n",
              "      <td>2.420000</td>\n",
              "      <td>81.000000</td>\n",
              "    </tr>\n",
              "  </tbody>\n",
              "</table>\n",
              "</div>"
            ],
            "text/plain": [
              "       Pregnancies     Glucose  ...  DiabetesPedigreeFunction         Age\n",
              "count   768.000000  768.000000  ...                768.000000  768.000000\n",
              "mean      3.845052  121.656250  ...                  0.471876   33.240885\n",
              "std       3.369578   30.438286  ...                  0.331329   11.760232\n",
              "min       0.000000   44.000000  ...                  0.078000   21.000000\n",
              "25%       1.000000   99.750000  ...                  0.243750   24.000000\n",
              "50%       3.000000  117.000000  ...                  0.372500   29.000000\n",
              "75%       6.000000  140.250000  ...                  0.626250   41.000000\n",
              "max      17.000000  199.000000  ...                  2.420000   81.000000\n",
              "\n",
              "[8 rows x 8 columns]"
            ]
          },
          "metadata": {
            "tags": []
          },
          "execution_count": 150
        }
      ]
    },
    {
      "cell_type": "code",
      "metadata": {
        "id": "cGGcQ6mouIfx"
      },
      "source": [
        "from sklearn.preprocessing import MinMaxScaler"
      ],
      "execution_count": 151,
      "outputs": []
    },
    {
      "cell_type": "code",
      "metadata": {
        "id": "h5jWgM-euQWs"
      },
      "source": [
        "scaler = MinMaxScaler(feature_range=(0, 1))\n",
        "rescaled_features = scaler.fit_transform(features_df)"
      ],
      "execution_count": 152,
      "outputs": []
    },
    {
      "cell_type": "code",
      "metadata": {
        "colab": {
          "base_uri": "https://localhost:8080/"
        },
        "id": "H6wot5ZswYfo",
        "outputId": "2853c070-9541-4e38-aa25-2d6c12b22284"
      },
      "source": [
        "rescaled_features.shape"
      ],
      "execution_count": 153,
      "outputs": [
        {
          "output_type": "execute_result",
          "data": {
            "text/plain": [
              "(768, 8)"
            ]
          },
          "metadata": {
            "tags": []
          },
          "execution_count": 153
        }
      ]
    },
    {
      "cell_type": "code",
      "metadata": {
        "colab": {
          "base_uri": "https://localhost:8080/"
        },
        "id": "dsuk03ihwaow",
        "outputId": "fc7a4fdb-afb2-4efe-81b3-8214c28c1985"
      },
      "source": [
        "rescaled_features[1:5]"
      ],
      "execution_count": 154,
      "outputs": [
        {
          "output_type": "execute_result",
          "data": {
            "text/plain": [
              "array([[0.059, 0.265, 0.429, 0.239, 0.101, 0.172, 0.117, 0.167],\n",
              "       [0.471, 0.897, 0.408, 0.272, 0.333, 0.104, 0.254, 0.183],\n",
              "       [0.059, 0.29 , 0.429, 0.174, 0.128, 0.202, 0.038, 0.   ],\n",
              "       [0.   , 0.6  , 0.163, 0.304, 0.214, 0.509, 0.944, 0.2  ]])"
            ]
          },
          "metadata": {
            "tags": []
          },
          "execution_count": 154
        }
      ]
    },
    {
      "cell_type": "code",
      "metadata": {
        "colab": {
          "base_uri": "https://localhost:8080/",
          "height": 320
        },
        "id": "iSV3lLfmwmcw",
        "outputId": "7f55ab09-a46e-4b10-8001-d64467861c18"
      },
      "source": [
        "rescaled_features_df = pd.DataFrame(rescaled_features, columns=features_df.columns)\n",
        "\n",
        "rescaled_features_df.describe()"
      ],
      "execution_count": 155,
      "outputs": [
        {
          "output_type": "execute_result",
          "data": {
            "text/html": [
              "<div>\n",
              "<style scoped>\n",
              "    .dataframe tbody tr th:only-of-type {\n",
              "        vertical-align: middle;\n",
              "    }\n",
              "\n",
              "    .dataframe tbody tr th {\n",
              "        vertical-align: top;\n",
              "    }\n",
              "\n",
              "    .dataframe thead th {\n",
              "        text-align: right;\n",
              "    }\n",
              "</style>\n",
              "<table border=\"1\" class=\"dataframe\">\n",
              "  <thead>\n",
              "    <tr style=\"text-align: right;\">\n",
              "      <th></th>\n",
              "      <th>Pregnancies</th>\n",
              "      <th>Glucose</th>\n",
              "      <th>BloodPressure</th>\n",
              "      <th>SkinThickness</th>\n",
              "      <th>Insulin</th>\n",
              "      <th>BMI</th>\n",
              "      <th>DiabetesPedigreeFunction</th>\n",
              "      <th>Age</th>\n",
              "    </tr>\n",
              "  </thead>\n",
              "  <tbody>\n",
              "    <tr>\n",
              "      <th>count</th>\n",
              "      <td>768.000000</td>\n",
              "      <td>768.000000</td>\n",
              "      <td>768.000000</td>\n",
              "      <td>768.000000</td>\n",
              "      <td>768.000000</td>\n",
              "      <td>768.000000</td>\n",
              "      <td>768.000000</td>\n",
              "      <td>768.000000</td>\n",
              "    </tr>\n",
              "    <tr>\n",
              "      <th>mean</th>\n",
              "      <td>0.226180</td>\n",
              "      <td>0.501008</td>\n",
              "      <td>0.493930</td>\n",
              "      <td>0.249943</td>\n",
              "      <td>0.196371</td>\n",
              "      <td>0.291430</td>\n",
              "      <td>0.168179</td>\n",
              "      <td>0.204015</td>\n",
              "    </tr>\n",
              "    <tr>\n",
              "      <th>std</th>\n",
              "      <td>0.198210</td>\n",
              "      <td>0.196376</td>\n",
              "      <td>0.123432</td>\n",
              "      <td>0.096592</td>\n",
              "      <td>0.112694</td>\n",
              "      <td>0.140601</td>\n",
              "      <td>0.141473</td>\n",
              "      <td>0.196004</td>\n",
              "    </tr>\n",
              "    <tr>\n",
              "      <th>min</th>\n",
              "      <td>0.000000</td>\n",
              "      <td>0.000000</td>\n",
              "      <td>0.000000</td>\n",
              "      <td>0.000000</td>\n",
              "      <td>0.000000</td>\n",
              "      <td>0.000000</td>\n",
              "      <td>0.000000</td>\n",
              "      <td>0.000000</td>\n",
              "    </tr>\n",
              "    <tr>\n",
              "      <th>25%</th>\n",
              "      <td>0.058824</td>\n",
              "      <td>0.359677</td>\n",
              "      <td>0.408163</td>\n",
              "      <td>0.195652</td>\n",
              "      <td>0.123520</td>\n",
              "      <td>0.190184</td>\n",
              "      <td>0.070773</td>\n",
              "      <td>0.050000</td>\n",
              "    </tr>\n",
              "    <tr>\n",
              "      <th>50%</th>\n",
              "      <td>0.176471</td>\n",
              "      <td>0.470968</td>\n",
              "      <td>0.491863</td>\n",
              "      <td>0.271739</td>\n",
              "      <td>0.171197</td>\n",
              "      <td>0.282209</td>\n",
              "      <td>0.125747</td>\n",
              "      <td>0.133333</td>\n",
              "    </tr>\n",
              "    <tr>\n",
              "      <th>75%</th>\n",
              "      <td>0.352941</td>\n",
              "      <td>0.620968</td>\n",
              "      <td>0.571429</td>\n",
              "      <td>0.271739</td>\n",
              "      <td>0.239315</td>\n",
              "      <td>0.376278</td>\n",
              "      <td>0.234095</td>\n",
              "      <td>0.333333</td>\n",
              "    </tr>\n",
              "    <tr>\n",
              "      <th>max</th>\n",
              "      <td>1.000000</td>\n",
              "      <td>1.000000</td>\n",
              "      <td>1.000000</td>\n",
              "      <td>1.000000</td>\n",
              "      <td>1.000000</td>\n",
              "      <td>1.000000</td>\n",
              "      <td>1.000000</td>\n",
              "      <td>1.000000</td>\n",
              "    </tr>\n",
              "  </tbody>\n",
              "</table>\n",
              "</div>"
            ],
            "text/plain": [
              "       Pregnancies     Glucose  ...  DiabetesPedigreeFunction         Age\n",
              "count   768.000000  768.000000  ...                768.000000  768.000000\n",
              "mean      0.226180    0.501008  ...                  0.168179    0.204015\n",
              "std       0.198210    0.196376  ...                  0.141473    0.196004\n",
              "min       0.000000    0.000000  ...                  0.000000    0.000000\n",
              "25%       0.058824    0.359677  ...                  0.070773    0.050000\n",
              "50%       0.176471    0.470968  ...                  0.125747    0.133333\n",
              "75%       0.352941    0.620968  ...                  0.234095    0.333333\n",
              "max       1.000000    1.000000  ...                  1.000000    1.000000\n",
              "\n",
              "[8 rows x 8 columns]"
            ]
          },
          "metadata": {
            "tags": []
          },
          "execution_count": 155
        }
      ]
    },
    {
      "cell_type": "code",
      "metadata": {
        "colab": {
          "base_uri": "https://localhost:8080/",
          "height": 518
        },
        "id": "7m6SRCIPw08x",
        "outputId": "22481b57-da3d-492d-c9ce-e1991d50f505"
      },
      "source": [
        "rescaled_features_df.boxplot(figsize=(10, 7), rot=45)\n",
        "\n",
        "plt.show()"
      ],
      "execution_count": 156,
      "outputs": [
        {
          "output_type": "display_data",
          "data": {
            "image/png": "[encoded data removed]",
            "text/plain": [
              "<Figure size 720x504 with 1 Axes>"
            ]
          },
          "metadata": {
            "tags": [],
            "needs_background": "light"
          }
        }
      ]
    },
    {
      "cell_type": "code",
      "metadata": {
        "id": "dkrOBRm7xD42"
      },
      "source": [
        "from sklearn.preprocessing import StandardScaler"
      ],
      "execution_count": 157,
      "outputs": []
    },
    {
      "cell_type": "code",
      "metadata": {
        "id": "M4PekhCq0abU"
      },
      "source": [
        "scaler = StandardScaler()\n",
        "\n",
        "scaler = scaler.fit(features_df)\n",
        "\n",
        "standardized_features = scaler.transform(features_df)"
      ],
      "execution_count": 158,
      "outputs": []
    },
    {
      "cell_type": "code",
      "metadata": {
        "colab": {
          "base_uri": "https://localhost:8080/"
        },
        "id": "madB0I4r0lEO",
        "outputId": "5ab4bbcf-0678-4967-f8b5-0b2add97e96c"
      },
      "source": [
        "type(standardized_features)"
      ],
      "execution_count": 159,
      "outputs": [
        {
          "output_type": "execute_result",
          "data": {
            "text/plain": [
              "numpy.ndarray"
            ]
          },
          "metadata": {
            "tags": []
          },
          "execution_count": 159
        }
      ]
    },
    {
      "cell_type": "code",
      "metadata": {
        "colab": {
          "base_uri": "https://localhost:8080/"
        },
        "id": "Emk99jgJ0n8x",
        "outputId": "a0e6fbad-a6c3-4907-8cbe-3c222d13b845"
      },
      "source": [
        "standardized_features.shape"
      ],
      "execution_count": 160,
      "outputs": [
        {
          "output_type": "execute_result",
          "data": {
            "text/plain": [
              "(768, 8)"
            ]
          },
          "metadata": {
            "tags": []
          },
          "execution_count": 160
        }
      ]
    },
    {
      "cell_type": "code",
      "metadata": {
        "colab": {
          "base_uri": "https://localhost:8080/"
        },
        "id": "SL0lg7mk00bu",
        "outputId": "22e148c0-876e-433e-f13f-a752645c6de9"
      },
      "source": [
        "standardized_features[0:5]"
      ],
      "execution_count": 161,
      "outputs": [
        {
          "output_type": "execute_result",
          "data": {
            "text/plain": [
              "array([[ 0.64 ,  0.866, -0.034,  0.564,  0.682,  0.167,  0.468,  1.426],\n",
              "       [-0.845, -1.205, -0.53 , -0.112, -0.849, -0.852, -0.365, -0.191],\n",
              "       [ 1.234,  2.017, -0.695,  0.226,  1.212, -1.332,  0.604, -0.106],\n",
              "       [-0.845, -1.074, -0.53 , -0.788, -0.605, -0.633, -0.921, -1.042],\n",
              "       [-1.142,  0.504, -2.681,  0.564,  0.156,  1.55 ,  5.485, -0.02 ]])"
            ]
          },
          "metadata": {
            "tags": []
          },
          "execution_count": 161
        }
      ]
    },
    {
      "cell_type": "code",
      "metadata": {
        "colab": {
          "base_uri": "https://localhost:8080/",
          "height": 300
        },
        "id": "DYd9mSiZ0qph",
        "outputId": "90079df0-e976-424a-c633-f4df49dc566f"
      },
      "source": [
        "standardized_features_df = pd.DataFrame(standardized_features, columns=features_df.columns)\n",
        "\n",
        "standardized_features_df.describe()"
      ],
      "execution_count": 162,
      "outputs": [
        {
          "output_type": "execute_result",
          "data": {
            "text/html": [
              "<div>\n",
              "<style scoped>\n",
              "    .dataframe tbody tr th:only-of-type {\n",
              "        vertical-align: middle;\n",
              "    }\n",
              "\n",
              "    .dataframe tbody tr th {\n",
              "        vertical-align: top;\n",
              "    }\n",
              "\n",
              "    .dataframe thead th {\n",
              "        text-align: right;\n",
              "    }\n",
              "</style>\n",
              "<table border=\"1\" class=\"dataframe\">\n",
              "  <thead>\n",
              "    <tr style=\"text-align: right;\">\n",
              "      <th></th>\n",
              "      <th>Pregnancies</th>\n",
              "      <th>Glucose</th>\n",
              "      <th>BloodPressure</th>\n",
              "      <th>SkinThickness</th>\n",
              "      <th>Insulin</th>\n",
              "      <th>BMI</th>\n",
              "      <th>DiabetesPedigreeFunction</th>\n",
              "      <th>Age</th>\n",
              "    </tr>\n",
              "  </thead>\n",
              "  <tbody>\n",
              "    <tr>\n",
              "      <th>count</th>\n",
              "      <td>7.680000e+02</td>\n",
              "      <td>7.680000e+02</td>\n",
              "      <td>7.680000e+02</td>\n",
              "      <td>7.680000e+02</td>\n",
              "      <td>7.680000e+02</td>\n",
              "      <td>7.680000e+02</td>\n",
              "      <td>7.680000e+02</td>\n",
              "      <td>7.680000e+02</td>\n",
              "    </tr>\n",
              "    <tr>\n",
              "      <th>mean</th>\n",
              "      <td>2.544261e-17</td>\n",
              "      <td>7.661695e-18</td>\n",
              "      <td>-4.474864e-16</td>\n",
              "      <td>3.850725e-17</td>\n",
              "      <td>-3.048777e-16</td>\n",
              "      <td>4.803738e-16</td>\n",
              "      <td>2.491497e-16</td>\n",
              "      <td>1.857600e-16</td>\n",
              "    </tr>\n",
              "    <tr>\n",
              "      <th>std</th>\n",
              "      <td>1.000652e+00</td>\n",
              "      <td>1.000652e+00</td>\n",
              "      <td>1.000652e+00</td>\n",
              "      <td>1.000652e+00</td>\n",
              "      <td>1.000652e+00</td>\n",
              "      <td>1.000652e+00</td>\n",
              "      <td>1.000652e+00</td>\n",
              "      <td>1.000652e+00</td>\n",
              "    </tr>\n",
              "    <tr>\n",
              "      <th>min</th>\n",
              "      <td>-1.141852e+00</td>\n",
              "      <td>-2.552931e+00</td>\n",
              "      <td>-4.004245e+00</td>\n",
              "      <td>-2.589294e+00</td>\n",
              "      <td>-1.743642e+00</td>\n",
              "      <td>-2.074100e+00</td>\n",
              "      <td>-1.189553e+00</td>\n",
              "      <td>-1.041549e+00</td>\n",
              "    </tr>\n",
              "    <tr>\n",
              "      <th>25%</th>\n",
              "      <td>-8.448851e-01</td>\n",
              "      <td>-7.201630e-01</td>\n",
              "      <td>-6.953060e-01</td>\n",
              "      <td>-5.624310e-01</td>\n",
              "      <td>-6.468694e-01</td>\n",
              "      <td>-7.205635e-01</td>\n",
              "      <td>-6.889685e-01</td>\n",
              "      <td>-7.862862e-01</td>\n",
              "    </tr>\n",
              "    <tr>\n",
              "      <th>50%</th>\n",
              "      <td>-2.509521e-01</td>\n",
              "      <td>-1.530732e-01</td>\n",
              "      <td>-1.675912e-02</td>\n",
              "      <td>2.257935e-01</td>\n",
              "      <td>-2.235283e-01</td>\n",
              "      <td>-6.562636e-02</td>\n",
              "      <td>-3.001282e-01</td>\n",
              "      <td>-3.608474e-01</td>\n",
              "    </tr>\n",
              "    <tr>\n",
              "      <th>75%</th>\n",
              "      <td>6.399473e-01</td>\n",
              "      <td>6.112653e-01</td>\n",
              "      <td>6.282695e-01</td>\n",
              "      <td>2.257935e-01</td>\n",
              "      <td>3.813170e-01</td>\n",
              "      <td>6.038649e-01</td>\n",
              "      <td>4.662269e-01</td>\n",
              "      <td>6.602056e-01</td>\n",
              "    </tr>\n",
              "    <tr>\n",
              "      <th>max</th>\n",
              "      <td>3.906578e+00</td>\n",
              "      <td>2.542658e+00</td>\n",
              "      <td>4.102655e+00</td>\n",
              "      <td>7.770228e+00</td>\n",
              "      <td>7.135692e+00</td>\n",
              "      <td>5.042883e+00</td>\n",
              "      <td>5.883565e+00</td>\n",
              "      <td>4.063716e+00</td>\n",
              "    </tr>\n",
              "  </tbody>\n",
              "</table>\n",
              "</div>"
            ],
            "text/plain": [
              "        Pregnancies       Glucose  ...  DiabetesPedigreeFunction           Age\n",
              "count  7.680000e+02  7.680000e+02  ...              7.680000e+02  7.680000e+02\n",
              "mean   2.544261e-17  7.661695e-18  ...              2.491497e-16  1.857600e-16\n",
              "std    1.000652e+00  1.000652e+00  ...              1.000652e+00  1.000652e+00\n",
              "min   -1.141852e+00 -2.552931e+00  ...             -1.189553e+00 -1.041549e+00\n",
              "25%   -8.448851e-01 -7.201630e-01  ...             -6.889685e-01 -7.862862e-01\n",
              "50%   -2.509521e-01 -1.530732e-01  ...             -3.001282e-01 -3.608474e-01\n",
              "75%    6.399473e-01  6.112653e-01  ...              4.662269e-01  6.602056e-01\n",
              "max    3.906578e+00  2.542658e+00  ...              5.883565e+00  4.063716e+00\n",
              "\n",
              "[8 rows x 8 columns]"
            ]
          },
          "metadata": {
            "tags": []
          },
          "execution_count": 162
        }
      ]
    },
    {
      "cell_type": "code",
      "metadata": {
        "colab": {
          "base_uri": "https://localhost:8080/",
          "height": 518
        },
        "id": "nP6ryECX09z2",
        "outputId": "64b90e66-caf1-4974-d4a1-fe2b864396ef"
      },
      "source": [
        "standardized_features_df.boxplot(figsize=(10,7), rot=45)\n",
        "plt.show()"
      ],
      "execution_count": 163,
      "outputs": [
        {
          "output_type": "display_data",
          "data": {
            "image/png": "[encoded data removed]",
            "text/plain": [
              "<Figure size 720x504 with 1 Axes>"
            ]
          },
          "metadata": {
            "tags": [],
            "needs_background": "light"
          }
        }
      ]
    },
    {
      "cell_type": "code",
      "metadata": {
        "id": "mNQQFPiVr_jS"
      },
      "source": [
        "from sklearn.preprocessing import Normalizer"
      ],
      "execution_count": 164,
      "outputs": []
    },
    {
      "cell_type": "code",
      "metadata": {
        "id": "1t6r3kvXsEID"
      },
      "source": [
        "normalizer = Normalizer(norm='l1')\n",
        "\n",
        "normalized_features = normalizer.fit_transform(features_df)"
      ],
      "execution_count": 165,
      "outputs": []
    },
    {
      "cell_type": "code",
      "metadata": {
        "id": "xxHYAb5MsTpD"
      },
      "source": [
        "l1_normalized_features_df = pd.DataFrame(normalized_features, columns=features_df.columns)"
      ],
      "execution_count": 167,
      "outputs": []
    },
    {
      "cell_type": "code",
      "metadata": {
        "colab": {
          "base_uri": "https://localhost:8080/"
        },
        "id": "dKe3h_CMshRW",
        "outputId": "f502a02d-dff0-42d0-f4b2-a0d3b0d18c0a"
      },
      "source": [
        "l1_normalized_features_df.iloc[0]"
      ],
      "execution_count": 169,
      "outputs": [
        {
          "output_type": "execute_result",
          "data": {
            "text/plain": [
              "Pregnancies                 0.010633\n",
              "Glucose                     0.262293\n",
              "BloodPressure               0.127602\n",
              "SkinThickness               0.062029\n",
              "Insulin                     0.388172\n",
              "BMI                         0.059548\n",
              "DiabetesPedigreeFunction    0.001111\n",
              "Age                         0.088612\n",
              "Name: 0, dtype: float64"
            ]
          },
          "metadata": {
            "tags": []
          },
          "execution_count": 169
        }
      ]
    },
    {
      "cell_type": "code",
      "metadata": {
        "colab": {
          "base_uri": "https://localhost:8080/",
          "height": 300
        },
        "id": "i4ROsulzsu8o",
        "outputId": "ad34b00b-0a3e-4e70-f12c-416744ebf2e9"
      },
      "source": [
        "l1_normalized_features_df[0:1].transpose()"
      ],
      "execution_count": 173,
      "outputs": [
        {
          "output_type": "execute_result",
          "data": {
            "text/html": [
              "<div>\n",
              "<style scoped>\n",
              "    .dataframe tbody tr th:only-of-type {\n",
              "        vertical-align: middle;\n",
              "    }\n",
              "\n",
              "    .dataframe tbody tr th {\n",
              "        vertical-align: top;\n",
              "    }\n",
              "\n",
              "    .dataframe thead th {\n",
              "        text-align: right;\n",
              "    }\n",
              "</style>\n",
              "<table border=\"1\" class=\"dataframe\">\n",
              "  <thead>\n",
              "    <tr style=\"text-align: right;\">\n",
              "      <th></th>\n",
              "      <th>0</th>\n",
              "    </tr>\n",
              "  </thead>\n",
              "  <tbody>\n",
              "    <tr>\n",
              "      <th>Pregnancies</th>\n",
              "      <td>0.010633</td>\n",
              "    </tr>\n",
              "    <tr>\n",
              "      <th>Glucose</th>\n",
              "      <td>0.262293</td>\n",
              "    </tr>\n",
              "    <tr>\n",
              "      <th>BloodPressure</th>\n",
              "      <td>0.127602</td>\n",
              "    </tr>\n",
              "    <tr>\n",
              "      <th>SkinThickness</th>\n",
              "      <td>0.062029</td>\n",
              "    </tr>\n",
              "    <tr>\n",
              "      <th>Insulin</th>\n",
              "      <td>0.388172</td>\n",
              "    </tr>\n",
              "    <tr>\n",
              "      <th>BMI</th>\n",
              "      <td>0.059548</td>\n",
              "    </tr>\n",
              "    <tr>\n",
              "      <th>DiabetesPedigreeFunction</th>\n",
              "      <td>0.001111</td>\n",
              "    </tr>\n",
              "    <tr>\n",
              "      <th>Age</th>\n",
              "      <td>0.088612</td>\n",
              "    </tr>\n",
              "  </tbody>\n",
              "</table>\n",
              "</div>"
            ],
            "text/plain": [
              "                                 0\n",
              "Pregnancies               0.010633\n",
              "Glucose                   0.262293\n",
              "BloodPressure             0.127602\n",
              "SkinThickness             0.062029\n",
              "Insulin                   0.388172\n",
              "BMI                       0.059548\n",
              "DiabetesPedigreeFunction  0.001111\n",
              "Age                       0.088612"
            ]
          },
          "metadata": {
            "tags": []
          },
          "execution_count": 173
        }
      ]
    },
    {
      "cell_type": "code",
      "metadata": {
        "colab": {
          "base_uri": "https://localhost:8080/"
        },
        "id": "CZu11VtLs3cI",
        "outputId": "73492236-19da-4b61-ea70-c446e844d596"
      },
      "source": [
        "l1_normalized_features_df.iloc[0].abs().sum()"
      ],
      "execution_count": 174,
      "outputs": [
        {
          "output_type": "execute_result",
          "data": {
            "text/plain": [
              "1.0"
            ]
          },
          "metadata": {
            "tags": []
          },
          "execution_count": 174
        }
      ]
    },
    {
      "cell_type": "code",
      "metadata": {
        "id": "bx_FRjsCtGQc"
      },
      "source": [
        "normalizer = Normalizer(norm='l2')\n",
        "\n",
        "normalized_features = normalizer.fit_transform(features_df)\n",
        "\n",
        "l2_normalized_features_df = pd.DataFrame(normalized_features, columns=features_df.columns)"
      ],
      "execution_count": 175,
      "outputs": []
    },
    {
      "cell_type": "code",
      "metadata": {
        "colab": {
          "base_uri": "https://localhost:8080/"
        },
        "id": "jPqrxJrZtUTn",
        "outputId": "38014574-26c3-4572-f81e-1f3996740d7c"
      },
      "source": [
        "l2_normalized_features_df.iloc[0]"
      ],
      "execution_count": 176,
      "outputs": [
        {
          "output_type": "execute_result",
          "data": {
            "text/plain": [
              "Pregnancies                 0.021220\n",
              "Glucose                     0.523417\n",
              "BloodPressure               0.254635\n",
              "SkinThickness               0.123781\n",
              "Insulin                     0.774616\n",
              "BMI                         0.118830\n",
              "DiabetesPedigreeFunction    0.002217\n",
              "Age                         0.176830\n",
              "Name: 0, dtype: float64"
            ]
          },
          "metadata": {
            "tags": []
          },
          "execution_count": 176
        }
      ]
    },
    {
      "cell_type": "code",
      "metadata": {
        "colab": {
          "base_uri": "https://localhost:8080/"
        },
        "id": "1R4GNTVrtYK-",
        "outputId": "5c8cd97e-398f-4e69-cd84-c6fd81cb5f8c"
      },
      "source": [
        "l2_normalized_features_df.iloc[0].abs().sum()"
      ],
      "execution_count": 177,
      "outputs": [
        {
          "output_type": "execute_result",
          "data": {
            "text/plain": [
              "1.9955454056240292"
            ]
          },
          "metadata": {
            "tags": []
          },
          "execution_count": 177
        }
      ]
    },
    {
      "cell_type": "code",
      "metadata": {
        "colab": {
          "base_uri": "https://localhost:8080/"
        },
        "id": "875gyZUBtbD7",
        "outputId": "f4746960-7a38-4724-8299-6da73f53d89c"
      },
      "source": [
        "l2_normalized_features_df.iloc[0].pow(2)"
      ],
      "execution_count": 180,
      "outputs": [
        {
          "output_type": "execute_result",
          "data": {
            "text/plain": [
              "Pregnancies                 0.000450\n",
              "Glucose                     0.273965\n",
              "BloodPressure               0.064839\n",
              "SkinThickness               0.015322\n",
              "Insulin                     0.600030\n",
              "BMI                         0.014121\n",
              "DiabetesPedigreeFunction    0.000005\n",
              "Age                         0.031269\n",
              "Name: 0, dtype: float64"
            ]
          },
          "metadata": {
            "tags": []
          },
          "execution_count": 180
        }
      ]
    },
    {
      "cell_type": "code",
      "metadata": {
        "colab": {
          "base_uri": "https://localhost:8080/"
        },
        "id": "etK80oOWtkzx",
        "outputId": "69b68125-a303-49cb-9d58-29cf1a7cba6d"
      },
      "source": [
        "l2_normalized_features_df.iloc[0].pow(2).sum()"
      ],
      "execution_count": 181,
      "outputs": [
        {
          "output_type": "execute_result",
          "data": {
            "text/plain": [
              "1.0"
            ]
          },
          "metadata": {
            "tags": []
          },
          "execution_count": 181
        }
      ]
    },
    {
      "cell_type": "code",
      "metadata": {
        "id": "jpvVMiu1tp-K"
      },
      "source": [
        "normalizer = Normalizer(norm='max')\n",
        "\n",
        "normalized_features = normalizer.fit_transform(features_df)\n",
        "\n",
        "max_normalized_features_df = pd.DataFrame(normalized_features, columns=features_df.columns)"
      ],
      "execution_count": 182,
      "outputs": []
    },
    {
      "cell_type": "code",
      "metadata": {
        "colab": {
          "base_uri": "https://localhost:8080/",
          "height": 206
        },
        "id": "xxbLGg0MtzLq",
        "outputId": "fab2617b-778b-406d-d76a-11daf17811d1"
      },
      "source": [
        "max_normalized_features_df.head()"
      ],
      "execution_count": 183,
      "outputs": [
        {
          "output_type": "execute_result",
          "data": {
            "text/html": [
              "<div>\n",
              "<style scoped>\n",
              "    .dataframe tbody tr th:only-of-type {\n",
              "        vertical-align: middle;\n",
              "    }\n",
              "\n",
              "    .dataframe tbody tr th {\n",
              "        vertical-align: top;\n",
              "    }\n",
              "\n",
              "    .dataframe thead th {\n",
              "        text-align: right;\n",
              "    }\n",
              "</style>\n",
              "<table border=\"1\" class=\"dataframe\">\n",
              "  <thead>\n",
              "    <tr style=\"text-align: right;\">\n",
              "      <th></th>\n",
              "      <th>Pregnancies</th>\n",
              "      <th>Glucose</th>\n",
              "      <th>BloodPressure</th>\n",
              "      <th>SkinThickness</th>\n",
              "      <th>Insulin</th>\n",
              "      <th>BMI</th>\n",
              "      <th>DiabetesPedigreeFunction</th>\n",
              "      <th>Age</th>\n",
              "    </tr>\n",
              "  </thead>\n",
              "  <tbody>\n",
              "    <tr>\n",
              "      <th>0</th>\n",
              "      <td>0.027394</td>\n",
              "      <td>0.675711</td>\n",
              "      <td>0.328724</td>\n",
              "      <td>0.159797</td>\n",
              "      <td>1.000000</td>\n",
              "      <td>0.153405</td>\n",
              "      <td>0.002863</td>\n",
              "      <td>0.228281</td>\n",
              "    </tr>\n",
              "    <tr>\n",
              "      <th>1</th>\n",
              "      <td>0.011765</td>\n",
              "      <td>1.000000</td>\n",
              "      <td>0.776471</td>\n",
              "      <td>0.341176</td>\n",
              "      <td>0.827548</td>\n",
              "      <td>0.312941</td>\n",
              "      <td>0.004129</td>\n",
              "      <td>0.364706</td>\n",
              "    </tr>\n",
              "    <tr>\n",
              "      <th>2</th>\n",
              "      <td>0.029567</td>\n",
              "      <td>0.676342</td>\n",
              "      <td>0.236535</td>\n",
              "      <td>0.118267</td>\n",
              "      <td>1.000000</td>\n",
              "      <td>0.086113</td>\n",
              "      <td>0.002484</td>\n",
              "      <td>0.118267</td>\n",
              "    </tr>\n",
              "    <tr>\n",
              "      <th>3</th>\n",
              "      <td>0.010638</td>\n",
              "      <td>0.946809</td>\n",
              "      <td>0.702128</td>\n",
              "      <td>0.244681</td>\n",
              "      <td>1.000000</td>\n",
              "      <td>0.298936</td>\n",
              "      <td>0.001777</td>\n",
              "      <td>0.223404</td>\n",
              "    </tr>\n",
              "    <tr>\n",
              "      <th>4</th>\n",
              "      <td>0.000000</td>\n",
              "      <td>0.815476</td>\n",
              "      <td>0.238095</td>\n",
              "      <td>0.208333</td>\n",
              "      <td>1.000000</td>\n",
              "      <td>0.256548</td>\n",
              "      <td>0.013619</td>\n",
              "      <td>0.196429</td>\n",
              "    </tr>\n",
              "  </tbody>\n",
              "</table>\n",
              "</div>"
            ],
            "text/plain": [
              "   Pregnancies   Glucose  ...  DiabetesPedigreeFunction       Age\n",
              "0     0.027394  0.675711  ...                  0.002863  0.228281\n",
              "1     0.011765  1.000000  ...                  0.004129  0.364706\n",
              "2     0.029567  0.676342  ...                  0.002484  0.118267\n",
              "3     0.010638  0.946809  ...                  0.001777  0.223404\n",
              "4     0.000000  0.815476  ...                  0.013619  0.196429\n",
              "\n",
              "[5 rows x 8 columns]"
            ]
          },
          "metadata": {
            "tags": []
          },
          "execution_count": 183
        }
      ]
    },
    {
      "cell_type": "code",
      "metadata": {
        "id": "OwEDJHCvt4u_"
      },
      "source": [
        "from sklearn.preprocessing import Binarizer"
      ],
      "execution_count": 184,
      "outputs": []
    },
    {
      "cell_type": "code",
      "metadata": {
        "id": "8SWnhhm1uA15"
      },
      "source": [
        "binarizer = Binarizer(threshold=float((features_df[['Pregnancies']]).mean()))\n",
        "\n",
        "binarized_features = binarizer.fit_transform(features_df[['Pregnancies']])"
      ],
      "execution_count": 185,
      "outputs": []
    },
    {
      "cell_type": "code",
      "metadata": {
        "colab": {
          "base_uri": "https://localhost:8080/"
        },
        "id": "3ERG3BdhuU8-",
        "outputId": "a71d3d3e-d883-4b92-e32e-40951aee0da2"
      },
      "source": [
        "binarized_features[0:10]"
      ],
      "execution_count": 186,
      "outputs": [
        {
          "output_type": "execute_result",
          "data": {
            "text/plain": [
              "array([[1.],\n",
              "       [0.],\n",
              "       [1.],\n",
              "       [0.],\n",
              "       [0.],\n",
              "       [1.],\n",
              "       [0.],\n",
              "       [1.],\n",
              "       [0.],\n",
              "       [1.]])"
            ]
          },
          "metadata": {
            "tags": []
          },
          "execution_count": 186
        }
      ]
    },
    {
      "cell_type": "code",
      "metadata": {
        "id": "RbXvKiTMufyq"
      },
      "source": [
        "for i in range(1, features_df.shape[1]):\n",
        "\n",
        "  scaler = Binarizer(threshold=float((features_df[[features_df.columns[i]]]).mean())).fit(features_df[[features_df.columns[i]]])\n",
        "\n",
        "  new_binarized_feature = scaler.transform(features_df[[features_df.columns[i]]])\n",
        "\n",
        "  binarized_features = np.concatenate((binarized_features, new_binarized_feature), axis=1)"
      ],
      "execution_count": 188,
      "outputs": []
    },
    {
      "cell_type": "code",
      "metadata": {
        "colab": {
          "base_uri": "https://localhost:8080/"
        },
        "id": "KfvGq3vpvfUu",
        "outputId": "2b21af03-583e-46c4-dd29-e14aac88c324"
      },
      "source": [
        "binarized_features[0:10]"
      ],
      "execution_count": 189,
      "outputs": [
        {
          "output_type": "execute_result",
          "data": {
            "text/plain": [
              "array([[1., 1., 0., 1., 1., 1., 1., 1.],\n",
              "       [0., 0., 0., 0., 0., 0., 0., 0.],\n",
              "       [1., 1., 0., 1., 1., 0., 1., 0.],\n",
              "       [0., 0., 0., 0., 0., 0., 0., 0.],\n",
              "       [0., 1., 0., 1., 1., 1., 1., 0.],\n",
              "       [1., 0., 1., 1., 0., 0., 0., 0.],\n",
              "       [0., 0., 0., 1., 0., 0., 0., 0.],\n",
              "       [1., 0., 0., 1., 0., 1., 0., 0.],\n",
              "       [0., 1., 0., 1., 1., 0., 0., 1.],\n",
              "       [1., 1., 1., 1., 1., 0., 0., 1.]])"
            ]
          },
          "metadata": {
            "tags": []
          },
          "execution_count": 189
        }
      ]
    },
    {
      "cell_type": "code",
      "metadata": {
        "id": "C5zMP6uvvjp6"
      },
      "source": [
        "from sklearn.linear_model import LogisticRegression\n",
        "from sklearn.model_selection import train_test_split\n",
        "from sklearn.metrics import accuracy_score"
      ],
      "execution_count": 190,
      "outputs": []
    },
    {
      "cell_type": "code",
      "metadata": {
        "id": "FSj8VktGxANy"
      },
      "source": [
        "def build_model(X, Y, test_frac):\n",
        "\n",
        "  x_train, x_test, y_train, y_test = train_test_split(X, Y, test_size=test_frac)\n",
        "\n",
        "  model = LogisticRegression(solver='liblinear').fit(x_train, y_train)\n",
        "  y_pred = model.predict(x_test)\n",
        "\n",
        "  print(\"Test Score: \", accuracy_score(y_test, y_pred))"
      ],
      "execution_count": 191,
      "outputs": []
    },
    {
      "cell_type": "code",
      "metadata": {
        "id": "v1QxJsdHxflG"
      },
      "source": [
        ""
      ],
      "execution_count": null,
      "outputs": []
    }
  ]
}