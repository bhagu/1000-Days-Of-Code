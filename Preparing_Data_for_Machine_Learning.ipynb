{
  "nbformat": 4,
  "nbformat_minor": 0,
  "metadata": {
    "colab": {
      "name": "Preparing Data for Machine Learning.ipynb",
      "provenance": [],
      "collapsed_sections": [],
      "authorship_tag": "ABX9TyMEAJwBNhWGrQMVxgh78EmR",
      "include_colab_link": true
    },
    "kernelspec": {
      "name": "python3",
      "display_name": "Python 3"
    },
    "language_info": {
      "name": "python"
    }
  },
  "cells": [
    {
      "cell_type": "markdown",
      "metadata": {
        "id": "view-in-github",
        "colab_type": "text"
      },
      "source": [
        "<a href=\"https://colab.research.google.com/github/bhagu/1000-Days-Of-Code/blob/main/Preparing_Data_for_Machine_Learning.ipynb\" target=\"_parent\"><img src=\"https://colab.research.google.com/assets/colab-badge.svg\" alt=\"Open In Colab\"/></a>"
      ]
    },
    {
      "cell_type": "markdown",
      "metadata": {
        "id": "y_nMrQAZSXbs"
      },
      "source": [
        "#Preparing Data For Machine Learning - Pluralsight Course"
      ]
    },
    {
      "cell_type": "markdown",
      "metadata": {
        "id": "Jar5x3FISrEO"
      },
      "source": [
        "#Understanding the Need for Data Preparation"
      ]
    },
    {
      "cell_type": "markdown",
      "metadata": {
        "id": "gsTv8-jeTFI2"
      },
      "source": [
        "##Module Focus\n",
        "Insufficient Data;\n",
        "Excessive or overly complex data;\n",
        "Non-representative data, missing data, outlier;\n",
        "Oversampling and understanding;\n",
        "Overfitting and underfitting models;"
      ]
    },
    {
      "cell_type": "markdown",
      "metadata": {
        "id": "l5HvZ6mej6FL"
      },
      "source": [
        "### Insufficient Data\n",
        "Leads to Overfitting/ Underfitting\n",
        "\n",
        "No great solution for insufficient data\n",
        "\n",
        "Simply need to find more data sources\n",
        "\n",
        "Dealing with Small Datasets\n",
        "\n",
        "Model complexity - Simpler model with fewer model parameters, Less susceptible to overfitting, e.g. Naive Bayes classifier, logistic regression, Use ensemble techniques\n",
        "\n",
        "Transfer learning - the practice of reusing a trained neural network that solves a problem similar to yours, usually leaving the network architeture unchanged and re-using some of all of the model weights\n",
        "\n",
        "Data augmentation - Increase the number of training samples, Perturbed images are a form of data augmentation, Scaling, rotation, affine transforms, Makes CNN training more robust\n",
        "\n",
        "Synthetic data - Artificially generate samples which mimic real world data\n"
      ]
    },
    {
      "cell_type": "markdown",
      "metadata": {
        "id": "Sr9WNBdgltkE"
      },
      "source": [
        "###Too Much Data\n",
        "Data might be excessive in 2 ways\n",
        "\n",
        "- Curse of dimensionality: Too many columns/features\n",
        "- Outdated historical data: Too many rows\n",
        "\n",
        "Concept Drift: The relationship between features (X-variables) and labels (Y-variables) changes over time; ML models fail to keep up, and consequently their performance suffers\n",
        "\n",
        "Outdated historical data: If not eliminated, leads to concept drift;\n",
        "This is a serious issue in specific applications\n",
        "- Financial trading\n",
        "\n",
        "Usually require human expert to judge which rows to leave out\n",
        "\n",
        "Curse of dimensionality: 2 specific problems arise when too much data is available\n",
        "- Deciding which data is actually relevant\n",
        "- Aggregating very low-level data into useful features\n",
        "\n",
        "Easier problem to solve:\n",
        "- Feature selection: Deciding which data is actually relevant\n",
        "- Feautre engineering: Aggregating very low-level data into useful features\n",
        "- Dimensionality reduction: Reduce complexity without losing information\n",
        "\n",
        "Concept Hierarchy: A mapping that combines very low-level features (e.g. latitudes and longitudes) into more general, usable features (e.g. zip codes)\n",
        "\n",
        "\n"
      ]
    },
    {
      "cell_type": "markdown",
      "metadata": {
        "id": "tBXjesEZoU-0"
      },
      "source": [
        "###Non-Representative Data\n",
        "Data is inaccurate, small errors have significant impact\n",
        "\n",
        "Account for data cleaning and processing time\n",
        "\n",
        "Data is not representative of the real world i.e. biased\n",
        "\n",
        "Leads to biased models that perform poorly in practice\n",
        "\n",
        "Mitigate using oversampling and undersampling"
      ]
    },
    {
      "cell_type": "markdown",
      "metadata": {
        "id": "riqKeIsXp5qJ"
      },
      "source": [
        "###Duplicate Data\n",
        "If data can be flagged as duplicate, problem relatively easy to solve\n",
        "- Simply de-duplicate\n",
        "\n",
        "Can be hard to identify in some applications\n",
        "- Real-time streaming"
      ]
    },
    {
      "cell_type": "markdown",
      "metadata": {
        "id": "L-TAlXO6ppqE"
      },
      "source": [
        "###Missing Data and Outliers\n",
        "Data cleaning procedures can help significantly mitigate the effects of\n",
        "- Missing data\n",
        "- Outliers\n",
        "\n",
        "Missing Data\n",
        "- Deletion\n",
        "- Imputation\n",
        "\n",
        "Deletion / Listwise Deletion: Delete an entire record (row) if a single value (column) is missing. Simple, but can lead to bias\n",
        "\n",
        "- Most common method in practices\n",
        "- Can reduce sample size significanlty\n",
        "- If values are not missing at random, can intriduce significant bias\n",
        "\n",
        "Imputation: Fill in missing values, rather than deleting records with missing values. Missing values are inferred from known data.\n",
        "\n",
        "- Methods range from very simple to very complex\n",
        "- Simplest method - Use column average\n",
        "- Can interpolate from nearby values \n",
        "- Can even build model to predict missing values\n",
        "\n",
        "Univariate Imputation: rely only on known values in same feature\n",
        "\n",
        "Multivariate imputation: Use all known data to infer missing value\n",
        "- Construct regression models from other columns to predict this column\n",
        "- Iteratively repeat for all columns\n",
        "\n",
        "Hot-deck Imputation:\n",
        "- Sort records based on any criteria\n",
        "- for each missing value, use immediately prior available value\n",
        "- \"Last Observation Carried Forward\"\n",
        "- For time-series data, equivalent to assuming no change since last measurement\n",
        "\n",
        "Mean Substitution:\n",
        "- For each missing value, substitute mean of all available values\n",
        "- Has effect of weakening correlations between columns\n",
        "- Can be problematic when bivariate analysis is required\n",
        "\n",
        "Regression:\n",
        "- Fit model to predict missing column based on other column values\n",
        "- Tends to strengthen correlations\n",
        "- Regression and mean substitution have complementary strengths\n",
        "\n",
        "Outliers\n",
        "- Identifying Outliers\n",
        "  - Distance from Mean\n",
        "  - Distance from fitted line\n",
        "- Coping with Outliers\n",
        "  - Drop\n",
        "  - Cap/Floor\n",
        "  - Set to mean\n",
        "\n",
        "Identifying Outliers\n",
        "\n",
        "More than 3 Standard deviation - Distance from mean\n",
        "\n",
        "Might also be data points that do not fit into the same relationship as the rest of the data\n",
        "\n",
        "\n",
        "Coping with Outliers\n",
        "- Always start by scrutinizing outliers\n",
        "- If erroneous observation\n",
        "  - Drop if all attributes of that point are erroneous\n",
        "  - Set to mean if only one attribute is erroneous\n",
        "- If genuine, legitimate outlier\n",
        "  - Leave as-is if model is not distorted\n",
        "  - Cap/Floor if model is distorted\n",
        "    - Need to first standardize data\n",
        "    - Cap positive outliers to +3\n",
        "    - Floor negative outliers to -3"
      ]
    },
    {
      "cell_type": "markdown",
      "metadata": {
        "id": "DsCbcILxu2dC"
      },
      "source": [
        "###Oversampling and Undersampling\n",
        "Techniques that intentionally add bias to the data in order to make it balanced\n",
        "\n",
        "Balacing Datasets\n",
        "- Oversampling uncommon x or y values\n",
        "- Undersampling of common x or y values\n",
        "\n",
        "Forcibly Balanced Datasets\n",
        "\n",
        "Oversampling and undersampling tend to\n",
        "- Reduce accuracy\n",
        "- Increase precision and recall\n",
        "\n",
        "Related techniques include\n",
        "- Case studies\n",
        "- Stratified sampling"
      ]
    },
    {
      "cell_type": "markdown",
      "metadata": {
        "id": "jd786kfuwhM7"
      },
      "source": [
        "###Overfitting and Underfitting\n",
        "Overfitting\n",
        "- Model has memorized the training data\n",
        "- Low training error\n",
        "- Doesn't work well in the real world\n",
        "- High test error\n",
        "\n",
        "Underfitting\n",
        "- Model unable to capture relationships in data\n",
        "- Performs poorly on the training data\n",
        "- Model too 'simple' to be useful"
      ]
    },
    {
      "cell_type": "markdown",
      "metadata": {
        "id": "0voCQR3b6xOj"
      },
      "source": [
        ""
      ]
    },
    {
      "cell_type": "markdown",
      "metadata": {
        "id": "cfDywVUgjf2o"
      },
      "source": [
        "#Implementing Data Cleaning and Transformation"
      ]
    },
    {
      "cell_type": "markdown",
      "metadata": {
        "id": "aB-SPG6ejl2L"
      },
      "source": [
        "##Handling Missing Values"
      ]
    },
    {
      "cell_type": "code",
      "metadata": {
        "id": "5G6ImB0QkF6v"
      },
      "source": [
        "import sklearn\n",
        "\n",
        "import pandas as pd\n",
        "import numpy as np\n",
        "\n",
        "import datetime"
      ],
      "execution_count": 1,
      "outputs": []
    },
    {
      "cell_type": "code",
      "metadata": {
        "colab": {
          "base_uri": "https://localhost:8080/"
        },
        "id": "sJjNGzYuk7f5",
        "outputId": "e4898264-47f6-4909-d898-8215d4f1eda5"
      },
      "source": [
        "print(sklearn.__version__)"
      ],
      "execution_count": 2,
      "outputs": [
        {
          "output_type": "stream",
          "text": [
            "0.22.2.post1\n"
          ],
          "name": "stdout"
        }
      ]
    },
    {
      "cell_type": "code",
      "metadata": {
        "colab": {
          "base_uri": "https://localhost:8080/"
        },
        "id": "HB-NI41Jk-0_",
        "outputId": "b587eca0-e593-4931-c186-b65856d48df6"
      },
      "source": [
        "print(np.__version__)"
      ],
      "execution_count": 3,
      "outputs": [
        {
          "output_type": "stream",
          "text": [
            "1.19.5\n"
          ],
          "name": "stdout"
        }
      ]
    },
    {
      "cell_type": "code",
      "metadata": {
        "colab": {
          "base_uri": "https://localhost:8080/"
        },
        "id": "1z3KHaD3lDMQ",
        "outputId": "3f78c920-28e2-49f7-eec6-37edc589a010"
      },
      "source": [
        "print(pd.__version__)"
      ],
      "execution_count": 4,
      "outputs": [
        {
          "output_type": "stream",
          "text": [
            "1.1.5\n"
          ],
          "name": "stdout"
        }
      ]
    },
    {
      "cell_type": "code",
      "metadata": {
        "colab": {
          "base_uri": "https://localhost:8080/",
          "height": 241
        },
        "id": "ps87-4f-lFsV",
        "outputId": "868a6fa3-582d-487b-e015-108dda698bb3"
      },
      "source": [
        "automobile_df = pd.read_csv(\"cars.csv\")\n",
        "\n",
        "automobile_df.head()"
      ],
      "execution_count": 5,
      "outputs": [
        {
          "output_type": "execute_result",
          "data": {
            "text/html": [
              "<div>\n",
              "<style scoped>\n",
              "    .dataframe tbody tr th:only-of-type {\n",
              "        vertical-align: middle;\n",
              "    }\n",
              "\n",
              "    .dataframe tbody tr th {\n",
              "        vertical-align: top;\n",
              "    }\n",
              "\n",
              "    .dataframe thead th {\n",
              "        text-align: right;\n",
              "    }\n",
              "</style>\n",
              "<table border=\"1\" class=\"dataframe\">\n",
              "  <thead>\n",
              "    <tr style=\"text-align: right;\">\n",
              "      <th></th>\n",
              "      <th>Model</th>\n",
              "      <th>MPG</th>\n",
              "      <th>Cylinders</th>\n",
              "      <th>Displacement</th>\n",
              "      <th>Horsepower</th>\n",
              "      <th>Weight</th>\n",
              "      <th>Acceleration</th>\n",
              "      <th>Year</th>\n",
              "      <th>Origin</th>\n",
              "      <th>bore</th>\n",
              "      <th>stroke</th>\n",
              "      <th>compression-ratio</th>\n",
              "    </tr>\n",
              "  </thead>\n",
              "  <tbody>\n",
              "    <tr>\n",
              "      <th>0</th>\n",
              "      <td>chevrolet chevelle malibu</td>\n",
              "      <td>18.0</td>\n",
              "      <td>8</td>\n",
              "      <td>307</td>\n",
              "      <td>130</td>\n",
              "      <td>3504</td>\n",
              "      <td>12</td>\n",
              "      <td>1970[1975]</td>\n",
              "      <td>US; Detroit, Michigan</td>\n",
              "      <td>3.47</td>\n",
              "      <td>2.68</td>\n",
              "      <td>9</td>\n",
              "    </tr>\n",
              "    <tr>\n",
              "      <th>1</th>\n",
              "      <td>buick skylark 320</td>\n",
              "      <td>15.0</td>\n",
              "      <td>8</td>\n",
              "      <td>350</td>\n",
              "      <td>165</td>\n",
              "      <td>3693</td>\n",
              "      <td>11.5</td>\n",
              "      <td>1970</td>\n",
              "      <td>US]</td>\n",
              "      <td>3.47</td>\n",
              "      <td>2.68</td>\n",
              "      <td>?</td>\n",
              "    </tr>\n",
              "    <tr>\n",
              "      <th>2</th>\n",
              "      <td>plymouth satellite</td>\n",
              "      <td>18.0</td>\n",
              "      <td>?</td>\n",
              "      <td>318</td>\n",
              "      <td>150</td>\n",
              "      <td>3436</td>\n",
              "      <td>11</td>\n",
              "      <td>1970, 1976</td>\n",
              "      <td>US</td>\n",
              "      <td>2.68</td>\n",
              "      <td>3.47</td>\n",
              "      <td>9</td>\n",
              "    </tr>\n",
              "    <tr>\n",
              "      <th>3</th>\n",
              "      <td>amc rebel sst</td>\n",
              "      <td>16.0</td>\n",
              "      <td>8</td>\n",
              "      <td>304</td>\n",
              "      <td>150</td>\n",
              "      <td>3433</td>\n",
              "      <td>12</td>\n",
              "      <td>1970</td>\n",
              "      <td>US</td>\n",
              "      <td>3.19</td>\n",
              "      <td>3.40</td>\n",
              "      <td>10</td>\n",
              "    </tr>\n",
              "    <tr>\n",
              "      <th>4</th>\n",
              "      <td>ford torino</td>\n",
              "      <td>17.0</td>\n",
              "      <td>8</td>\n",
              "      <td>302</td>\n",
              "      <td>140</td>\n",
              "      <td>3449</td>\n",
              "      <td>10.5</td>\n",
              "      <td>1970-1972</td>\n",
              "      <td>US]</td>\n",
              "      <td>3.19</td>\n",
              "      <td>3.40</td>\n",
              "      <td>8</td>\n",
              "    </tr>\n",
              "  </tbody>\n",
              "</table>\n",
              "</div>"
            ],
            "text/plain": [
              "                       Model   MPG Cylinders  ...  bore  stroke compression-ratio\n",
              "0  chevrolet chevelle malibu  18.0         8  ...  3.47    2.68                 9\n",
              "1          buick skylark 320  15.0         8  ...  3.47    2.68                 ?\n",
              "2         plymouth satellite  18.0         ?  ...  2.68    3.47                 9\n",
              "3              amc rebel sst  16.0         8  ...  3.19    3.40                10\n",
              "4                ford torino  17.0         8  ...  3.19    3.40                 8\n",
              "\n",
              "[5 rows x 12 columns]"
            ]
          },
          "metadata": {
            "tags": []
          },
          "execution_count": 5
        }
      ]
    },
    {
      "cell_type": "code",
      "metadata": {
        "colab": {
          "base_uri": "https://localhost:8080/"
        },
        "id": "UvRNGrhElXS5",
        "outputId": "d55020c0-dddf-4a9e-d54e-9d258df7fdad"
      },
      "source": [
        "automobile_df.columns"
      ],
      "execution_count": 6,
      "outputs": [
        {
          "output_type": "execute_result",
          "data": {
            "text/plain": [
              "Index(['Model', 'MPG', 'Cylinders', 'Displacement', 'Horsepower', 'Weight',\n",
              "       'Acceleration', 'Year', 'Origin', 'bore', 'stroke',\n",
              "       'compression-ratio'],\n",
              "      dtype='object')"
            ]
          },
          "metadata": {
            "tags": []
          },
          "execution_count": 6
        }
      ]
    },
    {
      "cell_type": "code",
      "metadata": {
        "colab": {
          "base_uri": "https://localhost:8080/",
          "height": 300
        },
        "id": "m31upmSBlfct",
        "outputId": "538ad4a7-5ce2-4a92-cd62-ee7dc3147d7d"
      },
      "source": [
        "automobile_df.describe()"
      ],
      "execution_count": 7,
      "outputs": [
        {
          "output_type": "execute_result",
          "data": {
            "text/html": [
              "<div>\n",
              "<style scoped>\n",
              "    .dataframe tbody tr th:only-of-type {\n",
              "        vertical-align: middle;\n",
              "    }\n",
              "\n",
              "    .dataframe tbody tr th {\n",
              "        vertical-align: top;\n",
              "    }\n",
              "\n",
              "    .dataframe thead th {\n",
              "        text-align: right;\n",
              "    }\n",
              "</style>\n",
              "<table border=\"1\" class=\"dataframe\">\n",
              "  <thead>\n",
              "    <tr style=\"text-align: right;\">\n",
              "      <th></th>\n",
              "      <th>MPG</th>\n",
              "      <th>Horsepower</th>\n",
              "      <th>bore</th>\n",
              "      <th>stroke</th>\n",
              "    </tr>\n",
              "  </thead>\n",
              "  <tbody>\n",
              "    <tr>\n",
              "      <th>count</th>\n",
              "      <td>385.000000</td>\n",
              "      <td>394.000000</td>\n",
              "      <td>394.000000</td>\n",
              "      <td>394.000000</td>\n",
              "    </tr>\n",
              "    <tr>\n",
              "      <th>mean</th>\n",
              "      <td>23.551429</td>\n",
              "      <td>104.337563</td>\n",
              "      <td>3.305025</td>\n",
              "      <td>3.289289</td>\n",
              "    </tr>\n",
              "    <tr>\n",
              "      <th>std</th>\n",
              "      <td>7.821598</td>\n",
              "      <td>38.449600</td>\n",
              "      <td>0.270336</td>\n",
              "      <td>0.271165</td>\n",
              "    </tr>\n",
              "    <tr>\n",
              "      <th>min</th>\n",
              "      <td>9.000000</td>\n",
              "      <td>46.000000</td>\n",
              "      <td>2.540000</td>\n",
              "      <td>2.070000</td>\n",
              "    </tr>\n",
              "    <tr>\n",
              "      <th>25%</th>\n",
              "      <td>17.500000</td>\n",
              "      <td>75.000000</td>\n",
              "      <td>3.080000</td>\n",
              "      <td>3.150000</td>\n",
              "    </tr>\n",
              "    <tr>\n",
              "      <th>50%</th>\n",
              "      <td>23.000000</td>\n",
              "      <td>92.500000</td>\n",
              "      <td>3.270000</td>\n",
              "      <td>3.350000</td>\n",
              "    </tr>\n",
              "    <tr>\n",
              "      <th>75%</th>\n",
              "      <td>29.000000</td>\n",
              "      <td>125.000000</td>\n",
              "      <td>3.580000</td>\n",
              "      <td>3.400000</td>\n",
              "    </tr>\n",
              "    <tr>\n",
              "      <th>max</th>\n",
              "      <td>46.600000</td>\n",
              "      <td>230.000000</td>\n",
              "      <td>3.940000</td>\n",
              "      <td>4.170000</td>\n",
              "    </tr>\n",
              "  </tbody>\n",
              "</table>\n",
              "</div>"
            ],
            "text/plain": [
              "              MPG  Horsepower        bore      stroke\n",
              "count  385.000000  394.000000  394.000000  394.000000\n",
              "mean    23.551429  104.337563    3.305025    3.289289\n",
              "std      7.821598   38.449600    0.270336    0.271165\n",
              "min      9.000000   46.000000    2.540000    2.070000\n",
              "25%     17.500000   75.000000    3.080000    3.150000\n",
              "50%     23.000000   92.500000    3.270000    3.350000\n",
              "75%     29.000000  125.000000    3.580000    3.400000\n",
              "max     46.600000  230.000000    3.940000    4.170000"
            ]
          },
          "metadata": {
            "tags": []
          },
          "execution_count": 7
        }
      ]
    },
    {
      "cell_type": "code",
      "metadata": {
        "colab": {
          "base_uri": "https://localhost:8080/"
        },
        "id": "QvemhX2llimq",
        "outputId": "109273b0-5033-4f83-eb2c-4304efdaaf53"
      },
      "source": [
        "  automobile_df.shape"
      ],
      "execution_count": 8,
      "outputs": [
        {
          "output_type": "execute_result",
          "data": {
            "text/plain": [
              "(394, 12)"
            ]
          },
          "metadata": {
            "tags": []
          },
          "execution_count": 8
        }
      ]
    },
    {
      "cell_type": "code",
      "metadata": {
        "colab": {
          "base_uri": "https://localhost:8080/",
          "height": 241
        },
        "id": "PId6dXi9lv4A",
        "outputId": "4fd64a18-a956-4fd2-83d4-726724ede485"
      },
      "source": [
        "automobile_df = automobile_df.replace('?', np.nan)\n",
        "\n",
        "automobile_df.head()"
      ],
      "execution_count": 9,
      "outputs": [
        {
          "output_type": "execute_result",
          "data": {
            "text/html": [
              "<div>\n",
              "<style scoped>\n",
              "    .dataframe tbody tr th:only-of-type {\n",
              "        vertical-align: middle;\n",
              "    }\n",
              "\n",
              "    .dataframe tbody tr th {\n",
              "        vertical-align: top;\n",
              "    }\n",
              "\n",
              "    .dataframe thead th {\n",
              "        text-align: right;\n",
              "    }\n",
              "</style>\n",
              "<table border=\"1\" class=\"dataframe\">\n",
              "  <thead>\n",
              "    <tr style=\"text-align: right;\">\n",
              "      <th></th>\n",
              "      <th>Model</th>\n",
              "      <th>MPG</th>\n",
              "      <th>Cylinders</th>\n",
              "      <th>Displacement</th>\n",
              "      <th>Horsepower</th>\n",
              "      <th>Weight</th>\n",
              "      <th>Acceleration</th>\n",
              "      <th>Year</th>\n",
              "      <th>Origin</th>\n",
              "      <th>bore</th>\n",
              "      <th>stroke</th>\n",
              "      <th>compression-ratio</th>\n",
              "    </tr>\n",
              "  </thead>\n",
              "  <tbody>\n",
              "    <tr>\n",
              "      <th>0</th>\n",
              "      <td>chevrolet chevelle malibu</td>\n",
              "      <td>18.0</td>\n",
              "      <td>8</td>\n",
              "      <td>307</td>\n",
              "      <td>130</td>\n",
              "      <td>3504</td>\n",
              "      <td>12</td>\n",
              "      <td>1970[1975]</td>\n",
              "      <td>US; Detroit, Michigan</td>\n",
              "      <td>3.47</td>\n",
              "      <td>2.68</td>\n",
              "      <td>9</td>\n",
              "    </tr>\n",
              "    <tr>\n",
              "      <th>1</th>\n",
              "      <td>buick skylark 320</td>\n",
              "      <td>15.0</td>\n",
              "      <td>8</td>\n",
              "      <td>350</td>\n",
              "      <td>165</td>\n",
              "      <td>3693</td>\n",
              "      <td>11.5</td>\n",
              "      <td>1970</td>\n",
              "      <td>US]</td>\n",
              "      <td>3.47</td>\n",
              "      <td>2.68</td>\n",
              "      <td>NaN</td>\n",
              "    </tr>\n",
              "    <tr>\n",
              "      <th>2</th>\n",
              "      <td>plymouth satellite</td>\n",
              "      <td>18.0</td>\n",
              "      <td>NaN</td>\n",
              "      <td>318</td>\n",
              "      <td>150</td>\n",
              "      <td>3436</td>\n",
              "      <td>11</td>\n",
              "      <td>1970, 1976</td>\n",
              "      <td>US</td>\n",
              "      <td>2.68</td>\n",
              "      <td>3.47</td>\n",
              "      <td>9</td>\n",
              "    </tr>\n",
              "    <tr>\n",
              "      <th>3</th>\n",
              "      <td>amc rebel sst</td>\n",
              "      <td>16.0</td>\n",
              "      <td>8</td>\n",
              "      <td>304</td>\n",
              "      <td>150</td>\n",
              "      <td>3433</td>\n",
              "      <td>12</td>\n",
              "      <td>1970</td>\n",
              "      <td>US</td>\n",
              "      <td>3.19</td>\n",
              "      <td>3.40</td>\n",
              "      <td>10</td>\n",
              "    </tr>\n",
              "    <tr>\n",
              "      <th>4</th>\n",
              "      <td>ford torino</td>\n",
              "      <td>17.0</td>\n",
              "      <td>8</td>\n",
              "      <td>302</td>\n",
              "      <td>140</td>\n",
              "      <td>3449</td>\n",
              "      <td>10.5</td>\n",
              "      <td>1970-1972</td>\n",
              "      <td>US]</td>\n",
              "      <td>3.19</td>\n",
              "      <td>3.40</td>\n",
              "      <td>8</td>\n",
              "    </tr>\n",
              "  </tbody>\n",
              "</table>\n",
              "</div>"
            ],
            "text/plain": [
              "                       Model   MPG Cylinders  ...  bore  stroke compression-ratio\n",
              "0  chevrolet chevelle malibu  18.0         8  ...  3.47    2.68                 9\n",
              "1          buick skylark 320  15.0         8  ...  3.47    2.68               NaN\n",
              "2         plymouth satellite  18.0       NaN  ...  2.68    3.47                 9\n",
              "3              amc rebel sst  16.0         8  ...  3.19    3.40                10\n",
              "4                ford torino  17.0         8  ...  3.19    3.40                 8\n",
              "\n",
              "[5 rows x 12 columns]"
            ]
          },
          "metadata": {
            "tags": []
          },
          "execution_count": 9
        }
      ]
    },
    {
      "cell_type": "code",
      "metadata": {
        "colab": {
          "base_uri": "https://localhost:8080/"
        },
        "id": "wzUltOZkl8jf",
        "outputId": "24b27e4e-9b2f-4e21-d922-b9ed555cc224"
      },
      "source": [
        "automobile_df.isna().sum()"
      ],
      "execution_count": 10,
      "outputs": [
        {
          "output_type": "execute_result",
          "data": {
            "text/plain": [
              "Model                0\n",
              "MPG                  9\n",
              "Cylinders            2\n",
              "Displacement         1\n",
              "Horsepower           0\n",
              "Weight               1\n",
              "Acceleration         1\n",
              "Year                 0\n",
              "Origin               0\n",
              "bore                 0\n",
              "stroke               0\n",
              "compression-ratio    2\n",
              "dtype: int64"
            ]
          },
          "metadata": {
            "tags": []
          },
          "execution_count": 10
        }
      ]
    },
    {
      "cell_type": "code",
      "metadata": {
        "colab": {
          "base_uri": "https://localhost:8080/"
        },
        "id": "3L0U_T6UmEh0",
        "outputId": "e2fa4d02-9afe-4fe7-b6dc-c1e350382b88"
      },
      "source": [
        "automobile_df['MPG'] = automobile_df['MPG'].fillna(automobile_df['MPG'].mean())\n",
        "\n",
        "automobile_df.isna().sum()"
      ],
      "execution_count": 11,
      "outputs": [
        {
          "output_type": "execute_result",
          "data": {
            "text/plain": [
              "Model                0\n",
              "MPG                  0\n",
              "Cylinders            2\n",
              "Displacement         1\n",
              "Horsepower           0\n",
              "Weight               1\n",
              "Acceleration         1\n",
              "Year                 0\n",
              "Origin               0\n",
              "bore                 0\n",
              "stroke               0\n",
              "compression-ratio    2\n",
              "dtype: int64"
            ]
          },
          "metadata": {
            "tags": []
          },
          "execution_count": 11
        }
      ]
    },
    {
      "cell_type": "code",
      "metadata": {
        "id": "DzAaqP-FmlNm"
      },
      "source": [
        "automobile_df = automobile_df.dropna()"
      ],
      "execution_count": 12,
      "outputs": []
    },
    {
      "cell_type": "code",
      "metadata": {
        "colab": {
          "base_uri": "https://localhost:8080/"
        },
        "id": "0wN51SlMm7Sv",
        "outputId": "a45f4249-53e7-4416-a5f0-012e2b9e8624"
      },
      "source": [
        " automobile_df.shape"
      ],
      "execution_count": 13,
      "outputs": [
        {
          "output_type": "execute_result",
          "data": {
            "text/plain": [
              "(387, 12)"
            ]
          },
          "metadata": {
            "tags": []
          },
          "execution_count": 13
        }
      ]
    },
    {
      "cell_type": "code",
      "metadata": {
        "colab": {
          "base_uri": "https://localhost:8080/"
        },
        "id": "geGZE0K8m9NY",
        "outputId": "015b4621-fbb3-4a45-ed4f-15150abe9558"
      },
      "source": [
        "automobile_df.isna().sum()"
      ],
      "execution_count": 14,
      "outputs": [
        {
          "output_type": "execute_result",
          "data": {
            "text/plain": [
              "Model                0\n",
              "MPG                  0\n",
              "Cylinders            0\n",
              "Displacement         0\n",
              "Horsepower           0\n",
              "Weight               0\n",
              "Acceleration         0\n",
              "Year                 0\n",
              "Origin               0\n",
              "bore                 0\n",
              "stroke               0\n",
              "compression-ratio    0\n",
              "dtype: int64"
            ]
          },
          "metadata": {
            "tags": []
          },
          "execution_count": 14
        }
      ]
    },
    {
      "cell_type": "code",
      "metadata": {
        "colab": {
          "base_uri": "https://localhost:8080/"
        },
        "id": "LjDXjzZJm_os",
        "outputId": "43c75693-3166-48c5-f94a-113ad56e5f20"
      },
      "source": [
        "automobile_df.isnull().sum()"
      ],
      "execution_count": 15,
      "outputs": [
        {
          "output_type": "execute_result",
          "data": {
            "text/plain": [
              "Model                0\n",
              "MPG                  0\n",
              "Cylinders            0\n",
              "Displacement         0\n",
              "Horsepower           0\n",
              "Weight               0\n",
              "Acceleration         0\n",
              "Year                 0\n",
              "Origin               0\n",
              "bore                 0\n",
              "stroke               0\n",
              "compression-ratio    0\n",
              "dtype: int64"
            ]
          },
          "metadata": {
            "tags": []
          },
          "execution_count": 15
        }
      ]
    },
    {
      "cell_type": "code",
      "metadata": {
        "colab": {
          "base_uri": "https://localhost:8080/",
          "height": 206
        },
        "id": "edgd6LucnGxB",
        "outputId": "a8b25f39-7023-4368-ad57-5ce0f2a1ba32"
      },
      "source": [
        "automobile_df.sample(5)"
      ],
      "execution_count": 16,
      "outputs": [
        {
          "output_type": "execute_result",
          "data": {
            "text/html": [
              "<div>\n",
              "<style scoped>\n",
              "    .dataframe tbody tr th:only-of-type {\n",
              "        vertical-align: middle;\n",
              "    }\n",
              "\n",
              "    .dataframe tbody tr th {\n",
              "        vertical-align: top;\n",
              "    }\n",
              "\n",
              "    .dataframe thead th {\n",
              "        text-align: right;\n",
              "    }\n",
              "</style>\n",
              "<table border=\"1\" class=\"dataframe\">\n",
              "  <thead>\n",
              "    <tr style=\"text-align: right;\">\n",
              "      <th></th>\n",
              "      <th>Model</th>\n",
              "      <th>MPG</th>\n",
              "      <th>Cylinders</th>\n",
              "      <th>Displacement</th>\n",
              "      <th>Horsepower</th>\n",
              "      <th>Weight</th>\n",
              "      <th>Acceleration</th>\n",
              "      <th>Year</th>\n",
              "      <th>Origin</th>\n",
              "      <th>bore</th>\n",
              "      <th>stroke</th>\n",
              "      <th>compression-ratio</th>\n",
              "    </tr>\n",
              "  </thead>\n",
              "  <tbody>\n",
              "    <tr>\n",
              "      <th>285</th>\n",
              "      <td>mercury grand marquis</td>\n",
              "      <td>16.5</td>\n",
              "      <td>8</td>\n",
              "      <td>351</td>\n",
              "      <td>138</td>\n",
              "      <td>3955</td>\n",
              "      <td>13.2</td>\n",
              "      <td>1979</td>\n",
              "      <td>US</td>\n",
              "      <td>3.01</td>\n",
              "      <td>3.40</td>\n",
              "      <td>23</td>\n",
              "    </tr>\n",
              "    <tr>\n",
              "      <th>79</th>\n",
              "      <td>ford pinto (sw)</td>\n",
              "      <td>22.0</td>\n",
              "      <td>4</td>\n",
              "      <td>122</td>\n",
              "      <td>86</td>\n",
              "      <td>2395</td>\n",
              "      <td>16</td>\n",
              "      <td>1972-73</td>\n",
              "      <td>US</td>\n",
              "      <td>3.03</td>\n",
              "      <td>3.39</td>\n",
              "      <td>7.6</td>\n",
              "    </tr>\n",
              "    <tr>\n",
              "      <th>122</th>\n",
              "      <td>toyota mark ii</td>\n",
              "      <td>20.0</td>\n",
              "      <td>6</td>\n",
              "      <td>156</td>\n",
              "      <td>122</td>\n",
              "      <td>2807</td>\n",
              "      <td>13.5</td>\n",
              "      <td>1973</td>\n",
              "      <td>Japan</td>\n",
              "      <td>2.97</td>\n",
              "      <td>3.23</td>\n",
              "      <td>9.4</td>\n",
              "    </tr>\n",
              "    <tr>\n",
              "      <th>289</th>\n",
              "      <td>chevrolet malibu classic (sw)</td>\n",
              "      <td>19.2</td>\n",
              "      <td>8</td>\n",
              "      <td>267</td>\n",
              "      <td>125</td>\n",
              "      <td>3605</td>\n",
              "      <td>15</td>\n",
              "      <td>1979</td>\n",
              "      <td>US</td>\n",
              "      <td>3.27</td>\n",
              "      <td>3.35</td>\n",
              "      <td>9.2</td>\n",
              "    </tr>\n",
              "    <tr>\n",
              "      <th>165</th>\n",
              "      <td>toyota corolla</td>\n",
              "      <td>29.0</td>\n",
              "      <td>4</td>\n",
              "      <td>97</td>\n",
              "      <td>75</td>\n",
              "      <td>2171</td>\n",
              "      <td>16</td>\n",
              "      <td>1975</td>\n",
              "      <td>Japan</td>\n",
              "      <td>3.24</td>\n",
              "      <td>3.08</td>\n",
              "      <td>9.4</td>\n",
              "    </tr>\n",
              "  </tbody>\n",
              "</table>\n",
              "</div>"
            ],
            "text/plain": [
              "                             Model   MPG  ... stroke compression-ratio\n",
              "285          mercury grand marquis  16.5  ...   3.40                23\n",
              "79                 ford pinto (sw)  22.0  ...   3.39               7.6\n",
              "122                 toyota mark ii  20.0  ...   3.23               9.4\n",
              "289  chevrolet malibu classic (sw)  19.2  ...   3.35               9.2\n",
              "165                 toyota corolla  29.0  ...   3.08               9.4\n",
              "\n",
              "[5 rows x 12 columns]"
            ]
          },
          "metadata": {
            "tags": []
          },
          "execution_count": 16
        }
      ]
    },
    {
      "cell_type": "code",
      "metadata": {
        "id": "I_FsuJVfnLY2"
      },
      "source": [
        "automobile_df.drop(['Model'], axis=1, inplace=True)"
      ],
      "execution_count": 17,
      "outputs": []
    },
    {
      "cell_type": "code",
      "metadata": {
        "colab": {
          "base_uri": "https://localhost:8080/",
          "height": 206
        },
        "id": "-x0BWt09nWpK",
        "outputId": "abf0feb7-8084-40d1-cc47-7e03b6a6cc38"
      },
      "source": [
        "automobile_df.sample(5)"
      ],
      "execution_count": 18,
      "outputs": [
        {
          "output_type": "execute_result",
          "data": {
            "text/html": [
              "<div>\n",
              "<style scoped>\n",
              "    .dataframe tbody tr th:only-of-type {\n",
              "        vertical-align: middle;\n",
              "    }\n",
              "\n",
              "    .dataframe tbody tr th {\n",
              "        vertical-align: top;\n",
              "    }\n",
              "\n",
              "    .dataframe thead th {\n",
              "        text-align: right;\n",
              "    }\n",
              "</style>\n",
              "<table border=\"1\" class=\"dataframe\">\n",
              "  <thead>\n",
              "    <tr style=\"text-align: right;\">\n",
              "      <th></th>\n",
              "      <th>MPG</th>\n",
              "      <th>Cylinders</th>\n",
              "      <th>Displacement</th>\n",
              "      <th>Horsepower</th>\n",
              "      <th>Weight</th>\n",
              "      <th>Acceleration</th>\n",
              "      <th>Year</th>\n",
              "      <th>Origin</th>\n",
              "      <th>bore</th>\n",
              "      <th>stroke</th>\n",
              "      <th>compression-ratio</th>\n",
              "    </tr>\n",
              "  </thead>\n",
              "  <tbody>\n",
              "    <tr>\n",
              "      <th>23</th>\n",
              "      <td>26.0</td>\n",
              "      <td>4</td>\n",
              "      <td>121</td>\n",
              "      <td>113</td>\n",
              "      <td>2234</td>\n",
              "      <td>12.5</td>\n",
              "      <td>1970</td>\n",
              "      <td>Europe</td>\n",
              "      <td>3.03</td>\n",
              "      <td>3.39</td>\n",
              "      <td>7.6</td>\n",
              "    </tr>\n",
              "    <tr>\n",
              "      <th>128</th>\n",
              "      <td>26.0</td>\n",
              "      <td>4</td>\n",
              "      <td>122</td>\n",
              "      <td>80</td>\n",
              "      <td>2451</td>\n",
              "      <td>16.5</td>\n",
              "      <td>1974</td>\n",
              "      <td>US</td>\n",
              "      <td>3.74</td>\n",
              "      <td>2.90</td>\n",
              "      <td>9.5</td>\n",
              "    </tr>\n",
              "    <tr>\n",
              "      <th>202</th>\n",
              "      <td>32.0</td>\n",
              "      <td>4</td>\n",
              "      <td>85</td>\n",
              "      <td>70</td>\n",
              "      <td>1990</td>\n",
              "      <td>17</td>\n",
              "      <td>1976</td>\n",
              "      <td>Japan</td>\n",
              "      <td>3.58</td>\n",
              "      <td>2.87</td>\n",
              "      <td>8.8</td>\n",
              "    </tr>\n",
              "    <tr>\n",
              "      <th>87</th>\n",
              "      <td>14.0</td>\n",
              "      <td>8</td>\n",
              "      <td>302</td>\n",
              "      <td>137</td>\n",
              "      <td>4042</td>\n",
              "      <td>14.5</td>\n",
              "      <td>1973</td>\n",
              "      <td>US</td>\n",
              "      <td>3.17</td>\n",
              "      <td>3.46</td>\n",
              "      <td>7.5</td>\n",
              "    </tr>\n",
              "    <tr>\n",
              "      <th>337</th>\n",
              "      <td>23.5</td>\n",
              "      <td>6</td>\n",
              "      <td>173</td>\n",
              "      <td>110</td>\n",
              "      <td>2725</td>\n",
              "      <td>12.6</td>\n",
              "      <td>1981</td>\n",
              "      <td>US</td>\n",
              "      <td>3.15</td>\n",
              "      <td>3.58</td>\n",
              "      <td>9.1</td>\n",
              "    </tr>\n",
              "  </tbody>\n",
              "</table>\n",
              "</div>"
            ],
            "text/plain": [
              "      MPG Cylinders Displacement  ...  bore stroke compression-ratio\n",
              "23   26.0         4          121  ...  3.03   3.39               7.6\n",
              "128  26.0         4          122  ...  3.74   2.90               9.5\n",
              "202  32.0         4           85  ...  3.58   2.87               8.8\n",
              "87   14.0         8          302  ...  3.17   3.46               7.5\n",
              "337  23.5         6          173  ...  3.15   3.58               9.1\n",
              "\n",
              "[5 rows x 11 columns]"
            ]
          },
          "metadata": {
            "tags": []
          },
          "execution_count": 18
        }
      ]
    },
    {
      "cell_type": "code",
      "metadata": {
        "colab": {
          "base_uri": "https://localhost:8080/",
          "height": 206
        },
        "id": "HJFCQFz_nYRF",
        "outputId": "a71fd2f2-6ccf-4d1a-e298-4bcf97ea0c4f"
      },
      "source": [
        "automobile_df.drop(['bore', 'stroke', 'compression-ratio'], axis=1, inplace=True)\n",
        "\n",
        "automobile_df.head()"
      ],
      "execution_count": 19,
      "outputs": [
        {
          "output_type": "execute_result",
          "data": {
            "text/html": [
              "<div>\n",
              "<style scoped>\n",
              "    .dataframe tbody tr th:only-of-type {\n",
              "        vertical-align: middle;\n",
              "    }\n",
              "\n",
              "    .dataframe tbody tr th {\n",
              "        vertical-align: top;\n",
              "    }\n",
              "\n",
              "    .dataframe thead th {\n",
              "        text-align: right;\n",
              "    }\n",
              "</style>\n",
              "<table border=\"1\" class=\"dataframe\">\n",
              "  <thead>\n",
              "    <tr style=\"text-align: right;\">\n",
              "      <th></th>\n",
              "      <th>MPG</th>\n",
              "      <th>Cylinders</th>\n",
              "      <th>Displacement</th>\n",
              "      <th>Horsepower</th>\n",
              "      <th>Weight</th>\n",
              "      <th>Acceleration</th>\n",
              "      <th>Year</th>\n",
              "      <th>Origin</th>\n",
              "    </tr>\n",
              "  </thead>\n",
              "  <tbody>\n",
              "    <tr>\n",
              "      <th>0</th>\n",
              "      <td>18.000000</td>\n",
              "      <td>8</td>\n",
              "      <td>307</td>\n",
              "      <td>130</td>\n",
              "      <td>3504</td>\n",
              "      <td>12</td>\n",
              "      <td>1970[1975]</td>\n",
              "      <td>US; Detroit, Michigan</td>\n",
              "    </tr>\n",
              "    <tr>\n",
              "      <th>3</th>\n",
              "      <td>16.000000</td>\n",
              "      <td>8</td>\n",
              "      <td>304</td>\n",
              "      <td>150</td>\n",
              "      <td>3433</td>\n",
              "      <td>12</td>\n",
              "      <td>1970</td>\n",
              "      <td>US</td>\n",
              "    </tr>\n",
              "    <tr>\n",
              "      <th>4</th>\n",
              "      <td>17.000000</td>\n",
              "      <td>8</td>\n",
              "      <td>302</td>\n",
              "      <td>140</td>\n",
              "      <td>3449</td>\n",
              "      <td>10.5</td>\n",
              "      <td>1970-1972</td>\n",
              "      <td>US]</td>\n",
              "    </tr>\n",
              "    <tr>\n",
              "      <th>6</th>\n",
              "      <td>14.000000</td>\n",
              "      <td>8</td>\n",
              "      <td>454</td>\n",
              "      <td>220</td>\n",
              "      <td>4354</td>\n",
              "      <td>9</td>\n",
              "      <td>1970[1975]</td>\n",
              "      <td>US; Detroit, Michigan</td>\n",
              "    </tr>\n",
              "    <tr>\n",
              "      <th>7</th>\n",
              "      <td>23.551429</td>\n",
              "      <td>8</td>\n",
              "      <td>440</td>\n",
              "      <td>215</td>\n",
              "      <td>4312</td>\n",
              "      <td>8.5</td>\n",
              "      <td>1970</td>\n",
              "      <td>US</td>\n",
              "    </tr>\n",
              "  </tbody>\n",
              "</table>\n",
              "</div>"
            ],
            "text/plain": [
              "         MPG Cylinders  ...        Year                 Origin\n",
              "0  18.000000         8  ...  1970[1975]  US; Detroit, Michigan\n",
              "3  16.000000         8  ...        1970                     US\n",
              "4  17.000000         8  ...   1970-1972                    US]\n",
              "6  14.000000         8  ...  1970[1975]  US; Detroit, Michigan\n",
              "7  23.551429         8  ...        1970                     US\n",
              "\n",
              "[5 rows x 8 columns]"
            ]
          },
          "metadata": {
            "tags": []
          },
          "execution_count": 19
        }
      ]
    },
    {
      "cell_type": "markdown",
      "metadata": {
        "id": "0sxps-7Fnq-e"
      },
      "source": [
        "##Cleaning Data"
      ]
    },
    {
      "cell_type": "code",
      "metadata": {
        "colab": {
          "base_uri": "https://localhost:8080/"
        },
        "id": "LYrYwJrUnt0F",
        "outputId": "334da8e5-1562-4a84-a52b-f723ac7819f3"
      },
      "source": [
        "automobile_df['Year'].str.isnumeric().value_counts()"
      ],
      "execution_count": 20,
      "outputs": [
        {
          "output_type": "execute_result",
          "data": {
            "text/plain": [
              "True     351\n",
              "False     36\n",
              "Name: Year, dtype: int64"
            ]
          },
          "metadata": {
            "tags": []
          },
          "execution_count": 20
        }
      ]
    },
    {
      "cell_type": "code",
      "metadata": {
        "colab": {
          "base_uri": "https://localhost:8080/"
        },
        "id": "g1noyxj8pjcM",
        "outputId": "60c4d2a4-fa3f-45e7-ccc4-a627e1d5b7b0"
      },
      "source": [
        "automobile_df['Year'].loc[automobile_df['Year'].str.isnumeric() == False]"
      ],
      "execution_count": 21,
      "outputs": [
        {
          "output_type": "execute_result",
          "data": {
            "text/plain": [
              "0          1970[1975]\n",
              "4           1970-1972\n",
              "6          1970[1975]\n",
              "30      1971[1973]971\n",
              "35         1971[1973]\n",
              "40         1971[1973]\n",
              "44         1971[1973]\n",
              "49         1971[1973]\n",
              "56         1972[1973]\n",
              "61         1972[1973]\n",
              "65         1972[1973]\n",
              "68         1972[1973]\n",
              "73         1972[1973]\n",
              "75            1972-73\n",
              "79            1972-73\n",
              "82            1972-73\n",
              "96          1973-1974\n",
              "97         1973, 1974\n",
              "102    1973, 19741973\n",
              "105        1973, 1974\n",
              "108        1973, 1974\n",
              "112        1973, 1974\n",
              "115        1973, 1974\n",
              "126        1974, 1975\n",
              "131        1974, 1975\n",
              "134        1974, 1975\n",
              "137        1974, 1975\n",
              "139    1974, 19751974\n",
              "142        1974, 1975\n",
              "365         1982-1985\n",
              "374         1982-1985\n",
              "380         1982-1985\n",
              "383         1982-1985\n",
              "387         1982-1985\n",
              "389         1982-1985\n",
              "391         1982-1985\n",
              "Name: Year, dtype: object"
            ]
          },
          "metadata": {
            "tags": []
          },
          "execution_count": 21
        }
      ]
    },
    {
      "cell_type": "code",
      "metadata": {
        "colab": {
          "base_uri": "https://localhost:8080/"
        },
        "id": "R2ZKB-HIp1_d",
        "outputId": "c5ed920e-7ee0-43ad-c1f6-c6dc533a7381"
      },
      "source": [
        "extr = automobile_df['Year'].str.extract(r'^(\\d{4})', expand=False)\n",
        "\n",
        "extr.head()"
      ],
      "execution_count": 22,
      "outputs": [
        {
          "output_type": "execute_result",
          "data": {
            "text/plain": [
              "0    1970\n",
              "3    1970\n",
              "4    1970\n",
              "6    1970\n",
              "7    1970\n",
              "Name: Year, dtype: object"
            ]
          },
          "metadata": {
            "tags": []
          },
          "execution_count": 22
        }
      ]
    },
    {
      "cell_type": "code",
      "metadata": {
        "colab": {
          "base_uri": "https://localhost:8080/"
        },
        "id": "GNmbicY3qOed",
        "outputId": "7fcd9257-961b-42a3-af52-9236a36ff83a"
      },
      "source": [
        "automobile_df['Year'].isnull().values.any()"
      ],
      "execution_count": 23,
      "outputs": [
        {
          "output_type": "execute_result",
          "data": {
            "text/plain": [
              "False"
            ]
          },
          "metadata": {
            "tags": []
          },
          "execution_count": 23
        }
      ]
    },
    {
      "cell_type": "code",
      "metadata": {
        "colab": {
          "base_uri": "https://localhost:8080/"
        },
        "id": "dANbln8rqaj5",
        "outputId": "32dbd257-e4c4-4760-cd31-e1aa7cb83aab"
      },
      "source": [
        "automobile_df['Year'] = pd.to_numeric(extr)\n",
        "automobile_df['Year'].dtype"
      ],
      "execution_count": 24,
      "outputs": [
        {
          "output_type": "execute_result",
          "data": {
            "text/plain": [
              "dtype('int64')"
            ]
          },
          "metadata": {
            "tags": []
          },
          "execution_count": 24
        }
      ]
    },
    {
      "cell_type": "code",
      "metadata": {
        "colab": {
          "base_uri": "https://localhost:8080/",
          "height": 206
        },
        "id": "2LYNy6NVqmmb",
        "outputId": "6e2e0f62-2ebf-4306-ec75-671a17162e36"
      },
      "source": [
        "automobile_df.head()"
      ],
      "execution_count": 25,
      "outputs": [
        {
          "output_type": "execute_result",
          "data": {
            "text/html": [
              "<div>\n",
              "<style scoped>\n",
              "    .dataframe tbody tr th:only-of-type {\n",
              "        vertical-align: middle;\n",
              "    }\n",
              "\n",
              "    .dataframe tbody tr th {\n",
              "        vertical-align: top;\n",
              "    }\n",
              "\n",
              "    .dataframe thead th {\n",
              "        text-align: right;\n",
              "    }\n",
              "</style>\n",
              "<table border=\"1\" class=\"dataframe\">\n",
              "  <thead>\n",
              "    <tr style=\"text-align: right;\">\n",
              "      <th></th>\n",
              "      <th>MPG</th>\n",
              "      <th>Cylinders</th>\n",
              "      <th>Displacement</th>\n",
              "      <th>Horsepower</th>\n",
              "      <th>Weight</th>\n",
              "      <th>Acceleration</th>\n",
              "      <th>Year</th>\n",
              "      <th>Origin</th>\n",
              "    </tr>\n",
              "  </thead>\n",
              "  <tbody>\n",
              "    <tr>\n",
              "      <th>0</th>\n",
              "      <td>18.000000</td>\n",
              "      <td>8</td>\n",
              "      <td>307</td>\n",
              "      <td>130</td>\n",
              "      <td>3504</td>\n",
              "      <td>12</td>\n",
              "      <td>1970</td>\n",
              "      <td>US; Detroit, Michigan</td>\n",
              "    </tr>\n",
              "    <tr>\n",
              "      <th>3</th>\n",
              "      <td>16.000000</td>\n",
              "      <td>8</td>\n",
              "      <td>304</td>\n",
              "      <td>150</td>\n",
              "      <td>3433</td>\n",
              "      <td>12</td>\n",
              "      <td>1970</td>\n",
              "      <td>US</td>\n",
              "    </tr>\n",
              "    <tr>\n",
              "      <th>4</th>\n",
              "      <td>17.000000</td>\n",
              "      <td>8</td>\n",
              "      <td>302</td>\n",
              "      <td>140</td>\n",
              "      <td>3449</td>\n",
              "      <td>10.5</td>\n",
              "      <td>1970</td>\n",
              "      <td>US]</td>\n",
              "    </tr>\n",
              "    <tr>\n",
              "      <th>6</th>\n",
              "      <td>14.000000</td>\n",
              "      <td>8</td>\n",
              "      <td>454</td>\n",
              "      <td>220</td>\n",
              "      <td>4354</td>\n",
              "      <td>9</td>\n",
              "      <td>1970</td>\n",
              "      <td>US; Detroit, Michigan</td>\n",
              "    </tr>\n",
              "    <tr>\n",
              "      <th>7</th>\n",
              "      <td>23.551429</td>\n",
              "      <td>8</td>\n",
              "      <td>440</td>\n",
              "      <td>215</td>\n",
              "      <td>4312</td>\n",
              "      <td>8.5</td>\n",
              "      <td>1970</td>\n",
              "      <td>US</td>\n",
              "    </tr>\n",
              "  </tbody>\n",
              "</table>\n",
              "</div>"
            ],
            "text/plain": [
              "         MPG Cylinders Displacement  ...  Acceleration  Year                 Origin\n",
              "0  18.000000         8          307  ...            12  1970  US; Detroit, Michigan\n",
              "3  16.000000         8          304  ...            12  1970                     US\n",
              "4  17.000000         8          302  ...          10.5  1970                    US]\n",
              "6  14.000000         8          454  ...             9  1970  US; Detroit, Michigan\n",
              "7  23.551429         8          440  ...           8.5  1970                     US\n",
              "\n",
              "[5 rows x 8 columns]"
            ]
          },
          "metadata": {
            "tags": []
          },
          "execution_count": 25
        }
      ]
    },
    {
      "cell_type": "code",
      "metadata": {
        "colab": {
          "base_uri": "https://localhost:8080/",
          "height": 206
        },
        "id": "phvAgw8lqp_e",
        "outputId": "11d869cc-24fe-46eb-ea15-a5a95e340689"
      },
      "source": [
        "automobile_df['Age'] = datetime.datetime.now().year - automobile_df['Year']\n",
        "\n",
        "automobile_df.drop(['Year'], axis=1, inplace=True)\n",
        "\n",
        "automobile_df.sample(5)"
      ],
      "execution_count": 26,
      "outputs": [
        {
          "output_type": "execute_result",
          "data": {
            "text/html": [
              "<div>\n",
              "<style scoped>\n",
              "    .dataframe tbody tr th:only-of-type {\n",
              "        vertical-align: middle;\n",
              "    }\n",
              "\n",
              "    .dataframe tbody tr th {\n",
              "        vertical-align: top;\n",
              "    }\n",
              "\n",
              "    .dataframe thead th {\n",
              "        text-align: right;\n",
              "    }\n",
              "</style>\n",
              "<table border=\"1\" class=\"dataframe\">\n",
              "  <thead>\n",
              "    <tr style=\"text-align: right;\">\n",
              "      <th></th>\n",
              "      <th>MPG</th>\n",
              "      <th>Cylinders</th>\n",
              "      <th>Displacement</th>\n",
              "      <th>Horsepower</th>\n",
              "      <th>Weight</th>\n",
              "      <th>Acceleration</th>\n",
              "      <th>Origin</th>\n",
              "      <th>Age</th>\n",
              "    </tr>\n",
              "  </thead>\n",
              "  <tbody>\n",
              "    <tr>\n",
              "      <th>152</th>\n",
              "      <td>15.0</td>\n",
              "      <td>6</td>\n",
              "      <td>250</td>\n",
              "      <td>72</td>\n",
              "      <td>3432</td>\n",
              "      <td>21</td>\n",
              "      <td>US</td>\n",
              "      <td>46</td>\n",
              "    </tr>\n",
              "    <tr>\n",
              "      <th>172</th>\n",
              "      <td>18.0</td>\n",
              "      <td>6</td>\n",
              "      <td>171</td>\n",
              "      <td>97</td>\n",
              "      <td>2984</td>\n",
              "      <td>14.5</td>\n",
              "      <td>US</td>\n",
              "      <td>46</td>\n",
              "    </tr>\n",
              "    <tr>\n",
              "      <th>342</th>\n",
              "      <td>32.3</td>\n",
              "      <td>4</td>\n",
              "      <td>97</td>\n",
              "      <td>67</td>\n",
              "      <td>2065</td>\n",
              "      <td>17.8</td>\n",
              "      <td>Japan</td>\n",
              "      <td>40</td>\n",
              "    </tr>\n",
              "    <tr>\n",
              "      <th>314</th>\n",
              "      <td>19.1</td>\n",
              "      <td>6</td>\n",
              "      <td>225</td>\n",
              "      <td>90</td>\n",
              "      <td>3381</td>\n",
              "      <td>18.7</td>\n",
              "      <td>US</td>\n",
              "      <td>41</td>\n",
              "    </tr>\n",
              "    <tr>\n",
              "      <th>392</th>\n",
              "      <td>28.0</td>\n",
              "      <td>4</td>\n",
              "      <td>120</td>\n",
              "      <td>79</td>\n",
              "      <td>2625</td>\n",
              "      <td>18.6</td>\n",
              "      <td>US</td>\n",
              "      <td>39</td>\n",
              "    </tr>\n",
              "  </tbody>\n",
              "</table>\n",
              "</div>"
            ],
            "text/plain": [
              "      MPG Cylinders Displacement  Horsepower Weight Acceleration Origin  Age\n",
              "152  15.0         6          250          72   3432           21     US   46\n",
              "172  18.0         6          171          97   2984         14.5     US   46\n",
              "342  32.3         4           97          67   2065         17.8  Japan   40\n",
              "314  19.1         6          225          90   3381         18.7     US   41\n",
              "392  28.0         4          120          79   2625         18.6     US   39"
            ]
          },
          "metadata": {
            "tags": []
          },
          "execution_count": 26
        }
      ]
    },
    {
      "cell_type": "code",
      "metadata": {
        "colab": {
          "base_uri": "https://localhost:8080/"
        },
        "id": "lF01n4TvrLMd",
        "outputId": "d45a8543-1423-476f-9002-dadf4b59a5e6"
      },
      "source": [
        "automobile_df.dtypes"
      ],
      "execution_count": 27,
      "outputs": [
        {
          "output_type": "execute_result",
          "data": {
            "text/plain": [
              "MPG             float64\n",
              "Cylinders        object\n",
              "Displacement     object\n",
              "Horsepower        int64\n",
              "Weight           object\n",
              "Acceleration     object\n",
              "Origin           object\n",
              "Age               int64\n",
              "dtype: object"
            ]
          },
          "metadata": {
            "tags": []
          },
          "execution_count": 27
        }
      ]
    },
    {
      "cell_type": "code",
      "metadata": {
        "colab": {
          "base_uri": "https://localhost:8080/"
        },
        "id": "TNlbmwLXrUZC",
        "outputId": "e64dd4b6-98d4-459e-f5d2-0f2ca0b140c5"
      },
      "source": [
        "automobile_df['Cylinders'].isnull().values.any()"
      ],
      "execution_count": 28,
      "outputs": [
        {
          "output_type": "execute_result",
          "data": {
            "text/plain": [
              "False"
            ]
          },
          "metadata": {
            "tags": []
          },
          "execution_count": 28
        }
      ]
    },
    {
      "cell_type": "code",
      "metadata": {
        "colab": {
          "base_uri": "https://localhost:8080/"
        },
        "id": "3nYjn4z8rg6e",
        "outputId": "06f28ea8-3bc4-4082-b46c-70989fcc14db"
      },
      "source": [
        "automobile_df['Cylinders'].str.isnumeric().value_counts()"
      ],
      "execution_count": 29,
      "outputs": [
        {
          "output_type": "execute_result",
          "data": {
            "text/plain": [
              "True     378\n",
              "False      9\n",
              "Name: Cylinders, dtype: int64"
            ]
          },
          "metadata": {
            "tags": []
          },
          "execution_count": 29
        }
      ]
    },
    {
      "cell_type": "code",
      "metadata": {
        "colab": {
          "base_uri": "https://localhost:8080/"
        },
        "id": "z_NWO7rMrn94",
        "outputId": "4d84873c-2096-4fc8-d89a-9336342d195a"
      },
      "source": [
        "automobile_df['Cylinders'].loc[automobile_df['Cylinders'].str.isnumeric() == False]"
      ],
      "execution_count": 30,
      "outputs": [
        {
          "output_type": "execute_result",
          "data": {
            "text/plain": [
              "11    -\n",
              "22    -\n",
              "32    -\n",
              "42    -\n",
              "51    -\n",
              "58    -\n",
              "69    -\n",
              "82    -\n",
              "89    -\n",
              "Name: Cylinders, dtype: object"
            ]
          },
          "metadata": {
            "tags": []
          },
          "execution_count": 30
        }
      ]
    },
    {
      "cell_type": "code",
      "metadata": {
        "id": "IDOSpwwVruhH"
      },
      "source": [
        "cylinders = automobile_df['Cylinders'].loc[automobile_df['Cylinders'] != '-']\n",
        "\n",
        "cmean = cylinders.astype(int).mean()"
      ],
      "execution_count": 31,
      "outputs": []
    },
    {
      "cell_type": "code",
      "metadata": {
        "colab": {
          "base_uri": "https://localhost:8080/"
        },
        "id": "tsqQHLmGsE13",
        "outputId": "b74cfbbe-2906-4051-c9a4-c29796f2d3a2"
      },
      "source": [
        "cmean"
      ],
      "execution_count": 32,
      "outputs": [
        {
          "output_type": "execute_result",
          "data": {
            "text/plain": [
              "5.420634920634921"
            ]
          },
          "metadata": {
            "tags": []
          },
          "execution_count": 32
        }
      ]
    },
    {
      "cell_type": "code",
      "metadata": {
        "id": "X_jq7_GQsPjn"
      },
      "source": [
        "automobile_df['Cylinders'] = automobile_df['Cylinders'].replace('-', cmean).astype(int)"
      ],
      "execution_count": 33,
      "outputs": []
    },
    {
      "cell_type": "code",
      "metadata": {
        "colab": {
          "base_uri": "https://localhost:8080/"
        },
        "id": "iWjRs6aGsem3",
        "outputId": "77cefae7-996f-432a-d48f-7af387c6eef5"
      },
      "source": [
        "automobile_df.dtypes"
      ],
      "execution_count": 34,
      "outputs": [
        {
          "output_type": "execute_result",
          "data": {
            "text/plain": [
              "MPG             float64\n",
              "Cylinders         int64\n",
              "Displacement     object\n",
              "Horsepower        int64\n",
              "Weight           object\n",
              "Acceleration     object\n",
              "Origin           object\n",
              "Age               int64\n",
              "dtype: object"
            ]
          },
          "metadata": {
            "tags": []
          },
          "execution_count": 34
        }
      ]
    },
    {
      "cell_type": "code",
      "metadata": {
        "colab": {
          "base_uri": "https://localhost:8080/"
        },
        "id": "ps31VTptsgwj",
        "outputId": "c38e36ce-ca57-48a8-8906-ba683e7d73b7"
      },
      "source": [
        "automobile_df['Displacement'] = pd.to_numeric(automobile_df['Displacement'], errors='coerce')\n",
        "automobile_df.dtypes"
      ],
      "execution_count": 35,
      "outputs": [
        {
          "output_type": "execute_result",
          "data": {
            "text/plain": [
              "MPG             float64\n",
              "Cylinders         int64\n",
              "Displacement    float64\n",
              "Horsepower        int64\n",
              "Weight           object\n",
              "Acceleration     object\n",
              "Origin           object\n",
              "Age               int64\n",
              "dtype: object"
            ]
          },
          "metadata": {
            "tags": []
          },
          "execution_count": 35
        }
      ]
    },
    {
      "cell_type": "code",
      "metadata": {
        "colab": {
          "base_uri": "https://localhost:8080/"
        },
        "id": "7FkrQefCsw5A",
        "outputId": "5616d110-472f-4805-f6af-1085427792b9"
      },
      "source": [
        "automobile_df['Weight'] = pd.to_numeric(automobile_df['Weight'], errors='coerce')\n",
        "automobile_df.dtypes"
      ],
      "execution_count": 36,
      "outputs": [
        {
          "output_type": "execute_result",
          "data": {
            "text/plain": [
              "MPG             float64\n",
              "Cylinders         int64\n",
              "Displacement    float64\n",
              "Horsepower        int64\n",
              "Weight            int64\n",
              "Acceleration     object\n",
              "Origin           object\n",
              "Age               int64\n",
              "dtype: object"
            ]
          },
          "metadata": {
            "tags": []
          },
          "execution_count": 36
        }
      ]
    },
    {
      "cell_type": "code",
      "metadata": {
        "colab": {
          "base_uri": "https://localhost:8080/"
        },
        "id": "LtxtCpl5s7bN",
        "outputId": "fd981e4f-b77a-4294-8682-c66f88ab2782"
      },
      "source": [
        "automobile_df['Acceleration'] = pd.to_numeric(automobile_df['Acceleration'], errors='coerce')\n",
        "automobile_df.dtypes"
      ],
      "execution_count": 37,
      "outputs": [
        {
          "output_type": "execute_result",
          "data": {
            "text/plain": [
              "MPG             float64\n",
              "Cylinders         int64\n",
              "Displacement    float64\n",
              "Horsepower        int64\n",
              "Weight            int64\n",
              "Acceleration    float64\n",
              "Origin           object\n",
              "Age               int64\n",
              "dtype: object"
            ]
          },
          "metadata": {
            "tags": []
          },
          "execution_count": 37
        }
      ]
    },
    {
      "cell_type": "code",
      "metadata": {
        "colab": {
          "base_uri": "https://localhost:8080/"
        },
        "id": "iEXw2ey9tB7L",
        "outputId": "127a7d07-9f62-4867-ef18-8047fbee7bb6"
      },
      "source": [
        "automobile_df['Origin'].head(15)"
      ],
      "execution_count": 38,
      "outputs": [
        {
          "output_type": "execute_result",
          "data": {
            "text/plain": [
              "0     US; Detroit, Michigan\n",
              "3                        US\n",
              "4                       US]\n",
              "6     US; Detroit, Michigan\n",
              "7                        US\n",
              "8                        US\n",
              "9                       US]\n",
              "10                       US\n",
              "11                       US\n",
              "12    US; Detroit, Michigan\n",
              "13                       US\n",
              "14             Japan; Aichi\n",
              "15                       US\n",
              "16                      US]\n",
              "17                       US\n",
              "Name: Origin, dtype: object"
            ]
          },
          "metadata": {
            "tags": []
          },
          "execution_count": 38
        }
      ]
    },
    {
      "cell_type": "code",
      "metadata": {
        "colab": {
          "base_uri": "https://localhost:8080/"
        },
        "id": "LaNAq_ittPLk",
        "outputId": "6e6c95d5-fedc-4a3e-ce55-0dfe2272f729"
      },
      "source": [
        "automobile_df['Origin'].unique()"
      ],
      "execution_count": 39,
      "outputs": [
        {
          "output_type": "execute_result",
          "data": {
            "text/plain": [
              "array(['US; Detroit, Michigan', 'US', 'US]', 'Japan; Aichi',\n",
              "       'Europe-Germany', 'Europe', 'Japan; Tokyo', 'Japan; Aichi]',\n",
              "       'US; Detroit, Michigan]', 'Japan; Tokyo]', 'Japan',\n",
              "       'Europe Germany'], dtype=object)"
            ]
          },
          "metadata": {
            "tags": []
          },
          "execution_count": 39
        }
      ]
    },
    {
      "cell_type": "code",
      "metadata": {
        "colab": {
          "base_uri": "https://localhost:8080/"
        },
        "id": "gs9HL8KbtWmF",
        "outputId": "5e1de128-a59f-4d0d-ecbd-edeb7f4cc5d2"
      },
      "source": [
        "automobile_df['Origin'] = np.where(automobile_df['Origin'].str.contains('US'),\n",
        "                                   'US',\n",
        "                                   automobile_df['Origin'])\n",
        "\n",
        "automobile_df['Origin'].unique()"
      ],
      "execution_count": 40,
      "outputs": [
        {
          "output_type": "execute_result",
          "data": {
            "text/plain": [
              "array(['US', 'Japan; Aichi', 'Europe-Germany', 'Europe', 'Japan; Tokyo',\n",
              "       'Japan; Aichi]', 'Japan; Tokyo]', 'Japan', 'Europe Germany'],\n",
              "      dtype=object)"
            ]
          },
          "metadata": {
            "tags": []
          },
          "execution_count": 40
        }
      ]
    },
    {
      "cell_type": "code",
      "metadata": {
        "colab": {
          "base_uri": "https://localhost:8080/"
        },
        "id": "DD9neYUqtvCW",
        "outputId": "34a94ff0-932d-458a-9bce-7a25b56f354e"
      },
      "source": [
        "automobile_df['Origin'] = np.where(automobile_df['Origin'].str.contains('Japan'),\n",
        "                                   'Japan',\n",
        "                                   automobile_df['Origin'])\n",
        "\n",
        "automobile_df['Origin'].unique()"
      ],
      "execution_count": 41,
      "outputs": [
        {
          "output_type": "execute_result",
          "data": {
            "text/plain": [
              "array(['US', 'Japan', 'Europe-Germany', 'Europe', 'Europe Germany'],\n",
              "      dtype=object)"
            ]
          },
          "metadata": {
            "tags": []
          },
          "execution_count": 41
        }
      ]
    },
    {
      "cell_type": "code",
      "metadata": {
        "colab": {
          "base_uri": "https://localhost:8080/"
        },
        "id": "MuXJP2XTt-TP",
        "outputId": "04d03dfd-4cff-4ce7-d942-85401d0073ad"
      },
      "source": [
        "automobile_df['Origin'] = np.where(automobile_df['Origin'].str.contains('Europe'),\n",
        "                                   'Europe',\n",
        "                                   automobile_df['Origin'])\n",
        "\n",
        "automobile_df['Origin'].unique()"
      ],
      "execution_count": 42,
      "outputs": [
        {
          "output_type": "execute_result",
          "data": {
            "text/plain": [
              "array(['US', 'Japan', 'Europe'], dtype=object)"
            ]
          },
          "metadata": {
            "tags": []
          },
          "execution_count": 42
        }
      ]
    },
    {
      "cell_type": "code",
      "metadata": {
        "colab": {
          "base_uri": "https://localhost:8080/",
          "height": 300
        },
        "id": "QN2ZyCFtuFzR",
        "outputId": "0b55db55-1468-43db-bc9d-e0b10099e2f7"
      },
      "source": [
        "automobile_df.describe()"
      ],
      "execution_count": 43,
      "outputs": [
        {
          "output_type": "execute_result",
          "data": {
            "text/html": [
              "<div>\n",
              "<style scoped>\n",
              "    .dataframe tbody tr th:only-of-type {\n",
              "        vertical-align: middle;\n",
              "    }\n",
              "\n",
              "    .dataframe tbody tr th {\n",
              "        vertical-align: top;\n",
              "    }\n",
              "\n",
              "    .dataframe thead th {\n",
              "        text-align: right;\n",
              "    }\n",
              "</style>\n",
              "<table border=\"1\" class=\"dataframe\">\n",
              "  <thead>\n",
              "    <tr style=\"text-align: right;\">\n",
              "      <th></th>\n",
              "      <th>MPG</th>\n",
              "      <th>Cylinders</th>\n",
              "      <th>Displacement</th>\n",
              "      <th>Horsepower</th>\n",
              "      <th>Weight</th>\n",
              "      <th>Acceleration</th>\n",
              "      <th>Age</th>\n",
              "    </tr>\n",
              "  </thead>\n",
              "  <tbody>\n",
              "    <tr>\n",
              "      <th>count</th>\n",
              "      <td>387.000000</td>\n",
              "      <td>387.000000</td>\n",
              "      <td>387.000000</td>\n",
              "      <td>387.000000</td>\n",
              "      <td>387.000000</td>\n",
              "      <td>387.000000</td>\n",
              "      <td>387.000000</td>\n",
              "    </tr>\n",
              "    <tr>\n",
              "      <th>mean</th>\n",
              "      <td>23.672514</td>\n",
              "      <td>5.410853</td>\n",
              "      <td>192.184755</td>\n",
              "      <td>103.645995</td>\n",
              "      <td>2965.387597</td>\n",
              "      <td>15.573643</td>\n",
              "      <td>44.917313</td>\n",
              "    </tr>\n",
              "    <tr>\n",
              "      <th>std</th>\n",
              "      <td>7.736579</td>\n",
              "      <td>1.667795</td>\n",
              "      <td>103.703706</td>\n",
              "      <td>38.128651</td>\n",
              "      <td>846.332848</td>\n",
              "      <td>2.746260</td>\n",
              "      <td>3.668715</td>\n",
              "    </tr>\n",
              "    <tr>\n",
              "      <th>min</th>\n",
              "      <td>9.000000</td>\n",
              "      <td>3.000000</td>\n",
              "      <td>68.000000</td>\n",
              "      <td>46.000000</td>\n",
              "      <td>1613.000000</td>\n",
              "      <td>8.000000</td>\n",
              "      <td>39.000000</td>\n",
              "    </tr>\n",
              "    <tr>\n",
              "      <th>25%</th>\n",
              "      <td>17.600000</td>\n",
              "      <td>4.000000</td>\n",
              "      <td>102.500000</td>\n",
              "      <td>75.000000</td>\n",
              "      <td>2221.500000</td>\n",
              "      <td>13.900000</td>\n",
              "      <td>42.000000</td>\n",
              "    </tr>\n",
              "    <tr>\n",
              "      <th>50%</th>\n",
              "      <td>23.200000</td>\n",
              "      <td>4.000000</td>\n",
              "      <td>146.000000</td>\n",
              "      <td>92.000000</td>\n",
              "      <td>2790.000000</td>\n",
              "      <td>15.500000</td>\n",
              "      <td>45.000000</td>\n",
              "    </tr>\n",
              "    <tr>\n",
              "      <th>75%</th>\n",
              "      <td>29.000000</td>\n",
              "      <td>6.000000</td>\n",
              "      <td>260.000000</td>\n",
              "      <td>121.000000</td>\n",
              "      <td>3589.500000</td>\n",
              "      <td>17.050000</td>\n",
              "      <td>48.000000</td>\n",
              "    </tr>\n",
              "    <tr>\n",
              "      <th>max</th>\n",
              "      <td>46.600000</td>\n",
              "      <td>8.000000</td>\n",
              "      <td>455.000000</td>\n",
              "      <td>230.000000</td>\n",
              "      <td>5140.000000</td>\n",
              "      <td>24.800000</td>\n",
              "      <td>51.000000</td>\n",
              "    </tr>\n",
              "  </tbody>\n",
              "</table>\n",
              "</div>"
            ],
            "text/plain": [
              "              MPG   Cylinders  ...  Acceleration         Age\n",
              "count  387.000000  387.000000  ...    387.000000  387.000000\n",
              "mean    23.672514    5.410853  ...     15.573643   44.917313\n",
              "std      7.736579    1.667795  ...      2.746260    3.668715\n",
              "min      9.000000    3.000000  ...      8.000000   39.000000\n",
              "25%     17.600000    4.000000  ...     13.900000   42.000000\n",
              "50%     23.200000    4.000000  ...     15.500000   45.000000\n",
              "75%     29.000000    6.000000  ...     17.050000   48.000000\n",
              "max     46.600000    8.000000  ...     24.800000   51.000000\n",
              "\n",
              "[8 rows x 7 columns]"
            ]
          },
          "metadata": {
            "tags": []
          },
          "execution_count": 43
        }
      ]
    },
    {
      "cell_type": "code",
      "metadata": {
        "id": "BL5RIUOSuKsa"
      },
      "source": [
        "automobile_df.to_csv('cars_processed.csv', index=False)"
      ],
      "execution_count": 44,
      "outputs": []
    },
    {
      "cell_type": "code",
      "metadata": {
        "id": "9RlIWRx-wrvT"
      },
      "source": [
        "import matplotlib.pyplot as plt"
      ],
      "execution_count": 45,
      "outputs": []
    },
    {
      "cell_type": "code",
      "metadata": {
        "colab": {
          "base_uri": "https://localhost:8080/",
          "height": 515
        },
        "id": "-7srEtOw2PDA",
        "outputId": "6c827f6a-b6fd-4773-fafb-f671fe13d804"
      },
      "source": [
        "plt.figure(figsize=(12,8))\n",
        "\n",
        "plt.bar(automobile_df['Age'], automobile_df['MPG'])\n",
        "\n",
        "plt.xlabel('Age')\n",
        "plt.ylabel('Miles per gallon')"
      ],
      "execution_count": 46,
      "outputs": [
        {
          "output_type": "execute_result",
          "data": {
            "text/plain": [
              "Text(0, 0.5, 'Miles per gallon')"
            ]
          },
          "metadata": {
            "tags": []
          },
          "execution_count": 46
        },
        {
          "output_type": "display_data",
          "data": {
            "image/png": "[encoded data removed]",
            "text/plain": [
              "<Figure size 864x576 with 1 Axes>"
            ]
          },
          "metadata": {
            "tags": [],
            "needs_background": "light"
          }
        }
      ]
    },
    {
      "cell_type": "code",
      "metadata": {
        "colab": {
          "base_uri": "https://localhost:8080/",
          "height": 515
        },
        "id": "u6ulPHph2kax",
        "outputId": "6638cfd5-0464-43c4-dd81-ed2ada4edbbc"
      },
      "source": [
        "plt.figure(figsize=(12,8))\n",
        "\n",
        "plt.scatter(automobile_df['Acceleration'], automobile_df['MPG'], color='g')\n",
        "\n",
        "plt.xlabel('Acceleration')\n",
        "plt.ylabel('Miles per gallon')"
      ],
      "execution_count": 47,
      "outputs": [
        {
          "output_type": "execute_result",
          "data": {
            "text/plain": [
              "Text(0, 0.5, 'Miles per gallon')"
            ]
          },
          "metadata": {
            "tags": []
          },
          "execution_count": 47
        },
        {
          "output_type": "display_data",
          "data": {
            "image/png": "[encoded data removed]",
            "text/plain": [
              "<Figure size 864x576 with 1 Axes>"
            ]
          },
          "metadata": {
            "tags": [],
            "needs_background": "light"
          }
        }
      ]
    },
    {
      "cell_type": "code",
      "metadata": {
        "colab": {
          "base_uri": "https://localhost:8080/",
          "height": 515
        },
        "id": "YSennqqZ2xkY",
        "outputId": "6a1845f1-3904-442d-8f0e-63d18802bc11"
      },
      "source": [
        " plt.figure(figsize=(12,8))\n",
        "\n",
        "plt.scatter(automobile_df['Weight'], automobile_df['MPG'], color='r')\n",
        "\n",
        "plt.xlabel('Weight')\n",
        "plt.ylabel('Miles per gallon')"
      ],
      "execution_count": 48,
      "outputs": [
        {
          "output_type": "execute_result",
          "data": {
            "text/plain": [
              "Text(0, 0.5, 'Miles per gallon')"
            ]
          },
          "metadata": {
            "tags": []
          },
          "execution_count": 48
        },
        {
          "output_type": "display_data",
          "data": {
            "image/png": "[encoded data removed]",
            "text/plain": [
              "<Figure size 864x576 with 1 Axes>"
            ]
          },
          "metadata": {
            "tags": [],
            "needs_background": "light"
          }
        }
      ]
    },
    {
      "cell_type": "code",
      "metadata": {
        "colab": {
          "base_uri": "https://localhost:8080/",
          "height": 469
        },
        "id": "ZAoReu2G3WJU",
        "outputId": "a72edb9c-e93a-4ca2-d4ce-be8305de4d91"
      },
      "source": [
        "automobile_df.plot.scatter(x='Weight',\n",
        "                           y='Acceleration',\n",
        "                           c='Horsepower',\n",
        "                           colormap='viridis',\n",
        "                           figsize=(12,8));"
      ],
      "execution_count": 49,
      "outputs": [
        {
          "output_type": "display_data",
          "data": {
            "image/png": "[encoded data removed]",
            "text/plain": [
              "<Figure size 864x576 with 2 Axes>"
            ]
          },
          "metadata": {
            "tags": [],
            "needs_background": "light"
          }
        }
      ]
    },
    {
      "cell_type": "code",
      "metadata": {
        "colab": {
          "base_uri": "https://localhost:8080/",
          "height": 515
        },
        "id": "2f_gah5M3piM",
        "outputId": "44d4dd67-5256-4fa6-a832-8d0d067537e5"
      },
      "source": [
        "plt.figure(figsize=(12,8))\n",
        "\n",
        "plt.bar(automobile_df['Cylinders'], automobile_df['MPG'])\n",
        "\n",
        "plt.xlabel('Cylinders')\n",
        "plt.ylabel('Miles per gallon')"
      ],
      "execution_count": 50,
      "outputs": [
        {
          "output_type": "execute_result",
          "data": {
            "text/plain": [
              "Text(0, 0.5, 'Miles per gallon')"
            ]
          },
          "metadata": {
            "tags": []
          },
          "execution_count": 50
        },
        {
          "output_type": "display_data",
          "data": {
            "image/png": "[encoded data removed]",
            "text/plain": [
              "<Figure size 864x576 with 1 Axes>"
            ]
          },
          "metadata": {
            "tags": [],
            "needs_background": "light"
          }
        }
      ]
    },
    {
      "cell_type": "code",
      "metadata": {
        "colab": {
          "base_uri": "https://localhost:8080/",
          "height": 363
        },
        "id": "CxTEukf037wC",
        "outputId": "2c90d779-3a45-4bf2-cccf-47d54237620d"
      },
      "source": [
        "automobile_df.drop(['Cylinders', 'Origin'], axis=1, inplace=True)\n",
        "\n",
        "automobile_df.sample(10)"
      ],
      "execution_count": 51,
      "outputs": [
        {
          "output_type": "execute_result",
          "data": {
            "text/html": [
              "<div>\n",
              "<style scoped>\n",
              "    .dataframe tbody tr th:only-of-type {\n",
              "        vertical-align: middle;\n",
              "    }\n",
              "\n",
              "    .dataframe tbody tr th {\n",
              "        vertical-align: top;\n",
              "    }\n",
              "\n",
              "    .dataframe thead th {\n",
              "        text-align: right;\n",
              "    }\n",
              "</style>\n",
              "<table border=\"1\" class=\"dataframe\">\n",
              "  <thead>\n",
              "    <tr style=\"text-align: right;\">\n",
              "      <th></th>\n",
              "      <th>MPG</th>\n",
              "      <th>Displacement</th>\n",
              "      <th>Horsepower</th>\n",
              "      <th>Weight</th>\n",
              "      <th>Acceleration</th>\n",
              "      <th>Age</th>\n",
              "    </tr>\n",
              "  </thead>\n",
              "  <tbody>\n",
              "    <tr>\n",
              "      <th>54</th>\n",
              "      <td>27.0</td>\n",
              "      <td>97.0</td>\n",
              "      <td>60</td>\n",
              "      <td>1834</td>\n",
              "      <td>19.0</td>\n",
              "      <td>50</td>\n",
              "    </tr>\n",
              "    <tr>\n",
              "      <th>44</th>\n",
              "      <td>18.0</td>\n",
              "      <td>258.0</td>\n",
              "      <td>110</td>\n",
              "      <td>2962</td>\n",
              "      <td>13.5</td>\n",
              "      <td>50</td>\n",
              "    </tr>\n",
              "    <tr>\n",
              "      <th>206</th>\n",
              "      <td>13.0</td>\n",
              "      <td>318.0</td>\n",
              "      <td>150</td>\n",
              "      <td>3940</td>\n",
              "      <td>13.2</td>\n",
              "      <td>45</td>\n",
              "    </tr>\n",
              "    <tr>\n",
              "      <th>376</th>\n",
              "      <td>36.0</td>\n",
              "      <td>120.0</td>\n",
              "      <td>88</td>\n",
              "      <td>2160</td>\n",
              "      <td>14.5</td>\n",
              "      <td>39</td>\n",
              "    </tr>\n",
              "    <tr>\n",
              "      <th>138</th>\n",
              "      <td>14.0</td>\n",
              "      <td>304.0</td>\n",
              "      <td>150</td>\n",
              "      <td>4257</td>\n",
              "      <td>15.5</td>\n",
              "      <td>47</td>\n",
              "    </tr>\n",
              "    <tr>\n",
              "      <th>215</th>\n",
              "      <td>30.0</td>\n",
              "      <td>111.0</td>\n",
              "      <td>80</td>\n",
              "      <td>2155</td>\n",
              "      <td>14.8</td>\n",
              "      <td>44</td>\n",
              "    </tr>\n",
              "    <tr>\n",
              "      <th>4</th>\n",
              "      <td>17.0</td>\n",
              "      <td>302.0</td>\n",
              "      <td>140</td>\n",
              "      <td>3449</td>\n",
              "      <td>10.5</td>\n",
              "      <td>51</td>\n",
              "    </tr>\n",
              "    <tr>\n",
              "      <th>150</th>\n",
              "      <td>19.0</td>\n",
              "      <td>225.0</td>\n",
              "      <td>95</td>\n",
              "      <td>3264</td>\n",
              "      <td>16.0</td>\n",
              "      <td>46</td>\n",
              "    </tr>\n",
              "    <tr>\n",
              "      <th>374</th>\n",
              "      <td>38.0</td>\n",
              "      <td>105.0</td>\n",
              "      <td>63</td>\n",
              "      <td>2125</td>\n",
              "      <td>14.7</td>\n",
              "      <td>39</td>\n",
              "    </tr>\n",
              "    <tr>\n",
              "      <th>362</th>\n",
              "      <td>17.6</td>\n",
              "      <td>225.0</td>\n",
              "      <td>85</td>\n",
              "      <td>3465</td>\n",
              "      <td>16.6</td>\n",
              "      <td>40</td>\n",
              "    </tr>\n",
              "  </tbody>\n",
              "</table>\n",
              "</div>"
            ],
            "text/plain": [
              "      MPG  Displacement  Horsepower  Weight  Acceleration  Age\n",
              "54   27.0          97.0          60    1834          19.0   50\n",
              "44   18.0         258.0         110    2962          13.5   50\n",
              "206  13.0         318.0         150    3940          13.2   45\n",
              "376  36.0         120.0          88    2160          14.5   39\n",
              "138  14.0         304.0         150    4257          15.5   47\n",
              "215  30.0         111.0          80    2155          14.8   44\n",
              "4    17.0         302.0         140    3449          10.5   51\n",
              "150  19.0         225.0          95    3264          16.0   46\n",
              "374  38.0         105.0          63    2125          14.7   39\n",
              "362  17.6         225.0          85    3465          16.6   40"
            ]
          },
          "metadata": {
            "tags": []
          },
          "execution_count": 51
        }
      ]
    },
    {
      "cell_type": "code",
      "metadata": {
        "colab": {
          "base_uri": "https://localhost:8080/",
          "height": 237
        },
        "id": "SvF1-9w_4OSI",
        "outputId": "4c2a8cd9-f455-46e0-8033-99c7c6a2a549"
      },
      "source": [
        "cars_corr = automobile_df.corr()\n",
        "\n",
        "cars_corr"
      ],
      "execution_count": 52,
      "outputs": [
        {
          "output_type": "execute_result",
          "data": {
            "text/html": [
              "<div>\n",
              "<style scoped>\n",
              "    .dataframe tbody tr th:only-of-type {\n",
              "        vertical-align: middle;\n",
              "    }\n",
              "\n",
              "    .dataframe tbody tr th {\n",
              "        vertical-align: top;\n",
              "    }\n",
              "\n",
              "    .dataframe thead th {\n",
              "        text-align: right;\n",
              "    }\n",
              "</style>\n",
              "<table border=\"1\" class=\"dataframe\">\n",
              "  <thead>\n",
              "    <tr style=\"text-align: right;\">\n",
              "      <th></th>\n",
              "      <th>MPG</th>\n",
              "      <th>Displacement</th>\n",
              "      <th>Horsepower</th>\n",
              "      <th>Weight</th>\n",
              "      <th>Acceleration</th>\n",
              "      <th>Age</th>\n",
              "    </tr>\n",
              "  </thead>\n",
              "  <tbody>\n",
              "    <tr>\n",
              "      <th>MPG</th>\n",
              "      <td>1.000000</td>\n",
              "      <td>-0.788492</td>\n",
              "      <td>-0.761499</td>\n",
              "      <td>-0.820138</td>\n",
              "      <td>0.392186</td>\n",
              "      <td>-0.566242</td>\n",
              "    </tr>\n",
              "    <tr>\n",
              "      <th>Displacement</th>\n",
              "      <td>-0.788492</td>\n",
              "      <td>1.000000</td>\n",
              "      <td>0.894199</td>\n",
              "      <td>0.932822</td>\n",
              "      <td>-0.526901</td>\n",
              "      <td>0.357047</td>\n",
              "    </tr>\n",
              "    <tr>\n",
              "      <th>Horsepower</th>\n",
              "      <td>-0.761499</td>\n",
              "      <td>0.894199</td>\n",
              "      <td>1.000000</td>\n",
              "      <td>0.863388</td>\n",
              "      <td>-0.670920</td>\n",
              "      <td>0.404458</td>\n",
              "    </tr>\n",
              "    <tr>\n",
              "      <th>Weight</th>\n",
              "      <td>-0.820138</td>\n",
              "      <td>0.932822</td>\n",
              "      <td>0.863388</td>\n",
              "      <td>1.000000</td>\n",
              "      <td>-0.397181</td>\n",
              "      <td>0.299049</td>\n",
              "    </tr>\n",
              "    <tr>\n",
              "      <th>Acceleration</th>\n",
              "      <td>0.392186</td>\n",
              "      <td>-0.526901</td>\n",
              "      <td>-0.670920</td>\n",
              "      <td>-0.397181</td>\n",
              "      <td>1.000000</td>\n",
              "      <td>-0.292705</td>\n",
              "    </tr>\n",
              "    <tr>\n",
              "      <th>Age</th>\n",
              "      <td>-0.566242</td>\n",
              "      <td>0.357047</td>\n",
              "      <td>0.404458</td>\n",
              "      <td>0.299049</td>\n",
              "      <td>-0.292705</td>\n",
              "      <td>1.000000</td>\n",
              "    </tr>\n",
              "  </tbody>\n",
              "</table>\n",
              "</div>"
            ],
            "text/plain": [
              "                   MPG  Displacement  ...  Acceleration       Age\n",
              "MPG           1.000000     -0.788492  ...      0.392186 -0.566242\n",
              "Displacement -0.788492      1.000000  ...     -0.526901  0.357047\n",
              "Horsepower   -0.761499      0.894199  ...     -0.670920  0.404458\n",
              "Weight       -0.820138      0.932822  ...     -0.397181  0.299049\n",
              "Acceleration  0.392186     -0.526901  ...      1.000000 -0.292705\n",
              "Age          -0.566242      0.357047  ...     -0.292705  1.000000\n",
              "\n",
              "[6 rows x 6 columns]"
            ]
          },
          "metadata": {
            "tags": []
          },
          "execution_count": 52
        }
      ]
    },
    {
      "cell_type": "code",
      "metadata": {
        "colab": {
          "base_uri": "https://localhost:8080/",
          "height": 505
        },
        "id": "cGZhW4Il4VEF",
        "outputId": "f1b778ff-c012-4a24-ec26-4e4c0bb3add2"
      },
      "source": [
        "import seaborn as sns\n",
        "\n",
        "fig, ax =plt.subplots(figsize = (12,8))\n",
        "\n",
        "sns.heatmap(cars_corr, annot=True)"
      ],
      "execution_count": 53,
      "outputs": [
        {
          "output_type": "execute_result",
          "data": {
            "text/plain": [
              "<matplotlib.axes._subplots.AxesSubplot at 0x7f0bde312e10>"
            ]
          },
          "metadata": {
            "tags": []
          },
          "execution_count": 53
        },
        {
          "output_type": "display_data",
          "data": {
            "image/png": "[encoded data removed]",
            "text/plain": [
              "<Figure size 864x576 with 2 Axes>"
            ]
          },
          "metadata": {
            "tags": [],
            "needs_background": "light"
          }
        }
      ]
    },
    {
      "cell_type": "markdown",
      "metadata": {
        "id": "DG2EuYbO5SRt"
      },
      "source": [
        "#Baseline Regression Model"
      ]
    },
    {
      "cell_type": "code",
      "metadata": {
        "id": "SSXfwr5z5Va_"
      },
      "source": [
        "import pandas as pd\n",
        "import matplotlib.pyplot as plt"
      ],
      "execution_count": 54,
      "outputs": []
    },
    {
      "cell_type": "code",
      "metadata": {
        "colab": {
          "base_uri": "https://localhost:8080/",
          "height": 206
        },
        "id": "kTyIGqKl5adw",
        "outputId": "6c9e0a25-68af-4180-83ea-271145ad6732"
      },
      "source": [
        "automobile_df = pd.read_csv('cars_processed.csv')\n",
        "\n",
        "automobile_df.head()"
      ],
      "execution_count": 55,
      "outputs": [
        {
          "output_type": "execute_result",
          "data": {
            "text/html": [
              "<div>\n",
              "<style scoped>\n",
              "    .dataframe tbody tr th:only-of-type {\n",
              "        vertical-align: middle;\n",
              "    }\n",
              "\n",
              "    .dataframe tbody tr th {\n",
              "        vertical-align: top;\n",
              "    }\n",
              "\n",
              "    .dataframe thead th {\n",
              "        text-align: right;\n",
              "    }\n",
              "</style>\n",
              "<table border=\"1\" class=\"dataframe\">\n",
              "  <thead>\n",
              "    <tr style=\"text-align: right;\">\n",
              "      <th></th>\n",
              "      <th>MPG</th>\n",
              "      <th>Cylinders</th>\n",
              "      <th>Displacement</th>\n",
              "      <th>Horsepower</th>\n",
              "      <th>Weight</th>\n",
              "      <th>Acceleration</th>\n",
              "      <th>Origin</th>\n",
              "      <th>Age</th>\n",
              "    </tr>\n",
              "  </thead>\n",
              "  <tbody>\n",
              "    <tr>\n",
              "      <th>0</th>\n",
              "      <td>18.000000</td>\n",
              "      <td>8</td>\n",
              "      <td>307.0</td>\n",
              "      <td>130</td>\n",
              "      <td>3504</td>\n",
              "      <td>12.0</td>\n",
              "      <td>US</td>\n",
              "      <td>51</td>\n",
              "    </tr>\n",
              "    <tr>\n",
              "      <th>1</th>\n",
              "      <td>16.000000</td>\n",
              "      <td>8</td>\n",
              "      <td>304.0</td>\n",
              "      <td>150</td>\n",
              "      <td>3433</td>\n",
              "      <td>12.0</td>\n",
              "      <td>US</td>\n",
              "      <td>51</td>\n",
              "    </tr>\n",
              "    <tr>\n",
              "      <th>2</th>\n",
              "      <td>17.000000</td>\n",
              "      <td>8</td>\n",
              "      <td>302.0</td>\n",
              "      <td>140</td>\n",
              "      <td>3449</td>\n",
              "      <td>10.5</td>\n",
              "      <td>US</td>\n",
              "      <td>51</td>\n",
              "    </tr>\n",
              "    <tr>\n",
              "      <th>3</th>\n",
              "      <td>14.000000</td>\n",
              "      <td>8</td>\n",
              "      <td>454.0</td>\n",
              "      <td>220</td>\n",
              "      <td>4354</td>\n",
              "      <td>9.0</td>\n",
              "      <td>US</td>\n",
              "      <td>51</td>\n",
              "    </tr>\n",
              "    <tr>\n",
              "      <th>4</th>\n",
              "      <td>23.551429</td>\n",
              "      <td>8</td>\n",
              "      <td>440.0</td>\n",
              "      <td>215</td>\n",
              "      <td>4312</td>\n",
              "      <td>8.5</td>\n",
              "      <td>US</td>\n",
              "      <td>51</td>\n",
              "    </tr>\n",
              "  </tbody>\n",
              "</table>\n",
              "</div>"
            ],
            "text/plain": [
              "         MPG  Cylinders  Displacement  ...  Acceleration  Origin  Age\n",
              "0  18.000000          8         307.0  ...          12.0      US   51\n",
              "1  16.000000          8         304.0  ...          12.0      US   51\n",
              "2  17.000000          8         302.0  ...          10.5      US   51\n",
              "3  14.000000          8         454.0  ...           9.0      US   51\n",
              "4  23.551429          8         440.0  ...           8.5      US   51\n",
              "\n",
              "[5 rows x 8 columns]"
            ]
          },
          "metadata": {
            "tags": []
          },
          "execution_count": 55
        }
      ]
    },
    {
      "cell_type": "code",
      "metadata": {
        "colab": {
          "base_uri": "https://localhost:8080/"
        },
        "id": "g3W3eDZ55ipX",
        "outputId": "88e7eabb-17f7-4008-fa5d-03f85d46d81a"
      },
      "source": [
        "automobile_df.shape"
      ],
      "execution_count": 56,
      "outputs": [
        {
          "output_type": "execute_result",
          "data": {
            "text/plain": [
              "(387, 8)"
            ]
          },
          "metadata": {
            "tags": []
          },
          "execution_count": 56
        }
      ]
    },
    {
      "cell_type": "code",
      "metadata": {
        "colab": {
          "base_uri": "https://localhost:8080/"
        },
        "id": "KOggmFJS5nrC",
        "outputId": "9709533d-d9ad-4e59-a6a8-aca5d680d1d4"
      },
      "source": [
        "automobile_df.columns"
      ],
      "execution_count": 57,
      "outputs": [
        {
          "output_type": "execute_result",
          "data": {
            "text/plain": [
              "Index(['MPG', 'Cylinders', 'Displacement', 'Horsepower', 'Weight',\n",
              "       'Acceleration', 'Origin', 'Age'],\n",
              "      dtype='object')"
            ]
          },
          "metadata": {
            "tags": []
          },
          "execution_count": 57
        }
      ]
    },
    {
      "cell_type": "code",
      "metadata": {
        "colab": {
          "base_uri": "https://localhost:8080/",
          "height": 300
        },
        "id": "xn-N1RZF5qYp",
        "outputId": "292a0f9f-36c9-4440-b217-3639f113aa2b"
      },
      "source": [
        "automobile_df.describe()"
      ],
      "execution_count": 58,
      "outputs": [
        {
          "output_type": "execute_result",
          "data": {
            "text/html": [
              "<div>\n",
              "<style scoped>\n",
              "    .dataframe tbody tr th:only-of-type {\n",
              "        vertical-align: middle;\n",
              "    }\n",
              "\n",
              "    .dataframe tbody tr th {\n",
              "        vertical-align: top;\n",
              "    }\n",
              "\n",
              "    .dataframe thead th {\n",
              "        text-align: right;\n",
              "    }\n",
              "</style>\n",
              "<table border=\"1\" class=\"dataframe\">\n",
              "  <thead>\n",
              "    <tr style=\"text-align: right;\">\n",
              "      <th></th>\n",
              "      <th>MPG</th>\n",
              "      <th>Cylinders</th>\n",
              "      <th>Displacement</th>\n",
              "      <th>Horsepower</th>\n",
              "      <th>Weight</th>\n",
              "      <th>Acceleration</th>\n",
              "      <th>Age</th>\n",
              "    </tr>\n",
              "  </thead>\n",
              "  <tbody>\n",
              "    <tr>\n",
              "      <th>count</th>\n",
              "      <td>387.000000</td>\n",
              "      <td>387.000000</td>\n",
              "      <td>387.000000</td>\n",
              "      <td>387.000000</td>\n",
              "      <td>387.000000</td>\n",
              "      <td>387.000000</td>\n",
              "      <td>387.000000</td>\n",
              "    </tr>\n",
              "    <tr>\n",
              "      <th>mean</th>\n",
              "      <td>23.672514</td>\n",
              "      <td>5.410853</td>\n",
              "      <td>192.184755</td>\n",
              "      <td>103.645995</td>\n",
              "      <td>2965.387597</td>\n",
              "      <td>15.573643</td>\n",
              "      <td>44.917313</td>\n",
              "    </tr>\n",
              "    <tr>\n",
              "      <th>std</th>\n",
              "      <td>7.736579</td>\n",
              "      <td>1.667795</td>\n",
              "      <td>103.703706</td>\n",
              "      <td>38.128651</td>\n",
              "      <td>846.332848</td>\n",
              "      <td>2.746260</td>\n",
              "      <td>3.668715</td>\n",
              "    </tr>\n",
              "    <tr>\n",
              "      <th>min</th>\n",
              "      <td>9.000000</td>\n",
              "      <td>3.000000</td>\n",
              "      <td>68.000000</td>\n",
              "      <td>46.000000</td>\n",
              "      <td>1613.000000</td>\n",
              "      <td>8.000000</td>\n",
              "      <td>39.000000</td>\n",
              "    </tr>\n",
              "    <tr>\n",
              "      <th>25%</th>\n",
              "      <td>17.600000</td>\n",
              "      <td>4.000000</td>\n",
              "      <td>102.500000</td>\n",
              "      <td>75.000000</td>\n",
              "      <td>2221.500000</td>\n",
              "      <td>13.900000</td>\n",
              "      <td>42.000000</td>\n",
              "    </tr>\n",
              "    <tr>\n",
              "      <th>50%</th>\n",
              "      <td>23.200000</td>\n",
              "      <td>4.000000</td>\n",
              "      <td>146.000000</td>\n",
              "      <td>92.000000</td>\n",
              "      <td>2790.000000</td>\n",
              "      <td>15.500000</td>\n",
              "      <td>45.000000</td>\n",
              "    </tr>\n",
              "    <tr>\n",
              "      <th>75%</th>\n",
              "      <td>29.000000</td>\n",
              "      <td>6.000000</td>\n",
              "      <td>260.000000</td>\n",
              "      <td>121.000000</td>\n",
              "      <td>3589.500000</td>\n",
              "      <td>17.050000</td>\n",
              "      <td>48.000000</td>\n",
              "    </tr>\n",
              "    <tr>\n",
              "      <th>max</th>\n",
              "      <td>46.600000</td>\n",
              "      <td>8.000000</td>\n",
              "      <td>455.000000</td>\n",
              "      <td>230.000000</td>\n",
              "      <td>5140.000000</td>\n",
              "      <td>24.800000</td>\n",
              "      <td>51.000000</td>\n",
              "    </tr>\n",
              "  </tbody>\n",
              "</table>\n",
              "</div>"
            ],
            "text/plain": [
              "              MPG   Cylinders  ...  Acceleration         Age\n",
              "count  387.000000  387.000000  ...    387.000000  387.000000\n",
              "mean    23.672514    5.410853  ...     15.573643   44.917313\n",
              "std      7.736579    1.667795  ...      2.746260    3.668715\n",
              "min      9.000000    3.000000  ...      8.000000   39.000000\n",
              "25%     17.600000    4.000000  ...     13.900000   42.000000\n",
              "50%     23.200000    4.000000  ...     15.500000   45.000000\n",
              "75%     29.000000    6.000000  ...     17.050000   48.000000\n",
              "max     46.600000    8.000000  ...     24.800000   51.000000\n",
              "\n",
              "[8 rows x 7 columns]"
            ]
          },
          "metadata": {
            "tags": []
          },
          "execution_count": 58
        }
      ]
    },
    {
      "cell_type": "code",
      "metadata": {
        "colab": {
          "base_uri": "https://localhost:8080/",
          "height": 269
        },
        "id": "ljFEeX-05so_",
        "outputId": "cab83536-f46e-4c6c-e7c6-182d598be0e1"
      },
      "source": [
        "automobile_df.corr()"
      ],
      "execution_count": 59,
      "outputs": [
        {
          "output_type": "execute_result",
          "data": {
            "text/html": [
              "<div>\n",
              "<style scoped>\n",
              "    .dataframe tbody tr th:only-of-type {\n",
              "        vertical-align: middle;\n",
              "    }\n",
              "\n",
              "    .dataframe tbody tr th {\n",
              "        vertical-align: top;\n",
              "    }\n",
              "\n",
              "    .dataframe thead th {\n",
              "        text-align: right;\n",
              "    }\n",
              "</style>\n",
              "<table border=\"1\" class=\"dataframe\">\n",
              "  <thead>\n",
              "    <tr style=\"text-align: right;\">\n",
              "      <th></th>\n",
              "      <th>MPG</th>\n",
              "      <th>Cylinders</th>\n",
              "      <th>Displacement</th>\n",
              "      <th>Horsepower</th>\n",
              "      <th>Weight</th>\n",
              "      <th>Acceleration</th>\n",
              "      <th>Age</th>\n",
              "    </tr>\n",
              "  </thead>\n",
              "  <tbody>\n",
              "    <tr>\n",
              "      <th>MPG</th>\n",
              "      <td>1.000000</td>\n",
              "      <td>-0.746023</td>\n",
              "      <td>-0.788492</td>\n",
              "      <td>-0.761499</td>\n",
              "      <td>-0.820138</td>\n",
              "      <td>0.392186</td>\n",
              "      <td>-0.566242</td>\n",
              "    </tr>\n",
              "    <tr>\n",
              "      <th>Cylinders</th>\n",
              "      <td>-0.746023</td>\n",
              "      <td>1.000000</td>\n",
              "      <td>0.922633</td>\n",
              "      <td>0.811466</td>\n",
              "      <td>0.873029</td>\n",
              "      <td>-0.458161</td>\n",
              "      <td>0.321850</td>\n",
              "    </tr>\n",
              "    <tr>\n",
              "      <th>Displacement</th>\n",
              "      <td>-0.788492</td>\n",
              "      <td>0.922633</td>\n",
              "      <td>1.000000</td>\n",
              "      <td>0.894199</td>\n",
              "      <td>0.932822</td>\n",
              "      <td>-0.526901</td>\n",
              "      <td>0.357047</td>\n",
              "    </tr>\n",
              "    <tr>\n",
              "      <th>Horsepower</th>\n",
              "      <td>-0.761499</td>\n",
              "      <td>0.811466</td>\n",
              "      <td>0.894199</td>\n",
              "      <td>1.000000</td>\n",
              "      <td>0.863388</td>\n",
              "      <td>-0.670920</td>\n",
              "      <td>0.404458</td>\n",
              "    </tr>\n",
              "    <tr>\n",
              "      <th>Weight</th>\n",
              "      <td>-0.820138</td>\n",
              "      <td>0.873029</td>\n",
              "      <td>0.932822</td>\n",
              "      <td>0.863388</td>\n",
              "      <td>1.000000</td>\n",
              "      <td>-0.397181</td>\n",
              "      <td>0.299049</td>\n",
              "    </tr>\n",
              "    <tr>\n",
              "      <th>Acceleration</th>\n",
              "      <td>0.392186</td>\n",
              "      <td>-0.458161</td>\n",
              "      <td>-0.526901</td>\n",
              "      <td>-0.670920</td>\n",
              "      <td>-0.397181</td>\n",
              "      <td>1.000000</td>\n",
              "      <td>-0.292705</td>\n",
              "    </tr>\n",
              "    <tr>\n",
              "      <th>Age</th>\n",
              "      <td>-0.566242</td>\n",
              "      <td>0.321850</td>\n",
              "      <td>0.357047</td>\n",
              "      <td>0.404458</td>\n",
              "      <td>0.299049</td>\n",
              "      <td>-0.292705</td>\n",
              "      <td>1.000000</td>\n",
              "    </tr>\n",
              "  </tbody>\n",
              "</table>\n",
              "</div>"
            ],
            "text/plain": [
              "                   MPG  Cylinders  ...  Acceleration       Age\n",
              "MPG           1.000000  -0.746023  ...      0.392186 -0.566242\n",
              "Cylinders    -0.746023   1.000000  ...     -0.458161  0.321850\n",
              "Displacement -0.788492   0.922633  ...     -0.526901  0.357047\n",
              "Horsepower   -0.761499   0.811466  ...     -0.670920  0.404458\n",
              "Weight       -0.820138   0.873029  ...     -0.397181  0.299049\n",
              "Acceleration  0.392186  -0.458161  ...      1.000000 -0.292705\n",
              "Age          -0.566242   0.321850  ...     -0.292705  1.000000\n",
              "\n",
              "[7 rows x 7 columns]"
            ]
          },
          "metadata": {
            "tags": []
          },
          "execution_count": 59
        }
      ]
    },
    {
      "cell_type": "code",
      "metadata": {
        "colab": {
          "base_uri": "https://localhost:8080/",
          "height": 505
        },
        "id": "kiJ2CdQM5vRs",
        "outputId": "2cd19cdc-c1c5-4c28-8e35-5af419d537f5"
      },
      "source": [
        "import seaborn as sns\n",
        "\n",
        "fig, axs = plt.subplots(figsize = (12,8))\n",
        "\n",
        "sns.heatmap(automobile_df.corr(), annot=True)"
      ],
      "execution_count": 60,
      "outputs": [
        {
          "output_type": "execute_result",
          "data": {
            "text/plain": [
              "<matplotlib.axes._subplots.AxesSubplot at 0x7f0be09c3690>"
            ]
          },
          "metadata": {
            "tags": []
          },
          "execution_count": 60
        },
        {
          "output_type": "display_data",
          "data": {
            "image/png": "[encoded data removed]",
            "text/plain": [
              "<Figure size 864x576 with 2 Axes>"
            ]
          },
          "metadata": {
            "tags": [],
            "needs_background": "light"
          }
        }
      ]
    },
    {
      "cell_type": "code",
      "metadata": {
        "colab": {
          "base_uri": "https://localhost:8080/",
          "height": 206
        },
        "id": "a6L2Dlbd6jcu",
        "outputId": "496970dd-f75a-47de-ae16-26150778f416"
      },
      "source": [
        "automobile_df.head()"
      ],
      "execution_count": 61,
      "outputs": [
        {
          "output_type": "execute_result",
          "data": {
            "text/html": [
              "<div>\n",
              "<style scoped>\n",
              "    .dataframe tbody tr th:only-of-type {\n",
              "        vertical-align: middle;\n",
              "    }\n",
              "\n",
              "    .dataframe tbody tr th {\n",
              "        vertical-align: top;\n",
              "    }\n",
              "\n",
              "    .dataframe thead th {\n",
              "        text-align: right;\n",
              "    }\n",
              "</style>\n",
              "<table border=\"1\" class=\"dataframe\">\n",
              "  <thead>\n",
              "    <tr style=\"text-align: right;\">\n",
              "      <th></th>\n",
              "      <th>MPG</th>\n",
              "      <th>Cylinders</th>\n",
              "      <th>Displacement</th>\n",
              "      <th>Horsepower</th>\n",
              "      <th>Weight</th>\n",
              "      <th>Acceleration</th>\n",
              "      <th>Origin</th>\n",
              "      <th>Age</th>\n",
              "    </tr>\n",
              "  </thead>\n",
              "  <tbody>\n",
              "    <tr>\n",
              "      <th>0</th>\n",
              "      <td>18.000000</td>\n",
              "      <td>8</td>\n",
              "      <td>307.0</td>\n",
              "      <td>130</td>\n",
              "      <td>3504</td>\n",
              "      <td>12.0</td>\n",
              "      <td>US</td>\n",
              "      <td>51</td>\n",
              "    </tr>\n",
              "    <tr>\n",
              "      <th>1</th>\n",
              "      <td>16.000000</td>\n",
              "      <td>8</td>\n",
              "      <td>304.0</td>\n",
              "      <td>150</td>\n",
              "      <td>3433</td>\n",
              "      <td>12.0</td>\n",
              "      <td>US</td>\n",
              "      <td>51</td>\n",
              "    </tr>\n",
              "    <tr>\n",
              "      <th>2</th>\n",
              "      <td>17.000000</td>\n",
              "      <td>8</td>\n",
              "      <td>302.0</td>\n",
              "      <td>140</td>\n",
              "      <td>3449</td>\n",
              "      <td>10.5</td>\n",
              "      <td>US</td>\n",
              "      <td>51</td>\n",
              "    </tr>\n",
              "    <tr>\n",
              "      <th>3</th>\n",
              "      <td>14.000000</td>\n",
              "      <td>8</td>\n",
              "      <td>454.0</td>\n",
              "      <td>220</td>\n",
              "      <td>4354</td>\n",
              "      <td>9.0</td>\n",
              "      <td>US</td>\n",
              "      <td>51</td>\n",
              "    </tr>\n",
              "    <tr>\n",
              "      <th>4</th>\n",
              "      <td>23.551429</td>\n",
              "      <td>8</td>\n",
              "      <td>440.0</td>\n",
              "      <td>215</td>\n",
              "      <td>4312</td>\n",
              "      <td>8.5</td>\n",
              "      <td>US</td>\n",
              "      <td>51</td>\n",
              "    </tr>\n",
              "  </tbody>\n",
              "</table>\n",
              "</div>"
            ],
            "text/plain": [
              "         MPG  Cylinders  Displacement  ...  Acceleration  Origin  Age\n",
              "0  18.000000          8         307.0  ...          12.0      US   51\n",
              "1  16.000000          8         304.0  ...          12.0      US   51\n",
              "2  17.000000          8         302.0  ...          10.5      US   51\n",
              "3  14.000000          8         454.0  ...           9.0      US   51\n",
              "4  23.551429          8         440.0  ...           8.5      US   51\n",
              "\n",
              "[5 rows x 8 columns]"
            ]
          },
          "metadata": {
            "tags": []
          },
          "execution_count": 61
        }
      ]
    },
    {
      "cell_type": "code",
      "metadata": {
        "id": "y9xH_IOI6zBF"
      },
      "source": [
        "X = automobile_df[['Age']]\n",
        "Y = automobile_df['MPG']"
      ],
      "execution_count": 62,
      "outputs": []
    },
    {
      "cell_type": "code",
      "metadata": {
        "colab": {
          "base_uri": "https://localhost:8080/",
          "height": 497
        },
        "id": "K-yznM4u67HY",
        "outputId": "dd3b8c68-75a1-4ec9-b6f8-be87c677a52f"
      },
      "source": [
        "fig, ax = plt.subplots(figsize=(12,8))\n",
        "\n",
        "plt.scatter(automobile_df['Age'], automobile_df['MPG'])\n",
        "\n",
        "plt.xlabel('Age')\n",
        "plt.ylabel('Miles per gallon')\n",
        "\n",
        "plt.show()"
      ],
      "execution_count": 63,
      "outputs": [
        {
          "output_type": "display_data",
          "data": {
            "image/png": "[encoded data removed]",
            "text/plain": [
              "<Figure size 864x576 with 1 Axes>"
            ]
          },
          "metadata": {
            "tags": [],
            "needs_background": "light"
          }
        }
      ]
    },
    {
      "cell_type": "code",
      "metadata": {
        "id": "-_MZIP2e7SNP"
      },
      "source": [
        "from sklearn.model_selection import train_test_split\n",
        "\n",
        "x_train, x_test, y_train, y_test = train_test_split(X, Y, test_size=0.2)"
      ],
      "execution_count": 64,
      "outputs": []
    },
    {
      "cell_type": "code",
      "metadata": {
        "id": "ecfatsIF8hX5"
      },
      "source": [
        "from sklearn.linear_model import LinearRegression\n",
        "\n",
        "linear_model = LinearRegression(normalize=True).fit(x_train, y_train)"
      ],
      "execution_count": 65,
      "outputs": []
    },
    {
      "cell_type": "code",
      "metadata": {
        "colab": {
          "base_uri": "https://localhost:8080/"
        },
        "id": "lCLhqq0Z84Uv",
        "outputId": "368e7d20-4a40-4d60-8048-c497ea4ce989"
      },
      "source": [
        "print(\"Training score: \", linear_model.score(x_train, y_train))"
      ],
      "execution_count": 66,
      "outputs": [
        {
          "output_type": "stream",
          "text": [
            "Training score:  0.3260230937110572\n"
          ],
          "name": "stdout"
        }
      ]
    },
    {
      "cell_type": "code",
      "metadata": {
        "id": "97oZQpJo9L3t"
      },
      "source": [
        "y_pred = linear_model.predict(x_test)"
      ],
      "execution_count": 67,
      "outputs": []
    },
    {
      "cell_type": "code",
      "metadata": {
        "colab": {
          "base_uri": "https://localhost:8080/"
        },
        "id": "yO2_Uo-d9Wok",
        "outputId": "59b70e4a-b637-436c-8d19-4423456afd9d"
      },
      "source": [
        "from sklearn.metrics import r2_score\n",
        "\n",
        "print(\"Testing score: \", r2_score(y_test, y_pred))"
      ],
      "execution_count": 68,
      "outputs": [
        {
          "output_type": "stream",
          "text": [
            "Testing score:  0.3013959748922521\n"
          ],
          "name": "stdout"
        }
      ]
    },
    {
      "cell_type": "code",
      "metadata": {
        "colab": {
          "base_uri": "https://localhost:8080/",
          "height": 497
        },
        "id": "a_KfbARm9gzN",
        "outputId": "2ed79e5f-6553-4bc2-d5eb-957be94dc42b"
      },
      "source": [
        "fig, ax = plt.subplots(figsize=(12,8))\n",
        "\n",
        "plt.scatter(x_test, y_test)\n",
        "plt.plot(x_test, y_pred, color='r')\n",
        "\n",
        "plt.xlabel('Age')\n",
        "plt.ylabel('Mpg')\n",
        "plt.show()"
      ],
      "execution_count": 69,
      "outputs": [
        {
          "output_type": "display_data",
          "data": {
            "image/png": "[encoded data removed]",
            "text/plain": [
              "<Figure size 864x576 with 1 Axes>"
            ]
          },
          "metadata": {
            "tags": [],
            "needs_background": "light"
          }
        }
      ]
    },
    {
      "cell_type": "code",
      "metadata": {
        "colab": {
          "base_uri": "https://localhost:8080/"
        },
        "id": "qprOL5iV_BbC",
        "outputId": "660de3e4-15d1-4d94-a6f4-2129d0035d78"
      },
      "source": [
        "X = automobile_df[['Horsepower']]\n",
        "Y = automobile_df['MPG']\n",
        "\n",
        "x_train, x_test, y_train, y_test = train_test_split(X, Y, test_size=0.2)\n",
        "\n",
        "linear_model = LinearRegression(normalize=True).fit(x_train, y_train)\n",
        "\n",
        "print(\"Training score: \", linear_model.score(x_train, y_train))\n",
        "\n",
        "y_pred = linear_model.predict(x_test)\n",
        "\n",
        "print(\"Testing score: \", r2_score(y_test, y_pred))"
      ],
      "execution_count": 70,
      "outputs": [
        {
          "output_type": "stream",
          "text": [
            "Training score:  0.5759590354847877\n",
            "Testing score:  0.5820152983246247\n"
          ],
          "name": "stdout"
        }
      ]
    },
    {
      "cell_type": "code",
      "metadata": {
        "colab": {
          "base_uri": "https://localhost:8080/",
          "height": 497
        },
        "id": "MjVAsY1kAAob",
        "outputId": "8cddf637-7033-4d36-94f4-90aa65af603c"
      },
      "source": [
        "fig, ax = plt.subplots(figsize=(12,8))\n",
        "\n",
        "plt.scatter(x_test, y_test)\n",
        "plt.plot(x_test, y_pred, color='r')\n",
        "\n",
        "plt.xlabel('Horsepower')\n",
        "plt.ylabel('Mpg')\n",
        "plt.show()"
      ],
      "execution_count": 71,
      "outputs": [
        {
          "output_type": "display_data",
          "data": {
            "image/png": "[encoded data removed]",
            "text/plain": [
              "<Figure size 864x576 with 1 Axes>"
            ]
          },
          "metadata": {
            "tags": [],
            "needs_background": "light"
          }
        }
      ]
    },
    {
      "cell_type": "code",
      "metadata": {
        "colab": {
          "base_uri": "https://localhost:8080/",
          "height": 206
        },
        "id": "6nSG2TIZAM2A",
        "outputId": "9aee5e67-b81a-4d76-89c4-5ed26845ddfc"
      },
      "source": [
        "automobile_df.head()"
      ],
      "execution_count": 72,
      "outputs": [
        {
          "output_type": "execute_result",
          "data": {
            "text/html": [
              "<div>\n",
              "<style scoped>\n",
              "    .dataframe tbody tr th:only-of-type {\n",
              "        vertical-align: middle;\n",
              "    }\n",
              "\n",
              "    .dataframe tbody tr th {\n",
              "        vertical-align: top;\n",
              "    }\n",
              "\n",
              "    .dataframe thead th {\n",
              "        text-align: right;\n",
              "    }\n",
              "</style>\n",
              "<table border=\"1\" class=\"dataframe\">\n",
              "  <thead>\n",
              "    <tr style=\"text-align: right;\">\n",
              "      <th></th>\n",
              "      <th>MPG</th>\n",
              "      <th>Cylinders</th>\n",
              "      <th>Displacement</th>\n",
              "      <th>Horsepower</th>\n",
              "      <th>Weight</th>\n",
              "      <th>Acceleration</th>\n",
              "      <th>Origin</th>\n",
              "      <th>Age</th>\n",
              "    </tr>\n",
              "  </thead>\n",
              "  <tbody>\n",
              "    <tr>\n",
              "      <th>0</th>\n",
              "      <td>18.000000</td>\n",
              "      <td>8</td>\n",
              "      <td>307.0</td>\n",
              "      <td>130</td>\n",
              "      <td>3504</td>\n",
              "      <td>12.0</td>\n",
              "      <td>US</td>\n",
              "      <td>51</td>\n",
              "    </tr>\n",
              "    <tr>\n",
              "      <th>1</th>\n",
              "      <td>16.000000</td>\n",
              "      <td>8</td>\n",
              "      <td>304.0</td>\n",
              "      <td>150</td>\n",
              "      <td>3433</td>\n",
              "      <td>12.0</td>\n",
              "      <td>US</td>\n",
              "      <td>51</td>\n",
              "    </tr>\n",
              "    <tr>\n",
              "      <th>2</th>\n",
              "      <td>17.000000</td>\n",
              "      <td>8</td>\n",
              "      <td>302.0</td>\n",
              "      <td>140</td>\n",
              "      <td>3449</td>\n",
              "      <td>10.5</td>\n",
              "      <td>US</td>\n",
              "      <td>51</td>\n",
              "    </tr>\n",
              "    <tr>\n",
              "      <th>3</th>\n",
              "      <td>14.000000</td>\n",
              "      <td>8</td>\n",
              "      <td>454.0</td>\n",
              "      <td>220</td>\n",
              "      <td>4354</td>\n",
              "      <td>9.0</td>\n",
              "      <td>US</td>\n",
              "      <td>51</td>\n",
              "    </tr>\n",
              "    <tr>\n",
              "      <th>4</th>\n",
              "      <td>23.551429</td>\n",
              "      <td>8</td>\n",
              "      <td>440.0</td>\n",
              "      <td>215</td>\n",
              "      <td>4312</td>\n",
              "      <td>8.5</td>\n",
              "      <td>US</td>\n",
              "      <td>51</td>\n",
              "    </tr>\n",
              "  </tbody>\n",
              "</table>\n",
              "</div>"
            ],
            "text/plain": [
              "         MPG  Cylinders  Displacement  ...  Acceleration  Origin  Age\n",
              "0  18.000000          8         307.0  ...          12.0      US   51\n",
              "1  16.000000          8         304.0  ...          12.0      US   51\n",
              "2  17.000000          8         302.0  ...          10.5      US   51\n",
              "3  14.000000          8         454.0  ...           9.0      US   51\n",
              "4  23.551429          8         440.0  ...           8.5      US   51\n",
              "\n",
              "[5 rows x 8 columns]"
            ]
          },
          "metadata": {
            "tags": []
          },
          "execution_count": 72
        }
      ]
    },
    {
      "cell_type": "code",
      "metadata": {
        "colab": {
          "base_uri": "https://localhost:8080/",
          "height": 206
        },
        "id": "WmU7A86_AY6L",
        "outputId": "189301af-c84f-4794-d6b5-73fc86d34867"
      },
      "source": [
        "automobile_df = pd.get_dummies(automobile_df, columns=['Origin'])\n",
        "\n",
        "automobile_df.head()"
      ],
      "execution_count": 73,
      "outputs": [
        {
          "output_type": "execute_result",
          "data": {
            "text/html": [
              "<div>\n",
              "<style scoped>\n",
              "    .dataframe tbody tr th:only-of-type {\n",
              "        vertical-align: middle;\n",
              "    }\n",
              "\n",
              "    .dataframe tbody tr th {\n",
              "        vertical-align: top;\n",
              "    }\n",
              "\n",
              "    .dataframe thead th {\n",
              "        text-align: right;\n",
              "    }\n",
              "</style>\n",
              "<table border=\"1\" class=\"dataframe\">\n",
              "  <thead>\n",
              "    <tr style=\"text-align: right;\">\n",
              "      <th></th>\n",
              "      <th>MPG</th>\n",
              "      <th>Cylinders</th>\n",
              "      <th>Displacement</th>\n",
              "      <th>Horsepower</th>\n",
              "      <th>Weight</th>\n",
              "      <th>Acceleration</th>\n",
              "      <th>Age</th>\n",
              "      <th>Origin_Europe</th>\n",
              "      <th>Origin_Japan</th>\n",
              "      <th>Origin_US</th>\n",
              "    </tr>\n",
              "  </thead>\n",
              "  <tbody>\n",
              "    <tr>\n",
              "      <th>0</th>\n",
              "      <td>18.000000</td>\n",
              "      <td>8</td>\n",
              "      <td>307.0</td>\n",
              "      <td>130</td>\n",
              "      <td>3504</td>\n",
              "      <td>12.0</td>\n",
              "      <td>51</td>\n",
              "      <td>0</td>\n",
              "      <td>0</td>\n",
              "      <td>1</td>\n",
              "    </tr>\n",
              "    <tr>\n",
              "      <th>1</th>\n",
              "      <td>16.000000</td>\n",
              "      <td>8</td>\n",
              "      <td>304.0</td>\n",
              "      <td>150</td>\n",
              "      <td>3433</td>\n",
              "      <td>12.0</td>\n",
              "      <td>51</td>\n",
              "      <td>0</td>\n",
              "      <td>0</td>\n",
              "      <td>1</td>\n",
              "    </tr>\n",
              "    <tr>\n",
              "      <th>2</th>\n",
              "      <td>17.000000</td>\n",
              "      <td>8</td>\n",
              "      <td>302.0</td>\n",
              "      <td>140</td>\n",
              "      <td>3449</td>\n",
              "      <td>10.5</td>\n",
              "      <td>51</td>\n",
              "      <td>0</td>\n",
              "      <td>0</td>\n",
              "      <td>1</td>\n",
              "    </tr>\n",
              "    <tr>\n",
              "      <th>3</th>\n",
              "      <td>14.000000</td>\n",
              "      <td>8</td>\n",
              "      <td>454.0</td>\n",
              "      <td>220</td>\n",
              "      <td>4354</td>\n",
              "      <td>9.0</td>\n",
              "      <td>51</td>\n",
              "      <td>0</td>\n",
              "      <td>0</td>\n",
              "      <td>1</td>\n",
              "    </tr>\n",
              "    <tr>\n",
              "      <th>4</th>\n",
              "      <td>23.551429</td>\n",
              "      <td>8</td>\n",
              "      <td>440.0</td>\n",
              "      <td>215</td>\n",
              "      <td>4312</td>\n",
              "      <td>8.5</td>\n",
              "      <td>51</td>\n",
              "      <td>0</td>\n",
              "      <td>0</td>\n",
              "      <td>1</td>\n",
              "    </tr>\n",
              "  </tbody>\n",
              "</table>\n",
              "</div>"
            ],
            "text/plain": [
              "         MPG  Cylinders  Displacement  ...  Origin_Europe  Origin_Japan  Origin_US\n",
              "0  18.000000          8         307.0  ...              0             0          1\n",
              "1  16.000000          8         304.0  ...              0             0          1\n",
              "2  17.000000          8         302.0  ...              0             0          1\n",
              "3  14.000000          8         454.0  ...              0             0          1\n",
              "4  23.551429          8         440.0  ...              0             0          1\n",
              "\n",
              "[5 rows x 10 columns]"
            ]
          },
          "metadata": {
            "tags": []
          },
          "execution_count": 73
        }
      ]
    },
    {
      "cell_type": "code",
      "metadata": {
        "colab": {
          "base_uri": "https://localhost:8080/"
        },
        "id": "yybd98W8Arqn",
        "outputId": "c070d37c-775f-49c5-a14c-74c7102460ba"
      },
      "source": [
        "automobile_df.shape"
      ],
      "execution_count": 74,
      "outputs": [
        {
          "output_type": "execute_result",
          "data": {
            "text/plain": [
              "(387, 10)"
            ]
          },
          "metadata": {
            "tags": []
          },
          "execution_count": 74
        }
      ]
    },
    {
      "cell_type": "code",
      "metadata": {
        "colab": {
          "base_uri": "https://localhost:8080/"
        },
        "id": "yXY3R3J4Au-8",
        "outputId": "2080dfa2-ff8a-4b8a-82b7-ec84ab21cb7d"
      },
      "source": [
        "X = automobile_df.drop('MPG', axis=1)\n",
        "Y = automobile_df['MPG']\n",
        "\n",
        "x_train, x_test, y_train, y_test = train_test_split(X, Y, test_size=0.2)\n",
        "\n",
        "linear_model = LinearRegression(normalize=True).fit(x_train, y_train)\n",
        "\n",
        "print(\"Training score: \", linear_model.score(x_train, y_train))\n",
        "\n",
        "y_pred = linear_model.predict(x_test)\n",
        "\n",
        "print(\"Testing score: \", r2_score(y_test, y_pred))"
      ],
      "execution_count": 75,
      "outputs": [
        {
          "output_type": "stream",
          "text": [
            "Training score:  0.8020440304542542\n",
            "Testing score:  0.7907326935286206\n"
          ],
          "name": "stdout"
        }
      ]
    },
    {
      "cell_type": "markdown",
      "metadata": {
        "id": "Bc05U7FOFsxP"
      },
      "source": [
        "#Univariate Feature Imputation"
      ]
    },
    {
      "cell_type": "code",
      "metadata": {
        "id": "j0AbmNGNFwPY"
      },
      "source": [
        "import pandas as pd\n",
        "import numpy as np"
      ],
      "execution_count": 76,
      "outputs": []
    },
    {
      "cell_type": "code",
      "metadata": {
        "colab": {
          "base_uri": "https://localhost:8080/",
          "height": 206
        },
        "id": "T0lGIxatF6FU",
        "outputId": "b905819e-22c9-4937-d0dd-5defac75e6b8"
      },
      "source": [
        "diabetes = pd.read_csv('diabetes.csv')\n",
        "\n",
        "diabetes.head()"
      ],
      "execution_count": 77,
      "outputs": [
        {
          "output_type": "execute_result",
          "data": {
            "text/html": [
              "<div>\n",
              "<style scoped>\n",
              "    .dataframe tbody tr th:only-of-type {\n",
              "        vertical-align: middle;\n",
              "    }\n",
              "\n",
              "    .dataframe tbody tr th {\n",
              "        vertical-align: top;\n",
              "    }\n",
              "\n",
              "    .dataframe thead th {\n",
              "        text-align: right;\n",
              "    }\n",
              "</style>\n",
              "<table border=\"1\" class=\"dataframe\">\n",
              "  <thead>\n",
              "    <tr style=\"text-align: right;\">\n",
              "      <th></th>\n",
              "      <th>Pregnancies</th>\n",
              "      <th>Glucose</th>\n",
              "      <th>BloodPressure</th>\n",
              "      <th>SkinThickness</th>\n",
              "      <th>Insulin</th>\n",
              "      <th>BMI</th>\n",
              "      <th>DiabetesPedigreeFunction</th>\n",
              "      <th>Age</th>\n",
              "      <th>Outcome</th>\n",
              "    </tr>\n",
              "  </thead>\n",
              "  <tbody>\n",
              "    <tr>\n",
              "      <th>0</th>\n",
              "      <td>6</td>\n",
              "      <td>148</td>\n",
              "      <td>72</td>\n",
              "      <td>35</td>\n",
              "      <td>0</td>\n",
              "      <td>33.6</td>\n",
              "      <td>0.627</td>\n",
              "      <td>50</td>\n",
              "      <td>1</td>\n",
              "    </tr>\n",
              "    <tr>\n",
              "      <th>1</th>\n",
              "      <td>1</td>\n",
              "      <td>85</td>\n",
              "      <td>66</td>\n",
              "      <td>29</td>\n",
              "      <td>0</td>\n",
              "      <td>26.6</td>\n",
              "      <td>0.351</td>\n",
              "      <td>31</td>\n",
              "      <td>0</td>\n",
              "    </tr>\n",
              "    <tr>\n",
              "      <th>2</th>\n",
              "      <td>8</td>\n",
              "      <td>183</td>\n",
              "      <td>64</td>\n",
              "      <td>0</td>\n",
              "      <td>0</td>\n",
              "      <td>23.3</td>\n",
              "      <td>0.672</td>\n",
              "      <td>32</td>\n",
              "      <td>1</td>\n",
              "    </tr>\n",
              "    <tr>\n",
              "      <th>3</th>\n",
              "      <td>1</td>\n",
              "      <td>89</td>\n",
              "      <td>66</td>\n",
              "      <td>23</td>\n",
              "      <td>94</td>\n",
              "      <td>28.1</td>\n",
              "      <td>0.167</td>\n",
              "      <td>21</td>\n",
              "      <td>0</td>\n",
              "    </tr>\n",
              "    <tr>\n",
              "      <th>4</th>\n",
              "      <td>0</td>\n",
              "      <td>137</td>\n",
              "      <td>40</td>\n",
              "      <td>35</td>\n",
              "      <td>168</td>\n",
              "      <td>43.1</td>\n",
              "      <td>2.288</td>\n",
              "      <td>33</td>\n",
              "      <td>1</td>\n",
              "    </tr>\n",
              "  </tbody>\n",
              "</table>\n",
              "</div>"
            ],
            "text/plain": [
              "   Pregnancies  Glucose  BloodPressure  ...  DiabetesPedigreeFunction  Age  Outcome\n",
              "0            6      148             72  ...                     0.627   50        1\n",
              "1            1       85             66  ...                     0.351   31        0\n",
              "2            8      183             64  ...                     0.672   32        1\n",
              "3            1       89             66  ...                     0.167   21        0\n",
              "4            0      137             40  ...                     2.288   33        1\n",
              "\n",
              "[5 rows x 9 columns]"
            ]
          },
          "metadata": {
            "tags": []
          },
          "execution_count": 77
        }
      ]
    },
    {
      "cell_type": "code",
      "metadata": {
        "colab": {
          "base_uri": "https://localhost:8080/"
        },
        "id": "SctYkJPUGr4p",
        "outputId": "b152baa0-5527-490d-db28-c5d94f20273a"
      },
      "source": [
        "diabetes.shape"
      ],
      "execution_count": 78,
      "outputs": [
        {
          "output_type": "execute_result",
          "data": {
            "text/plain": [
              "(768, 9)"
            ]
          },
          "metadata": {
            "tags": []
          },
          "execution_count": 78
        }
      ]
    },
    {
      "cell_type": "code",
      "metadata": {
        "colab": {
          "base_uri": "https://localhost:8080/"
        },
        "id": "Xi1fUMICG7Ko",
        "outputId": "46941dd0-164a-49cc-b5f8-893a91923abb"
      },
      "source": [
        "diabetes.columns"
      ],
      "execution_count": 79,
      "outputs": [
        {
          "output_type": "execute_result",
          "data": {
            "text/plain": [
              "Index(['Pregnancies', 'Glucose', 'BloodPressure', 'SkinThickness', 'Insulin',\n",
              "       'BMI', 'DiabetesPedigreeFunction', 'Age', 'Outcome'],\n",
              "      dtype='object')"
            ]
          },
          "metadata": {
            "tags": []
          },
          "execution_count": 79
        }
      ]
    },
    {
      "cell_type": "code",
      "metadata": {
        "colab": {
          "base_uri": "https://localhost:8080/",
          "height": 300
        },
        "id": "1LcYh1EOG8ms",
        "outputId": "bef2e3c0-fa7c-4505-b860-c09648927fb7"
      },
      "source": [
        "diabetes.describe()"
      ],
      "execution_count": 80,
      "outputs": [
        {
          "output_type": "execute_result",
          "data": {
            "text/html": [
              "<div>\n",
              "<style scoped>\n",
              "    .dataframe tbody tr th:only-of-type {\n",
              "        vertical-align: middle;\n",
              "    }\n",
              "\n",
              "    .dataframe tbody tr th {\n",
              "        vertical-align: top;\n",
              "    }\n",
              "\n",
              "    .dataframe thead th {\n",
              "        text-align: right;\n",
              "    }\n",
              "</style>\n",
              "<table border=\"1\" class=\"dataframe\">\n",
              "  <thead>\n",
              "    <tr style=\"text-align: right;\">\n",
              "      <th></th>\n",
              "      <th>Pregnancies</th>\n",
              "      <th>Glucose</th>\n",
              "      <th>BloodPressure</th>\n",
              "      <th>SkinThickness</th>\n",
              "      <th>Insulin</th>\n",
              "      <th>BMI</th>\n",
              "      <th>DiabetesPedigreeFunction</th>\n",
              "      <th>Age</th>\n",
              "      <th>Outcome</th>\n",
              "    </tr>\n",
              "  </thead>\n",
              "  <tbody>\n",
              "    <tr>\n",
              "      <th>count</th>\n",
              "      <td>768.000000</td>\n",
              "      <td>768.000000</td>\n",
              "      <td>768.000000</td>\n",
              "      <td>768.000000</td>\n",
              "      <td>768.000000</td>\n",
              "      <td>768.000000</td>\n",
              "      <td>768.000000</td>\n",
              "      <td>768.000000</td>\n",
              "      <td>768.000000</td>\n",
              "    </tr>\n",
              "    <tr>\n",
              "      <th>mean</th>\n",
              "      <td>3.845052</td>\n",
              "      <td>120.894531</td>\n",
              "      <td>69.105469</td>\n",
              "      <td>20.536458</td>\n",
              "      <td>79.799479</td>\n",
              "      <td>31.992578</td>\n",
              "      <td>0.471876</td>\n",
              "      <td>33.240885</td>\n",
              "      <td>0.348958</td>\n",
              "    </tr>\n",
              "    <tr>\n",
              "      <th>std</th>\n",
              "      <td>3.369578</td>\n",
              "      <td>31.972618</td>\n",
              "      <td>19.355807</td>\n",
              "      <td>15.952218</td>\n",
              "      <td>115.244002</td>\n",
              "      <td>7.884160</td>\n",
              "      <td>0.331329</td>\n",
              "      <td>11.760232</td>\n",
              "      <td>0.476951</td>\n",
              "    </tr>\n",
              "    <tr>\n",
              "      <th>min</th>\n",
              "      <td>0.000000</td>\n",
              "      <td>0.000000</td>\n",
              "      <td>0.000000</td>\n",
              "      <td>0.000000</td>\n",
              "      <td>0.000000</td>\n",
              "      <td>0.000000</td>\n",
              "      <td>0.078000</td>\n",
              "      <td>21.000000</td>\n",
              "      <td>0.000000</td>\n",
              "    </tr>\n",
              "    <tr>\n",
              "      <th>25%</th>\n",
              "      <td>1.000000</td>\n",
              "      <td>99.000000</td>\n",
              "      <td>62.000000</td>\n",
              "      <td>0.000000</td>\n",
              "      <td>0.000000</td>\n",
              "      <td>27.300000</td>\n",
              "      <td>0.243750</td>\n",
              "      <td>24.000000</td>\n",
              "      <td>0.000000</td>\n",
              "    </tr>\n",
              "    <tr>\n",
              "      <th>50%</th>\n",
              "      <td>3.000000</td>\n",
              "      <td>117.000000</td>\n",
              "      <td>72.000000</td>\n",
              "      <td>23.000000</td>\n",
              "      <td>30.500000</td>\n",
              "      <td>32.000000</td>\n",
              "      <td>0.372500</td>\n",
              "      <td>29.000000</td>\n",
              "      <td>0.000000</td>\n",
              "    </tr>\n",
              "    <tr>\n",
              "      <th>75%</th>\n",
              "      <td>6.000000</td>\n",
              "      <td>140.250000</td>\n",
              "      <td>80.000000</td>\n",
              "      <td>32.000000</td>\n",
              "      <td>127.250000</td>\n",
              "      <td>36.600000</td>\n",
              "      <td>0.626250</td>\n",
              "      <td>41.000000</td>\n",
              "      <td>1.000000</td>\n",
              "    </tr>\n",
              "    <tr>\n",
              "      <th>max</th>\n",
              "      <td>17.000000</td>\n",
              "      <td>199.000000</td>\n",
              "      <td>122.000000</td>\n",
              "      <td>99.000000</td>\n",
              "      <td>846.000000</td>\n",
              "      <td>67.100000</td>\n",
              "      <td>2.420000</td>\n",
              "      <td>81.000000</td>\n",
              "      <td>1.000000</td>\n",
              "    </tr>\n",
              "  </tbody>\n",
              "</table>\n",
              "</div>"
            ],
            "text/plain": [
              "       Pregnancies     Glucose  ...         Age     Outcome\n",
              "count   768.000000  768.000000  ...  768.000000  768.000000\n",
              "mean      3.845052  120.894531  ...   33.240885    0.348958\n",
              "std       3.369578   31.972618  ...   11.760232    0.476951\n",
              "min       0.000000    0.000000  ...   21.000000    0.000000\n",
              "25%       1.000000   99.000000  ...   24.000000    0.000000\n",
              "50%       3.000000  117.000000  ...   29.000000    0.000000\n",
              "75%       6.000000  140.250000  ...   41.000000    1.000000\n",
              "max      17.000000  199.000000  ...   81.000000    1.000000\n",
              "\n",
              "[8 rows x 9 columns]"
            ]
          },
          "metadata": {
            "tags": []
          },
          "execution_count": 80
        }
      ]
    },
    {
      "cell_type": "code",
      "metadata": {
        "colab": {
          "base_uri": "https://localhost:8080/"
        },
        "id": "-Ei0tbd_G_6d",
        "outputId": "90c85458-3cc6-4774-91b3-00dbd359b74f"
      },
      "source": [
        "diabetes.dtypes"
      ],
      "execution_count": 81,
      "outputs": [
        {
          "output_type": "execute_result",
          "data": {
            "text/plain": [
              "Pregnancies                   int64\n",
              "Glucose                       int64\n",
              "BloodPressure                 int64\n",
              "SkinThickness                 int64\n",
              "Insulin                       int64\n",
              "BMI                         float64\n",
              "DiabetesPedigreeFunction    float64\n",
              "Age                           int64\n",
              "Outcome                       int64\n",
              "dtype: object"
            ]
          },
          "metadata": {
            "tags": []
          },
          "execution_count": 81
        }
      ]
    },
    {
      "cell_type": "code",
      "metadata": {
        "colab": {
          "base_uri": "https://localhost:8080/"
        },
        "id": "iWZoNkyfHCRq",
        "outputId": "b7617ab7-9639-4f0a-d93c-f432b4b2f657"
      },
      "source": [
        "diabetes.isnull().sum()"
      ],
      "execution_count": 82,
      "outputs": [
        {
          "output_type": "execute_result",
          "data": {
            "text/plain": [
              "Pregnancies                 0\n",
              "Glucose                     0\n",
              "BloodPressure               0\n",
              "SkinThickness               0\n",
              "Insulin                     0\n",
              "BMI                         0\n",
              "DiabetesPedigreeFunction    0\n",
              "Age                         0\n",
              "Outcome                     0\n",
              "dtype: int64"
            ]
          },
          "metadata": {
            "tags": []
          },
          "execution_count": 82
        }
      ]
    },
    {
      "cell_type": "code",
      "metadata": {
        "colab": {
          "base_uri": "https://localhost:8080/"
        },
        "id": "FTgBJl9WHF-m",
        "outputId": "b2726818-b9ae-406f-e2c5-8ad5b5168db5"
      },
      "source": [
        "diabetes.info()"
      ],
      "execution_count": 83,
      "outputs": [
        {
          "output_type": "stream",
          "text": [
            "<class 'pandas.core.frame.DataFrame'>\n",
            "RangeIndex: 768 entries, 0 to 767\n",
            "Data columns (total 9 columns):\n",
            " #   Column                    Non-Null Count  Dtype  \n",
            "---  ------                    --------------  -----  \n",
            " 0   Pregnancies               768 non-null    int64  \n",
            " 1   Glucose                   768 non-null    int64  \n",
            " 2   BloodPressure             768 non-null    int64  \n",
            " 3   SkinThickness             768 non-null    int64  \n",
            " 4   Insulin                   768 non-null    int64  \n",
            " 5   BMI                       768 non-null    float64\n",
            " 6   DiabetesPedigreeFunction  768 non-null    float64\n",
            " 7   Age                       768 non-null    int64  \n",
            " 8   Outcome                   768 non-null    int64  \n",
            "dtypes: float64(2), int64(7)\n",
            "memory usage: 54.1 KB\n"
          ],
          "name": "stdout"
        }
      ]
    },
    {
      "cell_type": "code",
      "metadata": {
        "colab": {
          "base_uri": "https://localhost:8080/",
          "height": 331
        },
        "id": "4ew_ueTCHX_0",
        "outputId": "e4b3117b-e3c5-425e-a573-0fbf2e7f0de3"
      },
      "source": [
        "diabetes.describe().transpose()"
      ],
      "execution_count": 84,
      "outputs": [
        {
          "output_type": "execute_result",
          "data": {
            "text/html": [
              "<div>\n",
              "<style scoped>\n",
              "    .dataframe tbody tr th:only-of-type {\n",
              "        vertical-align: middle;\n",
              "    }\n",
              "\n",
              "    .dataframe tbody tr th {\n",
              "        vertical-align: top;\n",
              "    }\n",
              "\n",
              "    .dataframe thead th {\n",
              "        text-align: right;\n",
              "    }\n",
              "</style>\n",
              "<table border=\"1\" class=\"dataframe\">\n",
              "  <thead>\n",
              "    <tr style=\"text-align: right;\">\n",
              "      <th></th>\n",
              "      <th>count</th>\n",
              "      <th>mean</th>\n",
              "      <th>std</th>\n",
              "      <th>min</th>\n",
              "      <th>25%</th>\n",
              "      <th>50%</th>\n",
              "      <th>75%</th>\n",
              "      <th>max</th>\n",
              "    </tr>\n",
              "  </thead>\n",
              "  <tbody>\n",
              "    <tr>\n",
              "      <th>Pregnancies</th>\n",
              "      <td>768.0</td>\n",
              "      <td>3.845052</td>\n",
              "      <td>3.369578</td>\n",
              "      <td>0.000</td>\n",
              "      <td>1.00000</td>\n",
              "      <td>3.0000</td>\n",
              "      <td>6.00000</td>\n",
              "      <td>17.00</td>\n",
              "    </tr>\n",
              "    <tr>\n",
              "      <th>Glucose</th>\n",
              "      <td>768.0</td>\n",
              "      <td>120.894531</td>\n",
              "      <td>31.972618</td>\n",
              "      <td>0.000</td>\n",
              "      <td>99.00000</td>\n",
              "      <td>117.0000</td>\n",
              "      <td>140.25000</td>\n",
              "      <td>199.00</td>\n",
              "    </tr>\n",
              "    <tr>\n",
              "      <th>BloodPressure</th>\n",
              "      <td>768.0</td>\n",
              "      <td>69.105469</td>\n",
              "      <td>19.355807</td>\n",
              "      <td>0.000</td>\n",
              "      <td>62.00000</td>\n",
              "      <td>72.0000</td>\n",
              "      <td>80.00000</td>\n",
              "      <td>122.00</td>\n",
              "    </tr>\n",
              "    <tr>\n",
              "      <th>SkinThickness</th>\n",
              "      <td>768.0</td>\n",
              "      <td>20.536458</td>\n",
              "      <td>15.952218</td>\n",
              "      <td>0.000</td>\n",
              "      <td>0.00000</td>\n",
              "      <td>23.0000</td>\n",
              "      <td>32.00000</td>\n",
              "      <td>99.00</td>\n",
              "    </tr>\n",
              "    <tr>\n",
              "      <th>Insulin</th>\n",
              "      <td>768.0</td>\n",
              "      <td>79.799479</td>\n",
              "      <td>115.244002</td>\n",
              "      <td>0.000</td>\n",
              "      <td>0.00000</td>\n",
              "      <td>30.5000</td>\n",
              "      <td>127.25000</td>\n",
              "      <td>846.00</td>\n",
              "    </tr>\n",
              "    <tr>\n",
              "      <th>BMI</th>\n",
              "      <td>768.0</td>\n",
              "      <td>31.992578</td>\n",
              "      <td>7.884160</td>\n",
              "      <td>0.000</td>\n",
              "      <td>27.30000</td>\n",
              "      <td>32.0000</td>\n",
              "      <td>36.60000</td>\n",
              "      <td>67.10</td>\n",
              "    </tr>\n",
              "    <tr>\n",
              "      <th>DiabetesPedigreeFunction</th>\n",
              "      <td>768.0</td>\n",
              "      <td>0.471876</td>\n",
              "      <td>0.331329</td>\n",
              "      <td>0.078</td>\n",
              "      <td>0.24375</td>\n",
              "      <td>0.3725</td>\n",
              "      <td>0.62625</td>\n",
              "      <td>2.42</td>\n",
              "    </tr>\n",
              "    <tr>\n",
              "      <th>Age</th>\n",
              "      <td>768.0</td>\n",
              "      <td>33.240885</td>\n",
              "      <td>11.760232</td>\n",
              "      <td>21.000</td>\n",
              "      <td>24.00000</td>\n",
              "      <td>29.0000</td>\n",
              "      <td>41.00000</td>\n",
              "      <td>81.00</td>\n",
              "    </tr>\n",
              "    <tr>\n",
              "      <th>Outcome</th>\n",
              "      <td>768.0</td>\n",
              "      <td>0.348958</td>\n",
              "      <td>0.476951</td>\n",
              "      <td>0.000</td>\n",
              "      <td>0.00000</td>\n",
              "      <td>0.0000</td>\n",
              "      <td>1.00000</td>\n",
              "      <td>1.00</td>\n",
              "    </tr>\n",
              "  </tbody>\n",
              "</table>\n",
              "</div>"
            ],
            "text/plain": [
              "                          count        mean  ...        75%     max\n",
              "Pregnancies               768.0    3.845052  ...    6.00000   17.00\n",
              "Glucose                   768.0  120.894531  ...  140.25000  199.00\n",
              "BloodPressure             768.0   69.105469  ...   80.00000  122.00\n",
              "SkinThickness             768.0   20.536458  ...   32.00000   99.00\n",
              "Insulin                   768.0   79.799479  ...  127.25000  846.00\n",
              "BMI                       768.0   31.992578  ...   36.60000   67.10\n",
              "DiabetesPedigreeFunction  768.0    0.471876  ...    0.62625    2.42\n",
              "Age                       768.0   33.240885  ...   41.00000   81.00\n",
              "Outcome                   768.0    0.348958  ...    1.00000    1.00\n",
              "\n",
              "[9 rows x 8 columns]"
            ]
          },
          "metadata": {
            "tags": []
          },
          "execution_count": 84
        }
      ]
    },
    {
      "cell_type": "code",
      "metadata": {
        "id": "2Bf3n9jPHnZY"
      },
      "source": [
        "diabetes['Glucose'].replace(0, np.nan, inplace=True)\n",
        "diabetes['BloodPressure'].replace(0, np.nan, inplace=True)\n",
        "diabetes['SkinThickness'].replace(0, np.nan, inplace=True)\n",
        "diabetes['Insulin'].replace(0, np.nan, inplace=True)\n",
        "diabetes['BMI'].replace(0, np.nan, inplace=True)"
      ],
      "execution_count": 85,
      "outputs": []
    },
    {
      "cell_type": "code",
      "metadata": {
        "colab": {
          "base_uri": "https://localhost:8080/",
          "height": 331
        },
        "id": "B7WXMuNrH-yI",
        "outputId": "5f3d6f18-1a49-4563-f40b-6af0d6d691ce"
      },
      "source": [
        "diabetes.describe().transpose()"
      ],
      "execution_count": 86,
      "outputs": [
        {
          "output_type": "execute_result",
          "data": {
            "text/html": [
              "<div>\n",
              "<style scoped>\n",
              "    .dataframe tbody tr th:only-of-type {\n",
              "        vertical-align: middle;\n",
              "    }\n",
              "\n",
              "    .dataframe tbody tr th {\n",
              "        vertical-align: top;\n",
              "    }\n",
              "\n",
              "    .dataframe thead th {\n",
              "        text-align: right;\n",
              "    }\n",
              "</style>\n",
              "<table border=\"1\" class=\"dataframe\">\n",
              "  <thead>\n",
              "    <tr style=\"text-align: right;\">\n",
              "      <th></th>\n",
              "      <th>count</th>\n",
              "      <th>mean</th>\n",
              "      <th>std</th>\n",
              "      <th>min</th>\n",
              "      <th>25%</th>\n",
              "      <th>50%</th>\n",
              "      <th>75%</th>\n",
              "      <th>max</th>\n",
              "    </tr>\n",
              "  </thead>\n",
              "  <tbody>\n",
              "    <tr>\n",
              "      <th>Pregnancies</th>\n",
              "      <td>768.0</td>\n",
              "      <td>3.845052</td>\n",
              "      <td>3.369578</td>\n",
              "      <td>0.000</td>\n",
              "      <td>1.00000</td>\n",
              "      <td>3.0000</td>\n",
              "      <td>6.00000</td>\n",
              "      <td>17.00</td>\n",
              "    </tr>\n",
              "    <tr>\n",
              "      <th>Glucose</th>\n",
              "      <td>763.0</td>\n",
              "      <td>121.686763</td>\n",
              "      <td>30.535641</td>\n",
              "      <td>44.000</td>\n",
              "      <td>99.00000</td>\n",
              "      <td>117.0000</td>\n",
              "      <td>141.00000</td>\n",
              "      <td>199.00</td>\n",
              "    </tr>\n",
              "    <tr>\n",
              "      <th>BloodPressure</th>\n",
              "      <td>733.0</td>\n",
              "      <td>72.405184</td>\n",
              "      <td>12.382158</td>\n",
              "      <td>24.000</td>\n",
              "      <td>64.00000</td>\n",
              "      <td>72.0000</td>\n",
              "      <td>80.00000</td>\n",
              "      <td>122.00</td>\n",
              "    </tr>\n",
              "    <tr>\n",
              "      <th>SkinThickness</th>\n",
              "      <td>541.0</td>\n",
              "      <td>29.153420</td>\n",
              "      <td>10.476982</td>\n",
              "      <td>7.000</td>\n",
              "      <td>22.00000</td>\n",
              "      <td>29.0000</td>\n",
              "      <td>36.00000</td>\n",
              "      <td>99.00</td>\n",
              "    </tr>\n",
              "    <tr>\n",
              "      <th>Insulin</th>\n",
              "      <td>394.0</td>\n",
              "      <td>155.548223</td>\n",
              "      <td>118.775855</td>\n",
              "      <td>14.000</td>\n",
              "      <td>76.25000</td>\n",
              "      <td>125.0000</td>\n",
              "      <td>190.00000</td>\n",
              "      <td>846.00</td>\n",
              "    </tr>\n",
              "    <tr>\n",
              "      <th>BMI</th>\n",
              "      <td>757.0</td>\n",
              "      <td>32.457464</td>\n",
              "      <td>6.924988</td>\n",
              "      <td>18.200</td>\n",
              "      <td>27.50000</td>\n",
              "      <td>32.3000</td>\n",
              "      <td>36.60000</td>\n",
              "      <td>67.10</td>\n",
              "    </tr>\n",
              "    <tr>\n",
              "      <th>DiabetesPedigreeFunction</th>\n",
              "      <td>768.0</td>\n",
              "      <td>0.471876</td>\n",
              "      <td>0.331329</td>\n",
              "      <td>0.078</td>\n",
              "      <td>0.24375</td>\n",
              "      <td>0.3725</td>\n",
              "      <td>0.62625</td>\n",
              "      <td>2.42</td>\n",
              "    </tr>\n",
              "    <tr>\n",
              "      <th>Age</th>\n",
              "      <td>768.0</td>\n",
              "      <td>33.240885</td>\n",
              "      <td>11.760232</td>\n",
              "      <td>21.000</td>\n",
              "      <td>24.00000</td>\n",
              "      <td>29.0000</td>\n",
              "      <td>41.00000</td>\n",
              "      <td>81.00</td>\n",
              "    </tr>\n",
              "    <tr>\n",
              "      <th>Outcome</th>\n",
              "      <td>768.0</td>\n",
              "      <td>0.348958</td>\n",
              "      <td>0.476951</td>\n",
              "      <td>0.000</td>\n",
              "      <td>0.00000</td>\n",
              "      <td>0.0000</td>\n",
              "      <td>1.00000</td>\n",
              "      <td>1.00</td>\n",
              "    </tr>\n",
              "  </tbody>\n",
              "</table>\n",
              "</div>"
            ],
            "text/plain": [
              "                          count        mean  ...        75%     max\n",
              "Pregnancies               768.0    3.845052  ...    6.00000   17.00\n",
              "Glucose                   763.0  121.686763  ...  141.00000  199.00\n",
              "BloodPressure             733.0   72.405184  ...   80.00000  122.00\n",
              "SkinThickness             541.0   29.153420  ...   36.00000   99.00\n",
              "Insulin                   394.0  155.548223  ...  190.00000  846.00\n",
              "BMI                       757.0   32.457464  ...   36.60000   67.10\n",
              "DiabetesPedigreeFunction  768.0    0.471876  ...    0.62625    2.42\n",
              "Age                       768.0   33.240885  ...   41.00000   81.00\n",
              "Outcome                   768.0    0.348958  ...    1.00000    1.00\n",
              "\n",
              "[9 rows x 8 columns]"
            ]
          },
          "metadata": {
            "tags": []
          },
          "execution_count": 86
        }
      ]
    },
    {
      "cell_type": "code",
      "metadata": {
        "colab": {
          "base_uri": "https://localhost:8080/"
        },
        "id": "WA8PahaqICDj",
        "outputId": "54d8ac92-4e3e-44fd-a18c-cbce297cd655"
      },
      "source": [
        "diabetes.info()"
      ],
      "execution_count": 87,
      "outputs": [
        {
          "output_type": "stream",
          "text": [
            "<class 'pandas.core.frame.DataFrame'>\n",
            "RangeIndex: 768 entries, 0 to 767\n",
            "Data columns (total 9 columns):\n",
            " #   Column                    Non-Null Count  Dtype  \n",
            "---  ------                    --------------  -----  \n",
            " 0   Pregnancies               768 non-null    int64  \n",
            " 1   Glucose                   763 non-null    float64\n",
            " 2   BloodPressure             733 non-null    float64\n",
            " 3   SkinThickness             541 non-null    float64\n",
            " 4   Insulin                   394 non-null    float64\n",
            " 5   BMI                       757 non-null    float64\n",
            " 6   DiabetesPedigreeFunction  768 non-null    float64\n",
            " 7   Age                       768 non-null    int64  \n",
            " 8   Outcome                   768 non-null    int64  \n",
            "dtypes: float64(6), int64(3)\n",
            "memory usage: 54.1 KB\n"
          ],
          "name": "stdout"
        }
      ]
    },
    {
      "cell_type": "code",
      "metadata": {
        "colab": {
          "base_uri": "https://localhost:8080/"
        },
        "id": "8PxbHAVpIE8V",
        "outputId": "676f58a5-ca4f-43d1-97ef-0a9a6f8a4227"
      },
      "source": [
        "diabetes.isnull().sum()"
      ],
      "execution_count": 88,
      "outputs": [
        {
          "output_type": "execute_result",
          "data": {
            "text/plain": [
              "Pregnancies                   0\n",
              "Glucose                       5\n",
              "BloodPressure                35\n",
              "SkinThickness               227\n",
              "Insulin                     374\n",
              "BMI                          11\n",
              "DiabetesPedigreeFunction      0\n",
              "Age                           0\n",
              "Outcome                       0\n",
              "dtype: int64"
            ]
          },
          "metadata": {
            "tags": []
          },
          "execution_count": 88
        }
      ]
    },
    {
      "cell_type": "code",
      "metadata": {
        "colab": {
          "base_uri": "https://localhost:8080/"
        },
        "id": "W4NaLyfQIIVL",
        "outputId": "87ecf286-0c3b-4120-c5e6-389e296f2c64"
      },
      "source": [
        "arr = diabetes['SkinThickness'].values.reshape(-1,1)\n",
        "\n",
        "arr.shape"
      ],
      "execution_count": 89,
      "outputs": [
        {
          "output_type": "execute_result",
          "data": {
            "text/plain": [
              "(768, 1)"
            ]
          },
          "metadata": {
            "tags": []
          },
          "execution_count": 89
        }
      ]
    },
    {
      "cell_type": "code",
      "metadata": {
        "id": "qXRrQ8ZIIWkh"
      },
      "source": [
        "from sklearn.impute import SimpleImputer"
      ],
      "execution_count": 90,
      "outputs": []
    },
    {
      "cell_type": "code",
      "metadata": {
        "id": "C059gd7SIrGQ"
      },
      "source": [
        "imp = SimpleImputer(missing_values=np.nan, strategy='most_frequent')\n",
        "\n",
        "imp.fit(diabetes['SkinThickness'].values.reshape(-1,1))\n",
        "\n",
        "diabetes['SkinThickness'] = imp.transform(diabetes['SkinThickness'].values.reshape(-1,1))"
      ],
      "execution_count": 91,
      "outputs": []
    },
    {
      "cell_type": "code",
      "metadata": {
        "colab": {
          "base_uri": "https://localhost:8080/"
        },
        "id": "DhI5H4vxJx62",
        "outputId": "6b47ea59-c8b4-4b63-b342-bbb74d597f36"
      },
      "source": [
        "diabetes['SkinThickness'].describe()"
      ],
      "execution_count": 92,
      "outputs": [
        {
          "output_type": "execute_result",
          "data": {
            "text/plain": [
              "count    768.000000\n",
              "mean      29.994792\n",
              "std        8.886506\n",
              "min        7.000000\n",
              "25%       25.000000\n",
              "50%       32.000000\n",
              "75%       32.000000\n",
              "max       99.000000\n",
              "Name: SkinThickness, dtype: float64"
            ]
          },
          "metadata": {
            "tags": []
          },
          "execution_count": 92
        }
      ]
    },
    {
      "cell_type": "code",
      "metadata": {
        "colab": {
          "base_uri": "https://localhost:8080/"
        },
        "id": "3WztNj33J1Op",
        "outputId": "4f27ef01-2b70-4e44-d43e-0728a7de2d8f"
      },
      "source": [
        "diabetes.isnull().sum()"
      ],
      "execution_count": 93,
      "outputs": [
        {
          "output_type": "execute_result",
          "data": {
            "text/plain": [
              "Pregnancies                   0\n",
              "Glucose                       5\n",
              "BloodPressure                35\n",
              "SkinThickness                 0\n",
              "Insulin                     374\n",
              "BMI                          11\n",
              "DiabetesPedigreeFunction      0\n",
              "Age                           0\n",
              "Outcome                       0\n",
              "dtype: int64"
            ]
          },
          "metadata": {
            "tags": []
          },
          "execution_count": 93
        }
      ]
    },
    {
      "cell_type": "code",
      "metadata": {
        "id": "gKN5jo7KJ-rP"
      },
      "source": [
        "imp = SimpleImputer(missing_values=np.nan, strategy='median')\n",
        "\n",
        "imp.fit(diabetes['Glucose'].values.reshape(-1,1))\n",
        "\n",
        "diabetes['Glucose'] = imp.transform(diabetes['Glucose'].values.reshape(-1,1))"
      ],
      "execution_count": 94,
      "outputs": []
    },
    {
      "cell_type": "code",
      "metadata": {
        "colab": {
          "base_uri": "https://localhost:8080/"
        },
        "id": "9qvv1reHKJmg",
        "outputId": "21692422-261d-4bbe-a385-c206ed240c55"
      },
      "source": [
        "diabetes['Glucose'].describe()"
      ],
      "execution_count": 95,
      "outputs": [
        {
          "output_type": "execute_result",
          "data": {
            "text/plain": [
              "count    768.000000\n",
              "mean     121.656250\n",
              "std       30.438286\n",
              "min       44.000000\n",
              "25%       99.750000\n",
              "50%      117.000000\n",
              "75%      140.250000\n",
              "max      199.000000\n",
              "Name: Glucose, dtype: float64"
            ]
          },
          "metadata": {
            "tags": []
          },
          "execution_count": 95
        }
      ]
    },
    {
      "cell_type": "code",
      "metadata": {
        "colab": {
          "base_uri": "https://localhost:8080/"
        },
        "id": "pec0PVqUKMr_",
        "outputId": "2e864824-0f31-4197-dc66-88cadc192770"
      },
      "source": [
        "diabetes.isnull().sum()"
      ],
      "execution_count": 96,
      "outputs": [
        {
          "output_type": "execute_result",
          "data": {
            "text/plain": [
              "Pregnancies                   0\n",
              "Glucose                       0\n",
              "BloodPressure                35\n",
              "SkinThickness                 0\n",
              "Insulin                     374\n",
              "BMI                          11\n",
              "DiabetesPedigreeFunction      0\n",
              "Age                           0\n",
              "Outcome                       0\n",
              "dtype: int64"
            ]
          },
          "metadata": {
            "tags": []
          },
          "execution_count": 96
        }
      ]
    },
    {
      "cell_type": "code",
      "metadata": {
        "id": "zU5F7kp3KP2M"
      },
      "source": [
        "imp = SimpleImputer(missing_values=np.nan, strategy='mean')\n",
        "\n",
        "imp.fit(diabetes['BloodPressure'].values.reshape(-1,1))\n",
        "\n",
        "diabetes['BloodPressure'] = imp.transform(diabetes['BloodPressure'].values.reshape(-1,1))"
      ],
      "execution_count": 97,
      "outputs": []
    },
    {
      "cell_type": "code",
      "metadata": {
        "colab": {
          "base_uri": "https://localhost:8080/"
        },
        "id": "aXElfcmdKfea",
        "outputId": "ab39b6f4-8d51-4ebd-fba6-0e76dc8a23c4"
      },
      "source": [
        "diabetes['BloodPressure'].describe()"
      ],
      "execution_count": 98,
      "outputs": [
        {
          "output_type": "execute_result",
          "data": {
            "text/plain": [
              "count    768.000000\n",
              "mean      72.405184\n",
              "std       12.096346\n",
              "min       24.000000\n",
              "25%       64.000000\n",
              "50%       72.202592\n",
              "75%       80.000000\n",
              "max      122.000000\n",
              "Name: BloodPressure, dtype: float64"
            ]
          },
          "metadata": {
            "tags": []
          },
          "execution_count": 98
        }
      ]
    },
    {
      "cell_type": "code",
      "metadata": {
        "colab": {
          "base_uri": "https://localhost:8080/"
        },
        "id": "VKrigYv3KiT9",
        "outputId": "88c784df-19e2-44dc-ae20-c25e84c8ab40"
      },
      "source": [
        "diabetes.isnull().sum()"
      ],
      "execution_count": 99,
      "outputs": [
        {
          "output_type": "execute_result",
          "data": {
            "text/plain": [
              "Pregnancies                   0\n",
              "Glucose                       0\n",
              "BloodPressure                 0\n",
              "SkinThickness                 0\n",
              "Insulin                     374\n",
              "BMI                          11\n",
              "DiabetesPedigreeFunction      0\n",
              "Age                           0\n",
              "Outcome                       0\n",
              "dtype: int64"
            ]
          },
          "metadata": {
            "tags": []
          },
          "execution_count": 99
        }
      ]
    },
    {
      "cell_type": "code",
      "metadata": {
        "id": "FjHDmb4yKk2x"
      },
      "source": [
        "imp = SimpleImputer(missing_values=np.nan, strategy='constant', fill_value=32)\n",
        "\n",
        "imp.fit(diabetes['BMI'].values.reshape(-1,1))\n",
        "\n",
        "diabetes['BMI'] = imp.transform(diabetes['BMI'].values.reshape(-1,1))"
      ],
      "execution_count": 100,
      "outputs": []
    },
    {
      "cell_type": "code",
      "metadata": {
        "colab": {
          "base_uri": "https://localhost:8080/"
        },
        "id": "F0bJKbK-K2O0",
        "outputId": "c8e0a57b-e385-4a8e-844a-2dbce4a8151d"
      },
      "source": [
        "diabetes['BMI'].describe()"
      ],
      "execution_count": 101,
      "outputs": [
        {
          "output_type": "execute_result",
          "data": {
            "text/plain": [
              "count    768.000000\n",
              "mean      32.450911\n",
              "std        6.875366\n",
              "min       18.200000\n",
              "25%       27.500000\n",
              "50%       32.000000\n",
              "75%       36.600000\n",
              "max       67.100000\n",
              "Name: BMI, dtype: float64"
            ]
          },
          "metadata": {
            "tags": []
          },
          "execution_count": 101
        }
      ]
    },
    {
      "cell_type": "code",
      "metadata": {
        "colab": {
          "base_uri": "https://localhost:8080/"
        },
        "id": "gftN9QmDK4iV",
        "outputId": "b1f5dd72-88b7-44be-a391-04aa5410ad40"
      },
      "source": [
        "diabetes.isnull().sum()"
      ],
      "execution_count": 102,
      "outputs": [
        {
          "output_type": "execute_result",
          "data": {
            "text/plain": [
              "Pregnancies                   0\n",
              "Glucose                       0\n",
              "BloodPressure                 0\n",
              "SkinThickness                 0\n",
              "Insulin                     374\n",
              "BMI                           0\n",
              "DiabetesPedigreeFunction      0\n",
              "Age                           0\n",
              "Outcome                       0\n",
              "dtype: int64"
            ]
          },
          "metadata": {
            "tags": []
          },
          "execution_count": 102
        }
      ]
    },
    {
      "cell_type": "code",
      "metadata": {
        "colab": {
          "base_uri": "https://localhost:8080/"
        },
        "id": "uJTkviVoK7uo",
        "outputId": "d4b39cd8-1e2c-4819-cc8e-53fae441a9d5"
      },
      "source": [
        "diabetes.to_csv('diabetes_processed_incomplete.csv', index=False)\n",
        "\n",
        "!ls"
      ],
      "execution_count": 103,
      "outputs": [
        {
          "output_type": "stream",
          "text": [
            "cars.csv\t    diabetes.csv\t\t       sample_data\n",
            "cars_processed.csv  diabetes_processed_incomplete.csv\n"
          ],
          "name": "stdout"
        }
      ]
    },
    {
      "cell_type": "markdown",
      "metadata": {
        "id": "iIJTlWwQN52w"
      },
      "source": [
        "#Multivariate Feature Imputation"
      ]
    },
    {
      "cell_type": "code",
      "metadata": {
        "id": "zfyTOGx8N9Ij"
      },
      "source": [
        "import pandas as pd\n",
        "import numpy as np"
      ],
      "execution_count": 104,
      "outputs": []
    },
    {
      "cell_type": "code",
      "metadata": {
        "id": "II_ltiJpOBal"
      },
      "source": [
        "from sklearn.experimental import enable_iterative_imputer\n",
        "from sklearn.impute import IterativeImputer"
      ],
      "execution_count": 105,
      "outputs": []
    },
    {
      "cell_type": "code",
      "metadata": {
        "id": "bUa9cwmiOMLo"
      },
      "source": [
        "imp = IterativeImputer(max_iter=100, random_state=0)"
      ],
      "execution_count": 106,
      "outputs": []
    },
    {
      "cell_type": "code",
      "metadata": {
        "id": "3JI4CNYeOewB"
      },
      "source": [
        "features = [[4, 2, 1],\n",
        "            [24, 12, 6],\n",
        "            [8, np.nan, 2],\n",
        "            [28, 14, 7],\n",
        "            [32, 16, np.nan],\n",
        "            [600, 300, 150],\n",
        "            [np.nan, 60, 30],\n",
        "            [np.nan, np.nan, 1]]"
      ],
      "execution_count": 107,
      "outputs": []
    },
    {
      "cell_type": "code",
      "metadata": {
        "colab": {
          "base_uri": "https://localhost:8080/"
        },
        "id": "1QjSPY-W8yrm",
        "outputId": "e6f5656d-a553-4d76-8d96-b1de3cec2715"
      },
      "source": [
        "imp.fit(features)"
      ],
      "execution_count": 108,
      "outputs": [
        {
          "output_type": "execute_result",
          "data": {
            "text/plain": [
              "IterativeImputer(add_indicator=False, estimator=None,\n",
              "                 imputation_order='ascending', initial_strategy='mean',\n",
              "                 max_iter=100, max_value=None, min_value=None,\n",
              "                 missing_values=nan, n_nearest_features=None, random_state=0,\n",
              "                 sample_posterior=False, skip_complete=False, tol=0.001,\n",
              "                 verbose=0)"
            ]
          },
          "metadata": {
            "tags": []
          },
          "execution_count": 108
        }
      ]
    },
    {
      "cell_type": "code",
      "metadata": {
        "colab": {
          "base_uri": "https://localhost:8080/"
        },
        "id": "vOzgaDxs863y",
        "outputId": "eced7119-3211-4270-b3e1-1de6c6bb3f0b"
      },
      "source": [
        "imp.transform(features)"
      ],
      "execution_count": 109,
      "outputs": [
        {
          "output_type": "execute_result",
          "data": {
            "text/plain": [
              "array([[  4.        ,   2.        ,   1.        ],\n",
              "       [ 24.        ,  12.        ,   6.        ],\n",
              "       [  8.        ,   3.99965998,   2.        ],\n",
              "       [ 28.        ,  14.        ,   7.        ],\n",
              "       [ 32.        ,  16.        ,   7.92735309],\n",
              "       [600.        , 300.        , 150.        ],\n",
              "       [120.00314828,  60.        ,  30.        ],\n",
              "       [  5.58961596,   2.79614861,   1.        ]])"
            ]
          },
          "metadata": {
            "tags": []
          },
          "execution_count": 109
        }
      ]
    },
    {
      "cell_type": "code",
      "metadata": {
        "id": "MyZLb4Uu9BB_"
      },
      "source": [
        "X_test = [[np.nan, 24, 12],\n",
        "          [36, np.nan, np.nan],\n",
        "          [100, np.nan, 25],\n",
        "          [np.nan, 6, 3],\n",
        "          [np.nan, 8, np.nan]]"
      ],
      "execution_count": 110,
      "outputs": []
    },
    {
      "cell_type": "code",
      "metadata": {
        "colab": {
          "base_uri": "https://localhost:8080/"
        },
        "id": "FYxMxh0m9YX3",
        "outputId": "dea551f6-4d75-4078-8c46-62166b5b0b80"
      },
      "source": [
        "imp.transform(X_test)"
      ],
      "execution_count": 111,
      "outputs": [
        {
          "output_type": "execute_result",
          "data": {
            "text/plain": [
              "array([[ 48.00364632,  24.        ,  12.        ],\n",
              "       [ 36.        ,  17.99997414,   8.92708811],\n",
              "       [100.        ,  49.99967878,  25.        ],\n",
              "       [ 12.00389534,   6.        ,   3.        ],\n",
              "       [ 16.12053691,   8.        ,   5.86176343]])"
            ]
          },
          "metadata": {
            "tags": []
          },
          "execution_count": 111
        }
      ]
    },
    {
      "cell_type": "code",
      "metadata": {
        "colab": {
          "base_uri": "https://localhost:8080/",
          "height": 363
        },
        "id": "oZPuvWIS9cCv",
        "outputId": "b7ebe58d-dd29-4c53-ba9e-56c4b920a26e"
      },
      "source": [
        "diabetes = pd.read_csv('diabetes_processed_incomplete.csv')\n",
        "\n",
        "diabetes.head(10)"
      ],
      "execution_count": 112,
      "outputs": [
        {
          "output_type": "execute_result",
          "data": {
            "text/html": [
              "<div>\n",
              "<style scoped>\n",
              "    .dataframe tbody tr th:only-of-type {\n",
              "        vertical-align: middle;\n",
              "    }\n",
              "\n",
              "    .dataframe tbody tr th {\n",
              "        vertical-align: top;\n",
              "    }\n",
              "\n",
              "    .dataframe thead th {\n",
              "        text-align: right;\n",
              "    }\n",
              "</style>\n",
              "<table border=\"1\" class=\"dataframe\">\n",
              "  <thead>\n",
              "    <tr style=\"text-align: right;\">\n",
              "      <th></th>\n",
              "      <th>Pregnancies</th>\n",
              "      <th>Glucose</th>\n",
              "      <th>BloodPressure</th>\n",
              "      <th>SkinThickness</th>\n",
              "      <th>Insulin</th>\n",
              "      <th>BMI</th>\n",
              "      <th>DiabetesPedigreeFunction</th>\n",
              "      <th>Age</th>\n",
              "      <th>Outcome</th>\n",
              "    </tr>\n",
              "  </thead>\n",
              "  <tbody>\n",
              "    <tr>\n",
              "      <th>0</th>\n",
              "      <td>6</td>\n",
              "      <td>148.0</td>\n",
              "      <td>72.000000</td>\n",
              "      <td>35.0</td>\n",
              "      <td>NaN</td>\n",
              "      <td>33.6</td>\n",
              "      <td>0.627</td>\n",
              "      <td>50</td>\n",
              "      <td>1</td>\n",
              "    </tr>\n",
              "    <tr>\n",
              "      <th>1</th>\n",
              "      <td>1</td>\n",
              "      <td>85.0</td>\n",
              "      <td>66.000000</td>\n",
              "      <td>29.0</td>\n",
              "      <td>NaN</td>\n",
              "      <td>26.6</td>\n",
              "      <td>0.351</td>\n",
              "      <td>31</td>\n",
              "      <td>0</td>\n",
              "    </tr>\n",
              "    <tr>\n",
              "      <th>2</th>\n",
              "      <td>8</td>\n",
              "      <td>183.0</td>\n",
              "      <td>64.000000</td>\n",
              "      <td>32.0</td>\n",
              "      <td>NaN</td>\n",
              "      <td>23.3</td>\n",
              "      <td>0.672</td>\n",
              "      <td>32</td>\n",
              "      <td>1</td>\n",
              "    </tr>\n",
              "    <tr>\n",
              "      <th>3</th>\n",
              "      <td>1</td>\n",
              "      <td>89.0</td>\n",
              "      <td>66.000000</td>\n",
              "      <td>23.0</td>\n",
              "      <td>94.0</td>\n",
              "      <td>28.1</td>\n",
              "      <td>0.167</td>\n",
              "      <td>21</td>\n",
              "      <td>0</td>\n",
              "    </tr>\n",
              "    <tr>\n",
              "      <th>4</th>\n",
              "      <td>0</td>\n",
              "      <td>137.0</td>\n",
              "      <td>40.000000</td>\n",
              "      <td>35.0</td>\n",
              "      <td>168.0</td>\n",
              "      <td>43.1</td>\n",
              "      <td>2.288</td>\n",
              "      <td>33</td>\n",
              "      <td>1</td>\n",
              "    </tr>\n",
              "    <tr>\n",
              "      <th>5</th>\n",
              "      <td>5</td>\n",
              "      <td>116.0</td>\n",
              "      <td>74.000000</td>\n",
              "      <td>32.0</td>\n",
              "      <td>NaN</td>\n",
              "      <td>25.6</td>\n",
              "      <td>0.201</td>\n",
              "      <td>30</td>\n",
              "      <td>0</td>\n",
              "    </tr>\n",
              "    <tr>\n",
              "      <th>6</th>\n",
              "      <td>3</td>\n",
              "      <td>78.0</td>\n",
              "      <td>50.000000</td>\n",
              "      <td>32.0</td>\n",
              "      <td>88.0</td>\n",
              "      <td>31.0</td>\n",
              "      <td>0.248</td>\n",
              "      <td>26</td>\n",
              "      <td>1</td>\n",
              "    </tr>\n",
              "    <tr>\n",
              "      <th>7</th>\n",
              "      <td>10</td>\n",
              "      <td>115.0</td>\n",
              "      <td>72.405184</td>\n",
              "      <td>32.0</td>\n",
              "      <td>NaN</td>\n",
              "      <td>35.3</td>\n",
              "      <td>0.134</td>\n",
              "      <td>29</td>\n",
              "      <td>0</td>\n",
              "    </tr>\n",
              "    <tr>\n",
              "      <th>8</th>\n",
              "      <td>2</td>\n",
              "      <td>197.0</td>\n",
              "      <td>70.000000</td>\n",
              "      <td>45.0</td>\n",
              "      <td>543.0</td>\n",
              "      <td>30.5</td>\n",
              "      <td>0.158</td>\n",
              "      <td>53</td>\n",
              "      <td>1</td>\n",
              "    </tr>\n",
              "    <tr>\n",
              "      <th>9</th>\n",
              "      <td>8</td>\n",
              "      <td>125.0</td>\n",
              "      <td>96.000000</td>\n",
              "      <td>32.0</td>\n",
              "      <td>NaN</td>\n",
              "      <td>32.0</td>\n",
              "      <td>0.232</td>\n",
              "      <td>54</td>\n",
              "      <td>1</td>\n",
              "    </tr>\n",
              "  </tbody>\n",
              "</table>\n",
              "</div>"
            ],
            "text/plain": [
              "   Pregnancies  Glucose  BloodPressure  ...  DiabetesPedigreeFunction  Age  Outcome\n",
              "0            6    148.0      72.000000  ...                     0.627   50        1\n",
              "1            1     85.0      66.000000  ...                     0.351   31        0\n",
              "2            8    183.0      64.000000  ...                     0.672   32        1\n",
              "3            1     89.0      66.000000  ...                     0.167   21        0\n",
              "4            0    137.0      40.000000  ...                     2.288   33        1\n",
              "5            5    116.0      74.000000  ...                     0.201   30        0\n",
              "6            3     78.0      50.000000  ...                     0.248   26        1\n",
              "7           10    115.0      72.405184  ...                     0.134   29        0\n",
              "8            2    197.0      70.000000  ...                     0.158   53        1\n",
              "9            8    125.0      96.000000  ...                     0.232   54        1\n",
              "\n",
              "[10 rows x 9 columns]"
            ]
          },
          "metadata": {
            "tags": []
          },
          "execution_count": 112
        }
      ]
    },
    {
      "cell_type": "code",
      "metadata": {
        "colab": {
          "base_uri": "https://localhost:8080/"
        },
        "id": "22fs5MUO9tYb",
        "outputId": "f0b313db-1d89-454f-e07b-fc432787756f"
      },
      "source": [
        "diabetes.isnull().sum()"
      ],
      "execution_count": 113,
      "outputs": [
        {
          "output_type": "execute_result",
          "data": {
            "text/plain": [
              "Pregnancies                   0\n",
              "Glucose                       0\n",
              "BloodPressure                 0\n",
              "SkinThickness                 0\n",
              "Insulin                     374\n",
              "BMI                           0\n",
              "DiabetesPedigreeFunction      0\n",
              "Age                           0\n",
              "Outcome                       0\n",
              "dtype: int64"
            ]
          },
          "metadata": {
            "tags": []
          },
          "execution_count": 113
        }
      ]
    },
    {
      "cell_type": "code",
      "metadata": {
        "colab": {
          "base_uri": "https://localhost:8080/",
          "height": 206
        },
        "id": "cmMPPERq92YK",
        "outputId": "b6f8f238-8bc8-4d23-e83e-42ccb57bf4e3"
      },
      "source": [
        "diabetes_features = diabetes.drop('Outcome', axis=1)\n",
        "diabetes_label = diabetes[['Outcome']]\n",
        "\n",
        "diabetes_features.head()"
      ],
      "execution_count": 114,
      "outputs": [
        {
          "output_type": "execute_result",
          "data": {
            "text/html": [
              "<div>\n",
              "<style scoped>\n",
              "    .dataframe tbody tr th:only-of-type {\n",
              "        vertical-align: middle;\n",
              "    }\n",
              "\n",
              "    .dataframe tbody tr th {\n",
              "        vertical-align: top;\n",
              "    }\n",
              "\n",
              "    .dataframe thead th {\n",
              "        text-align: right;\n",
              "    }\n",
              "</style>\n",
              "<table border=\"1\" class=\"dataframe\">\n",
              "  <thead>\n",
              "    <tr style=\"text-align: right;\">\n",
              "      <th></th>\n",
              "      <th>Pregnancies</th>\n",
              "      <th>Glucose</th>\n",
              "      <th>BloodPressure</th>\n",
              "      <th>SkinThickness</th>\n",
              "      <th>Insulin</th>\n",
              "      <th>BMI</th>\n",
              "      <th>DiabetesPedigreeFunction</th>\n",
              "      <th>Age</th>\n",
              "    </tr>\n",
              "  </thead>\n",
              "  <tbody>\n",
              "    <tr>\n",
              "      <th>0</th>\n",
              "      <td>6</td>\n",
              "      <td>148.0</td>\n",
              "      <td>72.0</td>\n",
              "      <td>35.0</td>\n",
              "      <td>NaN</td>\n",
              "      <td>33.6</td>\n",
              "      <td>0.627</td>\n",
              "      <td>50</td>\n",
              "    </tr>\n",
              "    <tr>\n",
              "      <th>1</th>\n",
              "      <td>1</td>\n",
              "      <td>85.0</td>\n",
              "      <td>66.0</td>\n",
              "      <td>29.0</td>\n",
              "      <td>NaN</td>\n",
              "      <td>26.6</td>\n",
              "      <td>0.351</td>\n",
              "      <td>31</td>\n",
              "    </tr>\n",
              "    <tr>\n",
              "      <th>2</th>\n",
              "      <td>8</td>\n",
              "      <td>183.0</td>\n",
              "      <td>64.0</td>\n",
              "      <td>32.0</td>\n",
              "      <td>NaN</td>\n",
              "      <td>23.3</td>\n",
              "      <td>0.672</td>\n",
              "      <td>32</td>\n",
              "    </tr>\n",
              "    <tr>\n",
              "      <th>3</th>\n",
              "      <td>1</td>\n",
              "      <td>89.0</td>\n",
              "      <td>66.0</td>\n",
              "      <td>23.0</td>\n",
              "      <td>94.0</td>\n",
              "      <td>28.1</td>\n",
              "      <td>0.167</td>\n",
              "      <td>21</td>\n",
              "    </tr>\n",
              "    <tr>\n",
              "      <th>4</th>\n",
              "      <td>0</td>\n",
              "      <td>137.0</td>\n",
              "      <td>40.0</td>\n",
              "      <td>35.0</td>\n",
              "      <td>168.0</td>\n",
              "      <td>43.1</td>\n",
              "      <td>2.288</td>\n",
              "      <td>33</td>\n",
              "    </tr>\n",
              "  </tbody>\n",
              "</table>\n",
              "</div>"
            ],
            "text/plain": [
              "   Pregnancies  Glucose  BloodPressure  ...   BMI  DiabetesPedigreeFunction  Age\n",
              "0            6    148.0           72.0  ...  33.6                     0.627   50\n",
              "1            1     85.0           66.0  ...  26.6                     0.351   31\n",
              "2            8    183.0           64.0  ...  23.3                     0.672   32\n",
              "3            1     89.0           66.0  ...  28.1                     0.167   21\n",
              "4            0    137.0           40.0  ...  43.1                     2.288   33\n",
              "\n",
              "[5 rows x 8 columns]"
            ]
          },
          "metadata": {
            "tags": []
          },
          "execution_count": 114
        }
      ]
    },
    {
      "cell_type": "code",
      "metadata": {
        "id": "Qkb9hJl5-Fgj"
      },
      "source": [
        "imp = IterativeImputer(max_iter=10000, random_state=0)"
      ],
      "execution_count": 115,
      "outputs": []
    },
    {
      "cell_type": "code",
      "metadata": {
        "colab": {
          "base_uri": "https://localhost:8080/"
        },
        "id": "tl509-t2-Sjn",
        "outputId": "7a2d766c-1f03-4796-9541-49bccb14bfd5"
      },
      "source": [
        "imp.fit(diabetes_features)"
      ],
      "execution_count": 116,
      "outputs": [
        {
          "output_type": "execute_result",
          "data": {
            "text/plain": [
              "IterativeImputer(add_indicator=False, estimator=None,\n",
              "                 imputation_order='ascending', initial_strategy='mean',\n",
              "                 max_iter=10000, max_value=None, min_value=None,\n",
              "                 missing_values=nan, n_nearest_features=None, random_state=0,\n",
              "                 sample_posterior=False, skip_complete=False, tol=0.001,\n",
              "                 verbose=0)"
            ]
          },
          "metadata": {
            "tags": []
          },
          "execution_count": 116
        }
      ]
    },
    {
      "cell_type": "code",
      "metadata": {
        "id": "q3NaWOy8-WPh"
      },
      "source": [
        "diabetes_feature_arr = imp.transform(diabetes_features)"
      ],
      "execution_count": 117,
      "outputs": []
    },
    {
      "cell_type": "code",
      "metadata": {
        "colab": {
          "base_uri": "https://localhost:8080/"
        },
        "id": "0oi1QIX6-dSw",
        "outputId": "7ed91050-9e38-45d8-c1a6-343a1acf1c43"
      },
      "source": [
        "diabetes_feature_arr.shape"
      ],
      "execution_count": 118,
      "outputs": [
        {
          "output_type": "execute_result",
          "data": {
            "text/plain": [
              "(768, 8)"
            ]
          },
          "metadata": {
            "tags": []
          },
          "execution_count": 118
        }
      ]
    },
    {
      "cell_type": "code",
      "metadata": {
        "colab": {
          "base_uri": "https://localhost:8080/",
          "height": 206
        },
        "id": "BqyuFH4a-f8v",
        "outputId": "38961723-5a99-4135-955d-a7193eba3715"
      },
      "source": [
        "diabetes_features = pd.DataFrame(diabetes_feature_arr, columns=diabetes_features.columns)\n",
        "\n",
        "diabetes_features.head()"
      ],
      "execution_count": 119,
      "outputs": [
        {
          "output_type": "execute_result",
          "data": {
            "text/html": [
              "<div>\n",
              "<style scoped>\n",
              "    .dataframe tbody tr th:only-of-type {\n",
              "        vertical-align: middle;\n",
              "    }\n",
              "\n",
              "    .dataframe tbody tr th {\n",
              "        vertical-align: top;\n",
              "    }\n",
              "\n",
              "    .dataframe thead th {\n",
              "        text-align: right;\n",
              "    }\n",
              "</style>\n",
              "<table border=\"1\" class=\"dataframe\">\n",
              "  <thead>\n",
              "    <tr style=\"text-align: right;\">\n",
              "      <th></th>\n",
              "      <th>Pregnancies</th>\n",
              "      <th>Glucose</th>\n",
              "      <th>BloodPressure</th>\n",
              "      <th>SkinThickness</th>\n",
              "      <th>Insulin</th>\n",
              "      <th>BMI</th>\n",
              "      <th>DiabetesPedigreeFunction</th>\n",
              "      <th>Age</th>\n",
              "    </tr>\n",
              "  </thead>\n",
              "  <tbody>\n",
              "    <tr>\n",
              "      <th>0</th>\n",
              "      <td>6.0</td>\n",
              "      <td>148.0</td>\n",
              "      <td>72.0</td>\n",
              "      <td>35.0</td>\n",
              "      <td>219.028414</td>\n",
              "      <td>33.6</td>\n",
              "      <td>0.627</td>\n",
              "      <td>50.0</td>\n",
              "    </tr>\n",
              "    <tr>\n",
              "      <th>1</th>\n",
              "      <td>1.0</td>\n",
              "      <td>85.0</td>\n",
              "      <td>66.0</td>\n",
              "      <td>29.0</td>\n",
              "      <td>70.341550</td>\n",
              "      <td>26.6</td>\n",
              "      <td>0.351</td>\n",
              "      <td>31.0</td>\n",
              "    </tr>\n",
              "    <tr>\n",
              "      <th>2</th>\n",
              "      <td>8.0</td>\n",
              "      <td>183.0</td>\n",
              "      <td>64.0</td>\n",
              "      <td>32.0</td>\n",
              "      <td>270.573172</td>\n",
              "      <td>23.3</td>\n",
              "      <td>0.672</td>\n",
              "      <td>32.0</td>\n",
              "    </tr>\n",
              "    <tr>\n",
              "      <th>3</th>\n",
              "      <td>1.0</td>\n",
              "      <td>89.0</td>\n",
              "      <td>66.0</td>\n",
              "      <td>23.0</td>\n",
              "      <td>94.000000</td>\n",
              "      <td>28.1</td>\n",
              "      <td>0.167</td>\n",
              "      <td>21.0</td>\n",
              "    </tr>\n",
              "    <tr>\n",
              "      <th>4</th>\n",
              "      <td>0.0</td>\n",
              "      <td>137.0</td>\n",
              "      <td>40.0</td>\n",
              "      <td>35.0</td>\n",
              "      <td>168.000000</td>\n",
              "      <td>43.1</td>\n",
              "      <td>2.288</td>\n",
              "      <td>33.0</td>\n",
              "    </tr>\n",
              "  </tbody>\n",
              "</table>\n",
              "</div>"
            ],
            "text/plain": [
              "   Pregnancies  Glucose  BloodPressure  ...   BMI  DiabetesPedigreeFunction   Age\n",
              "0          6.0    148.0           72.0  ...  33.6                     0.627  50.0\n",
              "1          1.0     85.0           66.0  ...  26.6                     0.351  31.0\n",
              "2          8.0    183.0           64.0  ...  23.3                     0.672  32.0\n",
              "3          1.0     89.0           66.0  ...  28.1                     0.167  21.0\n",
              "4          0.0    137.0           40.0  ...  43.1                     2.288  33.0\n",
              "\n",
              "[5 rows x 8 columns]"
            ]
          },
          "metadata": {
            "tags": []
          },
          "execution_count": 119
        }
      ]
    },
    {
      "cell_type": "code",
      "metadata": {
        "colab": {
          "base_uri": "https://localhost:8080/",
          "height": 206
        },
        "id": "CHQQhqlp-w43",
        "outputId": "46369ebf-bcd0-4407-f507-360da2a90392"
      },
      "source": [
        "diabetes = pd.concat([diabetes_features, diabetes_label], axis=1)\n",
        "\n",
        "diabetes.head()"
      ],
      "execution_count": 120,
      "outputs": [
        {
          "output_type": "execute_result",
          "data": {
            "text/html": [
              "<div>\n",
              "<style scoped>\n",
              "    .dataframe tbody tr th:only-of-type {\n",
              "        vertical-align: middle;\n",
              "    }\n",
              "\n",
              "    .dataframe tbody tr th {\n",
              "        vertical-align: top;\n",
              "    }\n",
              "\n",
              "    .dataframe thead th {\n",
              "        text-align: right;\n",
              "    }\n",
              "</style>\n",
              "<table border=\"1\" class=\"dataframe\">\n",
              "  <thead>\n",
              "    <tr style=\"text-align: right;\">\n",
              "      <th></th>\n",
              "      <th>Pregnancies</th>\n",
              "      <th>Glucose</th>\n",
              "      <th>BloodPressure</th>\n",
              "      <th>SkinThickness</th>\n",
              "      <th>Insulin</th>\n",
              "      <th>BMI</th>\n",
              "      <th>DiabetesPedigreeFunction</th>\n",
              "      <th>Age</th>\n",
              "      <th>Outcome</th>\n",
              "    </tr>\n",
              "  </thead>\n",
              "  <tbody>\n",
              "    <tr>\n",
              "      <th>0</th>\n",
              "      <td>6.0</td>\n",
              "      <td>148.0</td>\n",
              "      <td>72.0</td>\n",
              "      <td>35.0</td>\n",
              "      <td>219.028414</td>\n",
              "      <td>33.6</td>\n",
              "      <td>0.627</td>\n",
              "      <td>50.0</td>\n",
              "      <td>1</td>\n",
              "    </tr>\n",
              "    <tr>\n",
              "      <th>1</th>\n",
              "      <td>1.0</td>\n",
              "      <td>85.0</td>\n",
              "      <td>66.0</td>\n",
              "      <td>29.0</td>\n",
              "      <td>70.341550</td>\n",
              "      <td>26.6</td>\n",
              "      <td>0.351</td>\n",
              "      <td>31.0</td>\n",
              "      <td>0</td>\n",
              "    </tr>\n",
              "    <tr>\n",
              "      <th>2</th>\n",
              "      <td>8.0</td>\n",
              "      <td>183.0</td>\n",
              "      <td>64.0</td>\n",
              "      <td>32.0</td>\n",
              "      <td>270.573172</td>\n",
              "      <td>23.3</td>\n",
              "      <td>0.672</td>\n",
              "      <td>32.0</td>\n",
              "      <td>1</td>\n",
              "    </tr>\n",
              "    <tr>\n",
              "      <th>3</th>\n",
              "      <td>1.0</td>\n",
              "      <td>89.0</td>\n",
              "      <td>66.0</td>\n",
              "      <td>23.0</td>\n",
              "      <td>94.000000</td>\n",
              "      <td>28.1</td>\n",
              "      <td>0.167</td>\n",
              "      <td>21.0</td>\n",
              "      <td>0</td>\n",
              "    </tr>\n",
              "    <tr>\n",
              "      <th>4</th>\n",
              "      <td>0.0</td>\n",
              "      <td>137.0</td>\n",
              "      <td>40.0</td>\n",
              "      <td>35.0</td>\n",
              "      <td>168.000000</td>\n",
              "      <td>43.1</td>\n",
              "      <td>2.288</td>\n",
              "      <td>33.0</td>\n",
              "      <td>1</td>\n",
              "    </tr>\n",
              "  </tbody>\n",
              "</table>\n",
              "</div>"
            ],
            "text/plain": [
              "   Pregnancies  Glucose  BloodPressure  ...  DiabetesPedigreeFunction   Age  Outcome\n",
              "0          6.0    148.0           72.0  ...                     0.627  50.0        1\n",
              "1          1.0     85.0           66.0  ...                     0.351  31.0        0\n",
              "2          8.0    183.0           64.0  ...                     0.672  32.0        1\n",
              "3          1.0     89.0           66.0  ...                     0.167  21.0        0\n",
              "4          0.0    137.0           40.0  ...                     2.288  33.0        1\n",
              "\n",
              "[5 rows x 9 columns]"
            ]
          },
          "metadata": {
            "tags": []
          },
          "execution_count": 120
        }
      ]
    },
    {
      "cell_type": "code",
      "metadata": {
        "colab": {
          "base_uri": "https://localhost:8080/"
        },
        "id": "IU9iyNUm-_qK",
        "outputId": "f3d2a142-f25a-418d-8091-cd6b69ecabb3"
      },
      "source": [
        "diabetes.isnull().sum()"
      ],
      "execution_count": 121,
      "outputs": [
        {
          "output_type": "execute_result",
          "data": {
            "text/plain": [
              "Pregnancies                 0\n",
              "Glucose                     0\n",
              "BloodPressure               0\n",
              "SkinThickness               0\n",
              "Insulin                     0\n",
              "BMI                         0\n",
              "DiabetesPedigreeFunction    0\n",
              "Age                         0\n",
              "Outcome                     0\n",
              "dtype: int64"
            ]
          },
          "metadata": {
            "tags": []
          },
          "execution_count": 121
        }
      ]
    },
    {
      "cell_type": "code",
      "metadata": {
        "colab": {
          "base_uri": "https://localhost:8080/"
        },
        "id": "cEG4iYV4_HnV",
        "outputId": "e080d826-76c1-4f49-e7ba-05fa9efd8b97"
      },
      "source": [
        "diabetes.to_csv('diabetes_processed.csv', index=False)\n",
        "\n",
        "!ls"
      ],
      "execution_count": 122,
      "outputs": [
        {
          "output_type": "stream",
          "text": [
            "cars.csv\t    diabetes.csv\t    diabetes_processed_incomplete.csv\n",
            "cars_processed.csv  diabetes_processed.csv  sample_data\n"
          ],
          "name": "stdout"
        }
      ]
    },
    {
      "cell_type": "markdown",
      "metadata": {
        "id": "zek_Ahgc_bkY"
      },
      "source": [
        "#Missing Indicator"
      ]
    },
    {
      "cell_type": "code",
      "metadata": {
        "id": "u1lEhtsY_QMT"
      },
      "source": [
        "import pandas as pd\n",
        "import numpy as np\n",
        "\n",
        "from sklearn.impute import MissingIndicator"
      ],
      "execution_count": 123,
      "outputs": []
    },
    {
      "cell_type": "code",
      "metadata": {
        "id": "TCqQqzkY_i0k"
      },
      "source": [
        "features = [[4, 2, 1],\n",
        "            [24, 12, 6],\n",
        "            [8, 4, 2],\n",
        "            [28, 14, 7],\n",
        "            [32, 16, -1],\n",
        "            [600, 300, 150],\n",
        "            [-1, 60, 30],\n",
        "            [-1, 4, 1]]"
      ],
      "execution_count": 124,
      "outputs": []
    },
    {
      "cell_type": "code",
      "metadata": {
        "id": "D4mc5Bt9_zgR"
      },
      "source": [
        "indicator = MissingIndicator(missing_values=-1)"
      ],
      "execution_count": 125,
      "outputs": []
    },
    {
      "cell_type": "code",
      "metadata": {
        "colab": {
          "base_uri": "https://localhost:8080/"
        },
        "id": "6mHX0k5m_6wY",
        "outputId": "3faf66ae-6783-436d-ec2f-84345628c1d1"
      },
      "source": [
        "mask_missing_values_only = indicator.fit_transform(features)\n",
        "\n",
        "mask_missing_values_only"
      ],
      "execution_count": 126,
      "outputs": [
        {
          "output_type": "execute_result",
          "data": {
            "text/plain": [
              "array([[False, False],\n",
              "       [False, False],\n",
              "       [False, False],\n",
              "       [False, False],\n",
              "       [False,  True],\n",
              "       [False, False],\n",
              "       [ True, False],\n",
              "       [ True, False]])"
            ]
          },
          "metadata": {
            "tags": []
          },
          "execution_count": 126
        }
      ]
    },
    {
      "cell_type": "code",
      "metadata": {
        "colab": {
          "base_uri": "https://localhost:8080/"
        },
        "id": "Lt4rXCmlAF59",
        "outputId": "cd90b969-dd0f-488e-d3cf-dfe908cc60e1"
      },
      "source": [
        "indicator.features_"
      ],
      "execution_count": 127,
      "outputs": [
        {
          "output_type": "execute_result",
          "data": {
            "text/plain": [
              "array([0, 2])"
            ]
          },
          "metadata": {
            "tags": []
          },
          "execution_count": 127
        }
      ]
    },
    {
      "cell_type": "code",
      "metadata": {
        "id": "tDcyAERSAQfr"
      },
      "source": [
        "indicator = MissingIndicator(missing_values=-1, features=\"all\")"
      ],
      "execution_count": 128,
      "outputs": []
    },
    {
      "cell_type": "code",
      "metadata": {
        "colab": {
          "base_uri": "https://localhost:8080/"
        },
        "id": "I2KlxOGJAYHA",
        "outputId": "1ee5d78c-81f1-4bfd-fdfa-1c31de0d528e"
      },
      "source": [
        "mask_all = indicator.fit_transform(features)\n",
        "\n",
        "mask_all"
      ],
      "execution_count": 129,
      "outputs": [
        {
          "output_type": "execute_result",
          "data": {
            "text/plain": [
              "array([[False, False, False],\n",
              "       [False, False, False],\n",
              "       [False, False, False],\n",
              "       [False, False, False],\n",
              "       [False, False,  True],\n",
              "       [False, False, False],\n",
              "       [ True, False, False],\n",
              "       [ True, False, False]])"
            ]
          },
          "metadata": {
            "tags": []
          },
          "execution_count": 129
        }
      ]
    },
    {
      "cell_type": "code",
      "metadata": {
        "colab": {
          "base_uri": "https://localhost:8080/"
        },
        "id": "rgFq2mYZAfJi",
        "outputId": "bd3cb430-a4f2-435c-cc34-2485bde964c3"
      },
      "source": [
        "indicator.features_"
      ],
      "execution_count": 130,
      "outputs": [
        {
          "output_type": "execute_result",
          "data": {
            "text/plain": [
              "array([0, 1, 2])"
            ]
          },
          "metadata": {
            "tags": []
          },
          "execution_count": 130
        }
      ]
    },
    {
      "cell_type": "markdown",
      "metadata": {
        "id": "NYgAz4nSAr0z"
      },
      "source": [
        "#Feature Imputation Pipeline"
      ]
    },
    {
      "cell_type": "code",
      "metadata": {
        "id": "6gX6q-pAAoGV"
      },
      "source": [
        "import pandas as pd\n",
        "import numpy as np\n",
        "\n",
        "from sklearn.impute import SimpleImputer"
      ],
      "execution_count": 131,
      "outputs": []
    },
    {
      "cell_type": "code",
      "metadata": {
        "colab": {
          "base_uri": "https://localhost:8080/",
          "height": 363
        },
        "id": "radXJokHAziF",
        "outputId": "2d16e133-52dd-4579-b36d-34f0354507c3"
      },
      "source": [
        "diabetes = pd.read_csv('diabetes_processed.csv')\n",
        "\n",
        "diabetes.head(10)"
      ],
      "execution_count": 132,
      "outputs": [
        {
          "output_type": "execute_result",
          "data": {
            "text/html": [
              "<div>\n",
              "<style scoped>\n",
              "    .dataframe tbody tr th:only-of-type {\n",
              "        vertical-align: middle;\n",
              "    }\n",
              "\n",
              "    .dataframe tbody tr th {\n",
              "        vertical-align: top;\n",
              "    }\n",
              "\n",
              "    .dataframe thead th {\n",
              "        text-align: right;\n",
              "    }\n",
              "</style>\n",
              "<table border=\"1\" class=\"dataframe\">\n",
              "  <thead>\n",
              "    <tr style=\"text-align: right;\">\n",
              "      <th></th>\n",
              "      <th>Pregnancies</th>\n",
              "      <th>Glucose</th>\n",
              "      <th>BloodPressure</th>\n",
              "      <th>SkinThickness</th>\n",
              "      <th>Insulin</th>\n",
              "      <th>BMI</th>\n",
              "      <th>DiabetesPedigreeFunction</th>\n",
              "      <th>Age</th>\n",
              "      <th>Outcome</th>\n",
              "    </tr>\n",
              "  </thead>\n",
              "  <tbody>\n",
              "    <tr>\n",
              "      <th>0</th>\n",
              "      <td>6.0</td>\n",
              "      <td>148.0</td>\n",
              "      <td>72.000000</td>\n",
              "      <td>35.0</td>\n",
              "      <td>219.028414</td>\n",
              "      <td>33.6</td>\n",
              "      <td>0.627</td>\n",
              "      <td>50.0</td>\n",
              "      <td>1</td>\n",
              "    </tr>\n",
              "    <tr>\n",
              "      <th>1</th>\n",
              "      <td>1.0</td>\n",
              "      <td>85.0</td>\n",
              "      <td>66.000000</td>\n",
              "      <td>29.0</td>\n",
              "      <td>70.341550</td>\n",
              "      <td>26.6</td>\n",
              "      <td>0.351</td>\n",
              "      <td>31.0</td>\n",
              "      <td>0</td>\n",
              "    </tr>\n",
              "    <tr>\n",
              "      <th>2</th>\n",
              "      <td>8.0</td>\n",
              "      <td>183.0</td>\n",
              "      <td>64.000000</td>\n",
              "      <td>32.0</td>\n",
              "      <td>270.573172</td>\n",
              "      <td>23.3</td>\n",
              "      <td>0.672</td>\n",
              "      <td>32.0</td>\n",
              "      <td>1</td>\n",
              "    </tr>\n",
              "    <tr>\n",
              "      <th>3</th>\n",
              "      <td>1.0</td>\n",
              "      <td>89.0</td>\n",
              "      <td>66.000000</td>\n",
              "      <td>23.0</td>\n",
              "      <td>94.000000</td>\n",
              "      <td>28.1</td>\n",
              "      <td>0.167</td>\n",
              "      <td>21.0</td>\n",
              "      <td>0</td>\n",
              "    </tr>\n",
              "    <tr>\n",
              "      <th>4</th>\n",
              "      <td>0.0</td>\n",
              "      <td>137.0</td>\n",
              "      <td>40.000000</td>\n",
              "      <td>35.0</td>\n",
              "      <td>168.000000</td>\n",
              "      <td>43.1</td>\n",
              "      <td>2.288</td>\n",
              "      <td>33.0</td>\n",
              "      <td>1</td>\n",
              "    </tr>\n",
              "    <tr>\n",
              "      <th>5</th>\n",
              "      <td>5.0</td>\n",
              "      <td>116.0</td>\n",
              "      <td>74.000000</td>\n",
              "      <td>32.0</td>\n",
              "      <td>127.840221</td>\n",
              "      <td>25.6</td>\n",
              "      <td>0.201</td>\n",
              "      <td>30.0</td>\n",
              "      <td>0</td>\n",
              "    </tr>\n",
              "    <tr>\n",
              "      <th>6</th>\n",
              "      <td>3.0</td>\n",
              "      <td>78.0</td>\n",
              "      <td>50.000000</td>\n",
              "      <td>32.0</td>\n",
              "      <td>88.000000</td>\n",
              "      <td>31.0</td>\n",
              "      <td>0.248</td>\n",
              "      <td>26.0</td>\n",
              "      <td>1</td>\n",
              "    </tr>\n",
              "    <tr>\n",
              "      <th>7</th>\n",
              "      <td>10.0</td>\n",
              "      <td>115.0</td>\n",
              "      <td>72.405184</td>\n",
              "      <td>32.0</td>\n",
              "      <td>136.570245</td>\n",
              "      <td>35.3</td>\n",
              "      <td>0.134</td>\n",
              "      <td>29.0</td>\n",
              "      <td>0</td>\n",
              "    </tr>\n",
              "    <tr>\n",
              "      <th>8</th>\n",
              "      <td>2.0</td>\n",
              "      <td>197.0</td>\n",
              "      <td>70.000000</td>\n",
              "      <td>45.0</td>\n",
              "      <td>543.000000</td>\n",
              "      <td>30.5</td>\n",
              "      <td>0.158</td>\n",
              "      <td>53.0</td>\n",
              "      <td>1</td>\n",
              "    </tr>\n",
              "    <tr>\n",
              "      <th>9</th>\n",
              "      <td>8.0</td>\n",
              "      <td>125.0</td>\n",
              "      <td>96.000000</td>\n",
              "      <td>32.0</td>\n",
              "      <td>155.571480</td>\n",
              "      <td>32.0</td>\n",
              "      <td>0.232</td>\n",
              "      <td>54.0</td>\n",
              "      <td>1</td>\n",
              "    </tr>\n",
              "  </tbody>\n",
              "</table>\n",
              "</div>"
            ],
            "text/plain": [
              "   Pregnancies  Glucose  BloodPressure  ...  DiabetesPedigreeFunction   Age  Outcome\n",
              "0          6.0    148.0      72.000000  ...                     0.627  50.0        1\n",
              "1          1.0     85.0      66.000000  ...                     0.351  31.0        0\n",
              "2          8.0    183.0      64.000000  ...                     0.672  32.0        1\n",
              "3          1.0     89.0      66.000000  ...                     0.167  21.0        0\n",
              "4          0.0    137.0      40.000000  ...                     2.288  33.0        1\n",
              "5          5.0    116.0      74.000000  ...                     0.201  30.0        0\n",
              "6          3.0     78.0      50.000000  ...                     0.248  26.0        1\n",
              "7         10.0    115.0      72.405184  ...                     0.134  29.0        0\n",
              "8          2.0    197.0      70.000000  ...                     0.158  53.0        1\n",
              "9          8.0    125.0      96.000000  ...                     0.232  54.0        1\n",
              "\n",
              "[10 rows x 9 columns]"
            ]
          },
          "metadata": {
            "tags": []
          },
          "execution_count": 132
        }
      ]
    },
    {
      "cell_type": "code",
      "metadata": {
        "colab": {
          "base_uri": "https://localhost:8080/",
          "height": 206
        },
        "id": "zMOZb_lKA8WK",
        "outputId": "1cc52caa-dfca-4bfb-fd21-5742ce51489a"
      },
      "source": [
        "diabetes_features = diabetes.drop('Outcome', axis=1)\n",
        "diabetes_label = diabetes[['Outcome']]\n",
        "\n",
        "diabetes_features.head()"
      ],
      "execution_count": 133,
      "outputs": [
        {
          "output_type": "execute_result",
          "data": {
            "text/html": [
              "<div>\n",
              "<style scoped>\n",
              "    .dataframe tbody tr th:only-of-type {\n",
              "        vertical-align: middle;\n",
              "    }\n",
              "\n",
              "    .dataframe tbody tr th {\n",
              "        vertical-align: top;\n",
              "    }\n",
              "\n",
              "    .dataframe thead th {\n",
              "        text-align: right;\n",
              "    }\n",
              "</style>\n",
              "<table border=\"1\" class=\"dataframe\">\n",
              "  <thead>\n",
              "    <tr style=\"text-align: right;\">\n",
              "      <th></th>\n",
              "      <th>Pregnancies</th>\n",
              "      <th>Glucose</th>\n",
              "      <th>BloodPressure</th>\n",
              "      <th>SkinThickness</th>\n",
              "      <th>Insulin</th>\n",
              "      <th>BMI</th>\n",
              "      <th>DiabetesPedigreeFunction</th>\n",
              "      <th>Age</th>\n",
              "    </tr>\n",
              "  </thead>\n",
              "  <tbody>\n",
              "    <tr>\n",
              "      <th>0</th>\n",
              "      <td>6.0</td>\n",
              "      <td>148.0</td>\n",
              "      <td>72.0</td>\n",
              "      <td>35.0</td>\n",
              "      <td>219.028414</td>\n",
              "      <td>33.6</td>\n",
              "      <td>0.627</td>\n",
              "      <td>50.0</td>\n",
              "    </tr>\n",
              "    <tr>\n",
              "      <th>1</th>\n",
              "      <td>1.0</td>\n",
              "      <td>85.0</td>\n",
              "      <td>66.0</td>\n",
              "      <td>29.0</td>\n",
              "      <td>70.341550</td>\n",
              "      <td>26.6</td>\n",
              "      <td>0.351</td>\n",
              "      <td>31.0</td>\n",
              "    </tr>\n",
              "    <tr>\n",
              "      <th>2</th>\n",
              "      <td>8.0</td>\n",
              "      <td>183.0</td>\n",
              "      <td>64.0</td>\n",
              "      <td>32.0</td>\n",
              "      <td>270.573172</td>\n",
              "      <td>23.3</td>\n",
              "      <td>0.672</td>\n",
              "      <td>32.0</td>\n",
              "    </tr>\n",
              "    <tr>\n",
              "      <th>3</th>\n",
              "      <td>1.0</td>\n",
              "      <td>89.0</td>\n",
              "      <td>66.0</td>\n",
              "      <td>23.0</td>\n",
              "      <td>94.000000</td>\n",
              "      <td>28.1</td>\n",
              "      <td>0.167</td>\n",
              "      <td>21.0</td>\n",
              "    </tr>\n",
              "    <tr>\n",
              "      <th>4</th>\n",
              "      <td>0.0</td>\n",
              "      <td>137.0</td>\n",
              "      <td>40.0</td>\n",
              "      <td>35.0</td>\n",
              "      <td>168.000000</td>\n",
              "      <td>43.1</td>\n",
              "      <td>2.288</td>\n",
              "      <td>33.0</td>\n",
              "    </tr>\n",
              "  </tbody>\n",
              "</table>\n",
              "</div>"
            ],
            "text/plain": [
              "   Pregnancies  Glucose  BloodPressure  ...   BMI  DiabetesPedigreeFunction   Age\n",
              "0          6.0    148.0           72.0  ...  33.6                     0.627  50.0\n",
              "1          1.0     85.0           66.0  ...  26.6                     0.351  31.0\n",
              "2          8.0    183.0           64.0  ...  23.3                     0.672  32.0\n",
              "3          1.0     89.0           66.0  ...  28.1                     0.167  21.0\n",
              "4          0.0    137.0           40.0  ...  43.1                     2.288  33.0\n",
              "\n",
              "[5 rows x 8 columns]"
            ]
          },
          "metadata": {
            "tags": []
          },
          "execution_count": 133
        }
      ]
    },
    {
      "cell_type": "code",
      "metadata": {
        "id": "esH9CNZ1BJLA"
      },
      "source": [
        "mask = np.random.randint(0, 100, size=diabetes_features.shape).astype(np.bool)\n",
        "\n",
        "mask = np.logical_not(mask)"
      ],
      "execution_count": 134,
      "outputs": []
    },
    {
      "cell_type": "code",
      "metadata": {
        "colab": {
          "base_uri": "https://localhost:8080/"
        },
        "id": "dg1NIm8DBZNT",
        "outputId": "fbb00dcc-c0e2-4f4f-836b-ea15b5dca0cd"
      },
      "source": [
        "mask"
      ],
      "execution_count": 135,
      "outputs": [
        {
          "output_type": "execute_result",
          "data": {
            "text/plain": [
              "array([[False, False, False, ..., False, False, False],\n",
              "       [False, False, False, ..., False, False, False],\n",
              "       [False, False, False, ..., False,  True, False],\n",
              "       ...,\n",
              "       [False, False, False, ..., False, False, False],\n",
              "       [False, False, False, ..., False, False, False],\n",
              "       [False, False, False, ..., False, False, False]])"
            ]
          },
          "metadata": {
            "tags": []
          },
          "execution_count": 135
        }
      ]
    },
    {
      "cell_type": "code",
      "metadata": {
        "colab": {
          "base_uri": "https://localhost:8080/",
          "height": 519
        },
        "id": "LBLaOmnrBZ5Y",
        "outputId": "0cee81eb-5a43-4db4-a187-0d32431d168c"
      },
      "source": [
        "diabetes_features[mask] = np.nan\n",
        "\n",
        "diabetes_features.sample(15)"
      ],
      "execution_count": 136,
      "outputs": [
        {
          "output_type": "execute_result",
          "data": {
            "text/html": [
              "<div>\n",
              "<style scoped>\n",
              "    .dataframe tbody tr th:only-of-type {\n",
              "        vertical-align: middle;\n",
              "    }\n",
              "\n",
              "    .dataframe tbody tr th {\n",
              "        vertical-align: top;\n",
              "    }\n",
              "\n",
              "    .dataframe thead th {\n",
              "        text-align: right;\n",
              "    }\n",
              "</style>\n",
              "<table border=\"1\" class=\"dataframe\">\n",
              "  <thead>\n",
              "    <tr style=\"text-align: right;\">\n",
              "      <th></th>\n",
              "      <th>Pregnancies</th>\n",
              "      <th>Glucose</th>\n",
              "      <th>BloodPressure</th>\n",
              "      <th>SkinThickness</th>\n",
              "      <th>Insulin</th>\n",
              "      <th>BMI</th>\n",
              "      <th>DiabetesPedigreeFunction</th>\n",
              "      <th>Age</th>\n",
              "    </tr>\n",
              "  </thead>\n",
              "  <tbody>\n",
              "    <tr>\n",
              "      <th>535</th>\n",
              "      <td>4.0</td>\n",
              "      <td>132.0</td>\n",
              "      <td>72.405184</td>\n",
              "      <td>32.0</td>\n",
              "      <td>170.416899</td>\n",
              "      <td>32.9</td>\n",
              "      <td>0.302</td>\n",
              "      <td>23.0</td>\n",
              "    </tr>\n",
              "    <tr>\n",
              "      <th>573</th>\n",
              "      <td>2.0</td>\n",
              "      <td>98.0</td>\n",
              "      <td>60.000000</td>\n",
              "      <td>17.0</td>\n",
              "      <td>120.000000</td>\n",
              "      <td>34.7</td>\n",
              "      <td>0.198</td>\n",
              "      <td>22.0</td>\n",
              "    </tr>\n",
              "    <tr>\n",
              "      <th>453</th>\n",
              "      <td>2.0</td>\n",
              "      <td>119.0</td>\n",
              "      <td>72.405184</td>\n",
              "      <td>32.0</td>\n",
              "      <td>150.462909</td>\n",
              "      <td>19.6</td>\n",
              "      <td>0.832</td>\n",
              "      <td>72.0</td>\n",
              "    </tr>\n",
              "    <tr>\n",
              "      <th>101</th>\n",
              "      <td>1.0</td>\n",
              "      <td>151.0</td>\n",
              "      <td>60.000000</td>\n",
              "      <td>32.0</td>\n",
              "      <td>208.691263</td>\n",
              "      <td>26.1</td>\n",
              "      <td>0.179</td>\n",
              "      <td>22.0</td>\n",
              "    </tr>\n",
              "    <tr>\n",
              "      <th>495</th>\n",
              "      <td>6.0</td>\n",
              "      <td>166.0</td>\n",
              "      <td>74.000000</td>\n",
              "      <td>32.0</td>\n",
              "      <td>253.534811</td>\n",
              "      <td>26.6</td>\n",
              "      <td>0.304</td>\n",
              "      <td>66.0</td>\n",
              "    </tr>\n",
              "    <tr>\n",
              "      <th>341</th>\n",
              "      <td>1.0</td>\n",
              "      <td>95.0</td>\n",
              "      <td>74.000000</td>\n",
              "      <td>21.0</td>\n",
              "      <td>73.000000</td>\n",
              "      <td>25.9</td>\n",
              "      <td>0.673</td>\n",
              "      <td>36.0</td>\n",
              "    </tr>\n",
              "    <tr>\n",
              "      <th>9</th>\n",
              "      <td>8.0</td>\n",
              "      <td>125.0</td>\n",
              "      <td>96.000000</td>\n",
              "      <td>32.0</td>\n",
              "      <td>155.571480</td>\n",
              "      <td>32.0</td>\n",
              "      <td>0.232</td>\n",
              "      <td>54.0</td>\n",
              "    </tr>\n",
              "    <tr>\n",
              "      <th>428</th>\n",
              "      <td>0.0</td>\n",
              "      <td>135.0</td>\n",
              "      <td>94.000000</td>\n",
              "      <td>46.0</td>\n",
              "      <td>145.000000</td>\n",
              "      <td>40.6</td>\n",
              "      <td>0.284</td>\n",
              "      <td>26.0</td>\n",
              "    </tr>\n",
              "    <tr>\n",
              "      <th>756</th>\n",
              "      <td>7.0</td>\n",
              "      <td>137.0</td>\n",
              "      <td>90.000000</td>\n",
              "      <td>41.0</td>\n",
              "      <td>179.156780</td>\n",
              "      <td>32.0</td>\n",
              "      <td>0.391</td>\n",
              "      <td>39.0</td>\n",
              "    </tr>\n",
              "    <tr>\n",
              "      <th>63</th>\n",
              "      <td>2.0</td>\n",
              "      <td>141.0</td>\n",
              "      <td>58.000000</td>\n",
              "      <td>34.0</td>\n",
              "      <td>128.000000</td>\n",
              "      <td>25.4</td>\n",
              "      <td>0.699</td>\n",
              "      <td>24.0</td>\n",
              "    </tr>\n",
              "    <tr>\n",
              "      <th>37</th>\n",
              "      <td>9.0</td>\n",
              "      <td>102.0</td>\n",
              "      <td>NaN</td>\n",
              "      <td>37.0</td>\n",
              "      <td>114.544544</td>\n",
              "      <td>32.9</td>\n",
              "      <td>0.665</td>\n",
              "      <td>46.0</td>\n",
              "    </tr>\n",
              "    <tr>\n",
              "      <th>344</th>\n",
              "      <td>8.0</td>\n",
              "      <td>95.0</td>\n",
              "      <td>72.000000</td>\n",
              "      <td>32.0</td>\n",
              "      <td>112.716921</td>\n",
              "      <td>36.8</td>\n",
              "      <td>0.485</td>\n",
              "      <td>57.0</td>\n",
              "    </tr>\n",
              "    <tr>\n",
              "      <th>11</th>\n",
              "      <td>10.0</td>\n",
              "      <td>168.0</td>\n",
              "      <td>74.000000</td>\n",
              "      <td>32.0</td>\n",
              "      <td>254.857463</td>\n",
              "      <td>38.0</td>\n",
              "      <td>0.537</td>\n",
              "      <td>34.0</td>\n",
              "    </tr>\n",
              "    <tr>\n",
              "      <th>284</th>\n",
              "      <td>2.0</td>\n",
              "      <td>108.0</td>\n",
              "      <td>80.000000</td>\n",
              "      <td>32.0</td>\n",
              "      <td>123.627167</td>\n",
              "      <td>27.0</td>\n",
              "      <td>0.259</td>\n",
              "      <td>52.0</td>\n",
              "    </tr>\n",
              "    <tr>\n",
              "      <th>577</th>\n",
              "      <td>2.0</td>\n",
              "      <td>118.0</td>\n",
              "      <td>80.000000</td>\n",
              "      <td>32.0</td>\n",
              "      <td>152.039308</td>\n",
              "      <td>42.9</td>\n",
              "      <td>0.693</td>\n",
              "      <td>21.0</td>\n",
              "    </tr>\n",
              "  </tbody>\n",
              "</table>\n",
              "</div>"
            ],
            "text/plain": [
              "     Pregnancies  Glucose  BloodPressure  ...   BMI  DiabetesPedigreeFunction   Age\n",
              "535          4.0    132.0      72.405184  ...  32.9                     0.302  23.0\n",
              "573          2.0     98.0      60.000000  ...  34.7                     0.198  22.0\n",
              "453          2.0    119.0      72.405184  ...  19.6                     0.832  72.0\n",
              "101          1.0    151.0      60.000000  ...  26.1                     0.179  22.0\n",
              "495          6.0    166.0      74.000000  ...  26.6                     0.304  66.0\n",
              "341          1.0     95.0      74.000000  ...  25.9                     0.673  36.0\n",
              "9            8.0    125.0      96.000000  ...  32.0                     0.232  54.0\n",
              "428          0.0    135.0      94.000000  ...  40.6                     0.284  26.0\n",
              "756          7.0    137.0      90.000000  ...  32.0                     0.391  39.0\n",
              "63           2.0    141.0      58.000000  ...  25.4                     0.699  24.0\n",
              "37           9.0    102.0            NaN  ...  32.9                     0.665  46.0\n",
              "344          8.0     95.0      72.000000  ...  36.8                     0.485  57.0\n",
              "11          10.0    168.0      74.000000  ...  38.0                     0.537  34.0\n",
              "284          2.0    108.0      80.000000  ...  27.0                     0.259  52.0\n",
              "577          2.0    118.0      80.000000  ...  42.9                     0.693  21.0\n",
              "\n",
              "[15 rows x 8 columns]"
            ]
          },
          "metadata": {
            "tags": []
          },
          "execution_count": 136
        }
      ]
    },
    {
      "cell_type": "code",
      "metadata": {
        "colab": {
          "base_uri": "https://localhost:8080/"
        },
        "id": "-oGQSyt9BtJK",
        "outputId": "c29bf996-ba09-481a-ac2d-6232ac3ce98d"
      },
      "source": [
        "diabetes_features.isnull().sum()"
      ],
      "execution_count": 137,
      "outputs": [
        {
          "output_type": "execute_result",
          "data": {
            "text/plain": [
              "Pregnancies                  9\n",
              "Glucose                     11\n",
              "BloodPressure               11\n",
              "SkinThickness               10\n",
              "Insulin                      8\n",
              "BMI                          8\n",
              "DiabetesPedigreeFunction    12\n",
              "Age                         14\n",
              "dtype: int64"
            ]
          },
          "metadata": {
            "tags": []
          },
          "execution_count": 137
        }
      ]
    },
    {
      "cell_type": "code",
      "metadata": {
        "id": "1SxE1NywBzbl"
      },
      "source": [
        "from sklearn.pipeline import make_pipeline\n",
        "from sklearn.compose import ColumnTransformer\n",
        "\n",
        "from sklearn.model_selection import train_test_split\n",
        "from sklearn.tree import DecisionTreeClassifier"
      ],
      "execution_count": 138,
      "outputs": []
    },
    {
      "cell_type": "code",
      "metadata": {
        "id": "lslfTuEbCG5a"
      },
      "source": [
        "x_train, x_test, y_train, y_test = train_test_split(diabetes_features, diabetes_label, test_size=0.2)"
      ],
      "execution_count": 139,
      "outputs": []
    },
    {
      "cell_type": "code",
      "metadata": {
        "id": "Fng3DgltCmbL"
      },
      "source": [
        "transformer = ColumnTransformer(\n",
        "    transformers=[('features', SimpleImputer(strategy='mean'), [0, 1, 2, 3, 4, 5, 6, 7])]\n",
        ")"
      ],
      "execution_count": 140,
      "outputs": []
    },
    {
      "cell_type": "code",
      "metadata": {
        "id": "_te8N-G_C5Yx"
      },
      "source": [
        "clf = make_pipeline(transformer, DecisionTreeClassifier(max_depth=4))"
      ],
      "execution_count": 141,
      "outputs": []
    },
    {
      "cell_type": "code",
      "metadata": {
        "colab": {
          "base_uri": "https://localhost:8080/"
        },
        "id": "c-xnxnVwDHhJ",
        "outputId": "d5ec103a-576f-4807-e147-b5a8666f3f20"
      },
      "source": [
        "clf = clf.fit(x_train, y_train)\n",
        "\n",
        "clf.score(x_train, y_train)"
      ],
      "execution_count": 142,
      "outputs": [
        {
          "output_type": "execute_result",
          "data": {
            "text/plain": [
              "0.8045602605863192"
            ]
          },
          "metadata": {
            "tags": []
          },
          "execution_count": 142
        }
      ]
    },
    {
      "cell_type": "code",
      "metadata": {
        "id": "ceQoTkr7DQZ4"
      },
      "source": [
        "y_pred = clf.predict(x_test)"
      ],
      "execution_count": 143,
      "outputs": []
    },
    {
      "cell_type": "code",
      "metadata": {
        "colab": {
          "base_uri": "https://localhost:8080/"
        },
        "id": "ddHvsGCZDXrY",
        "outputId": "94078323-84a5-41ab-a4da-25b84e3158b0"
      },
      "source": [
        "from sklearn.metrics import accuracy_score\n",
        "\n",
        "accuracy_score(y_pred, y_test)"
      ],
      "execution_count": 144,
      "outputs": [
        {
          "output_type": "execute_result",
          "data": {
            "text/plain": [
              "0.6948051948051948"
            ]
          },
          "metadata": {
            "tags": []
          },
          "execution_count": 144
        }
      ]
    },
    {
      "cell_type": "markdown",
      "metadata": {
        "id": "2kYFFxMBpP3Z"
      },
      "source": [
        "#Transforming Continuous and Categorical Data"
      ]
    },
    {
      "cell_type": "markdown",
      "metadata": {
        "id": "k7IFokGxpVnU"
      },
      "source": [
        "##Feature Scaling\n",
        "\n",
        "\n",
        "*   Scaling: Numeric values are shifted and rescaled so all features have the same scale. i.e. within the same minimum and maximum values\n",
        "*   Standardization: Centers data around the mean and divides each value by the standard deviation so all features have 0 mean and unit variance\n"
      ]
    },
    {
      "cell_type": "markdown",
      "metadata": {
        "id": "tnDIf_rVtNT6"
      },
      "source": [
        "##Feature Scaling and Transformation"
      ]
    },
    {
      "cell_type": "code",
      "metadata": {
        "id": "f6AZHDeFtQ_b"
      },
      "source": [
        "import pandas as pd\n",
        "import numpy as np\n",
        "import matplotlib.pyplot as plt\n",
        "import math"
      ],
      "execution_count": 145,
      "outputs": []
    },
    {
      "cell_type": "code",
      "metadata": {
        "id": "-TG1zXADtXHH"
      },
      "source": [
        "np.set_printoptions(precision=3)"
      ],
      "execution_count": 146,
      "outputs": []
    },
    {
      "cell_type": "code",
      "metadata": {
        "colab": {
          "base_uri": "https://localhost:8080/",
          "height": 363
        },
        "id": "AxmFY-MWtegD",
        "outputId": "2809b289-1be8-4116-f9cc-82eebc79534c"
      },
      "source": [
        "diabetes = pd.read_csv('diabetes_processed.csv')\n",
        "\n",
        "diabetes.head(10)"
      ],
      "execution_count": 147,
      "outputs": [
        {
          "output_type": "execute_result",
          "data": {
            "text/html": [
              "<div>\n",
              "<style scoped>\n",
              "    .dataframe tbody tr th:only-of-type {\n",
              "        vertical-align: middle;\n",
              "    }\n",
              "\n",
              "    .dataframe tbody tr th {\n",
              "        vertical-align: top;\n",
              "    }\n",
              "\n",
              "    .dataframe thead th {\n",
              "        text-align: right;\n",
              "    }\n",
              "</style>\n",
              "<table border=\"1\" class=\"dataframe\">\n",
              "  <thead>\n",
              "    <tr style=\"text-align: right;\">\n",
              "      <th></th>\n",
              "      <th>Pregnancies</th>\n",
              "      <th>Glucose</th>\n",
              "      <th>BloodPressure</th>\n",
              "      <th>SkinThickness</th>\n",
              "      <th>Insulin</th>\n",
              "      <th>BMI</th>\n",
              "      <th>DiabetesPedigreeFunction</th>\n",
              "      <th>Age</th>\n",
              "      <th>Outcome</th>\n",
              "    </tr>\n",
              "  </thead>\n",
              "  <tbody>\n",
              "    <tr>\n",
              "      <th>0</th>\n",
              "      <td>6.0</td>\n",
              "      <td>148.0</td>\n",
              "      <td>72.000000</td>\n",
              "      <td>35.0</td>\n",
              "      <td>219.028414</td>\n",
              "      <td>33.6</td>\n",
              "      <td>0.627</td>\n",
              "      <td>50.0</td>\n",
              "      <td>1</td>\n",
              "    </tr>\n",
              "    <tr>\n",
              "      <th>1</th>\n",
              "      <td>1.0</td>\n",
              "      <td>85.0</td>\n",
              "      <td>66.000000</td>\n",
              "      <td>29.0</td>\n",
              "      <td>70.341550</td>\n",
              "      <td>26.6</td>\n",
              "      <td>0.351</td>\n",
              "      <td>31.0</td>\n",
              "      <td>0</td>\n",
              "    </tr>\n",
              "    <tr>\n",
              "      <th>2</th>\n",
              "      <td>8.0</td>\n",
              "      <td>183.0</td>\n",
              "      <td>64.000000</td>\n",
              "      <td>32.0</td>\n",
              "      <td>270.573172</td>\n",
              "      <td>23.3</td>\n",
              "      <td>0.672</td>\n",
              "      <td>32.0</td>\n",
              "      <td>1</td>\n",
              "    </tr>\n",
              "    <tr>\n",
              "      <th>3</th>\n",
              "      <td>1.0</td>\n",
              "      <td>89.0</td>\n",
              "      <td>66.000000</td>\n",
              "      <td>23.0</td>\n",
              "      <td>94.000000</td>\n",
              "      <td>28.1</td>\n",
              "      <td>0.167</td>\n",
              "      <td>21.0</td>\n",
              "      <td>0</td>\n",
              "    </tr>\n",
              "    <tr>\n",
              "      <th>4</th>\n",
              "      <td>0.0</td>\n",
              "      <td>137.0</td>\n",
              "      <td>40.000000</td>\n",
              "      <td>35.0</td>\n",
              "      <td>168.000000</td>\n",
              "      <td>43.1</td>\n",
              "      <td>2.288</td>\n",
              "      <td>33.0</td>\n",
              "      <td>1</td>\n",
              "    </tr>\n",
              "    <tr>\n",
              "      <th>5</th>\n",
              "      <td>5.0</td>\n",
              "      <td>116.0</td>\n",
              "      <td>74.000000</td>\n",
              "      <td>32.0</td>\n",
              "      <td>127.840221</td>\n",
              "      <td>25.6</td>\n",
              "      <td>0.201</td>\n",
              "      <td>30.0</td>\n",
              "      <td>0</td>\n",
              "    </tr>\n",
              "    <tr>\n",
              "      <th>6</th>\n",
              "      <td>3.0</td>\n",
              "      <td>78.0</td>\n",
              "      <td>50.000000</td>\n",
              "      <td>32.0</td>\n",
              "      <td>88.000000</td>\n",
              "      <td>31.0</td>\n",
              "      <td>0.248</td>\n",
              "      <td>26.0</td>\n",
              "      <td>1</td>\n",
              "    </tr>\n",
              "    <tr>\n",
              "      <th>7</th>\n",
              "      <td>10.0</td>\n",
              "      <td>115.0</td>\n",
              "      <td>72.405184</td>\n",
              "      <td>32.0</td>\n",
              "      <td>136.570245</td>\n",
              "      <td>35.3</td>\n",
              "      <td>0.134</td>\n",
              "      <td>29.0</td>\n",
              "      <td>0</td>\n",
              "    </tr>\n",
              "    <tr>\n",
              "      <th>8</th>\n",
              "      <td>2.0</td>\n",
              "      <td>197.0</td>\n",
              "      <td>70.000000</td>\n",
              "      <td>45.0</td>\n",
              "      <td>543.000000</td>\n",
              "      <td>30.5</td>\n",
              "      <td>0.158</td>\n",
              "      <td>53.0</td>\n",
              "      <td>1</td>\n",
              "    </tr>\n",
              "    <tr>\n",
              "      <th>9</th>\n",
              "      <td>8.0</td>\n",
              "      <td>125.0</td>\n",
              "      <td>96.000000</td>\n",
              "      <td>32.0</td>\n",
              "      <td>155.571480</td>\n",
              "      <td>32.0</td>\n",
              "      <td>0.232</td>\n",
              "      <td>54.0</td>\n",
              "      <td>1</td>\n",
              "    </tr>\n",
              "  </tbody>\n",
              "</table>\n",
              "</div>"
            ],
            "text/plain": [
              "   Pregnancies  Glucose  BloodPressure  ...  DiabetesPedigreeFunction   Age  Outcome\n",
              "0          6.0    148.0      72.000000  ...                     0.627  50.0        1\n",
              "1          1.0     85.0      66.000000  ...                     0.351  31.0        0\n",
              "2          8.0    183.0      64.000000  ...                     0.672  32.0        1\n",
              "3          1.0     89.0      66.000000  ...                     0.167  21.0        0\n",
              "4          0.0    137.0      40.000000  ...                     2.288  33.0        1\n",
              "5          5.0    116.0      74.000000  ...                     0.201  30.0        0\n",
              "6          3.0     78.0      50.000000  ...                     0.248  26.0        1\n",
              "7         10.0    115.0      72.405184  ...                     0.134  29.0        0\n",
              "8          2.0    197.0      70.000000  ...                     0.158  53.0        1\n",
              "9          8.0    125.0      96.000000  ...                     0.232  54.0        1\n",
              "\n",
              "[10 rows x 9 columns]"
            ]
          },
          "metadata": {
            "tags": []
          },
          "execution_count": 147
        }
      ]
    },
    {
      "cell_type": "code",
      "metadata": {
        "colab": {
          "base_uri": "https://localhost:8080/",
          "height": 206
        },
        "id": "EgaMtZKStnAP",
        "outputId": "2049239b-9a4e-40a3-9780-b31e460ed94c"
      },
      "source": [
        "features_df = diabetes.drop('Outcome', axis=1)\n",
        "target_df = diabetes['Outcome']\n",
        "\n",
        "features_df.head()"
      ],
      "execution_count": 148,
      "outputs": [
        {
          "output_type": "execute_result",
          "data": {
            "text/html": [
              "<div>\n",
              "<style scoped>\n",
              "    .dataframe tbody tr th:only-of-type {\n",
              "        vertical-align: middle;\n",
              "    }\n",
              "\n",
              "    .dataframe tbody tr th {\n",
              "        vertical-align: top;\n",
              "    }\n",
              "\n",
              "    .dataframe thead th {\n",
              "        text-align: right;\n",
              "    }\n",
              "</style>\n",
              "<table border=\"1\" class=\"dataframe\">\n",
              "  <thead>\n",
              "    <tr style=\"text-align: right;\">\n",
              "      <th></th>\n",
              "      <th>Pregnancies</th>\n",
              "      <th>Glucose</th>\n",
              "      <th>BloodPressure</th>\n",
              "      <th>SkinThickness</th>\n",
              "      <th>Insulin</th>\n",
              "      <th>BMI</th>\n",
              "      <th>DiabetesPedigreeFunction</th>\n",
              "      <th>Age</th>\n",
              "    </tr>\n",
              "  </thead>\n",
              "  <tbody>\n",
              "    <tr>\n",
              "      <th>0</th>\n",
              "      <td>6.0</td>\n",
              "      <td>148.0</td>\n",
              "      <td>72.0</td>\n",
              "      <td>35.0</td>\n",
              "      <td>219.028414</td>\n",
              "      <td>33.6</td>\n",
              "      <td>0.627</td>\n",
              "      <td>50.0</td>\n",
              "    </tr>\n",
              "    <tr>\n",
              "      <th>1</th>\n",
              "      <td>1.0</td>\n",
              "      <td>85.0</td>\n",
              "      <td>66.0</td>\n",
              "      <td>29.0</td>\n",
              "      <td>70.341550</td>\n",
              "      <td>26.6</td>\n",
              "      <td>0.351</td>\n",
              "      <td>31.0</td>\n",
              "    </tr>\n",
              "    <tr>\n",
              "      <th>2</th>\n",
              "      <td>8.0</td>\n",
              "      <td>183.0</td>\n",
              "      <td>64.0</td>\n",
              "      <td>32.0</td>\n",
              "      <td>270.573172</td>\n",
              "      <td>23.3</td>\n",
              "      <td>0.672</td>\n",
              "      <td>32.0</td>\n",
              "    </tr>\n",
              "    <tr>\n",
              "      <th>3</th>\n",
              "      <td>1.0</td>\n",
              "      <td>89.0</td>\n",
              "      <td>66.0</td>\n",
              "      <td>23.0</td>\n",
              "      <td>94.000000</td>\n",
              "      <td>28.1</td>\n",
              "      <td>0.167</td>\n",
              "      <td>21.0</td>\n",
              "    </tr>\n",
              "    <tr>\n",
              "      <th>4</th>\n",
              "      <td>0.0</td>\n",
              "      <td>137.0</td>\n",
              "      <td>40.0</td>\n",
              "      <td>35.0</td>\n",
              "      <td>168.000000</td>\n",
              "      <td>43.1</td>\n",
              "      <td>2.288</td>\n",
              "      <td>33.0</td>\n",
              "    </tr>\n",
              "  </tbody>\n",
              "</table>\n",
              "</div>"
            ],
            "text/plain": [
              "   Pregnancies  Glucose  BloodPressure  ...   BMI  DiabetesPedigreeFunction   Age\n",
              "0          6.0    148.0           72.0  ...  33.6                     0.627  50.0\n",
              "1          1.0     85.0           66.0  ...  26.6                     0.351  31.0\n",
              "2          8.0    183.0           64.0  ...  23.3                     0.672  32.0\n",
              "3          1.0     89.0           66.0  ...  28.1                     0.167  21.0\n",
              "4          0.0    137.0           40.0  ...  43.1                     2.288  33.0\n",
              "\n",
              "[5 rows x 8 columns]"
            ]
          },
          "metadata": {
            "tags": []
          },
          "execution_count": 148
        }
      ]
    },
    {
      "cell_type": "code",
      "metadata": {
        "colab": {
          "base_uri": "https://localhost:8080/"
        },
        "id": "7a8YIvGOt3hf",
        "outputId": "274bf139-6b2e-43ca-e358-9d78b15aca0f"
      },
      "source": [
        "features_df.shape"
      ],
      "execution_count": 149,
      "outputs": [
        {
          "output_type": "execute_result",
          "data": {
            "text/plain": [
              "(768, 8)"
            ]
          },
          "metadata": {
            "tags": []
          },
          "execution_count": 149
        }
      ]
    },
    {
      "cell_type": "code",
      "metadata": {
        "colab": {
          "base_uri": "https://localhost:8080/",
          "height": 300
        },
        "id": "27KNfJ-FuFNJ",
        "outputId": "9af6ed7c-9ec1-46dd-e8aa-699ad5b30ab3"
      },
      "source": [
        "features_df.describe()"
      ],
      "execution_count": 150,
      "outputs": [
        {
          "output_type": "execute_result",
          "data": {
            "text/html": [
              "<div>\n",
              "<style scoped>\n",
              "    .dataframe tbody tr th:only-of-type {\n",
              "        vertical-align: middle;\n",
              "    }\n",
              "\n",
              "    .dataframe tbody tr th {\n",
              "        vertical-align: top;\n",
              "    }\n",
              "\n",
              "    .dataframe thead th {\n",
              "        text-align: right;\n",
              "    }\n",
              "</style>\n",
              "<table border=\"1\" class=\"dataframe\">\n",
              "  <thead>\n",
              "    <tr style=\"text-align: right;\">\n",
              "      <th></th>\n",
              "      <th>Pregnancies</th>\n",
              "      <th>Glucose</th>\n",
              "      <th>BloodPressure</th>\n",
              "      <th>SkinThickness</th>\n",
              "      <th>Insulin</th>\n",
              "      <th>BMI</th>\n",
              "      <th>DiabetesPedigreeFunction</th>\n",
              "      <th>Age</th>\n",
              "    </tr>\n",
              "  </thead>\n",
              "  <tbody>\n",
              "    <tr>\n",
              "      <th>count</th>\n",
              "      <td>768.000000</td>\n",
              "      <td>768.000000</td>\n",
              "      <td>768.000000</td>\n",
              "      <td>768.000000</td>\n",
              "      <td>768.000000</td>\n",
              "      <td>768.000000</td>\n",
              "      <td>768.000000</td>\n",
              "      <td>768.000000</td>\n",
              "    </tr>\n",
              "    <tr>\n",
              "      <th>mean</th>\n",
              "      <td>3.845052</td>\n",
              "      <td>121.656250</td>\n",
              "      <td>72.405184</td>\n",
              "      <td>29.994792</td>\n",
              "      <td>152.815064</td>\n",
              "      <td>32.450911</td>\n",
              "      <td>0.471876</td>\n",
              "      <td>33.240885</td>\n",
              "    </tr>\n",
              "    <tr>\n",
              "      <th>std</th>\n",
              "      <td>3.369578</td>\n",
              "      <td>30.438286</td>\n",
              "      <td>12.096346</td>\n",
              "      <td>8.886506</td>\n",
              "      <td>97.206638</td>\n",
              "      <td>6.875366</td>\n",
              "      <td>0.331329</td>\n",
              "      <td>11.760232</td>\n",
              "    </tr>\n",
              "    <tr>\n",
              "      <th>min</th>\n",
              "      <td>0.000000</td>\n",
              "      <td>44.000000</td>\n",
              "      <td>24.000000</td>\n",
              "      <td>7.000000</td>\n",
              "      <td>-16.568152</td>\n",
              "      <td>18.200000</td>\n",
              "      <td>0.078000</td>\n",
              "      <td>21.000000</td>\n",
              "    </tr>\n",
              "    <tr>\n",
              "      <th>25%</th>\n",
              "      <td>1.000000</td>\n",
              "      <td>99.750000</td>\n",
              "      <td>64.000000</td>\n",
              "      <td>25.000000</td>\n",
              "      <td>89.976015</td>\n",
              "      <td>27.500000</td>\n",
              "      <td>0.243750</td>\n",
              "      <td>24.000000</td>\n",
              "    </tr>\n",
              "    <tr>\n",
              "      <th>50%</th>\n",
              "      <td>3.000000</td>\n",
              "      <td>117.000000</td>\n",
              "      <td>72.202592</td>\n",
              "      <td>32.000000</td>\n",
              "      <td>131.100779</td>\n",
              "      <td>32.000000</td>\n",
              "      <td>0.372500</td>\n",
              "      <td>29.000000</td>\n",
              "    </tr>\n",
              "    <tr>\n",
              "      <th>75%</th>\n",
              "      <td>6.000000</td>\n",
              "      <td>140.250000</td>\n",
              "      <td>80.000000</td>\n",
              "      <td>32.000000</td>\n",
              "      <td>189.857469</td>\n",
              "      <td>36.600000</td>\n",
              "      <td>0.626250</td>\n",
              "      <td>41.000000</td>\n",
              "    </tr>\n",
              "    <tr>\n",
              "      <th>max</th>\n",
              "      <td>17.000000</td>\n",
              "      <td>199.000000</td>\n",
              "      <td>122.000000</td>\n",
              "      <td>99.000000</td>\n",
              "      <td>846.000000</td>\n",
              "      <td>67.100000</td>\n",
              "      <td>2.420000</td>\n",
              "      <td>81.000000</td>\n",
              "    </tr>\n",
              "  </tbody>\n",
              "</table>\n",
              "</div>"
            ],
            "text/plain": [
              "       Pregnancies     Glucose  ...  DiabetesPedigreeFunction         Age\n",
              "count   768.000000  768.000000  ...                768.000000  768.000000\n",
              "mean      3.845052  121.656250  ...                  0.471876   33.240885\n",
              "std       3.369578   30.438286  ...                  0.331329   11.760232\n",
              "min       0.000000   44.000000  ...                  0.078000   21.000000\n",
              "25%       1.000000   99.750000  ...                  0.243750   24.000000\n",
              "50%       3.000000  117.000000  ...                  0.372500   29.000000\n",
              "75%       6.000000  140.250000  ...                  0.626250   41.000000\n",
              "max      17.000000  199.000000  ...                  2.420000   81.000000\n",
              "\n",
              "[8 rows x 8 columns]"
            ]
          },
          "metadata": {
            "tags": []
          },
          "execution_count": 150
        }
      ]
    },
    {
      "cell_type": "code",
      "metadata": {
        "id": "cGGcQ6mouIfx"
      },
      "source": [
        "from sklearn.preprocessing import MinMaxScaler"
      ],
      "execution_count": 151,
      "outputs": []
    },
    {
      "cell_type": "code",
      "metadata": {
        "id": "h5jWgM-euQWs"
      },
      "source": [
        "scaler = MinMaxScaler(feature_range=(0, 1))\n",
        "rescaled_features = scaler.fit_transform(features_df)"
      ],
      "execution_count": 152,
      "outputs": []
    },
    {
      "cell_type": "code",
      "metadata": {
        "colab": {
          "base_uri": "https://localhost:8080/"
        },
        "id": "H6wot5ZswYfo",
        "outputId": "36fceb57-b575-4489-caeb-d636ec2a064a"
      },
      "source": [
        "rescaled_features.shape"
      ],
      "execution_count": 153,
      "outputs": [
        {
          "output_type": "execute_result",
          "data": {
            "text/plain": [
              "(768, 8)"
            ]
          },
          "metadata": {
            "tags": []
          },
          "execution_count": 153
        }
      ]
    },
    {
      "cell_type": "code",
      "metadata": {
        "colab": {
          "base_uri": "https://localhost:8080/"
        },
        "id": "dsuk03ihwaow",
        "outputId": "0f036f8d-33af-4ce8-e7aa-a37c3904f85a"
      },
      "source": [
        "rescaled_features[1:5]"
      ],
      "execution_count": 154,
      "outputs": [
        {
          "output_type": "execute_result",
          "data": {
            "text/plain": [
              "array([[0.059, 0.265, 0.429, 0.239, 0.101, 0.172, 0.117, 0.167],\n",
              "       [0.471, 0.897, 0.408, 0.272, 0.333, 0.104, 0.254, 0.183],\n",
              "       [0.059, 0.29 , 0.429, 0.174, 0.128, 0.202, 0.038, 0.   ],\n",
              "       [0.   , 0.6  , 0.163, 0.304, 0.214, 0.509, 0.944, 0.2  ]])"
            ]
          },
          "metadata": {
            "tags": []
          },
          "execution_count": 154
        }
      ]
    },
    {
      "cell_type": "code",
      "metadata": {
        "colab": {
          "base_uri": "https://localhost:8080/",
          "height": 300
        },
        "id": "iSV3lLfmwmcw",
        "outputId": "070bd6bf-25c5-4529-a9b8-2de3d71fa63f"
      },
      "source": [
        "rescaled_features_df = pd.DataFrame(rescaled_features, columns=features_df.columns)\n",
        "\n",
        "rescaled_features_df.describe()"
      ],
      "execution_count": 155,
      "outputs": [
        {
          "output_type": "execute_result",
          "data": {
            "text/html": [
              "<div>\n",
              "<style scoped>\n",
              "    .dataframe tbody tr th:only-of-type {\n",
              "        vertical-align: middle;\n",
              "    }\n",
              "\n",
              "    .dataframe tbody tr th {\n",
              "        vertical-align: top;\n",
              "    }\n",
              "\n",
              "    .dataframe thead th {\n",
              "        text-align: right;\n",
              "    }\n",
              "</style>\n",
              "<table border=\"1\" class=\"dataframe\">\n",
              "  <thead>\n",
              "    <tr style=\"text-align: right;\">\n",
              "      <th></th>\n",
              "      <th>Pregnancies</th>\n",
              "      <th>Glucose</th>\n",
              "      <th>BloodPressure</th>\n",
              "      <th>SkinThickness</th>\n",
              "      <th>Insulin</th>\n",
              "      <th>BMI</th>\n",
              "      <th>DiabetesPedigreeFunction</th>\n",
              "      <th>Age</th>\n",
              "    </tr>\n",
              "  </thead>\n",
              "  <tbody>\n",
              "    <tr>\n",
              "      <th>count</th>\n",
              "      <td>768.000000</td>\n",
              "      <td>768.000000</td>\n",
              "      <td>768.000000</td>\n",
              "      <td>768.000000</td>\n",
              "      <td>768.000000</td>\n",
              "      <td>768.000000</td>\n",
              "      <td>768.000000</td>\n",
              "      <td>768.000000</td>\n",
              "    </tr>\n",
              "    <tr>\n",
              "      <th>mean</th>\n",
              "      <td>0.226180</td>\n",
              "      <td>0.501008</td>\n",
              "      <td>0.493930</td>\n",
              "      <td>0.249943</td>\n",
              "      <td>0.196371</td>\n",
              "      <td>0.291430</td>\n",
              "      <td>0.168179</td>\n",
              "      <td>0.204015</td>\n",
              "    </tr>\n",
              "    <tr>\n",
              "      <th>std</th>\n",
              "      <td>0.198210</td>\n",
              "      <td>0.196376</td>\n",
              "      <td>0.123432</td>\n",
              "      <td>0.096592</td>\n",
              "      <td>0.112694</td>\n",
              "      <td>0.140601</td>\n",
              "      <td>0.141473</td>\n",
              "      <td>0.196004</td>\n",
              "    </tr>\n",
              "    <tr>\n",
              "      <th>min</th>\n",
              "      <td>0.000000</td>\n",
              "      <td>0.000000</td>\n",
              "      <td>0.000000</td>\n",
              "      <td>0.000000</td>\n",
              "      <td>0.000000</td>\n",
              "      <td>0.000000</td>\n",
              "      <td>0.000000</td>\n",
              "      <td>0.000000</td>\n",
              "    </tr>\n",
              "    <tr>\n",
              "      <th>25%</th>\n",
              "      <td>0.058824</td>\n",
              "      <td>0.359677</td>\n",
              "      <td>0.408163</td>\n",
              "      <td>0.195652</td>\n",
              "      <td>0.123520</td>\n",
              "      <td>0.190184</td>\n",
              "      <td>0.070773</td>\n",
              "      <td>0.050000</td>\n",
              "    </tr>\n",
              "    <tr>\n",
              "      <th>50%</th>\n",
              "      <td>0.176471</td>\n",
              "      <td>0.470968</td>\n",
              "      <td>0.491863</td>\n",
              "      <td>0.271739</td>\n",
              "      <td>0.171197</td>\n",
              "      <td>0.282209</td>\n",
              "      <td>0.125747</td>\n",
              "      <td>0.133333</td>\n",
              "    </tr>\n",
              "    <tr>\n",
              "      <th>75%</th>\n",
              "      <td>0.352941</td>\n",
              "      <td>0.620968</td>\n",
              "      <td>0.571429</td>\n",
              "      <td>0.271739</td>\n",
              "      <td>0.239315</td>\n",
              "      <td>0.376278</td>\n",
              "      <td>0.234095</td>\n",
              "      <td>0.333333</td>\n",
              "    </tr>\n",
              "    <tr>\n",
              "      <th>max</th>\n",
              "      <td>1.000000</td>\n",
              "      <td>1.000000</td>\n",
              "      <td>1.000000</td>\n",
              "      <td>1.000000</td>\n",
              "      <td>1.000000</td>\n",
              "      <td>1.000000</td>\n",
              "      <td>1.000000</td>\n",
              "      <td>1.000000</td>\n",
              "    </tr>\n",
              "  </tbody>\n",
              "</table>\n",
              "</div>"
            ],
            "text/plain": [
              "       Pregnancies     Glucose  ...  DiabetesPedigreeFunction         Age\n",
              "count   768.000000  768.000000  ...                768.000000  768.000000\n",
              "mean      0.226180    0.501008  ...                  0.168179    0.204015\n",
              "std       0.198210    0.196376  ...                  0.141473    0.196004\n",
              "min       0.000000    0.000000  ...                  0.000000    0.000000\n",
              "25%       0.058824    0.359677  ...                  0.070773    0.050000\n",
              "50%       0.176471    0.470968  ...                  0.125747    0.133333\n",
              "75%       0.352941    0.620968  ...                  0.234095    0.333333\n",
              "max       1.000000    1.000000  ...                  1.000000    1.000000\n",
              "\n",
              "[8 rows x 8 columns]"
            ]
          },
          "metadata": {
            "tags": []
          },
          "execution_count": 155
        }
      ]
    },
    {
      "cell_type": "code",
      "metadata": {
        "colab": {
          "base_uri": "https://localhost:8080/",
          "height": 518
        },
        "id": "7m6SRCIPw08x",
        "outputId": "3648ded4-c6f4-4b2a-bcb2-f1593f0137bf"
      },
      "source": [
        "rescaled_features_df.boxplot(figsize=(10, 7), rot=45)\n",
        "\n",
        "plt.show()"
      ],
      "execution_count": 156,
      "outputs": [
        {
          "output_type": "display_data",
          "data": {
            "image/png": "[encoded data removed]",
            "text/plain": [
              "<Figure size 720x504 with 1 Axes>"
            ]
          },
          "metadata": {
            "tags": [],
            "needs_background": "light"
          }
        }
      ]
    },
    {
      "cell_type": "code",
      "metadata": {
        "id": "dkrOBRm7xD42"
      },
      "source": [
        "from sklearn.preprocessing import StandardScaler"
      ],
      "execution_count": 157,
      "outputs": []
    },
    {
      "cell_type": "code",
      "metadata": {
        "id": "M4PekhCq0abU"
      },
      "source": [
        "scaler = StandardScaler()\n",
        "\n",
        "scaler = scaler.fit(features_df)\n",
        "\n",
        "standardized_features = scaler.transform(features_df)"
      ],
      "execution_count": 158,
      "outputs": []
    },
    {
      "cell_type": "code",
      "metadata": {
        "colab": {
          "base_uri": "https://localhost:8080/"
        },
        "id": "madB0I4r0lEO",
        "outputId": "fd44945c-5ad0-46d9-b22e-4d28d7e9c7ef"
      },
      "source": [
        "type(standardized_features)"
      ],
      "execution_count": 159,
      "outputs": [
        {
          "output_type": "execute_result",
          "data": {
            "text/plain": [
              "numpy.ndarray"
            ]
          },
          "metadata": {
            "tags": []
          },
          "execution_count": 159
        }
      ]
    },
    {
      "cell_type": "code",
      "metadata": {
        "colab": {
          "base_uri": "https://localhost:8080/"
        },
        "id": "Emk99jgJ0n8x",
        "outputId": "befd308c-d2e9-4e0f-9280-aae387bd3faf"
      },
      "source": [
        "standardized_features.shape"
      ],
      "execution_count": 160,
      "outputs": [
        {
          "output_type": "execute_result",
          "data": {
            "text/plain": [
              "(768, 8)"
            ]
          },
          "metadata": {
            "tags": []
          },
          "execution_count": 160
        }
      ]
    },
    {
      "cell_type": "code",
      "metadata": {
        "colab": {
          "base_uri": "https://localhost:8080/"
        },
        "id": "SL0lg7mk00bu",
        "outputId": "f19e9cb2-ec8f-4d49-c0cb-74b6f2207964"
      },
      "source": [
        "standardized_features[0:5]"
      ],
      "execution_count": 161,
      "outputs": [
        {
          "output_type": "execute_result",
          "data": {
            "text/plain": [
              "array([[ 0.64 ,  0.866, -0.034,  0.564,  0.682,  0.167,  0.468,  1.426],\n",
              "       [-0.845, -1.205, -0.53 , -0.112, -0.849, -0.852, -0.365, -0.191],\n",
              "       [ 1.234,  2.017, -0.695,  0.226,  1.212, -1.332,  0.604, -0.106],\n",
              "       [-0.845, -1.074, -0.53 , -0.788, -0.605, -0.633, -0.921, -1.042],\n",
              "       [-1.142,  0.504, -2.681,  0.564,  0.156,  1.55 ,  5.485, -0.02 ]])"
            ]
          },
          "metadata": {
            "tags": []
          },
          "execution_count": 161
        }
      ]
    },
    {
      "cell_type": "code",
      "metadata": {
        "colab": {
          "base_uri": "https://localhost:8080/",
          "height": 300
        },
        "id": "DYd9mSiZ0qph",
        "outputId": "673df61c-4d52-4321-f7b1-506e05f916cc"
      },
      "source": [
        "standardized_features_df = pd.DataFrame(standardized_features, columns=features_df.columns)\n",
        "\n",
        "standardized_features_df.describe()"
      ],
      "execution_count": 162,
      "outputs": [
        {
          "output_type": "execute_result",
          "data": {
            "text/html": [
              "<div>\n",
              "<style scoped>\n",
              "    .dataframe tbody tr th:only-of-type {\n",
              "        vertical-align: middle;\n",
              "    }\n",
              "\n",
              "    .dataframe tbody tr th {\n",
              "        vertical-align: top;\n",
              "    }\n",
              "\n",
              "    .dataframe thead th {\n",
              "        text-align: right;\n",
              "    }\n",
              "</style>\n",
              "<table border=\"1\" class=\"dataframe\">\n",
              "  <thead>\n",
              "    <tr style=\"text-align: right;\">\n",
              "      <th></th>\n",
              "      <th>Pregnancies</th>\n",
              "      <th>Glucose</th>\n",
              "      <th>BloodPressure</th>\n",
              "      <th>SkinThickness</th>\n",
              "      <th>Insulin</th>\n",
              "      <th>BMI</th>\n",
              "      <th>DiabetesPedigreeFunction</th>\n",
              "      <th>Age</th>\n",
              "    </tr>\n",
              "  </thead>\n",
              "  <tbody>\n",
              "    <tr>\n",
              "      <th>count</th>\n",
              "      <td>7.680000e+02</td>\n",
              "      <td>7.680000e+02</td>\n",
              "      <td>7.680000e+02</td>\n",
              "      <td>7.680000e+02</td>\n",
              "      <td>7.680000e+02</td>\n",
              "      <td>7.680000e+02</td>\n",
              "      <td>7.680000e+02</td>\n",
              "      <td>7.680000e+02</td>\n",
              "    </tr>\n",
              "    <tr>\n",
              "      <th>mean</th>\n",
              "      <td>2.544261e-17</td>\n",
              "      <td>7.661695e-18</td>\n",
              "      <td>-4.474864e-16</td>\n",
              "      <td>3.850725e-17</td>\n",
              "      <td>-3.048777e-16</td>\n",
              "      <td>4.803738e-16</td>\n",
              "      <td>2.491497e-16</td>\n",
              "      <td>1.857600e-16</td>\n",
              "    </tr>\n",
              "    <tr>\n",
              "      <th>std</th>\n",
              "      <td>1.000652e+00</td>\n",
              "      <td>1.000652e+00</td>\n",
              "      <td>1.000652e+00</td>\n",
              "      <td>1.000652e+00</td>\n",
              "      <td>1.000652e+00</td>\n",
              "      <td>1.000652e+00</td>\n",
              "      <td>1.000652e+00</td>\n",
              "      <td>1.000652e+00</td>\n",
              "    </tr>\n",
              "    <tr>\n",
              "      <th>min</th>\n",
              "      <td>-1.141852e+00</td>\n",
              "      <td>-2.552931e+00</td>\n",
              "      <td>-4.004245e+00</td>\n",
              "      <td>-2.589294e+00</td>\n",
              "      <td>-1.743642e+00</td>\n",
              "      <td>-2.074100e+00</td>\n",
              "      <td>-1.189553e+00</td>\n",
              "      <td>-1.041549e+00</td>\n",
              "    </tr>\n",
              "    <tr>\n",
              "      <th>25%</th>\n",
              "      <td>-8.448851e-01</td>\n",
              "      <td>-7.201630e-01</td>\n",
              "      <td>-6.953060e-01</td>\n",
              "      <td>-5.624310e-01</td>\n",
              "      <td>-6.468694e-01</td>\n",
              "      <td>-7.205635e-01</td>\n",
              "      <td>-6.889685e-01</td>\n",
              "      <td>-7.862862e-01</td>\n",
              "    </tr>\n",
              "    <tr>\n",
              "      <th>50%</th>\n",
              "      <td>-2.509521e-01</td>\n",
              "      <td>-1.530732e-01</td>\n",
              "      <td>-1.675912e-02</td>\n",
              "      <td>2.257935e-01</td>\n",
              "      <td>-2.235283e-01</td>\n",
              "      <td>-6.562636e-02</td>\n",
              "      <td>-3.001282e-01</td>\n",
              "      <td>-3.608474e-01</td>\n",
              "    </tr>\n",
              "    <tr>\n",
              "      <th>75%</th>\n",
              "      <td>6.399473e-01</td>\n",
              "      <td>6.112653e-01</td>\n",
              "      <td>6.282695e-01</td>\n",
              "      <td>2.257935e-01</td>\n",
              "      <td>3.813170e-01</td>\n",
              "      <td>6.038649e-01</td>\n",
              "      <td>4.662269e-01</td>\n",
              "      <td>6.602056e-01</td>\n",
              "    </tr>\n",
              "    <tr>\n",
              "      <th>max</th>\n",
              "      <td>3.906578e+00</td>\n",
              "      <td>2.542658e+00</td>\n",
              "      <td>4.102655e+00</td>\n",
              "      <td>7.770228e+00</td>\n",
              "      <td>7.135692e+00</td>\n",
              "      <td>5.042883e+00</td>\n",
              "      <td>5.883565e+00</td>\n",
              "      <td>4.063716e+00</td>\n",
              "    </tr>\n",
              "  </tbody>\n",
              "</table>\n",
              "</div>"
            ],
            "text/plain": [
              "        Pregnancies       Glucose  ...  DiabetesPedigreeFunction           Age\n",
              "count  7.680000e+02  7.680000e+02  ...              7.680000e+02  7.680000e+02\n",
              "mean   2.544261e-17  7.661695e-18  ...              2.491497e-16  1.857600e-16\n",
              "std    1.000652e+00  1.000652e+00  ...              1.000652e+00  1.000652e+00\n",
              "min   -1.141852e+00 -2.552931e+00  ...             -1.189553e+00 -1.041549e+00\n",
              "25%   -8.448851e-01 -7.201630e-01  ...             -6.889685e-01 -7.862862e-01\n",
              "50%   -2.509521e-01 -1.530732e-01  ...             -3.001282e-01 -3.608474e-01\n",
              "75%    6.399473e-01  6.112653e-01  ...              4.662269e-01  6.602056e-01\n",
              "max    3.906578e+00  2.542658e+00  ...              5.883565e+00  4.063716e+00\n",
              "\n",
              "[8 rows x 8 columns]"
            ]
          },
          "metadata": {
            "tags": []
          },
          "execution_count": 162
        }
      ]
    },
    {
      "cell_type": "code",
      "metadata": {
        "colab": {
          "base_uri": "https://localhost:8080/",
          "height": 518
        },
        "id": "nP6ryECX09z2",
        "outputId": "9f420969-4364-4288-dcec-4cca1857d14a"
      },
      "source": [
        "standardized_features_df.boxplot(figsize=(10,7), rot=45)\n",
        "plt.show()"
      ],
      "execution_count": 163,
      "outputs": [
        {
          "output_type": "display_data",
          "data": {
            "image/png": "[encoded data removed]",
            "text/plain": [
              "<Figure size 720x504 with 1 Axes>"
            ]
          },
          "metadata": {
            "tags": [],
            "needs_background": "light"
          }
        }
      ]
    },
    {
      "cell_type": "code",
      "metadata": {
        "id": "mNQQFPiVr_jS"
      },
      "source": [
        "from sklearn.preprocessing import Normalizer"
      ],
      "execution_count": 164,
      "outputs": []
    },
    {
      "cell_type": "code",
      "metadata": {
        "id": "1t6r3kvXsEID"
      },
      "source": [
        "normalizer = Normalizer(norm='l1')\n",
        "\n",
        "normalized_features = normalizer.fit_transform(features_df)"
      ],
      "execution_count": 165,
      "outputs": []
    },
    {
      "cell_type": "code",
      "metadata": {
        "id": "xxHYAb5MsTpD"
      },
      "source": [
        "l1_normalized_features_df = pd.DataFrame(normalized_features, columns=features_df.columns)"
      ],
      "execution_count": 166,
      "outputs": []
    },
    {
      "cell_type": "code",
      "metadata": {
        "colab": {
          "base_uri": "https://localhost:8080/"
        },
        "id": "dKe3h_CMshRW",
        "outputId": "977acb40-a547-4906-8375-592c75e0fc17"
      },
      "source": [
        "l1_normalized_features_df.iloc[0]"
      ],
      "execution_count": 167,
      "outputs": [
        {
          "output_type": "execute_result",
          "data": {
            "text/plain": [
              "Pregnancies                 0.010633\n",
              "Glucose                     0.262293\n",
              "BloodPressure               0.127602\n",
              "SkinThickness               0.062029\n",
              "Insulin                     0.388172\n",
              "BMI                         0.059548\n",
              "DiabetesPedigreeFunction    0.001111\n",
              "Age                         0.088612\n",
              "Name: 0, dtype: float64"
            ]
          },
          "metadata": {
            "tags": []
          },
          "execution_count": 167
        }
      ]
    },
    {
      "cell_type": "code",
      "metadata": {
        "colab": {
          "base_uri": "https://localhost:8080/",
          "height": 300
        },
        "id": "i4ROsulzsu8o",
        "outputId": "6dd854a2-3cc7-4f7f-b13e-0e1981fa7a03"
      },
      "source": [
        "l1_normalized_features_df[0:1].transpose()"
      ],
      "execution_count": 168,
      "outputs": [
        {
          "output_type": "execute_result",
          "data": {
            "text/html": [
              "<div>\n",
              "<style scoped>\n",
              "    .dataframe tbody tr th:only-of-type {\n",
              "        vertical-align: middle;\n",
              "    }\n",
              "\n",
              "    .dataframe tbody tr th {\n",
              "        vertical-align: top;\n",
              "    }\n",
              "\n",
              "    .dataframe thead th {\n",
              "        text-align: right;\n",
              "    }\n",
              "</style>\n",
              "<table border=\"1\" class=\"dataframe\">\n",
              "  <thead>\n",
              "    <tr style=\"text-align: right;\">\n",
              "      <th></th>\n",
              "      <th>0</th>\n",
              "    </tr>\n",
              "  </thead>\n",
              "  <tbody>\n",
              "    <tr>\n",
              "      <th>Pregnancies</th>\n",
              "      <td>0.010633</td>\n",
              "    </tr>\n",
              "    <tr>\n",
              "      <th>Glucose</th>\n",
              "      <td>0.262293</td>\n",
              "    </tr>\n",
              "    <tr>\n",
              "      <th>BloodPressure</th>\n",
              "      <td>0.127602</td>\n",
              "    </tr>\n",
              "    <tr>\n",
              "      <th>SkinThickness</th>\n",
              "      <td>0.062029</td>\n",
              "    </tr>\n",
              "    <tr>\n",
              "      <th>Insulin</th>\n",
              "      <td>0.388172</td>\n",
              "    </tr>\n",
              "    <tr>\n",
              "      <th>BMI</th>\n",
              "      <td>0.059548</td>\n",
              "    </tr>\n",
              "    <tr>\n",
              "      <th>DiabetesPedigreeFunction</th>\n",
              "      <td>0.001111</td>\n",
              "    </tr>\n",
              "    <tr>\n",
              "      <th>Age</th>\n",
              "      <td>0.088612</td>\n",
              "    </tr>\n",
              "  </tbody>\n",
              "</table>\n",
              "</div>"
            ],
            "text/plain": [
              "                                 0\n",
              "Pregnancies               0.010633\n",
              "Glucose                   0.262293\n",
              "BloodPressure             0.127602\n",
              "SkinThickness             0.062029\n",
              "Insulin                   0.388172\n",
              "BMI                       0.059548\n",
              "DiabetesPedigreeFunction  0.001111\n",
              "Age                       0.088612"
            ]
          },
          "metadata": {
            "tags": []
          },
          "execution_count": 168
        }
      ]
    },
    {
      "cell_type": "code",
      "metadata": {
        "colab": {
          "base_uri": "https://localhost:8080/"
        },
        "id": "CZu11VtLs3cI",
        "outputId": "2ad7d695-c648-4b66-ae63-bd595af764e5"
      },
      "source": [
        "l1_normalized_features_df.iloc[0].abs().sum()"
      ],
      "execution_count": 169,
      "outputs": [
        {
          "output_type": "execute_result",
          "data": {
            "text/plain": [
              "1.0"
            ]
          },
          "metadata": {
            "tags": []
          },
          "execution_count": 169
        }
      ]
    },
    {
      "cell_type": "code",
      "metadata": {
        "id": "bx_FRjsCtGQc"
      },
      "source": [
        "normalizer = Normalizer(norm='l2')\n",
        "\n",
        "normalized_features = normalizer.fit_transform(features_df)\n",
        "\n",
        "l2_normalized_features_df = pd.DataFrame(normalized_features, columns=features_df.columns)"
      ],
      "execution_count": 170,
      "outputs": []
    },
    {
      "cell_type": "code",
      "metadata": {
        "colab": {
          "base_uri": "https://localhost:8080/"
        },
        "id": "jPqrxJrZtUTn",
        "outputId": "46b641a4-06e4-4138-fc89-524994e3bac3"
      },
      "source": [
        "l2_normalized_features_df.iloc[0]"
      ],
      "execution_count": 171,
      "outputs": [
        {
          "output_type": "execute_result",
          "data": {
            "text/plain": [
              "Pregnancies                 0.021220\n",
              "Glucose                     0.523417\n",
              "BloodPressure               0.254635\n",
              "SkinThickness               0.123781\n",
              "Insulin                     0.774616\n",
              "BMI                         0.118830\n",
              "DiabetesPedigreeFunction    0.002217\n",
              "Age                         0.176830\n",
              "Name: 0, dtype: float64"
            ]
          },
          "metadata": {
            "tags": []
          },
          "execution_count": 171
        }
      ]
    },
    {
      "cell_type": "code",
      "metadata": {
        "colab": {
          "base_uri": "https://localhost:8080/"
        },
        "id": "1R4GNTVrtYK-",
        "outputId": "be217ee0-70fb-4125-afe2-89593ba482d3"
      },
      "source": [
        "l2_normalized_features_df.iloc[0].abs().sum()"
      ],
      "execution_count": 172,
      "outputs": [
        {
          "output_type": "execute_result",
          "data": {
            "text/plain": [
              "1.9955454056240292"
            ]
          },
          "metadata": {
            "tags": []
          },
          "execution_count": 172
        }
      ]
    },
    {
      "cell_type": "code",
      "metadata": {
        "colab": {
          "base_uri": "https://localhost:8080/"
        },
        "id": "875gyZUBtbD7",
        "outputId": "37ad1054-a021-4478-c327-511084afd9a5"
      },
      "source": [
        "l2_normalized_features_df.iloc[0].pow(2)"
      ],
      "execution_count": 173,
      "outputs": [
        {
          "output_type": "execute_result",
          "data": {
            "text/plain": [
              "Pregnancies                 0.000450\n",
              "Glucose                     0.273965\n",
              "BloodPressure               0.064839\n",
              "SkinThickness               0.015322\n",
              "Insulin                     0.600030\n",
              "BMI                         0.014121\n",
              "DiabetesPedigreeFunction    0.000005\n",
              "Age                         0.031269\n",
              "Name: 0, dtype: float64"
            ]
          },
          "metadata": {
            "tags": []
          },
          "execution_count": 173
        }
      ]
    },
    {
      "cell_type": "code",
      "metadata": {
        "colab": {
          "base_uri": "https://localhost:8080/"
        },
        "id": "etK80oOWtkzx",
        "outputId": "d329afd2-021e-449f-c87d-ff5c918cce77"
      },
      "source": [
        "l2_normalized_features_df.iloc[0].pow(2).sum()"
      ],
      "execution_count": 174,
      "outputs": [
        {
          "output_type": "execute_result",
          "data": {
            "text/plain": [
              "1.0"
            ]
          },
          "metadata": {
            "tags": []
          },
          "execution_count": 174
        }
      ]
    },
    {
      "cell_type": "code",
      "metadata": {
        "id": "jpvVMiu1tp-K"
      },
      "source": [
        "normalizer = Normalizer(norm='max')\n",
        "\n",
        "normalized_features = normalizer.fit_transform(features_df)\n",
        "\n",
        "max_normalized_features_df = pd.DataFrame(normalized_features, columns=features_df.columns)"
      ],
      "execution_count": 175,
      "outputs": []
    },
    {
      "cell_type": "code",
      "metadata": {
        "colab": {
          "base_uri": "https://localhost:8080/",
          "height": 206
        },
        "id": "xxbLGg0MtzLq",
        "outputId": "89353f57-30ea-4bc2-c8f2-70c5893c81a2"
      },
      "source": [
        "max_normalized_features_df.head()"
      ],
      "execution_count": 176,
      "outputs": [
        {
          "output_type": "execute_result",
          "data": {
            "text/html": [
              "<div>\n",
              "<style scoped>\n",
              "    .dataframe tbody tr th:only-of-type {\n",
              "        vertical-align: middle;\n",
              "    }\n",
              "\n",
              "    .dataframe tbody tr th {\n",
              "        vertical-align: top;\n",
              "    }\n",
              "\n",
              "    .dataframe thead th {\n",
              "        text-align: right;\n",
              "    }\n",
              "</style>\n",
              "<table border=\"1\" class=\"dataframe\">\n",
              "  <thead>\n",
              "    <tr style=\"text-align: right;\">\n",
              "      <th></th>\n",
              "      <th>Pregnancies</th>\n",
              "      <th>Glucose</th>\n",
              "      <th>BloodPressure</th>\n",
              "      <th>SkinThickness</th>\n",
              "      <th>Insulin</th>\n",
              "      <th>BMI</th>\n",
              "      <th>DiabetesPedigreeFunction</th>\n",
              "      <th>Age</th>\n",
              "    </tr>\n",
              "  </thead>\n",
              "  <tbody>\n",
              "    <tr>\n",
              "      <th>0</th>\n",
              "      <td>0.027394</td>\n",
              "      <td>0.675711</td>\n",
              "      <td>0.328724</td>\n",
              "      <td>0.159797</td>\n",
              "      <td>1.000000</td>\n",
              "      <td>0.153405</td>\n",
              "      <td>0.002863</td>\n",
              "      <td>0.228281</td>\n",
              "    </tr>\n",
              "    <tr>\n",
              "      <th>1</th>\n",
              "      <td>0.011765</td>\n",
              "      <td>1.000000</td>\n",
              "      <td>0.776471</td>\n",
              "      <td>0.341176</td>\n",
              "      <td>0.827548</td>\n",
              "      <td>0.312941</td>\n",
              "      <td>0.004129</td>\n",
              "      <td>0.364706</td>\n",
              "    </tr>\n",
              "    <tr>\n",
              "      <th>2</th>\n",
              "      <td>0.029567</td>\n",
              "      <td>0.676342</td>\n",
              "      <td>0.236535</td>\n",
              "      <td>0.118267</td>\n",
              "      <td>1.000000</td>\n",
              "      <td>0.086113</td>\n",
              "      <td>0.002484</td>\n",
              "      <td>0.118267</td>\n",
              "    </tr>\n",
              "    <tr>\n",
              "      <th>3</th>\n",
              "      <td>0.010638</td>\n",
              "      <td>0.946809</td>\n",
              "      <td>0.702128</td>\n",
              "      <td>0.244681</td>\n",
              "      <td>1.000000</td>\n",
              "      <td>0.298936</td>\n",
              "      <td>0.001777</td>\n",
              "      <td>0.223404</td>\n",
              "    </tr>\n",
              "    <tr>\n",
              "      <th>4</th>\n",
              "      <td>0.000000</td>\n",
              "      <td>0.815476</td>\n",
              "      <td>0.238095</td>\n",
              "      <td>0.208333</td>\n",
              "      <td>1.000000</td>\n",
              "      <td>0.256548</td>\n",
              "      <td>0.013619</td>\n",
              "      <td>0.196429</td>\n",
              "    </tr>\n",
              "  </tbody>\n",
              "</table>\n",
              "</div>"
            ],
            "text/plain": [
              "   Pregnancies   Glucose  ...  DiabetesPedigreeFunction       Age\n",
              "0     0.027394  0.675711  ...                  0.002863  0.228281\n",
              "1     0.011765  1.000000  ...                  0.004129  0.364706\n",
              "2     0.029567  0.676342  ...                  0.002484  0.118267\n",
              "3     0.010638  0.946809  ...                  0.001777  0.223404\n",
              "4     0.000000  0.815476  ...                  0.013619  0.196429\n",
              "\n",
              "[5 rows x 8 columns]"
            ]
          },
          "metadata": {
            "tags": []
          },
          "execution_count": 176
        }
      ]
    },
    {
      "cell_type": "code",
      "metadata": {
        "id": "OwEDJHCvt4u_"
      },
      "source": [
        "from sklearn.preprocessing import Binarizer"
      ],
      "execution_count": 177,
      "outputs": []
    },
    {
      "cell_type": "code",
      "metadata": {
        "id": "8SWnhhm1uA15"
      },
      "source": [
        "binarizer = Binarizer(threshold=float((features_df[['Pregnancies']]).mean()))\n",
        "\n",
        "binarized_features = binarizer.fit_transform(features_df[['Pregnancies']])"
      ],
      "execution_count": 178,
      "outputs": []
    },
    {
      "cell_type": "code",
      "metadata": {
        "colab": {
          "base_uri": "https://localhost:8080/"
        },
        "id": "3ERG3BdhuU8-",
        "outputId": "f873917d-727c-4d42-93d1-83c9b34cdee7"
      },
      "source": [
        "binarized_features[0:10]"
      ],
      "execution_count": 179,
      "outputs": [
        {
          "output_type": "execute_result",
          "data": {
            "text/plain": [
              "array([[1.],\n",
              "       [0.],\n",
              "       [1.],\n",
              "       [0.],\n",
              "       [0.],\n",
              "       [1.],\n",
              "       [0.],\n",
              "       [1.],\n",
              "       [0.],\n",
              "       [1.]])"
            ]
          },
          "metadata": {
            "tags": []
          },
          "execution_count": 179
        }
      ]
    },
    {
      "cell_type": "code",
      "metadata": {
        "id": "RbXvKiTMufyq"
      },
      "source": [
        "for i in range(1, features_df.shape[1]):\n",
        "\n",
        "  scaler = Binarizer(threshold=float((features_df[[features_df.columns[i]]]).mean())).fit(features_df[[features_df.columns[i]]])\n",
        "\n",
        "  new_binarized_feature = scaler.transform(features_df[[features_df.columns[i]]])\n",
        "\n",
        "  binarized_features = np.concatenate((binarized_features, new_binarized_feature), axis=1)"
      ],
      "execution_count": 180,
      "outputs": []
    },
    {
      "cell_type": "code",
      "metadata": {
        "colab": {
          "base_uri": "https://localhost:8080/"
        },
        "id": "KfvGq3vpvfUu",
        "outputId": "1f6e8b1c-a584-4585-c195-44a902114fb1"
      },
      "source": [
        "binarized_features[0:10]"
      ],
      "execution_count": 181,
      "outputs": [
        {
          "output_type": "execute_result",
          "data": {
            "text/plain": [
              "array([[1., 1., 0., 1., 1., 1., 1., 1.],\n",
              "       [0., 0., 0., 0., 0., 0., 0., 0.],\n",
              "       [1., 1., 0., 1., 1., 0., 1., 0.],\n",
              "       [0., 0., 0., 0., 0., 0., 0., 0.],\n",
              "       [0., 1., 0., 1., 1., 1., 1., 0.],\n",
              "       [1., 0., 1., 1., 0., 0., 0., 0.],\n",
              "       [0., 0., 0., 1., 0., 0., 0., 0.],\n",
              "       [1., 0., 0., 1., 0., 1., 0., 0.],\n",
              "       [0., 1., 0., 1., 1., 0., 0., 1.],\n",
              "       [1., 1., 1., 1., 1., 0., 0., 1.]])"
            ]
          },
          "metadata": {
            "tags": []
          },
          "execution_count": 181
        }
      ]
    },
    {
      "cell_type": "code",
      "metadata": {
        "id": "C5zMP6uvvjp6"
      },
      "source": [
        "from sklearn.linear_model import LogisticRegression\n",
        "from sklearn.model_selection import train_test_split\n",
        "from sklearn.metrics import accuracy_score"
      ],
      "execution_count": 182,
      "outputs": []
    },
    {
      "cell_type": "code",
      "metadata": {
        "id": "FSj8VktGxANy"
      },
      "source": [
        "def build_model(X, Y, test_frac):\n",
        "\n",
        "  x_train, x_test, y_train, y_test = train_test_split(X, Y, test_size=test_frac)\n",
        "\n",
        "  model = LogisticRegression(solver='liblinear').fit(x_train, y_train)\n",
        "  y_pred = model.predict(x_test)\n",
        "\n",
        "  print(\"Test Score: \", accuracy_score(y_test, y_pred))"
      ],
      "execution_count": 183,
      "outputs": []
    },
    {
      "cell_type": "code",
      "metadata": {
        "id": "v1QxJsdHxflG",
        "colab": {
          "base_uri": "https://localhost:8080/"
        },
        "outputId": "e513d821-0f1a-4438-87b6-30482c63e6d7"
      },
      "source": [
        "build_model(rescaled_features, target_df, 0.2)"
      ],
      "execution_count": 184,
      "outputs": [
        {
          "output_type": "stream",
          "text": [
            "Test Score:  0.7207792207792207\n"
          ],
          "name": "stdout"
        }
      ]
    },
    {
      "cell_type": "code",
      "metadata": {
        "colab": {
          "base_uri": "https://localhost:8080/"
        },
        "id": "BS276BzcpbnT",
        "outputId": "a065c584-b883-4542-d41a-29a226611d64"
      },
      "source": [
        "build_model(standardized_features, target_df, 0.2)"
      ],
      "execution_count": 185,
      "outputs": [
        {
          "output_type": "stream",
          "text": [
            "Test Score:  0.7532467532467533\n"
          ],
          "name": "stdout"
        }
      ]
    },
    {
      "cell_type": "code",
      "metadata": {
        "colab": {
          "base_uri": "https://localhost:8080/"
        },
        "id": "CcpE5GEXpfbs",
        "outputId": "a1d2325c-5b3a-4b02-8080-67b69289a42e"
      },
      "source": [
        "build_model(normalized_features, target_df, 0.2)"
      ],
      "execution_count": 186,
      "outputs": [
        {
          "output_type": "stream",
          "text": [
            "Test Score:  0.6753246753246753\n"
          ],
          "name": "stdout"
        }
      ]
    },
    {
      "cell_type": "code",
      "metadata": {
        "colab": {
          "base_uri": "https://localhost:8080/"
        },
        "id": "XnkCHkscpkYH",
        "outputId": "c9b713bd-5ccc-47ce-9d9c-5491439158c1"
      },
      "source": [
        "build_model(binarized_features, target_df, 0.2)"
      ],
      "execution_count": 187,
      "outputs": [
        {
          "output_type": "stream",
          "text": [
            "Test Score:  0.7142857142857143\n"
          ],
          "name": "stdout"
        }
      ]
    },
    {
      "cell_type": "markdown",
      "metadata": {
        "id": "CEClWWIgqj6x"
      },
      "source": [
        "#Numeric Encoding of Categorical Data"
      ]
    },
    {
      "cell_type": "markdown",
      "metadata": {
        "id": "9GK6IedQq44J"
      },
      "source": [
        "##Categories as Nominal Data\n",
        "Label encoding:\n",
        "\n",
        "* Numeric ID for each category\n",
        "* Single column suffices\n",
        "* Numeric IDs present illusion of sortability\n",
        "* Ideally should use only for ordinal categorical data\n",
        "\n",
        "One-hot encoding:\n",
        "\n",
        "* Separate column with 1 or 0 for presence or absence of each category\n",
        "* ONot clearly sortable\n",
        "* Can use for both nominal and ordinal categorical data"
      ]
    },
    {
      "cell_type": "markdown",
      "metadata": {
        "id": "iOsLGZty0m31"
      },
      "source": [
        "##Label Encoder and One-Hot Encoder"
      ]
    },
    {
      "cell_type": "code",
      "metadata": {
        "id": "8prp3VIB0q9O"
      },
      "source": [
        "import pandas as pd"
      ],
      "execution_count": 190,
      "outputs": []
    },
    {
      "cell_type": "code",
      "metadata": {
        "colab": {
          "base_uri": "https://localhost:8080/",
          "height": 363
        },
        "id": "JYlnVtLP0tRs",
        "outputId": "9fe8618b-fcdf-4729-af0e-7b990cfa1248"
      },
      "source": [
        "gosales = pd.read_csv('GoSales_Tx_LogisticRegression.csv')\n",
        "\n",
        "gosales.sample(10)"
      ],
      "execution_count": 191,
      "outputs": [
        {
          "output_type": "execute_result",
          "data": {
            "text/html": [
              "<div>\n",
              "<style scoped>\n",
              "    .dataframe tbody tr th:only-of-type {\n",
              "        vertical-align: middle;\n",
              "    }\n",
              "\n",
              "    .dataframe tbody tr th {\n",
              "        vertical-align: top;\n",
              "    }\n",
              "\n",
              "    .dataframe thead th {\n",
              "        text-align: right;\n",
              "    }\n",
              "</style>\n",
              "<table border=\"1\" class=\"dataframe\">\n",
              "  <thead>\n",
              "    <tr style=\"text-align: right;\">\n",
              "      <th></th>\n",
              "      <th>IS_TENT</th>\n",
              "      <th>GENDER</th>\n",
              "      <th>AGE</th>\n",
              "      <th>MARITAL_STATUS</th>\n",
              "      <th>PROFESSION</th>\n",
              "    </tr>\n",
              "  </thead>\n",
              "  <tbody>\n",
              "    <tr>\n",
              "      <th>8141</th>\n",
              "      <td>False</td>\n",
              "      <td>F</td>\n",
              "      <td>27</td>\n",
              "      <td>Single</td>\n",
              "      <td>Other</td>\n",
              "    </tr>\n",
              "    <tr>\n",
              "      <th>49550</th>\n",
              "      <td>False</td>\n",
              "      <td>M</td>\n",
              "      <td>55</td>\n",
              "      <td>Married</td>\n",
              "      <td>Trades</td>\n",
              "    </tr>\n",
              "    <tr>\n",
              "      <th>36957</th>\n",
              "      <td>False</td>\n",
              "      <td>F</td>\n",
              "      <td>25</td>\n",
              "      <td>Married</td>\n",
              "      <td>Sales</td>\n",
              "    </tr>\n",
              "    <tr>\n",
              "      <th>47367</th>\n",
              "      <td>False</td>\n",
              "      <td>M</td>\n",
              "      <td>27</td>\n",
              "      <td>Married</td>\n",
              "      <td>Other</td>\n",
              "    </tr>\n",
              "    <tr>\n",
              "      <th>24456</th>\n",
              "      <td>False</td>\n",
              "      <td>M</td>\n",
              "      <td>31</td>\n",
              "      <td>Married</td>\n",
              "      <td>Other</td>\n",
              "    </tr>\n",
              "    <tr>\n",
              "      <th>22210</th>\n",
              "      <td>False</td>\n",
              "      <td>M</td>\n",
              "      <td>53</td>\n",
              "      <td>Unspecified</td>\n",
              "      <td>Other</td>\n",
              "    </tr>\n",
              "    <tr>\n",
              "      <th>22537</th>\n",
              "      <td>False</td>\n",
              "      <td>F</td>\n",
              "      <td>29</td>\n",
              "      <td>Single</td>\n",
              "      <td>Other</td>\n",
              "    </tr>\n",
              "    <tr>\n",
              "      <th>6582</th>\n",
              "      <td>False</td>\n",
              "      <td>F</td>\n",
              "      <td>43</td>\n",
              "      <td>Married</td>\n",
              "      <td>Other</td>\n",
              "    </tr>\n",
              "    <tr>\n",
              "      <th>22312</th>\n",
              "      <td>False</td>\n",
              "      <td>F</td>\n",
              "      <td>52</td>\n",
              "      <td>Unspecified</td>\n",
              "      <td>Hospitality</td>\n",
              "    </tr>\n",
              "    <tr>\n",
              "      <th>58974</th>\n",
              "      <td>False</td>\n",
              "      <td>F</td>\n",
              "      <td>69</td>\n",
              "      <td>Married</td>\n",
              "      <td>Retired</td>\n",
              "    </tr>\n",
              "  </tbody>\n",
              "</table>\n",
              "</div>"
            ],
            "text/plain": [
              "       IS_TENT GENDER  AGE MARITAL_STATUS   PROFESSION\n",
              "8141     False      F   27         Single        Other\n",
              "49550    False      M   55        Married       Trades\n",
              "36957    False      F   25        Married        Sales\n",
              "47367    False      M   27        Married        Other\n",
              "24456    False      M   31        Married        Other\n",
              "22210    False      M   53    Unspecified        Other\n",
              "22537    False      F   29         Single        Other\n",
              "6582     False      F   43        Married        Other\n",
              "22312    False      F   52    Unspecified  Hospitality\n",
              "58974    False      F   69        Married      Retired"
            ]
          },
          "metadata": {
            "tags": []
          },
          "execution_count": 191
        }
      ]
    },
    {
      "cell_type": "code",
      "metadata": {
        "colab": {
          "base_uri": "https://localhost:8080/"
        },
        "id": "v24GEg9Z05ct",
        "outputId": "86e793a6-5b47-4395-ecef-33c55cd67c4c"
      },
      "source": [
        "gosales.columns"
      ],
      "execution_count": 192,
      "outputs": [
        {
          "output_type": "execute_result",
          "data": {
            "text/plain": [
              "Index(['IS_TENT', 'GENDER', 'AGE', 'MARITAL_STATUS', 'PROFESSION'], dtype='object')"
            ]
          },
          "metadata": {
            "tags": []
          },
          "execution_count": 192
        }
      ]
    },
    {
      "cell_type": "code",
      "metadata": {
        "colab": {
          "base_uri": "https://localhost:8080/",
          "height": 300
        },
        "id": "Wn7TqVFF1BHB",
        "outputId": "072eeb64-f9d1-45f6-960c-11227bd7ce28"
      },
      "source": [
        "gosales.describe()"
      ],
      "execution_count": 194,
      "outputs": [
        {
          "output_type": "execute_result",
          "data": {
            "text/html": [
              "<div>\n",
              "<style scoped>\n",
              "    .dataframe tbody tr th:only-of-type {\n",
              "        vertical-align: middle;\n",
              "    }\n",
              "\n",
              "    .dataframe tbody tr th {\n",
              "        vertical-align: top;\n",
              "    }\n",
              "\n",
              "    .dataframe thead th {\n",
              "        text-align: right;\n",
              "    }\n",
              "</style>\n",
              "<table border=\"1\" class=\"dataframe\">\n",
              "  <thead>\n",
              "    <tr style=\"text-align: right;\">\n",
              "      <th></th>\n",
              "      <th>AGE</th>\n",
              "    </tr>\n",
              "  </thead>\n",
              "  <tbody>\n",
              "    <tr>\n",
              "      <th>count</th>\n",
              "      <td>60252.000000</td>\n",
              "    </tr>\n",
              "    <tr>\n",
              "      <th>mean</th>\n",
              "      <td>34.187479</td>\n",
              "    </tr>\n",
              "    <tr>\n",
              "      <th>std</th>\n",
              "      <td>10.105477</td>\n",
              "    </tr>\n",
              "    <tr>\n",
              "      <th>min</th>\n",
              "      <td>17.000000</td>\n",
              "    </tr>\n",
              "    <tr>\n",
              "      <th>25%</th>\n",
              "      <td>26.000000</td>\n",
              "    </tr>\n",
              "    <tr>\n",
              "      <th>50%</th>\n",
              "      <td>33.000000</td>\n",
              "    </tr>\n",
              "    <tr>\n",
              "      <th>75%</th>\n",
              "      <td>41.000000</td>\n",
              "    </tr>\n",
              "    <tr>\n",
              "      <th>max</th>\n",
              "      <td>69.000000</td>\n",
              "    </tr>\n",
              "  </tbody>\n",
              "</table>\n",
              "</div>"
            ],
            "text/plain": [
              "                AGE\n",
              "count  60252.000000\n",
              "mean      34.187479\n",
              "std       10.105477\n",
              "min       17.000000\n",
              "25%       26.000000\n",
              "50%       33.000000\n",
              "75%       41.000000\n",
              "max       69.000000"
            ]
          },
          "metadata": {
            "tags": []
          },
          "execution_count": 194
        }
      ]
    },
    {
      "cell_type": "code",
      "metadata": {
        "colab": {
          "base_uri": "https://localhost:8080/"
        },
        "id": "guWySNE51DQk",
        "outputId": "75e9ec18-f8bc-4a86-c906-38e138685e44"
      },
      "source": [
        "gosales.isnull().sum()"
      ],
      "execution_count": 195,
      "outputs": [
        {
          "output_type": "execute_result",
          "data": {
            "text/plain": [
              "IS_TENT           0\n",
              "GENDER            0\n",
              "AGE               0\n",
              "MARITAL_STATUS    0\n",
              "PROFESSION        0\n",
              "dtype: int64"
            ]
          },
          "metadata": {
            "tags": []
          },
          "execution_count": 195
        }
      ]
    },
    {
      "cell_type": "code",
      "metadata": {
        "colab": {
          "base_uri": "https://localhost:8080/"
        },
        "id": "rCZ5QiPR1MN1",
        "outputId": "f7767b60-ce8e-48ab-d09f-00f36270e4d0"
      },
      "source": [
        "gosales.shape"
      ],
      "execution_count": 196,
      "outputs": [
        {
          "output_type": "execute_result",
          "data": {
            "text/plain": [
              "(60252, 5)"
            ]
          },
          "metadata": {
            "tags": []
          },
          "execution_count": 196
        }
      ]
    },
    {
      "cell_type": "code",
      "metadata": {
        "colab": {
          "base_uri": "https://localhost:8080/"
        },
        "id": "mqp8Q2nU1aUD",
        "outputId": "c6ccf0ef-4b37-4d89-8ac7-5ed52645463f"
      },
      "source": [
        "gosales.AGE.describe()"
      ],
      "execution_count": 197,
      "outputs": [
        {
          "output_type": "execute_result",
          "data": {
            "text/plain": [
              "count    60252.000000\n",
              "mean        34.187479\n",
              "std         10.105477\n",
              "min         17.000000\n",
              "25%         26.000000\n",
              "50%         33.000000\n",
              "75%         41.000000\n",
              "max         69.000000\n",
              "Name: AGE, dtype: float64"
            ]
          },
          "metadata": {
            "tags": []
          },
          "execution_count": 197
        }
      ]
    },
    {
      "cell_type": "code",
      "metadata": {
        "id": "DIXctISA1hMs"
      },
      "source": [
        "import matplotlib.pyplot as plt"
      ],
      "execution_count": 198,
      "outputs": []
    },
    {
      "cell_type": "code",
      "metadata": {
        "colab": {
          "base_uri": "https://localhost:8080/"
        },
        "id": "qo9PriLX1oYJ",
        "outputId": "7d4959e5-50bf-4daf-82e8-75f06b7384f4"
      },
      "source": [
        "pd.value_counts(gosales['IS_TENT'])"
      ],
      "execution_count": 201,
      "outputs": [
        {
          "output_type": "execute_result",
          "data": {
            "text/plain": [
              "False    54241\n",
              "True      6011\n",
              "Name: IS_TENT, dtype: int64"
            ]
          },
          "metadata": {
            "tags": []
          },
          "execution_count": 201
        }
      ]
    },
    {
      "cell_type": "code",
      "metadata": {
        "colab": {
          "base_uri": "https://localhost:8080/",
          "height": 281
        },
        "id": "v21AJlrG1wAL",
        "outputId": "1abcbe85-b19c-47f1-e441-2d00316a0e61"
      },
      "source": [
        "pd.value_counts(gosales['IS_TENT']).plot.bar()\n",
        "plt.show()"
      ],
      "execution_count": 202,
      "outputs": [
        {
          "output_type": "display_data",
          "data": {
            "image/png": "[encoded data removed]",
            "text/plain": [
              "<Figure size 432x288 with 1 Axes>"
            ]
          },
          "metadata": {
            "tags": [],
            "needs_background": "light"
          }
        }
      ]
    },
    {
      "cell_type": "code",
      "metadata": {
        "colab": {
          "base_uri": "https://localhost:8080/",
          "height": 477
        },
        "id": "e4cfPcLm10nv",
        "outputId": "dbadb364-1f9c-4c9b-c0be-0b819298f7ff"
      },
      "source": [
        "plt.figure(figsize=(10, 7))\n",
        "\n",
        "pd.value_counts(gosales['MARITAL_STATUS']).plot.bar()\n",
        "\n",
        "plt.show()"
      ],
      "execution_count": 203,
      "outputs": [
        {
          "output_type": "display_data",
          "data": {
            "image/png": "[encoded data removed]",
            "text/plain": [
              "<Figure size 720x504 with 1 Axes>"
            ]
          },
          "metadata": {
            "tags": [],
            "needs_background": "light"
          }
        }
      ]
    },
    {
      "cell_type": "code",
      "metadata": {
        "colab": {
          "base_uri": "https://localhost:8080/",
          "height": 427
        },
        "id": "OUhnQgH12F-B",
        "outputId": "4e1fb9eb-051e-45f8-92f0-72b65a62f4e3"
      },
      "source": [
        "plt.figure(figsize=(10, 7))\n",
        "pd.value_counts(gosales['GENDER']).plot.bar()\n",
        "plt.show()"
      ],
      "execution_count": 205,
      "outputs": [
        {
          "output_type": "display_data",
          "data": {
            "image/png": "[encoded data removed]",
            "text/plain": [
              "<Figure size 720x504 with 1 Axes>"
            ]
          },
          "metadata": {
            "tags": [],
            "needs_background": "light"
          }
        }
      ]
    },
    {
      "cell_type": "code",
      "metadata": {
        "colab": {
          "base_uri": "https://localhost:8080/",
          "height": 479
        },
        "id": "2C7XYnxc2MYJ",
        "outputId": "1145cc94-414a-4034-ccb6-3f9abd732946"
      },
      "source": [
        "plt.figure(figsize=(10, 7))\n",
        "pd.value_counts(gosales['PROFESSION']).plot.bar()\n",
        "plt.show()"
      ],
      "execution_count": 206,
      "outputs": [
        {
          "output_type": "display_data",
          "data": {
            "image/png": "[encoded data removed]",
            "text/plain": [
              "<Figure size 720x504 with 1 Axes>"
            ]
          },
          "metadata": {
            "tags": [],
            "needs_background": "light"
          }
        }
      ]
    },
    {
      "cell_type": "code",
      "metadata": {
        "id": "NIS-uPxa2S0T"
      },
      "source": [
        "gender = ['M', 'F']"
      ],
      "execution_count": 207,
      "outputs": []
    },
    {
      "cell_type": "code",
      "metadata": {
        "id": "MokCd7py2cA1"
      },
      "source": [
        "from sklearn import preprocessing\n",
        "\n",
        "label_encoding = preprocessing.LabelEncoder()\n",
        "\n",
        "label_encoding = label_encoding.fit(gender)"
      ],
      "execution_count": 208,
      "outputs": []
    },
    {
      "cell_type": "code",
      "metadata": {
        "id": "nBdJ5dn723xZ"
      },
      "source": [
        "gosales['GENDER'] = label_encoding.transform(gosales['GENDER'].astype(str))"
      ],
      "execution_count": 214,
      "outputs": []
    },
    {
      "cell_type": "code",
      "metadata": {
        "colab": {
          "base_uri": "https://localhost:8080/"
        },
        "id": "JGOwI8-h3HvM",
        "outputId": "d21a1ffe-f855-43ac-a173-917ca6eb5311"
      },
      "source": [
        "label_encoding.classes_"
      ],
      "execution_count": 215,
      "outputs": [
        {
          "output_type": "execute_result",
          "data": {
            "text/plain": [
              "array(['F', 'M'], dtype='<U1')"
            ]
          },
          "metadata": {
            "tags": []
          },
          "execution_count": 215
        }
      ]
    },
    {
      "cell_type": "code",
      "metadata": {
        "colab": {
          "base_uri": "https://localhost:8080/",
          "height": 363
        },
        "id": "k9uxozqD3L-B",
        "outputId": "d258c6a0-428f-4563-ee59-53f25f43e6be"
      },
      "source": [
        "gosales.sample(10)"
      ],
      "execution_count": 217,
      "outputs": [
        {
          "output_type": "execute_result",
          "data": {
            "text/html": [
              "<div>\n",
              "<style scoped>\n",
              "    .dataframe tbody tr th:only-of-type {\n",
              "        vertical-align: middle;\n",
              "    }\n",
              "\n",
              "    .dataframe tbody tr th {\n",
              "        vertical-align: top;\n",
              "    }\n",
              "\n",
              "    .dataframe thead th {\n",
              "        text-align: right;\n",
              "    }\n",
              "</style>\n",
              "<table border=\"1\" class=\"dataframe\">\n",
              "  <thead>\n",
              "    <tr style=\"text-align: right;\">\n",
              "      <th></th>\n",
              "      <th>IS_TENT</th>\n",
              "      <th>GENDER</th>\n",
              "      <th>AGE</th>\n",
              "      <th>MARITAL_STATUS</th>\n",
              "      <th>PROFESSION</th>\n",
              "    </tr>\n",
              "  </thead>\n",
              "  <tbody>\n",
              "    <tr>\n",
              "      <th>45639</th>\n",
              "      <td>False</td>\n",
              "      <td>1</td>\n",
              "      <td>56</td>\n",
              "      <td>Married</td>\n",
              "      <td>Trades</td>\n",
              "    </tr>\n",
              "    <tr>\n",
              "      <th>17376</th>\n",
              "      <td>False</td>\n",
              "      <td>0</td>\n",
              "      <td>41</td>\n",
              "      <td>Married</td>\n",
              "      <td>Other</td>\n",
              "    </tr>\n",
              "    <tr>\n",
              "      <th>48443</th>\n",
              "      <td>False</td>\n",
              "      <td>0</td>\n",
              "      <td>19</td>\n",
              "      <td>Single</td>\n",
              "      <td>Other</td>\n",
              "    </tr>\n",
              "    <tr>\n",
              "      <th>10089</th>\n",
              "      <td>False</td>\n",
              "      <td>1</td>\n",
              "      <td>53</td>\n",
              "      <td>Married</td>\n",
              "      <td>Other</td>\n",
              "    </tr>\n",
              "    <tr>\n",
              "      <th>36385</th>\n",
              "      <td>False</td>\n",
              "      <td>0</td>\n",
              "      <td>41</td>\n",
              "      <td>Married</td>\n",
              "      <td>Other</td>\n",
              "    </tr>\n",
              "    <tr>\n",
              "      <th>29437</th>\n",
              "      <td>False</td>\n",
              "      <td>0</td>\n",
              "      <td>34</td>\n",
              "      <td>Married</td>\n",
              "      <td>Executive</td>\n",
              "    </tr>\n",
              "    <tr>\n",
              "      <th>24176</th>\n",
              "      <td>False</td>\n",
              "      <td>0</td>\n",
              "      <td>21</td>\n",
              "      <td>Married</td>\n",
              "      <td>Other</td>\n",
              "    </tr>\n",
              "    <tr>\n",
              "      <th>36077</th>\n",
              "      <td>False</td>\n",
              "      <td>0</td>\n",
              "      <td>43</td>\n",
              "      <td>Married</td>\n",
              "      <td>Other</td>\n",
              "    </tr>\n",
              "    <tr>\n",
              "      <th>28023</th>\n",
              "      <td>False</td>\n",
              "      <td>0</td>\n",
              "      <td>46</td>\n",
              "      <td>Married</td>\n",
              "      <td>Executive</td>\n",
              "    </tr>\n",
              "    <tr>\n",
              "      <th>47656</th>\n",
              "      <td>True</td>\n",
              "      <td>1</td>\n",
              "      <td>28</td>\n",
              "      <td>Single</td>\n",
              "      <td>Trades</td>\n",
              "    </tr>\n",
              "  </tbody>\n",
              "</table>\n",
              "</div>"
            ],
            "text/plain": [
              "       IS_TENT  GENDER  AGE MARITAL_STATUS PROFESSION\n",
              "45639    False       1   56        Married     Trades\n",
              "17376    False       0   41        Married      Other\n",
              "48443    False       0   19         Single      Other\n",
              "10089    False       1   53        Married      Other\n",
              "36385    False       0   41        Married      Other\n",
              "29437    False       0   34        Married  Executive\n",
              "24176    False       0   21        Married      Other\n",
              "36077    False       0   43        Married      Other\n",
              "28023    False       0   46        Married  Executive\n",
              "47656     True       1   28         Single     Trades"
            ]
          },
          "metadata": {
            "tags": []
          },
          "execution_count": 217
        }
      ]
    },
    {
      "cell_type": "code",
      "metadata": {
        "colab": {
          "base_uri": "https://localhost:8080/",
          "height": 206
        },
        "id": "Axjt-8b53RGA",
        "outputId": "2a2469c4-3f9c-44b5-9496-0bfe4d243123"
      },
      "source": [
        "gosales[['MARITAL_STATUS']].sample(5)"
      ],
      "execution_count": 218,
      "outputs": [
        {
          "output_type": "execute_result",
          "data": {
            "text/html": [
              "<div>\n",
              "<style scoped>\n",
              "    .dataframe tbody tr th:only-of-type {\n",
              "        vertical-align: middle;\n",
              "    }\n",
              "\n",
              "    .dataframe tbody tr th {\n",
              "        vertical-align: top;\n",
              "    }\n",
              "\n",
              "    .dataframe thead th {\n",
              "        text-align: right;\n",
              "    }\n",
              "</style>\n",
              "<table border=\"1\" class=\"dataframe\">\n",
              "  <thead>\n",
              "    <tr style=\"text-align: right;\">\n",
              "      <th></th>\n",
              "      <th>MARITAL_STATUS</th>\n",
              "    </tr>\n",
              "  </thead>\n",
              "  <tbody>\n",
              "    <tr>\n",
              "      <th>22684</th>\n",
              "      <td>Married</td>\n",
              "    </tr>\n",
              "    <tr>\n",
              "      <th>45737</th>\n",
              "      <td>Single</td>\n",
              "    </tr>\n",
              "    <tr>\n",
              "      <th>12145</th>\n",
              "      <td>Single</td>\n",
              "    </tr>\n",
              "    <tr>\n",
              "      <th>43261</th>\n",
              "      <td>Single</td>\n",
              "    </tr>\n",
              "    <tr>\n",
              "      <th>21331</th>\n",
              "      <td>Single</td>\n",
              "    </tr>\n",
              "  </tbody>\n",
              "</table>\n",
              "</div>"
            ],
            "text/plain": [
              "      MARITAL_STATUS\n",
              "22684        Married\n",
              "45737         Single\n",
              "12145         Single\n",
              "43261         Single\n",
              "21331         Single"
            ]
          },
          "metadata": {
            "tags": []
          },
          "execution_count": 218
        }
      ]
    },
    {
      "cell_type": "code",
      "metadata": {
        "id": "3ICa_Di25s7I"
      },
      "source": [
        "  one_hot_encoding = preprocessing.OneHotEncoder()\n",
        "\n",
        "  one_hot_encoding = one_hot_encoding.fit(gosales['MARITAL_STATUS'].values.reshape(-1, 1))"
      ],
      "execution_count": 219,
      "outputs": []
    },
    {
      "cell_type": "code",
      "metadata": {
        "colab": {
          "base_uri": "https://localhost:8080/"
        },
        "id": "4IXg6Y7Q6CdW",
        "outputId": "d0ea33a0-df83-433f-fa87-e3340e246292"
      },
      "source": [
        "one_hot_encoding.categories_"
      ],
      "execution_count": 220,
      "outputs": [
        {
          "output_type": "execute_result",
          "data": {
            "text/plain": [
              "[array(['Married', 'Single', 'Unspecified'], dtype=object)]"
            ]
          },
          "metadata": {
            "tags": []
          },
          "execution_count": 220
        }
      ]
    },
    {
      "cell_type": "code",
      "metadata": {
        "colab": {
          "base_uri": "https://localhost:8080/"
        },
        "id": "ZJ_1qulG58kH",
        "outputId": "71bff966-5b30-4fda-ad0a-8d3d0179faa6"
      },
      "source": [
        "one_hot_labels = one_hot_encoding.transform(gosales['MARITAL_STATUS'].values.reshape(-1, 1)).toarray()\n",
        "\n",
        "one_hot_labels"
      ],
      "execution_count": 221,
      "outputs": [
        {
          "output_type": "execute_result",
          "data": {
            "text/plain": [
              "array([[0., 1., 0.],\n",
              "       [1., 0., 0.],\n",
              "       [1., 0., 0.],\n",
              "       ...,\n",
              "       [1., 0., 0.],\n",
              "       [0., 1., 0.],\n",
              "       [1., 0., 0.]])"
            ]
          },
          "metadata": {
            "tags": []
          },
          "execution_count": 221
        }
      ]
    },
    {
      "cell_type": "code",
      "metadata": {
        "colab": {
          "base_uri": "https://localhost:8080/",
          "height": 206
        },
        "id": "DL9iB0Go6Zmx",
        "outputId": "fa1c9827-1571-4001-f84b-caf6ad887792"
      },
      "source": [
        "labels_df = pd.DataFrame()\n",
        "\n",
        "labels_df['MARITAL_STATUS_Married'] = one_hot_labels[:,0]\n",
        "labels_df['MARITAL_STATUS_Single'] = one_hot_labels[:,1]\n",
        "labels_df['MARITAL_STATUS_Unspecified'] = one_hot_labels[:,2]\n",
        "\n",
        "labels_df.head()"
      ],
      "execution_count": 222,
      "outputs": [
        {
          "output_type": "execute_result",
          "data": {
            "text/html": [
              "<div>\n",
              "<style scoped>\n",
              "    .dataframe tbody tr th:only-of-type {\n",
              "        vertical-align: middle;\n",
              "    }\n",
              "\n",
              "    .dataframe tbody tr th {\n",
              "        vertical-align: top;\n",
              "    }\n",
              "\n",
              "    .dataframe thead th {\n",
              "        text-align: right;\n",
              "    }\n",
              "</style>\n",
              "<table border=\"1\" class=\"dataframe\">\n",
              "  <thead>\n",
              "    <tr style=\"text-align: right;\">\n",
              "      <th></th>\n",
              "      <th>MARITAL_STATUS_Married</th>\n",
              "      <th>MARITAL_STATUS_Single</th>\n",
              "      <th>MARITAL_STATUS_Unspecified</th>\n",
              "    </tr>\n",
              "  </thead>\n",
              "  <tbody>\n",
              "    <tr>\n",
              "      <th>0</th>\n",
              "      <td>0.0</td>\n",
              "      <td>1.0</td>\n",
              "      <td>0.0</td>\n",
              "    </tr>\n",
              "    <tr>\n",
              "      <th>1</th>\n",
              "      <td>1.0</td>\n",
              "      <td>0.0</td>\n",
              "      <td>0.0</td>\n",
              "    </tr>\n",
              "    <tr>\n",
              "      <th>2</th>\n",
              "      <td>1.0</td>\n",
              "      <td>0.0</td>\n",
              "      <td>0.0</td>\n",
              "    </tr>\n",
              "    <tr>\n",
              "      <th>3</th>\n",
              "      <td>0.0</td>\n",
              "      <td>0.0</td>\n",
              "      <td>1.0</td>\n",
              "    </tr>\n",
              "    <tr>\n",
              "      <th>4</th>\n",
              "      <td>1.0</td>\n",
              "      <td>0.0</td>\n",
              "      <td>0.0</td>\n",
              "    </tr>\n",
              "  </tbody>\n",
              "</table>\n",
              "</div>"
            ],
            "text/plain": [
              "   MARITAL_STATUS_Married  MARITAL_STATUS_Single  MARITAL_STATUS_Unspecified\n",
              "0                     0.0                    1.0                         0.0\n",
              "1                     1.0                    0.0                         0.0\n",
              "2                     1.0                    0.0                         0.0\n",
              "3                     0.0                    0.0                         1.0\n",
              "4                     1.0                    0.0                         0.0"
            ]
          },
          "metadata": {
            "tags": []
          },
          "execution_count": 222
        }
      ]
    },
    {
      "cell_type": "code",
      "metadata": {
        "id": "5mEUJkoh6ypp"
      },
      "source": [
        "encoded_df = pd.concat([gosales, labels_df], axis=1)\n",
        "encoded_df.drop('MARITAL_STATUS', axis=1, inplace=True)"
      ],
      "execution_count": 223,
      "outputs": []
    },
    {
      "cell_type": "code",
      "metadata": {
        "colab": {
          "base_uri": "https://localhost:8080/",
          "height": 363
        },
        "id": "JggmpASs7IeS",
        "outputId": "dade5a0e-fe37-4bf2-948f-85b230ad055e"
      },
      "source": [
        "encoded_df.sample(10)"
      ],
      "execution_count": 224,
      "outputs": [
        {
          "output_type": "execute_result",
          "data": {
            "text/html": [
              "<div>\n",
              "<style scoped>\n",
              "    .dataframe tbody tr th:only-of-type {\n",
              "        vertical-align: middle;\n",
              "    }\n",
              "\n",
              "    .dataframe tbody tr th {\n",
              "        vertical-align: top;\n",
              "    }\n",
              "\n",
              "    .dataframe thead th {\n",
              "        text-align: right;\n",
              "    }\n",
              "</style>\n",
              "<table border=\"1\" class=\"dataframe\">\n",
              "  <thead>\n",
              "    <tr style=\"text-align: right;\">\n",
              "      <th></th>\n",
              "      <th>IS_TENT</th>\n",
              "      <th>GENDER</th>\n",
              "      <th>AGE</th>\n",
              "      <th>PROFESSION</th>\n",
              "      <th>MARITAL_STATUS_Married</th>\n",
              "      <th>MARITAL_STATUS_Single</th>\n",
              "      <th>MARITAL_STATUS_Unspecified</th>\n",
              "    </tr>\n",
              "  </thead>\n",
              "  <tbody>\n",
              "    <tr>\n",
              "      <th>39743</th>\n",
              "      <td>False</td>\n",
              "      <td>1</td>\n",
              "      <td>38</td>\n",
              "      <td>Sales</td>\n",
              "      <td>1.0</td>\n",
              "      <td>0.0</td>\n",
              "      <td>0.0</td>\n",
              "    </tr>\n",
              "    <tr>\n",
              "      <th>51175</th>\n",
              "      <td>False</td>\n",
              "      <td>1</td>\n",
              "      <td>19</td>\n",
              "      <td>Executive</td>\n",
              "      <td>0.0</td>\n",
              "      <td>1.0</td>\n",
              "      <td>0.0</td>\n",
              "    </tr>\n",
              "    <tr>\n",
              "      <th>37715</th>\n",
              "      <td>False</td>\n",
              "      <td>0</td>\n",
              "      <td>23</td>\n",
              "      <td>Retail</td>\n",
              "      <td>1.0</td>\n",
              "      <td>0.0</td>\n",
              "      <td>0.0</td>\n",
              "    </tr>\n",
              "    <tr>\n",
              "      <th>2520</th>\n",
              "      <td>False</td>\n",
              "      <td>0</td>\n",
              "      <td>46</td>\n",
              "      <td>Hospitality</td>\n",
              "      <td>0.0</td>\n",
              "      <td>0.0</td>\n",
              "      <td>1.0</td>\n",
              "    </tr>\n",
              "    <tr>\n",
              "      <th>39311</th>\n",
              "      <td>False</td>\n",
              "      <td>0</td>\n",
              "      <td>58</td>\n",
              "      <td>Retired</td>\n",
              "      <td>1.0</td>\n",
              "      <td>0.0</td>\n",
              "      <td>0.0</td>\n",
              "    </tr>\n",
              "    <tr>\n",
              "      <th>16004</th>\n",
              "      <td>True</td>\n",
              "      <td>0</td>\n",
              "      <td>45</td>\n",
              "      <td>Hospitality</td>\n",
              "      <td>0.0</td>\n",
              "      <td>0.0</td>\n",
              "      <td>1.0</td>\n",
              "    </tr>\n",
              "    <tr>\n",
              "      <th>29029</th>\n",
              "      <td>False</td>\n",
              "      <td>0</td>\n",
              "      <td>42</td>\n",
              "      <td>Other</td>\n",
              "      <td>1.0</td>\n",
              "      <td>0.0</td>\n",
              "      <td>0.0</td>\n",
              "    </tr>\n",
              "    <tr>\n",
              "      <th>8557</th>\n",
              "      <td>False</td>\n",
              "      <td>0</td>\n",
              "      <td>48</td>\n",
              "      <td>Professional</td>\n",
              "      <td>1.0</td>\n",
              "      <td>0.0</td>\n",
              "      <td>0.0</td>\n",
              "    </tr>\n",
              "    <tr>\n",
              "      <th>23683</th>\n",
              "      <td>True</td>\n",
              "      <td>1</td>\n",
              "      <td>21</td>\n",
              "      <td>Other</td>\n",
              "      <td>0.0</td>\n",
              "      <td>1.0</td>\n",
              "      <td>0.0</td>\n",
              "    </tr>\n",
              "    <tr>\n",
              "      <th>21948</th>\n",
              "      <td>True</td>\n",
              "      <td>0</td>\n",
              "      <td>24</td>\n",
              "      <td>Retail</td>\n",
              "      <td>0.0</td>\n",
              "      <td>1.0</td>\n",
              "      <td>0.0</td>\n",
              "    </tr>\n",
              "  </tbody>\n",
              "</table>\n",
              "</div>"
            ],
            "text/plain": [
              "       IS_TENT  GENDER  ...  MARITAL_STATUS_Single MARITAL_STATUS_Unspecified\n",
              "39743    False       1  ...                    0.0                        0.0\n",
              "51175    False       1  ...                    1.0                        0.0\n",
              "37715    False       0  ...                    0.0                        0.0\n",
              "2520     False       0  ...                    0.0                        1.0\n",
              "39311    False       0  ...                    0.0                        0.0\n",
              "16004     True       0  ...                    0.0                        1.0\n",
              "29029    False       0  ...                    0.0                        0.0\n",
              "8557     False       0  ...                    0.0                        0.0\n",
              "23683     True       1  ...                    1.0                        0.0\n",
              "21948     True       0  ...                    1.0                        0.0\n",
              "\n",
              "[10 rows x 7 columns]"
            ]
          },
          "metadata": {
            "tags": []
          },
          "execution_count": 224
        }
      ]
    },
    {
      "cell_type": "code",
      "metadata": {
        "colab": {
          "base_uri": "https://localhost:8080/",
          "height": 383
        },
        "id": "8DxvGQYO7KZS",
        "outputId": "c05d8fdb-d715-44c5-d23b-2215faf438df"
      },
      "source": [
        "gosales = pd.get_dummies(encoded_df, columns=['PROFESSION'])\n",
        "\n",
        "gosales.sample(10)"
      ],
      "execution_count": 225,
      "outputs": [
        {
          "output_type": "execute_result",
          "data": {
            "text/html": [
              "<div>\n",
              "<style scoped>\n",
              "    .dataframe tbody tr th:only-of-type {\n",
              "        vertical-align: middle;\n",
              "    }\n",
              "\n",
              "    .dataframe tbody tr th {\n",
              "        vertical-align: top;\n",
              "    }\n",
              "\n",
              "    .dataframe thead th {\n",
              "        text-align: right;\n",
              "    }\n",
              "</style>\n",
              "<table border=\"1\" class=\"dataframe\">\n",
              "  <thead>\n",
              "    <tr style=\"text-align: right;\">\n",
              "      <th></th>\n",
              "      <th>IS_TENT</th>\n",
              "      <th>GENDER</th>\n",
              "      <th>AGE</th>\n",
              "      <th>MARITAL_STATUS_Married</th>\n",
              "      <th>MARITAL_STATUS_Single</th>\n",
              "      <th>MARITAL_STATUS_Unspecified</th>\n",
              "      <th>PROFESSION_Executive</th>\n",
              "      <th>PROFESSION_Hospitality</th>\n",
              "      <th>PROFESSION_Other</th>\n",
              "      <th>PROFESSION_Professional</th>\n",
              "      <th>PROFESSION_Retail</th>\n",
              "      <th>PROFESSION_Retired</th>\n",
              "      <th>PROFESSION_Sales</th>\n",
              "      <th>PROFESSION_Student</th>\n",
              "      <th>PROFESSION_Trades</th>\n",
              "    </tr>\n",
              "  </thead>\n",
              "  <tbody>\n",
              "    <tr>\n",
              "      <th>41195</th>\n",
              "      <td>False</td>\n",
              "      <td>0</td>\n",
              "      <td>29</td>\n",
              "      <td>1.0</td>\n",
              "      <td>0.0</td>\n",
              "      <td>0.0</td>\n",
              "      <td>0</td>\n",
              "      <td>0</td>\n",
              "      <td>1</td>\n",
              "      <td>0</td>\n",
              "      <td>0</td>\n",
              "      <td>0</td>\n",
              "      <td>0</td>\n",
              "      <td>0</td>\n",
              "      <td>0</td>\n",
              "    </tr>\n",
              "    <tr>\n",
              "      <th>20036</th>\n",
              "      <td>False</td>\n",
              "      <td>0</td>\n",
              "      <td>38</td>\n",
              "      <td>1.0</td>\n",
              "      <td>0.0</td>\n",
              "      <td>0.0</td>\n",
              "      <td>0</td>\n",
              "      <td>0</td>\n",
              "      <td>1</td>\n",
              "      <td>0</td>\n",
              "      <td>0</td>\n",
              "      <td>0</td>\n",
              "      <td>0</td>\n",
              "      <td>0</td>\n",
              "      <td>0</td>\n",
              "    </tr>\n",
              "    <tr>\n",
              "      <th>34216</th>\n",
              "      <td>False</td>\n",
              "      <td>1</td>\n",
              "      <td>38</td>\n",
              "      <td>0.0</td>\n",
              "      <td>1.0</td>\n",
              "      <td>0.0</td>\n",
              "      <td>0</td>\n",
              "      <td>0</td>\n",
              "      <td>0</td>\n",
              "      <td>1</td>\n",
              "      <td>0</td>\n",
              "      <td>0</td>\n",
              "      <td>0</td>\n",
              "      <td>0</td>\n",
              "      <td>0</td>\n",
              "    </tr>\n",
              "    <tr>\n",
              "      <th>48650</th>\n",
              "      <td>False</td>\n",
              "      <td>0</td>\n",
              "      <td>28</td>\n",
              "      <td>0.0</td>\n",
              "      <td>1.0</td>\n",
              "      <td>0.0</td>\n",
              "      <td>0</td>\n",
              "      <td>0</td>\n",
              "      <td>1</td>\n",
              "      <td>0</td>\n",
              "      <td>0</td>\n",
              "      <td>0</td>\n",
              "      <td>0</td>\n",
              "      <td>0</td>\n",
              "      <td>0</td>\n",
              "    </tr>\n",
              "    <tr>\n",
              "      <th>6372</th>\n",
              "      <td>False</td>\n",
              "      <td>0</td>\n",
              "      <td>32</td>\n",
              "      <td>1.0</td>\n",
              "      <td>0.0</td>\n",
              "      <td>0.0</td>\n",
              "      <td>0</td>\n",
              "      <td>0</td>\n",
              "      <td>1</td>\n",
              "      <td>0</td>\n",
              "      <td>0</td>\n",
              "      <td>0</td>\n",
              "      <td>0</td>\n",
              "      <td>0</td>\n",
              "      <td>0</td>\n",
              "    </tr>\n",
              "    <tr>\n",
              "      <th>57902</th>\n",
              "      <td>False</td>\n",
              "      <td>0</td>\n",
              "      <td>46</td>\n",
              "      <td>1.0</td>\n",
              "      <td>0.0</td>\n",
              "      <td>0.0</td>\n",
              "      <td>1</td>\n",
              "      <td>0</td>\n",
              "      <td>0</td>\n",
              "      <td>0</td>\n",
              "      <td>0</td>\n",
              "      <td>0</td>\n",
              "      <td>0</td>\n",
              "      <td>0</td>\n",
              "      <td>0</td>\n",
              "    </tr>\n",
              "    <tr>\n",
              "      <th>36355</th>\n",
              "      <td>False</td>\n",
              "      <td>1</td>\n",
              "      <td>29</td>\n",
              "      <td>0.0</td>\n",
              "      <td>1.0</td>\n",
              "      <td>0.0</td>\n",
              "      <td>0</td>\n",
              "      <td>0</td>\n",
              "      <td>0</td>\n",
              "      <td>0</td>\n",
              "      <td>0</td>\n",
              "      <td>0</td>\n",
              "      <td>0</td>\n",
              "      <td>0</td>\n",
              "      <td>1</td>\n",
              "    </tr>\n",
              "    <tr>\n",
              "      <th>54953</th>\n",
              "      <td>False</td>\n",
              "      <td>1</td>\n",
              "      <td>39</td>\n",
              "      <td>1.0</td>\n",
              "      <td>0.0</td>\n",
              "      <td>0.0</td>\n",
              "      <td>0</td>\n",
              "      <td>0</td>\n",
              "      <td>0</td>\n",
              "      <td>0</td>\n",
              "      <td>0</td>\n",
              "      <td>0</td>\n",
              "      <td>0</td>\n",
              "      <td>0</td>\n",
              "      <td>1</td>\n",
              "    </tr>\n",
              "    <tr>\n",
              "      <th>28881</th>\n",
              "      <td>False</td>\n",
              "      <td>0</td>\n",
              "      <td>43</td>\n",
              "      <td>1.0</td>\n",
              "      <td>0.0</td>\n",
              "      <td>0.0</td>\n",
              "      <td>0</td>\n",
              "      <td>0</td>\n",
              "      <td>1</td>\n",
              "      <td>0</td>\n",
              "      <td>0</td>\n",
              "      <td>0</td>\n",
              "      <td>0</td>\n",
              "      <td>0</td>\n",
              "      <td>0</td>\n",
              "    </tr>\n",
              "    <tr>\n",
              "      <th>21663</th>\n",
              "      <td>False</td>\n",
              "      <td>1</td>\n",
              "      <td>44</td>\n",
              "      <td>1.0</td>\n",
              "      <td>0.0</td>\n",
              "      <td>0.0</td>\n",
              "      <td>1</td>\n",
              "      <td>0</td>\n",
              "      <td>0</td>\n",
              "      <td>0</td>\n",
              "      <td>0</td>\n",
              "      <td>0</td>\n",
              "      <td>0</td>\n",
              "      <td>0</td>\n",
              "      <td>0</td>\n",
              "    </tr>\n",
              "  </tbody>\n",
              "</table>\n",
              "</div>"
            ],
            "text/plain": [
              "       IS_TENT  GENDER  ...  PROFESSION_Student  PROFESSION_Trades\n",
              "41195    False       0  ...                   0                  0\n",
              "20036    False       0  ...                   0                  0\n",
              "34216    False       1  ...                   0                  0\n",
              "48650    False       0  ...                   0                  0\n",
              "6372     False       0  ...                   0                  0\n",
              "57902    False       0  ...                   0                  0\n",
              "36355    False       1  ...                   0                  1\n",
              "54953    False       1  ...                   0                  1\n",
              "28881    False       0  ...                   0                  0\n",
              "21663    False       1  ...                   0                  0\n",
              "\n",
              "[10 rows x 15 columns]"
            ]
          },
          "metadata": {
            "tags": []
          },
          "execution_count": 225
        }
      ]
    },
    {
      "cell_type": "code",
      "metadata": {
        "colab": {
          "base_uri": "https://localhost:8080/",
          "height": 363
        },
        "id": "PxZI7oaD8HoH",
        "outputId": "1598c6f9-fafb-4cc1-ebd2-93cf4d3f88e1"
      },
      "source": [
        "gosales = pd.read_csv('GoSales_Tx_LogisticRegression.csv')\n",
        "\n",
        "gosales.sample(10)"
      ],
      "execution_count": 226,
      "outputs": [
        {
          "output_type": "execute_result",
          "data": {
            "text/html": [
              "<div>\n",
              "<style scoped>\n",
              "    .dataframe tbody tr th:only-of-type {\n",
              "        vertical-align: middle;\n",
              "    }\n",
              "\n",
              "    .dataframe tbody tr th {\n",
              "        vertical-align: top;\n",
              "    }\n",
              "\n",
              "    .dataframe thead th {\n",
              "        text-align: right;\n",
              "    }\n",
              "</style>\n",
              "<table border=\"1\" class=\"dataframe\">\n",
              "  <thead>\n",
              "    <tr style=\"text-align: right;\">\n",
              "      <th></th>\n",
              "      <th>IS_TENT</th>\n",
              "      <th>GENDER</th>\n",
              "      <th>AGE</th>\n",
              "      <th>MARITAL_STATUS</th>\n",
              "      <th>PROFESSION</th>\n",
              "    </tr>\n",
              "  </thead>\n",
              "  <tbody>\n",
              "    <tr>\n",
              "      <th>46257</th>\n",
              "      <td>True</td>\n",
              "      <td>F</td>\n",
              "      <td>47</td>\n",
              "      <td>Married</td>\n",
              "      <td>Hospitality</td>\n",
              "    </tr>\n",
              "    <tr>\n",
              "      <th>24259</th>\n",
              "      <td>False</td>\n",
              "      <td>F</td>\n",
              "      <td>27</td>\n",
              "      <td>Single</td>\n",
              "      <td>Other</td>\n",
              "    </tr>\n",
              "    <tr>\n",
              "      <th>50086</th>\n",
              "      <td>False</td>\n",
              "      <td>F</td>\n",
              "      <td>29</td>\n",
              "      <td>Married</td>\n",
              "      <td>Other</td>\n",
              "    </tr>\n",
              "    <tr>\n",
              "      <th>20732</th>\n",
              "      <td>False</td>\n",
              "      <td>M</td>\n",
              "      <td>28</td>\n",
              "      <td>Single</td>\n",
              "      <td>Trades</td>\n",
              "    </tr>\n",
              "    <tr>\n",
              "      <th>24855</th>\n",
              "      <td>False</td>\n",
              "      <td>F</td>\n",
              "      <td>25</td>\n",
              "      <td>Single</td>\n",
              "      <td>Hospitality</td>\n",
              "    </tr>\n",
              "    <tr>\n",
              "      <th>38779</th>\n",
              "      <td>False</td>\n",
              "      <td>F</td>\n",
              "      <td>66</td>\n",
              "      <td>Married</td>\n",
              "      <td>Other</td>\n",
              "    </tr>\n",
              "    <tr>\n",
              "      <th>53853</th>\n",
              "      <td>False</td>\n",
              "      <td>F</td>\n",
              "      <td>24</td>\n",
              "      <td>Single</td>\n",
              "      <td>Other</td>\n",
              "    </tr>\n",
              "    <tr>\n",
              "      <th>21526</th>\n",
              "      <td>False</td>\n",
              "      <td>F</td>\n",
              "      <td>27</td>\n",
              "      <td>Single</td>\n",
              "      <td>Other</td>\n",
              "    </tr>\n",
              "    <tr>\n",
              "      <th>32506</th>\n",
              "      <td>True</td>\n",
              "      <td>M</td>\n",
              "      <td>27</td>\n",
              "      <td>Single</td>\n",
              "      <td>Professional</td>\n",
              "    </tr>\n",
              "    <tr>\n",
              "      <th>59865</th>\n",
              "      <td>False</td>\n",
              "      <td>M</td>\n",
              "      <td>28</td>\n",
              "      <td>Single</td>\n",
              "      <td>Other</td>\n",
              "    </tr>\n",
              "  </tbody>\n",
              "</table>\n",
              "</div>"
            ],
            "text/plain": [
              "       IS_TENT GENDER  AGE MARITAL_STATUS    PROFESSION\n",
              "46257     True      F   47        Married   Hospitality\n",
              "24259    False      F   27         Single         Other\n",
              "50086    False      F   29        Married         Other\n",
              "20732    False      M   28         Single        Trades\n",
              "24855    False      F   25         Single   Hospitality\n",
              "38779    False      F   66        Married         Other\n",
              "53853    False      F   24         Single         Other\n",
              "21526    False      F   27         Single         Other\n",
              "32506     True      M   27         Single  Professional\n",
              "59865    False      M   28         Single         Other"
            ]
          },
          "metadata": {
            "tags": []
          },
          "execution_count": 226
        }
      ]
    },
    {
      "cell_type": "code",
      "metadata": {
        "colab": {
          "base_uri": "https://localhost:8080/",
          "height": 383
        },
        "id": "V4kTOerx8cRX",
        "outputId": "fb549ff5-0f1b-44ff-ad66-34312d4795c2"
      },
      "source": [
        "gosales = pd.get_dummies(gosales)\n",
        "\n",
        "gosales.sample(10)"
      ],
      "execution_count": 227,
      "outputs": [
        {
          "output_type": "execute_result",
          "data": {
            "text/html": [
              "<div>\n",
              "<style scoped>\n",
              "    .dataframe tbody tr th:only-of-type {\n",
              "        vertical-align: middle;\n",
              "    }\n",
              "\n",
              "    .dataframe tbody tr th {\n",
              "        vertical-align: top;\n",
              "    }\n",
              "\n",
              "    .dataframe thead th {\n",
              "        text-align: right;\n",
              "    }\n",
              "</style>\n",
              "<table border=\"1\" class=\"dataframe\">\n",
              "  <thead>\n",
              "    <tr style=\"text-align: right;\">\n",
              "      <th></th>\n",
              "      <th>IS_TENT</th>\n",
              "      <th>AGE</th>\n",
              "      <th>GENDER_F</th>\n",
              "      <th>GENDER_M</th>\n",
              "      <th>MARITAL_STATUS_Married</th>\n",
              "      <th>MARITAL_STATUS_Single</th>\n",
              "      <th>MARITAL_STATUS_Unspecified</th>\n",
              "      <th>PROFESSION_Executive</th>\n",
              "      <th>PROFESSION_Hospitality</th>\n",
              "      <th>PROFESSION_Other</th>\n",
              "      <th>PROFESSION_Professional</th>\n",
              "      <th>PROFESSION_Retail</th>\n",
              "      <th>PROFESSION_Retired</th>\n",
              "      <th>PROFESSION_Sales</th>\n",
              "      <th>PROFESSION_Student</th>\n",
              "      <th>PROFESSION_Trades</th>\n",
              "    </tr>\n",
              "  </thead>\n",
              "  <tbody>\n",
              "    <tr>\n",
              "      <th>24349</th>\n",
              "      <td>False</td>\n",
              "      <td>33</td>\n",
              "      <td>1</td>\n",
              "      <td>0</td>\n",
              "      <td>1</td>\n",
              "      <td>0</td>\n",
              "      <td>0</td>\n",
              "      <td>0</td>\n",
              "      <td>0</td>\n",
              "      <td>1</td>\n",
              "      <td>0</td>\n",
              "      <td>0</td>\n",
              "      <td>0</td>\n",
              "      <td>0</td>\n",
              "      <td>0</td>\n",
              "      <td>0</td>\n",
              "    </tr>\n",
              "    <tr>\n",
              "      <th>21895</th>\n",
              "      <td>True</td>\n",
              "      <td>32</td>\n",
              "      <td>0</td>\n",
              "      <td>1</td>\n",
              "      <td>0</td>\n",
              "      <td>1</td>\n",
              "      <td>0</td>\n",
              "      <td>0</td>\n",
              "      <td>0</td>\n",
              "      <td>0</td>\n",
              "      <td>1</td>\n",
              "      <td>0</td>\n",
              "      <td>0</td>\n",
              "      <td>0</td>\n",
              "      <td>0</td>\n",
              "      <td>0</td>\n",
              "    </tr>\n",
              "    <tr>\n",
              "      <th>19577</th>\n",
              "      <td>False</td>\n",
              "      <td>20</td>\n",
              "      <td>1</td>\n",
              "      <td>0</td>\n",
              "      <td>0</td>\n",
              "      <td>1</td>\n",
              "      <td>0</td>\n",
              "      <td>0</td>\n",
              "      <td>0</td>\n",
              "      <td>0</td>\n",
              "      <td>1</td>\n",
              "      <td>0</td>\n",
              "      <td>0</td>\n",
              "      <td>0</td>\n",
              "      <td>0</td>\n",
              "      <td>0</td>\n",
              "    </tr>\n",
              "    <tr>\n",
              "      <th>8037</th>\n",
              "      <td>False</td>\n",
              "      <td>30</td>\n",
              "      <td>1</td>\n",
              "      <td>0</td>\n",
              "      <td>1</td>\n",
              "      <td>0</td>\n",
              "      <td>0</td>\n",
              "      <td>0</td>\n",
              "      <td>0</td>\n",
              "      <td>1</td>\n",
              "      <td>0</td>\n",
              "      <td>0</td>\n",
              "      <td>0</td>\n",
              "      <td>0</td>\n",
              "      <td>0</td>\n",
              "      <td>0</td>\n",
              "    </tr>\n",
              "    <tr>\n",
              "      <th>44775</th>\n",
              "      <td>False</td>\n",
              "      <td>50</td>\n",
              "      <td>1</td>\n",
              "      <td>0</td>\n",
              "      <td>1</td>\n",
              "      <td>0</td>\n",
              "      <td>0</td>\n",
              "      <td>0</td>\n",
              "      <td>0</td>\n",
              "      <td>0</td>\n",
              "      <td>0</td>\n",
              "      <td>1</td>\n",
              "      <td>0</td>\n",
              "      <td>0</td>\n",
              "      <td>0</td>\n",
              "      <td>0</td>\n",
              "    </tr>\n",
              "    <tr>\n",
              "      <th>39024</th>\n",
              "      <td>False</td>\n",
              "      <td>25</td>\n",
              "      <td>0</td>\n",
              "      <td>1</td>\n",
              "      <td>0</td>\n",
              "      <td>1</td>\n",
              "      <td>0</td>\n",
              "      <td>0</td>\n",
              "      <td>0</td>\n",
              "      <td>0</td>\n",
              "      <td>0</td>\n",
              "      <td>0</td>\n",
              "      <td>0</td>\n",
              "      <td>1</td>\n",
              "      <td>0</td>\n",
              "      <td>0</td>\n",
              "    </tr>\n",
              "    <tr>\n",
              "      <th>40291</th>\n",
              "      <td>False</td>\n",
              "      <td>22</td>\n",
              "      <td>0</td>\n",
              "      <td>1</td>\n",
              "      <td>0</td>\n",
              "      <td>1</td>\n",
              "      <td>0</td>\n",
              "      <td>0</td>\n",
              "      <td>0</td>\n",
              "      <td>1</td>\n",
              "      <td>0</td>\n",
              "      <td>0</td>\n",
              "      <td>0</td>\n",
              "      <td>0</td>\n",
              "      <td>0</td>\n",
              "      <td>0</td>\n",
              "    </tr>\n",
              "    <tr>\n",
              "      <th>2174</th>\n",
              "      <td>False</td>\n",
              "      <td>58</td>\n",
              "      <td>0</td>\n",
              "      <td>1</td>\n",
              "      <td>1</td>\n",
              "      <td>0</td>\n",
              "      <td>0</td>\n",
              "      <td>0</td>\n",
              "      <td>0</td>\n",
              "      <td>0</td>\n",
              "      <td>0</td>\n",
              "      <td>0</td>\n",
              "      <td>0</td>\n",
              "      <td>0</td>\n",
              "      <td>0</td>\n",
              "      <td>1</td>\n",
              "    </tr>\n",
              "    <tr>\n",
              "      <th>5460</th>\n",
              "      <td>True</td>\n",
              "      <td>28</td>\n",
              "      <td>0</td>\n",
              "      <td>1</td>\n",
              "      <td>1</td>\n",
              "      <td>0</td>\n",
              "      <td>0</td>\n",
              "      <td>1</td>\n",
              "      <td>0</td>\n",
              "      <td>0</td>\n",
              "      <td>0</td>\n",
              "      <td>0</td>\n",
              "      <td>0</td>\n",
              "      <td>0</td>\n",
              "      <td>0</td>\n",
              "      <td>0</td>\n",
              "    </tr>\n",
              "    <tr>\n",
              "      <th>13224</th>\n",
              "      <td>False</td>\n",
              "      <td>26</td>\n",
              "      <td>0</td>\n",
              "      <td>1</td>\n",
              "      <td>0</td>\n",
              "      <td>1</td>\n",
              "      <td>0</td>\n",
              "      <td>0</td>\n",
              "      <td>0</td>\n",
              "      <td>1</td>\n",
              "      <td>0</td>\n",
              "      <td>0</td>\n",
              "      <td>0</td>\n",
              "      <td>0</td>\n",
              "      <td>0</td>\n",
              "      <td>0</td>\n",
              "    </tr>\n",
              "  </tbody>\n",
              "</table>\n",
              "</div>"
            ],
            "text/plain": [
              "       IS_TENT  AGE  ...  PROFESSION_Student  PROFESSION_Trades\n",
              "24349    False   33  ...                   0                  0\n",
              "21895     True   32  ...                   0                  0\n",
              "19577    False   20  ...                   0                  0\n",
              "8037     False   30  ...                   0                  0\n",
              "44775    False   50  ...                   0                  0\n",
              "39024    False   25  ...                   0                  0\n",
              "40291    False   22  ...                   0                  0\n",
              "2174     False   58  ...                   0                  1\n",
              "5460      True   28  ...                   0                  0\n",
              "13224    False   26  ...                   0                  0\n",
              "\n",
              "[10 rows x 16 columns]"
            ]
          },
          "metadata": {
            "tags": []
          },
          "execution_count": 227
        }
      ]
    },
    {
      "cell_type": "markdown",
      "metadata": {
        "id": "NYmhLbA08yR6"
      },
      "source": [
        "##Discretization / Bucketization of Data"
      ]
    },
    {
      "cell_type": "code",
      "metadata": {
        "id": "qpipZA9d85Sj"
      },
      "source": [
        "import pandas as pd\n",
        "import numpy as np"
      ],
      "execution_count": 228,
      "outputs": []
    },
    {
      "cell_type": "code",
      "metadata": {
        "id": "s9pCHOPk87z5"
      },
      "source": [
        "X = np.array([-7, 2, -3, -11, 14, 6, 8])"
      ],
      "execution_count": 229,
      "outputs": []
    },
    {
      "cell_type": "code",
      "metadata": {
        "colab": {
          "base_uri": "https://localhost:8080/"
        },
        "id": "RNw49nrY9DrZ",
        "outputId": "d04f09a3-5bcb-4f70-bd48-c6cb68035503"
      },
      "source": [
        "categories = pd.cut(X, 4)\n",
        "\n",
        "categories"
      ],
      "execution_count": 230,
      "outputs": [
        {
          "output_type": "execute_result",
          "data": {
            "text/plain": [
              "[(-11.025, -4.75], (1.5, 7.75], (-4.75, 1.5], (-11.025, -4.75], (7.75, 14.0], (1.5, 7.75], (7.75, 14.0]]\n",
              "Categories (4, interval[float64]): [(-11.025, -4.75] < (-4.75, 1.5] < (1.5, 7.75] < (7.75, 14.0]]"
            ]
          },
          "metadata": {
            "tags": []
          },
          "execution_count": 230
        }
      ]
    },
    {
      "cell_type": "code",
      "metadata": {
        "colab": {
          "base_uri": "https://localhost:8080/"
        },
        "id": "_ke5t9Ku9K8K",
        "outputId": "1e15c6e2-905e-4163-f69a-b9f5bca85aad"
      },
      "source": [
        "categories.categories"
      ],
      "execution_count": 231,
      "outputs": [
        {
          "output_type": "execute_result",
          "data": {
            "text/plain": [
              "IntervalIndex([(-11.025, -4.75], (-4.75, 1.5], (1.5, 7.75], (7.75, 14.0]],\n",
              "              closed='right',\n",
              "              dtype='interval[float64]')"
            ]
          },
          "metadata": {
            "tags": []
          },
          "execution_count": 231
        }
      ]
    },
    {
      "cell_type": "code",
      "metadata": {
        "colab": {
          "base_uri": "https://localhost:8080/"
        },
        "id": "MNXzXdIC9m01",
        "outputId": "3ff77c92-3000-443d-895e-0d7dcbe71f05"
      },
      "source": [
        "categories.codes"
      ],
      "execution_count": 232,
      "outputs": [
        {
          "output_type": "execute_result",
          "data": {
            "text/plain": [
              "array([0, 2, 1, 0, 3, 2, 3], dtype=int8)"
            ]
          },
          "metadata": {
            "tags": []
          },
          "execution_count": 232
        }
      ]
    },
    {
      "cell_type": "code",
      "metadata": {
        "colab": {
          "base_uri": "https://localhost:8080/"
        },
        "id": "BUmtBzdt99O7",
        "outputId": "6b543d27-1c59-44a6-a626-3293e90a2d43"
      },
      "source": [
        "categories.ordered"
      ],
      "execution_count": 233,
      "outputs": [
        {
          "output_type": "execute_result",
          "data": {
            "text/plain": [
              "True"
            ]
          },
          "metadata": {
            "tags": []
          },
          "execution_count": 233
        }
      ]
    },
    {
      "cell_type": "code",
      "metadata": {
        "colab": {
          "base_uri": "https://localhost:8080/"
        },
        "id": "PGf7Fq5v-H0m",
        "outputId": "b649c74a-1b82-4751-a249-76a2899d52f3"
      },
      "source": [
        "pd.cut(X, 4, retbins=True)"
      ],
      "execution_count": 234,
      "outputs": [
        {
          "output_type": "execute_result",
          "data": {
            "text/plain": [
              "([(-11.025, -4.75], (1.5, 7.75], (-4.75, 1.5], (-11.025, -4.75], (7.75, 14.0], (1.5, 7.75], (7.75, 14.0]]\n",
              " Categories (4, interval[float64]): [(-11.025, -4.75] < (-4.75, 1.5] < (1.5, 7.75] < (7.75, 14.0]],\n",
              " array([-11.025,  -4.75 ,   1.5  ,   7.75 ,  14.   ]))"
            ]
          },
          "metadata": {
            "tags": []
          },
          "execution_count": 234
        }
      ]
    },
    {
      "cell_type": "code",
      "metadata": {
        "id": "YiV3y0LG-NEZ"
      },
      "source": [
        "marks = np.array([70, 20, 30, 99, 40, 16, 80])"
      ],
      "execution_count": 235,
      "outputs": []
    },
    {
      "cell_type": "code",
      "metadata": {
        "id": "H5hv7oLB-ZaX"
      },
      "source": [
        "categories, bins = pd.cut(marks, 4, retbins=True, labels=['poor', 'average', 'good', 'excellent'])"
      ],
      "execution_count": 236,
      "outputs": []
    },
    {
      "cell_type": "code",
      "metadata": {
        "colab": {
          "base_uri": "https://localhost:8080/"
        },
        "id": "K79rHdj8-o7H",
        "outputId": "ad7ac1ee-d9bc-4410-ad79-f28a8e2dde10"
      },
      "source": [
        "categories"
      ],
      "execution_count": 237,
      "outputs": [
        {
          "output_type": "execute_result",
          "data": {
            "text/plain": [
              "['good', 'poor', 'poor', 'excellent', 'average', 'poor', 'excellent']\n",
              "Categories (4, object): ['poor' < 'average' < 'good' < 'excellent']"
            ]
          },
          "metadata": {
            "tags": []
          },
          "execution_count": 237
        }
      ]
    },
    {
      "cell_type": "code",
      "metadata": {
        "id": "N2Bzmxvz-xPu"
      },
      "source": [
        "from sklearn.preprocessing import KBinsDiscretizer"
      ],
      "execution_count": 238,
      "outputs": []
    },
    {
      "cell_type": "code",
      "metadata": {
        "id": "6wz8ma-z_LKN"
      },
      "source": [
        "marks = [[70], [20], [30], [99], [40], [16], [80]]"
      ],
      "execution_count": 239,
      "outputs": []
    },
    {
      "cell_type": "code",
      "metadata": {
        "id": "5s0QAQx7_U7c"
      },
      "source": [
        "enc = KBinsDiscretizer(n_bins=4, encode='ordinal', strategy='uniform')"
      ],
      "execution_count": 240,
      "outputs": []
    },
    {
      "cell_type": "code",
      "metadata": {
        "colab": {
          "base_uri": "https://localhost:8080/"
        },
        "id": "0BKvvKcT_d6Q",
        "outputId": "e749e9a6-8bf0-4d9f-f1fd-bb05dcf6ed1f"
      },
      "source": [
        "enc.fit(marks)"
      ],
      "execution_count": 241,
      "outputs": [
        {
          "output_type": "execute_result",
          "data": {
            "text/plain": [
              "KBinsDiscretizer(encode='ordinal', n_bins=4, strategy='uniform')"
            ]
          },
          "metadata": {
            "tags": []
          },
          "execution_count": 241
        }
      ]
    },
    {
      "cell_type": "code",
      "metadata": {
        "colab": {
          "base_uri": "https://localhost:8080/"
        },
        "id": "0fN9SwkP_m2q",
        "outputId": "6539d85e-1fa5-42bb-d74b-33865d2e4850"
      },
      "source": [
        "enc.transform(marks)"
      ],
      "execution_count": 242,
      "outputs": [
        {
          "output_type": "execute_result",
          "data": {
            "text/plain": [
              "array([[2.],\n",
              "       [0.],\n",
              "       [0.],\n",
              "       [3.],\n",
              "       [1.],\n",
              "       [0.],\n",
              "       [3.]])"
            ]
          },
          "metadata": {
            "tags": []
          },
          "execution_count": 242
        }
      ]
    },
    {
      "cell_type": "code",
      "metadata": {
        "colab": {
          "base_uri": "https://localhost:8080/"
        },
        "id": "-JwFgb6R_rVK",
        "outputId": "1aafd7ba-823c-4624-8927-9b9f5fc2d359"
      },
      "source": [
        "enc.bin_edges_"
      ],
      "execution_count": 243,
      "outputs": [
        {
          "output_type": "execute_result",
          "data": {
            "text/plain": [
              "array([array([16.  , 36.75, 57.5 , 78.25, 99.  ])], dtype=object)"
            ]
          },
          "metadata": {
            "tags": []
          },
          "execution_count": 243
        }
      ]
    },
    {
      "cell_type": "code",
      "metadata": {
        "id": "q5a9h0QL_zSH"
      },
      "source": [
        "X = [[-21, 41, -14],\n",
        "     [-13, 23, -31],\n",
        "     [  9, 30, -5],\n",
        "     [  0, 24, -17]]"
      ],
      "execution_count": 248,
      "outputs": []
    },
    {
      "cell_type": "code",
      "metadata": {
        "id": "tXaMc6A9AG2e"
      },
      "source": [
        "enc = KBinsDiscretizer(n_bins=4, encode='ordinal', strategy='quantile')"
      ],
      "execution_count": 249,
      "outputs": []
    },
    {
      "cell_type": "code",
      "metadata": {
        "colab": {
          "base_uri": "https://localhost:8080/"
        },
        "id": "T6zoY4l_AOlG",
        "outputId": "86f646e8-17d0-4a34-a50a-6b000dcff889"
      },
      "source": [
        "enc.fit(X)"
      ],
      "execution_count": 250,
      "outputs": [
        {
          "output_type": "execute_result",
          "data": {
            "text/plain": [
              "KBinsDiscretizer(encode='ordinal', n_bins=4, strategy='quantile')"
            ]
          },
          "metadata": {
            "tags": []
          },
          "execution_count": 250
        }
      ]
    },
    {
      "cell_type": "code",
      "metadata": {
        "colab": {
          "base_uri": "https://localhost:8080/"
        },
        "id": "DEkhufsSAVjE",
        "outputId": "9f8c183f-03be-4893-87c5-53a2cb3e6578"
      },
      "source": [
        "X_trans = enc.transform(X)\n",
        "\n",
        "X_trans"
      ],
      "execution_count": 252,
      "outputs": [
        {
          "output_type": "execute_result",
          "data": {
            "text/plain": [
              "array([[0., 3., 2.],\n",
              "       [1., 0., 0.],\n",
              "       [3., 2., 3.],\n",
              "       [2., 1., 1.]])"
            ]
          },
          "metadata": {
            "tags": []
          },
          "execution_count": 252
        }
      ]
    },
    {
      "cell_type": "code",
      "metadata": {
        "colab": {
          "base_uri": "https://localhost:8080/"
        },
        "id": "21m_nHsMAXXi",
        "outputId": "2fd50edb-4aee-45d0-cd92-b4b0d4eaca36"
      },
      "source": [
        "enc.bin_edges_"
      ],
      "execution_count": 253,
      "outputs": [
        {
          "output_type": "execute_result",
          "data": {
            "text/plain": [
              "array([array([-21.  , -15.  ,  -6.5 ,   2.25,   9.  ]),\n",
              "       array([23.  , 23.75, 27.  , 32.75, 41.  ]),\n",
              "       array([-31.  , -20.5 , -15.5 , -11.75,  -5.  ])], dtype=object)"
            ]
          },
          "metadata": {
            "tags": []
          },
          "execution_count": 253
        }
      ]
    },
    {
      "cell_type": "code",
      "metadata": {
        "colab": {
          "base_uri": "https://localhost:8080/"
        },
        "id": "tSgorOc-ApGv",
        "outputId": "fdb6f3fd-7f2d-40e4-a09d-416a19d99d02"
      },
      "source": [
        "enc.inverse_transform(X_trans)"
      ],
      "execution_count": 254,
      "outputs": [
        {
          "output_type": "execute_result",
          "data": {
            "text/plain": [
              "array([[-18.   ,  36.875, -13.625],\n",
              "       [-10.75 ,  23.375, -25.75 ],\n",
              "       [  5.625,  29.875,  -8.375],\n",
              "       [ -2.125,  25.375, -18.   ]])"
            ]
          },
          "metadata": {
            "tags": []
          },
          "execution_count": 254
        }
      ]
    },
    {
      "cell_type": "code",
      "metadata": {
        "colab": {
          "base_uri": "https://localhost:8080/",
          "height": 363
        },
        "id": "R2W9JYSvAw5u",
        "outputId": "43247462-72bd-4515-a20a-8874e61198c7"
      },
      "source": [
        "automobile_df = pd.read_csv('auto_mpg_processed.csv')\n",
        "\n",
        "automobile_df.head(10)"
      ],
      "execution_count": 256,
      "outputs": [
        {
          "output_type": "execute_result",
          "data": {
            "text/html": [
              "<div>\n",
              "<style scoped>\n",
              "    .dataframe tbody tr th:only-of-type {\n",
              "        vertical-align: middle;\n",
              "    }\n",
              "\n",
              "    .dataframe tbody tr th {\n",
              "        vertical-align: top;\n",
              "    }\n",
              "\n",
              "    .dataframe thead th {\n",
              "        text-align: right;\n",
              "    }\n",
              "</style>\n",
              "<table border=\"1\" class=\"dataframe\">\n",
              "  <thead>\n",
              "    <tr style=\"text-align: right;\">\n",
              "      <th></th>\n",
              "      <th>MPG</th>\n",
              "      <th>Cylinders</th>\n",
              "      <th>Displacement</th>\n",
              "      <th>Horsepower</th>\n",
              "      <th>Weight</th>\n",
              "      <th>Acceleration</th>\n",
              "      <th>Origin</th>\n",
              "      <th>age</th>\n",
              "    </tr>\n",
              "  </thead>\n",
              "  <tbody>\n",
              "    <tr>\n",
              "      <th>0</th>\n",
              "      <td>18.000000</td>\n",
              "      <td>8</td>\n",
              "      <td>307.0</td>\n",
              "      <td>130</td>\n",
              "      <td>3504</td>\n",
              "      <td>307.0</td>\n",
              "      <td>US</td>\n",
              "      <td>49</td>\n",
              "    </tr>\n",
              "    <tr>\n",
              "      <th>1</th>\n",
              "      <td>16.000000</td>\n",
              "      <td>8</td>\n",
              "      <td>304.0</td>\n",
              "      <td>150</td>\n",
              "      <td>3433</td>\n",
              "      <td>304.0</td>\n",
              "      <td>US</td>\n",
              "      <td>49</td>\n",
              "    </tr>\n",
              "    <tr>\n",
              "      <th>2</th>\n",
              "      <td>17.000000</td>\n",
              "      <td>8</td>\n",
              "      <td>302.0</td>\n",
              "      <td>140</td>\n",
              "      <td>3449</td>\n",
              "      <td>302.0</td>\n",
              "      <td>US</td>\n",
              "      <td>49</td>\n",
              "    </tr>\n",
              "    <tr>\n",
              "      <th>3</th>\n",
              "      <td>14.000000</td>\n",
              "      <td>8</td>\n",
              "      <td>454.0</td>\n",
              "      <td>220</td>\n",
              "      <td>4354</td>\n",
              "      <td>454.0</td>\n",
              "      <td>US</td>\n",
              "      <td>49</td>\n",
              "    </tr>\n",
              "    <tr>\n",
              "      <th>4</th>\n",
              "      <td>23.551429</td>\n",
              "      <td>8</td>\n",
              "      <td>440.0</td>\n",
              "      <td>215</td>\n",
              "      <td>4312</td>\n",
              "      <td>440.0</td>\n",
              "      <td>US</td>\n",
              "      <td>49</td>\n",
              "    </tr>\n",
              "    <tr>\n",
              "      <th>5</th>\n",
              "      <td>14.000000</td>\n",
              "      <td>8</td>\n",
              "      <td>455.0</td>\n",
              "      <td>225</td>\n",
              "      <td>4425</td>\n",
              "      <td>455.0</td>\n",
              "      <td>US</td>\n",
              "      <td>49</td>\n",
              "    </tr>\n",
              "    <tr>\n",
              "      <th>6</th>\n",
              "      <td>15.000000</td>\n",
              "      <td>8</td>\n",
              "      <td>390.0</td>\n",
              "      <td>190</td>\n",
              "      <td>3850</td>\n",
              "      <td>390.0</td>\n",
              "      <td>US</td>\n",
              "      <td>49</td>\n",
              "    </tr>\n",
              "    <tr>\n",
              "      <th>7</th>\n",
              "      <td>15.000000</td>\n",
              "      <td>8</td>\n",
              "      <td>383.0</td>\n",
              "      <td>170</td>\n",
              "      <td>3563</td>\n",
              "      <td>383.0</td>\n",
              "      <td>US</td>\n",
              "      <td>49</td>\n",
              "    </tr>\n",
              "    <tr>\n",
              "      <th>8</th>\n",
              "      <td>14.000000</td>\n",
              "      <td>5</td>\n",
              "      <td>340.0</td>\n",
              "      <td>160</td>\n",
              "      <td>3609</td>\n",
              "      <td>340.0</td>\n",
              "      <td>US</td>\n",
              "      <td>49</td>\n",
              "    </tr>\n",
              "    <tr>\n",
              "      <th>9</th>\n",
              "      <td>23.551429</td>\n",
              "      <td>8</td>\n",
              "      <td>400.0</td>\n",
              "      <td>150</td>\n",
              "      <td>3761</td>\n",
              "      <td>400.0</td>\n",
              "      <td>US</td>\n",
              "      <td>49</td>\n",
              "    </tr>\n",
              "  </tbody>\n",
              "</table>\n",
              "</div>"
            ],
            "text/plain": [
              "         MPG  Cylinders  Displacement  ...  Acceleration  Origin  age\n",
              "0  18.000000          8         307.0  ...         307.0      US   49\n",
              "1  16.000000          8         304.0  ...         304.0      US   49\n",
              "2  17.000000          8         302.0  ...         302.0      US   49\n",
              "3  14.000000          8         454.0  ...         454.0      US   49\n",
              "4  23.551429          8         440.0  ...         440.0      US   49\n",
              "5  14.000000          8         455.0  ...         455.0      US   49\n",
              "6  15.000000          8         390.0  ...         390.0      US   49\n",
              "7  15.000000          8         383.0  ...         383.0      US   49\n",
              "8  14.000000          5         340.0  ...         340.0      US   49\n",
              "9  23.551429          8         400.0  ...         400.0      US   49\n",
              "\n",
              "[10 rows x 8 columns]"
            ]
          },
          "metadata": {
            "tags": []
          },
          "execution_count": 256
        }
      ]
    },
    {
      "cell_type": "code",
      "metadata": {
        "id": "VLPs4Ay9BMzR"
      },
      "source": [
        "X = automobile_df[['Horsepower']]\n",
        "Y = automobile_df['MPG']"
      ],
      "execution_count": 258,
      "outputs": []
    },
    {
      "cell_type": "code",
      "metadata": {
        "colab": {
          "base_uri": "https://localhost:8080/",
          "height": 363
        },
        "id": "KCeBLwlHBmzV",
        "outputId": "8996e578-f54b-4d57-ac7e-84efdfbc78d6"
      },
      "source": [
        "X.sample(10)"
      ],
      "execution_count": 259,
      "outputs": [
        {
          "output_type": "execute_result",
          "data": {
            "text/html": [
              "<div>\n",
              "<style scoped>\n",
              "    .dataframe tbody tr th:only-of-type {\n",
              "        vertical-align: middle;\n",
              "    }\n",
              "\n",
              "    .dataframe tbody tr th {\n",
              "        vertical-align: top;\n",
              "    }\n",
              "\n",
              "    .dataframe thead th {\n",
              "        text-align: right;\n",
              "    }\n",
              "</style>\n",
              "<table border=\"1\" class=\"dataframe\">\n",
              "  <thead>\n",
              "    <tr style=\"text-align: right;\">\n",
              "      <th></th>\n",
              "      <th>Horsepower</th>\n",
              "    </tr>\n",
              "  </thead>\n",
              "  <tbody>\n",
              "    <tr>\n",
              "      <th>342</th>\n",
              "      <td>74</td>\n",
              "    </tr>\n",
              "    <tr>\n",
              "      <th>121</th>\n",
              "      <td>80</td>\n",
              "    </tr>\n",
              "    <tr>\n",
              "      <th>8</th>\n",
              "      <td>160</td>\n",
              "    </tr>\n",
              "    <tr>\n",
              "      <th>341</th>\n",
              "      <td>65</td>\n",
              "    </tr>\n",
              "    <tr>\n",
              "      <th>364</th>\n",
              "      <td>74</td>\n",
              "    </tr>\n",
              "    <tr>\n",
              "      <th>17</th>\n",
              "      <td>87</td>\n",
              "    </tr>\n",
              "    <tr>\n",
              "      <th>353</th>\n",
              "      <td>105</td>\n",
              "    </tr>\n",
              "    <tr>\n",
              "      <th>206</th>\n",
              "      <td>150</td>\n",
              "    </tr>\n",
              "    <tr>\n",
              "      <th>356</th>\n",
              "      <td>88</td>\n",
              "    </tr>\n",
              "    <tr>\n",
              "      <th>350</th>\n",
              "      <td>116</td>\n",
              "    </tr>\n",
              "  </tbody>\n",
              "</table>\n",
              "</div>"
            ],
            "text/plain": [
              "     Horsepower\n",
              "342          74\n",
              "121          80\n",
              "8           160\n",
              "341          65\n",
              "364          74\n",
              "17           87\n",
              "353         105\n",
              "206         150\n",
              "356          88\n",
              "350         116"
            ]
          },
          "metadata": {
            "tags": []
          },
          "execution_count": 259
        }
      ]
    },
    {
      "cell_type": "code",
      "metadata": {
        "id": "2JOQwVIFBsJg"
      },
      "source": [
        "import matplotlib.pyplot as plt"
      ],
      "execution_count": 260,
      "outputs": []
    },
    {
      "cell_type": "code",
      "metadata": {
        "colab": {
          "base_uri": "https://localhost:8080/",
          "height": 428
        },
        "id": "96cCRtSIBxqo",
        "outputId": "72167660-c672-4f58-e973-12461f57e3ab"
      },
      "source": [
        "plt.figure(figsize=(10, 7))\n",
        "\n",
        "plt.plot(X, Y, 'o', c='y')\n",
        "plt.show()"
      ],
      "execution_count": 261,
      "outputs": [
        {
          "output_type": "display_data",
          "data": {
            "image/png": "[encoded data removed]",
            "text/plain": [
              "<Figure size 720x504 with 1 Axes>"
            ]
          },
          "metadata": {
            "tags": [],
            "needs_background": "light"
          }
        }
      ]
    },
    {
      "cell_type": "code",
      "metadata": {
        "id": "d_GqG2bACDdc"
      },
      "source": [
        "from sklearn.model_selection import train_test_split\n",
        "from sklearn.linear_model import LinearRegression"
      ],
      "execution_count": 262,
      "outputs": []
    },
    {
      "cell_type": "code",
      "metadata": {
        "id": "v8VxzqpUCZVh"
      },
      "source": [
        "x_train, x_test, y_train, y_test = train_test_split(X, Y, test_size=0.2)"
      ],
      "execution_count": 263,
      "outputs": []
    },
    {
      "cell_type": "code",
      "metadata": {
        "id": "w0ssHpSuCgec"
      },
      "source": [
        "reg = LinearRegression().fit(x_train, y_train)"
      ],
      "execution_count": 264,
      "outputs": []
    },
    {
      "cell_type": "code",
      "metadata": {
        "colab": {
          "base_uri": "https://localhost:8080/"
        },
        "id": "7Z-XfbBRCrBG",
        "outputId": "45759612-a4c3-4599-d138-1c87d818e04c"
      },
      "source": [
        "y_pred = reg.predict(x_test)\n",
        "\n",
        "y_pred"
      ],
      "execution_count": 265,
      "outputs": [
        {
          "output_type": "execute_result",
          "data": {
            "text/plain": [
              "array([26.513, 29.534, 24.923, 27.308, 25.877, 25.082, 28.262, 25.877,\n",
              "        5.209, 19.041, 29.534, 27.785, 26.99 , 26.195, 28.739, 26.195,\n",
              "       17.928, 25.877, 26.672, 25.082, 29.534, 23.492, 17.133, 24.287,\n",
              "       29.534, 25.082, 24.287, 26.354, 31.919, 16.338, 23.492,  9.979,\n",
              "       29.057,  6.004, 13.635, 19.677, 27.785, 29.057, 16.338, 22.698,\n",
              "       25.877, 26.831, 25.559, 27.467, 25.559, 26.831, 22.38 , 22.698,\n",
              "       21.903,  6.004, 24.287, 30.647, 12.364, 17.928, 24.287, 25.082,\n",
              "       29.057, 30.647, 21.108, 31.919, 16.338, 25.877, 11.569, 22.698,\n",
              "       23.969, 26.036, 18.723, 17.133, 26.99 , 20.79 , 17.61 , 16.338,\n",
              "       12.364, 22.698, 28.898, 26.195, 29.693, 29.057])"
            ]
          },
          "metadata": {
            "tags": []
          },
          "execution_count": 265
        }
      ]
    },
    {
      "cell_type": "code",
      "metadata": {
        "id": "r9tboaF9CyqC"
      },
      "source": [
        "from sklearn.metrics import r2_score"
      ],
      "execution_count": 266,
      "outputs": []
    },
    {
      "cell_type": "code",
      "metadata": {
        "colab": {
          "base_uri": "https://localhost:8080/"
        },
        "id": "NmwUUq3jC7dK",
        "outputId": "da315fb2-5fb9-4e99-bf17-a96e2de3f806"
      },
      "source": [
        "r2_score(y_test, y_pred)"
      ],
      "execution_count": 269,
      "outputs": [
        {
          "output_type": "execute_result",
          "data": {
            "text/plain": [
              "0.5331072604865587"
            ]
          },
          "metadata": {
            "tags": []
          },
          "execution_count": 269
        }
      ]
    },
    {
      "cell_type": "code",
      "metadata": {
        "colab": {
          "base_uri": "https://localhost:8080/",
          "height": 428
        },
        "id": "IgXPk5FbC-Ks",
        "outputId": "7f72335c-1005-43d6-8a65-d7bc4ff14ef4"
      },
      "source": [
        "plt.figure(figsize=(10, 7))\n",
        "\n",
        "plt.plot(x_train, y_train, 'o', c='y')\n",
        "\n",
        "plt.plot(x_test, y_pred, linewidth=2, color='green', linestyle='-', label='linear regression')\n",
        "\n",
        "plt.show()"
      ],
      "execution_count": 272,
      "outputs": [
        {
          "output_type": "display_data",
          "data": {
            "image/png": "[encoded data removed]",
            "text/plain": [
              "<Figure size 720x504 with 1 Axes>"
            ]
          },
          "metadata": {
            "tags": [],
            "needs_background": "light"
          }
        }
      ]
    },
    {
      "cell_type": "code",
      "metadata": {
        "id": "RJPrIyYtDvkU"
      },
      "source": [
        "enc = KBinsDiscretizer(n_bins=20, encode='ordinal')\n",
        "\n",
        "x_binned = enc.fit_transform(x_train)"
      ],
      "execution_count": 273,
      "outputs": []
    },
    {
      "cell_type": "code",
      "metadata": {
        "colab": {
          "base_uri": "https://localhost:8080/"
        },
        "id": "nJgotEUTELwl",
        "outputId": "9ed4a8d1-6b19-430c-ba78-3e93dde5ea4e"
      },
      "source": [
        "x_binned[:10]"
      ],
      "execution_count": 274,
      "outputs": [
        {
          "output_type": "execute_result",
          "data": {
            "text/plain": [
              "array([[14.],\n",
              "       [14.],\n",
              "       [19.],\n",
              "       [14.],\n",
              "       [17.],\n",
              "       [19.],\n",
              "       [ 5.],\n",
              "       [ 7.],\n",
              "       [14.],\n",
              "       [19.]])"
            ]
          },
          "metadata": {
            "tags": []
          },
          "execution_count": 274
        }
      ]
    },
    {
      "cell_type": "code",
      "metadata": {
        "id": "dYqmZDt_EN3t"
      },
      "source": [
        "x_test_binned = enc.transform(x_test)"
      ],
      "execution_count": 275,
      "outputs": []
    },
    {
      "cell_type": "code",
      "metadata": {
        "id": "SguaZhmuFDJj"
      },
      "source": [
        "reg = LinearRegression().fit(x_binned, y_train)"
      ],
      "execution_count": 276,
      "outputs": []
    },
    {
      "cell_type": "code",
      "metadata": {
        "colab": {
          "base_uri": "https://localhost:8080/"
        },
        "id": "_h5uUwV7FOjP",
        "outputId": "e8b024b9-ecc8-4bd9-d644-bc563911557b"
      },
      "source": [
        "y_pred = reg.predict(x_test_binned)\n",
        "\n",
        "y_pred"
      ],
      "execution_count": 277,
      "outputs": [
        {
          "output_type": "execute_result",
          "data": {
            "text/plain": [
              "array([26.822, 32.445, 22.324, 27.947, 24.573, 23.448, 29.071, 24.573,\n",
              "       13.327, 17.825, 32.445, 29.071, 27.947, 25.698, 30.196, 25.698,\n",
              "       16.701, 24.573, 26.822, 23.448, 32.445, 20.075, 16.701, 21.199,\n",
              "       32.445, 23.448, 21.199, 26.822, 34.694, 15.576, 20.075, 13.327,\n",
              "       31.321, 13.327, 14.452, 17.825, 29.071, 31.321, 15.576, 18.95 ,\n",
              "       24.573, 26.822, 23.448, 27.947, 23.448, 26.822, 18.95 , 18.95 ,\n",
              "       18.95 , 13.327, 21.199, 34.694, 14.452, 16.701, 21.199, 23.448,\n",
              "       31.321, 34.694, 17.825, 34.694, 15.576, 24.573, 13.327, 18.95 ,\n",
              "       21.199, 25.698, 17.825, 16.701, 27.947, 17.825, 16.701, 15.576,\n",
              "       14.452, 18.95 , 30.196, 25.698, 32.445, 31.321])"
            ]
          },
          "metadata": {
            "tags": []
          },
          "execution_count": 277
        }
      ]
    },
    {
      "cell_type": "code",
      "metadata": {
        "colab": {
          "base_uri": "https://localhost:8080/"
        },
        "id": "lY9dIK8UFX9y",
        "outputId": "8b2ecaa7-84ea-4d1a-9f9f-e96fcf30607c"
      },
      "source": [
        "r2_score(y_test, y_pred)"
      ],
      "execution_count": 278,
      "outputs": [
        {
          "output_type": "execute_result",
          "data": {
            "text/plain": [
              "0.6740132943434065"
            ]
          },
          "metadata": {
            "tags": []
          },
          "execution_count": 278
        }
      ]
    },
    {
      "cell_type": "code",
      "metadata": {
        "colab": {
          "base_uri": "https://localhost:8080/",
          "height": 428
        },
        "id": "Xc2Ws1GSFc_V",
        "outputId": "877f71cb-8d8f-4845-936c-2f2f20377f19"
      },
      "source": [
        "plt.figure(figsize=(10, 7))\n",
        "\n",
        "plt.scatter(x_train, y_train, c='y')\n",
        "plt.scatter(x_test, y_pred, color='k')\n",
        "\n",
        "plt.vlines(enc.bin_edges_[0], *plt.gca().get_ylim(), linewidth=1, alpha=.2)\n",
        "\n",
        "plt.show()"
      ],
      "execution_count": 279,
      "outputs": [
        {
          "output_type": "display_data",
          "data": {
            "image/png": "[encoded data removed]",
            "text/plain": [
              "<Figure size 720x504 with 1 Axes>"
            ]
          },
          "metadata": {
            "tags": [],
            "needs_background": "light"
          }
        }
      ]
    },
    {
      "cell_type": "code",
      "metadata": {
        "id": "UAt7nHEzF9Ms"
      },
      "source": [
        ""
      ],
      "execution_count": null,
      "outputs": []
    }
  ]
}