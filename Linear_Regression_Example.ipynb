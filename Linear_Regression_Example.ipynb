{
  "nbformat": 4,
  "nbformat_minor": 0,
  "metadata": {
    "colab": {
      "name": "Linear Regression Example.ipynb",
      "provenance": [],
      "authorship_tag": "ABX9TyOqbj8w4J23L9UhrPg/O6ML",
      "include_colab_link": true
    },
    "kernelspec": {
      "name": "python3",
      "display_name": "Python 3"
    },
    "language_info": {
      "name": "python"
    }
  },
  "cells": [
    {
      "cell_type": "markdown",
      "metadata": {
        "id": "view-in-github",
        "colab_type": "text"
      },
      "source": [
        "<a href=\"https://colab.research.google.com/github/bhagu/1000-Days-Of-Code/blob/main/Linear_Regression_Example.ipynb\" target=\"_parent\"><img src=\"https://colab.research.google.com/assets/colab-badge.svg\" alt=\"Open In Colab\"/></a>"
      ]
    },
    {
      "cell_type": "code",
      "execution_count": 1,
      "metadata": {
        "id": "iI7IBF8l2r_3"
      },
      "outputs": [],
      "source": [
        "import pandas as pd\n",
        "import numpy as np"
      ]
    },
    {
      "cell_type": "code",
      "source": [
        "def readFile(filename, tbond=False):\n",
        "  data = pd.read_csv(filename, sep=\",\", usecols=[0,6], names=['Date', 'Price'], header=0)\n",
        "  if tbond == False:\n",
        "    returns = np.array(data[\"Price\"][:-1], np.float)/np.array(data[\"Price\"][1:], np.float)-1\n",
        "    data[\"Returns\"] = np.append(returns, np.nan)\n",
        "  if tbond == True:\n",
        "    data[\"Returns\"] = data[\"Price\"]/100\n",
        "  data.index = data[\"Date\"]\n",
        "  data = data[\"Returns\"][0:-1]\n",
        "  return data"
      ],
      "metadata": {
        "id": "v9uhkPbp20Il"
      },
      "execution_count": 2,
      "outputs": []
    },
    {
      "cell_type": "code",
      "source": [
        "googData = readFile(\"GOOG.csv\")\n",
        "nasdaqData = readFile(\"IXIC.csv\")\n",
        "tbondData = readFile(\"FVX.csv\", tbond = True)"
      ],
      "metadata": {
        "id": "7TrzqVIU33or"
      },
      "execution_count": 3,
      "outputs": []
    },
    {
      "cell_type": "code",
      "source": [
        "type(googData)"
      ],
      "metadata": {
        "colab": {
          "base_uri": "https://localhost:8080/"
        },
        "id": "1iZ7gB5C4idS",
        "outputId": "ec971fee-0dc2-498c-ced8-4f941e88a1d4"
      },
      "execution_count": 10,
      "outputs": [
        {
          "output_type": "execute_result",
          "data": {
            "text/plain": [
              "pandas.core.series.Series"
            ]
          },
          "metadata": {},
          "execution_count": 10
        }
      ]
    },
    {
      "cell_type": "code",
      "source": [
        "from sklearn.linear_model import SGDRegressor, LinearRegression"
      ],
      "metadata": {
        "id": "NHPLYjwv4pdQ"
      },
      "execution_count": 5,
      "outputs": []
    },
    {
      "cell_type": "code",
      "source": [
        "reg = SGDRegressor(eta0=0.1,max_iter=100000,fit_intercept=False)"
      ],
      "metadata": {
        "id": "scjtjSR55Fmb"
      },
      "execution_count": 8,
      "outputs": []
    },
    {
      "cell_type": "code",
      "source": [
        "reg.fit((nasdaqData-tbondData).values.reshape(-1,1),(googData-tbondData))"
      ],
      "metadata": {
        "colab": {
          "base_uri": "https://localhost:8080/"
        },
        "id": "sMiQ-nJP5Uay",
        "outputId": "82bf4f2a-62ff-470d-97dd-422ed45cbcb7"
      },
      "execution_count": 15,
      "outputs": [
        {
          "output_type": "execute_result",
          "data": {
            "text/plain": [
              "SGDRegressor(eta0=0.1, fit_intercept=False, max_iter=100000)"
            ]
          },
          "metadata": {},
          "execution_count": 15
        }
      ]
    },
    {
      "cell_type": "code",
      "source": [
        "reg.coef_"
      ],
      "metadata": {
        "colab": {
          "base_uri": "https://localhost:8080/"
        },
        "id": "o7zIw1tm5_NW",
        "outputId": "a5f8ed59-a3d8-44a8-e485-cc8c0a94f97e"
      },
      "execution_count": 16,
      "outputs": [
        {
          "output_type": "execute_result",
          "data": {
            "text/plain": [
              "array([0.41135859])"
            ]
          },
          "metadata": {},
          "execution_count": 16
        }
      ]
    },
    {
      "cell_type": "code",
      "source": [
        ""
      ],
      "metadata": {
        "id": "fcNm0mg865UU"
      },
      "execution_count": null,
      "outputs": []
    }
  ]
}